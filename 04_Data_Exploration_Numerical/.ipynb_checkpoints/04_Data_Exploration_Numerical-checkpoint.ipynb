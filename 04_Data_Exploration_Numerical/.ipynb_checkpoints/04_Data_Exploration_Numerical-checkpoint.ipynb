{
 "cells": [
  {
   "cell_type": "markdown",
   "id": "919bd099",
   "metadata": {},
   "source": [
    "# Table of Contents \n",
    "\n",
    "- The IRIS dataset:\n",
    "    - Load the dataset\n",
    "    - Explore the dataset: Descriptive statistics\n",
    "    - Explore the dataset: Visualization\n",
    "    \n"
   ]
  },
  {
   "cell_type": "code",
   "execution_count": null,
   "id": "c76d3ff3",
   "metadata": {},
   "outputs": [],
   "source": [
    "import os\n",
    "import pandas as pd"
   ]
  },
  {
   "cell_type": "markdown",
   "id": "af5cebed",
   "metadata": {},
   "source": [
    "# The IRIS dataset"
   ]
  },
  {
   "cell_type": "markdown",
   "id": "058dcc69",
   "metadata": {},
   "source": [
    "This is perhaps the best known database to be found in the pattern recognition literature. \n",
    "\n",
    "- The data set contains 3 classes of 50 instances each, where each class refers to a type of iris plant.\n",
    "- There are four numeric attributes and the class attribute:\n",
    "    1. sepal length in cm   \n",
    "    2. sepal width in cm   \n",
    "    3. petal length in cm   \n",
    "    4. petal width in cm   \n",
    "    5. class: {Iris Setosa, Iris Versicolour, Iris Virginica}\n",
    "    "
   ]
  },
  {
   "cell_type": "markdown",
   "id": "b4b4348c",
   "metadata": {},
   "source": [
    "![irisdataset](https://setscholars.net/wp-content/uploads/2020/01/iris-768x576.png)"
   ]
  },
  {
   "cell_type": "markdown",
   "id": "201d1798",
   "metadata": {},
   "source": [
    "## Load the dataset"
   ]
  },
  {
   "cell_type": "code",
   "execution_count": null,
   "id": "e76f3e97",
   "metadata": {},
   "outputs": [],
   "source": [
    "pd.read_csv?"
   ]
  },
  {
   "cell_type": "markdown",
   "id": "fbe6b400",
   "metadata": {},
   "source": [
    "Common pitfalls in `pd.read_csv`:\n",
    "- what is the \"sep\" character\n",
    "- is there any header?\n",
    "- is there any index column?\n",
    "- how are missing/unknown values denoted?"
   ]
  },
  {
   "cell_type": "code",
   "execution_count": null,
   "id": "8bbb63c7",
   "metadata": {},
   "outputs": [],
   "source": [
    "iris_df = pd.read_csv(os.path.join('dataset','iris.csv'))"
   ]
  },
  {
   "cell_type": "markdown",
   "id": "184d9ed3",
   "metadata": {},
   "source": [
    "## Explore the dataset: descriptive statistics\n"
   ]
  },
  {
   "cell_type": "code",
   "execution_count": null,
   "id": "1ddeb8b3",
   "metadata": {},
   "outputs": [],
   "source": [
    "iris_df"
   ]
  },
  {
   "cell_type": "code",
   "execution_count": null,
   "id": "035ce900",
   "metadata": {},
   "outputs": [],
   "source": [
    "iris_df.shape"
   ]
  },
  {
   "cell_type": "code",
   "execution_count": null,
   "id": "edde003a",
   "metadata": {},
   "outputs": [],
   "source": [
    "pd.set_option('display.max_rows', 150)\n",
    "iris_df"
   ]
  },
  {
   "cell_type": "code",
   "execution_count": null,
   "id": "0c7c985f",
   "metadata": {},
   "outputs": [],
   "source": [
    "iris_df.head(10)"
   ]
  },
  {
   "cell_type": "code",
   "execution_count": null,
   "id": "a7901e10",
   "metadata": {},
   "outputs": [],
   "source": [
    "iris_df.head(10).T"
   ]
  },
  {
   "cell_type": "markdown",
   "id": "7ec8bda6",
   "metadata": {},
   "source": [
    "Check if there is any missing value"
   ]
  },
  {
   "cell_type": "code",
   "execution_count": null,
   "id": "9929016d",
   "metadata": {},
   "outputs": [],
   "source": [
    "iris_df.isna().sum()"
   ]
  },
  {
   "cell_type": "code",
   "execution_count": null,
   "id": "3bf33f95",
   "metadata": {},
   "outputs": [],
   "source": [
    "iris_df.describe()"
   ]
  },
  {
   "cell_type": "code",
   "execution_count": null,
   "id": "39e8a32d",
   "metadata": {},
   "outputs": [],
   "source": [
    "iris_df.drop('class',axis = 1).describe()"
   ]
  },
  {
   "cell_type": "code",
   "execution_count": null,
   "id": "4891d4b3",
   "metadata": {},
   "outputs": [],
   "source": [
    "iris_df.info()"
   ]
  },
  {
   "cell_type": "code",
   "execution_count": null,
   "id": "e9b6886a",
   "metadata": {},
   "outputs": [],
   "source": [
    "iris_df['class'].value_counts()"
   ]
  },
  {
   "cell_type": "markdown",
   "id": "5b11be6a",
   "metadata": {},
   "source": [
    "## Explore the dataset: Visualization"
   ]
  },
  {
   "cell_type": "code",
   "execution_count": null,
   "id": "07305afb",
   "metadata": {},
   "outputs": [],
   "source": [
    "from matplotlib import pyplot as plt"
   ]
  },
  {
   "cell_type": "markdown",
   "id": "2edefbaa",
   "metadata": {},
   "source": [
    "### Histogram and boxplots with matplotlib\n"
   ]
  },
  {
   "cell_type": "code",
   "execution_count": null,
   "id": "ff9f6e33",
   "metadata": {},
   "outputs": [],
   "source": [
    "for att in iris_df.columns[:-1]:\n",
    "    plt.figure()\n",
    "    plt.hist(iris_df[att])\n",
    "    plt.ylabel('occurrences')\n",
    "    plt.xlabel(att)\n",
    "    plt.title(f'histogram of {att} attribute')"
   ]
  },
  {
   "cell_type": "code",
   "execution_count": null,
   "id": "b68f268f",
   "metadata": {},
   "outputs": [],
   "source": [
    "for att in iris_df.columns[:-1]:\n",
    "    plt.figure()\n",
    "    plt.boxplot(iris_df[att])\n",
    "    plt.ylabel('values')\n",
    "    plt.xlabel(att)\n",
    "    plt.title(f'boxplot of {att} attribute')\n",
    "\n",
    "# Given IQR the interquartile range (Q3-Q1), \n",
    "# the upper whisker will extend to last datum less than Q3 + whis*IQR.\n",
    "# the lower whisker will extend to the first datum greater than Q1 - whis*IQR.\n",
    "# by default, whis = 1.5"
   ]
  },
  {
   "cell_type": "markdown",
   "id": "f0c84095",
   "metadata": {},
   "source": [
    "### Histogram and boxplots with pandas\n",
    "[Check the user guide](https://pandas.pydata.org/pandas-docs/stable/user_guide/visualization.html)\n"
   ]
  },
  {
   "cell_type": "code",
   "execution_count": null,
   "id": "0fb36615",
   "metadata": {},
   "outputs": [],
   "source": [
    "iris_df.drop('class',axis = 1).hist(bins = 7,layout = (1,4),figsize = (20,4))\n",
    "plt.show()\n"
   ]
  },
  {
   "cell_type": "code",
   "execution_count": null,
   "id": "ecc1bfa3",
   "metadata": {},
   "outputs": [],
   "source": [
    "iris_df['sepallength'].plot(kind='hist', bins=7, figsize=(10,6), title='iris hist plot: sepallength')\n",
    "plt.show()"
   ]
  },
  {
   "cell_type": "code",
   "execution_count": null,
   "id": "adcee639",
   "metadata": {},
   "outputs": [],
   "source": [
    "iris_df.hist(column='sepallength', by='class', bins = 7, figsize=(15,4),layout = (1,3))\n",
    "plt.show()"
   ]
  },
  {
   "cell_type": "code",
   "execution_count": null,
   "id": "2583d687",
   "metadata": {},
   "outputs": [],
   "source": [
    "iris_df.boxplot(column='sepallength', by='class', figsize=(10,6))\n",
    "plt.show()"
   ]
  },
  {
   "cell_type": "code",
   "execution_count": null,
   "id": "74683dbe",
   "metadata": {},
   "outputs": [],
   "source": [
    "iris_df.drop('class',axis = 1).plot(kind ='box', \n",
    "                                    subplots = True, \n",
    "                                    figsize=(20,4),\n",
    "                                    layout = (1,4),\n",
    "                                    sharey=False)\n",
    "plt.show()"
   ]
  },
  {
   "cell_type": "code",
   "execution_count": null,
   "id": "80435458",
   "metadata": {},
   "outputs": [],
   "source": [
    "iris_df.drop('class',axis = 1).plot(kind ='box', \n",
    "                                    subplots = True, \n",
    "                                    figsize=(16,4),\n",
    "                                    layout = (1,4), \n",
    "                                    sharey=True)\n",
    "plt.show()"
   ]
  },
  {
   "cell_type": "markdown",
   "id": "22b10708",
   "metadata": {},
   "source": [
    "### Scatter plot with matplotlib"
   ]
  },
  {
   "cell_type": "code",
   "execution_count": null,
   "id": "8f28b60c",
   "metadata": {},
   "outputs": [],
   "source": [
    "dict_names = {1:'Iris-setosa', 2:'Iris-versicolor', 3:'Iris-virginica'}\n",
    "dict_names.values()"
   ]
  },
  {
   "cell_type": "code",
   "execution_count": null,
   "id": "ad5b65e1",
   "metadata": {},
   "outputs": [],
   "source": [
    "x_index = 0\n",
    "y_index = 2\n",
    "for curr_class,color in zip(range(1,4),'rgb'):\n",
    "    scatterplot = plt.scatter(iris_df[iris_df[\"class\"] == curr_class].iloc[:,x_index],\n",
    "                              iris_df[iris_df[\"class\"] == curr_class].iloc[:,y_index], \n",
    "                              c=color,\n",
    "                              # here you can customize the marker size or style, for instance \n",
    "                              label = dict_names[curr_class])\n",
    "plt.xlabel(iris_df.columns[x_index])\n",
    "plt.ylabel(iris_df.columns[y_index])\n",
    "plt.legend()\n",
    "plt.show()"
   ]
  },
  {
   "cell_type": "code",
   "execution_count": null,
   "id": "e759dcb0",
   "metadata": {},
   "outputs": [],
   "source": [
    "# analogously: easier on the plotting stage, more complicated for handling legend elements.\n",
    "x_index = 0\n",
    "y_index = 2\n",
    "\n",
    "scatterplot = plt.scatter(iris_df.iloc[:,x_index],iris_df.iloc[:,y_index], c=iris_df['class'])\n",
    "plt.xlabel(iris_df.columns[x_index])\n",
    "plt.ylabel(iris_df.columns[y_index])\n",
    "plt.legend(handles=scatterplot.legend_elements()[0], labels=dict_names.values())\n",
    "plt.show()"
   ]
  },
  {
   "cell_type": "code",
   "execution_count": null,
   "id": "ae280ed5",
   "metadata": {},
   "outputs": [],
   "source": [
    "fig,axes = plt.subplots(4,4,figsize = (20,20))\n",
    "for ix in range(4):\n",
    "    for iy in range(4):\n",
    "        scatterplot = axes[ix,iy].scatter(iris_df.iloc[:,ix],iris_df.iloc[:,iy], c=iris_df['class'])\n",
    "        axes[ix,iy].set_xlabel(iris_df.columns[ix])\n",
    "        axes[ix,iy].set_ylabel(iris_df.columns[iy])\n",
    "        axes[ix,iy].legend(handles=scatterplot.legend_elements()[0], labels=dict_names.values())\n",
    "        "
   ]
  },
  {
   "cell_type": "markdown",
   "id": "143a0bce",
   "metadata": {},
   "source": [
    "### Scatter plot with pandas"
   ]
  },
  {
   "cell_type": "code",
   "execution_count": null,
   "id": "9c65cd40",
   "metadata": {},
   "outputs": [],
   "source": [
    "iris_df.plot(x='sepallength', \n",
    "             y='petallength', \n",
    "             kind='scatter', \n",
    "             c='class',\n",
    "             colormap = 'viridis',\n",
    "             colorbar = False, \n",
    "             figsize=(6,6),\n",
    "             title='iris scatter plot')"
   ]
  },
  {
   "cell_type": "code",
   "execution_count": null,
   "id": "7413ba1a",
   "metadata": {},
   "outputs": [],
   "source": [
    "from pandas.plotting import scatter_matrix\n",
    "scatter_matrix(iris_df.drop('class',axis = 1),figsize = (16,16),alpha = 1,diagonal = 'hist',c = iris_df['class'])\n",
    "plt.show()"
   ]
  },
  {
   "cell_type": "markdown",
   "id": "9383dcc8",
   "metadata": {},
   "source": [
    "### More plotting libraries: Seaborn"
   ]
  },
  {
   "cell_type": "code",
   "execution_count": null,
   "id": "1b4e468c",
   "metadata": {},
   "outputs": [],
   "source": [
    "import seaborn as sns"
   ]
  },
  {
   "cell_type": "markdown",
   "id": "41d935b8",
   "metadata": {},
   "source": [
    "[Overview of seaborn plotting functions](https://seaborn.pydata.org/tutorial/function_overview.html)"
   ]
  },
  {
   "cell_type": "code",
   "execution_count": null,
   "id": "cb93073d",
   "metadata": {},
   "outputs": [],
   "source": [
    "f, axes = plt.subplots(1, 2, figsize=(8, 4))\n",
    "\n",
    "sns.scatterplot(data=iris_df, \n",
    "                x=\"sepallength\", \n",
    "                y=\"petallength\", \n",
    "                hue=\"class\", \n",
    "                ax=axes[0]) # hue = Grouping variable that will produce points with different colors\n",
    "\n",
    "sns.histplot(data=iris_df, \n",
    "             x=\"class\", \n",
    "             hue=\"class\", \n",
    "             legend=False, \n",
    "             ax=axes[1])\n",
    "f.tight_layout()"
   ]
  },
  {
   "cell_type": "code",
   "execution_count": null,
   "id": "008a038b",
   "metadata": {},
   "outputs": [],
   "source": [
    "sns.jointplot(data=iris_df, x=\"sepallength\", y=\"petallength\")\n",
    "# Draw a plot of two variables with bivariate and univariate graphs."
   ]
  },
  {
   "cell_type": "markdown",
   "id": "faf5abbf",
   "metadata": {},
   "source": [
    "Assigning a hue variable will add conditional colors to the scatterplot and draw separate density curves on the marginal axes:\n",
    "\n",
    "internally, it uses `kdeplot()`: it plots univariate or bivariate distributions using kernel density estimation.\n",
    "- A **kernel density estimate** (KDE) plot is a method for visualizing the distribution of observations in a dataset, analagous to a histogram. KDE represents the data using a continuous probability density curve in one or more dimensions.\n"
   ]
  },
  {
   "cell_type": "code",
   "execution_count": null,
   "id": "b54349a0",
   "metadata": {},
   "outputs": [],
   "source": [
    "sns.jointplot(data=iris_df, x=\"sepallength\", y=\"petallength\",hue = 'class')\n"
   ]
  },
  {
   "cell_type": "code",
   "execution_count": null,
   "id": "c405ab19",
   "metadata": {},
   "outputs": [],
   "source": [
    "sns.pairplot(data=iris_df, hue=\"class\")\n"
   ]
  },
  {
   "cell_type": "code",
   "execution_count": null,
   "id": "337f09e4",
   "metadata": {},
   "outputs": [],
   "source": [
    "sns.set_theme(style=\"whitegrid\")\n",
    "ax = sns.boxplot(data=iris_df.iloc[:,:-1], orient=\"h\")"
   ]
  },
  {
   "cell_type": "markdown",
   "id": "fb2dc169",
   "metadata": {},
   "source": [
    "See the [example gallery](https://seaborn.pydata.org/examples/index.html) for an overview on seaborn plotting options."
   ]
  },
  {
   "cell_type": "markdown",
   "id": "c162d81b",
   "metadata": {},
   "source": [
    "Seaborn is tightly integrated with matplotlib.\n",
    "\n",
    "While you can be productive using only seaborn functions, full customization of your graphics will require some knowledge of matplotlib’s concepts and API. \n",
    "\n",
    "High quality data visualization products can be obtained by combining the two:\n",
    "- **Seaborn** provides a powerful high-level interface for creating visually appealing plots quickly\n",
    "- **Matplotlib** provides deep customizability \n",
    "\n"
   ]
  },
  {
   "cell_type": "markdown",
   "id": "291a4690",
   "metadata": {},
   "source": [
    "If you specifically want interactive or animated web-based plots, go for [**plotly**](https://plotly.com/python/plotly-express/).\n",
    "We will not cover this library in our lectures."
   ]
  },
  {
   "cell_type": "code",
   "execution_count": null,
   "id": "483dd867",
   "metadata": {},
   "outputs": [],
   "source": [
    "# see plotly_iris.py"
   ]
  },
  {
   "cell_type": "markdown",
   "id": "481a4c30",
   "metadata": {},
   "source": [
    "### Correlation Analysis"
   ]
  },
  {
   "cell_type": "markdown",
   "id": "0d560bf0",
   "metadata": {},
   "source": [
    "`SciPy` is a collection of mathematical algorithms and convenience functions built on the NumPy extension of Python. It adds significant power to the interactive Python session by providing the user with high-level commands and classes for manipulating and visualizing data."
   ]
  },
  {
   "cell_type": "markdown",
   "id": "4310cbfe",
   "metadata": {},
   "source": [
    "SciPy features includes, but are not limited to:\n",
    "- statistics\n",
    "- linear algebra\n",
    "- fourier transform\n",
    "- optimization algorithm\n",
    "- ...\n"
   ]
  },
  {
   "cell_type": "code",
   "execution_count": null,
   "id": "544957d4",
   "metadata": {},
   "outputs": [],
   "source": [
    "from scipy.stats import pearsonr\n",
    "pearsonr(iris_df.sepallength,iris_df.sepalwidth)"
   ]
  },
  {
   "cell_type": "markdown",
   "id": "804133b5",
   "metadata": {},
   "source": [
    "The `pearsonr` function returns:\n",
    "- Pearson product-moment correlation coefficent.\n",
    "- The p-value associated with the chosen alternative: it roughly indicates the probability of an uncorrelated system producing datasets that have a Pearson correlation at least as extreme as the one computed from these datasets."
   ]
  },
  {
   "cell_type": "markdown",
   "id": "0c6960c2",
   "metadata": {},
   "source": [
    "Pearson correlation coefficient can also be obtained with `pandas.DataFrame.corr()`"
   ]
  },
  {
   "cell_type": "code",
   "execution_count": null,
   "id": "27545f37",
   "metadata": {},
   "outputs": [],
   "source": [
    "iris_df.corr()"
   ]
  },
  {
   "cell_type": "code",
   "execution_count": null,
   "id": "7e56155f",
   "metadata": {},
   "outputs": [],
   "source": [
    "f,ax = plt.subplots(figsize=(10, 8))\n",
    "sns.heatmap(iris_df.corr(), annot=True, linewidths=.5, fmt= '.2f',ax=ax)\n",
    "plt.show()\n"
   ]
  }
 ],
 "metadata": {
  "kernelspec": {
   "display_name": "Python 3 (ipykernel)",
   "language": "python",
   "name": "python3"
  },
  "language_info": {
   "codemirror_mode": {
    "name": "ipython",
    "version": 3
   },
   "file_extension": ".py",
   "mimetype": "text/x-python",
   "name": "python",
   "nbconvert_exporter": "python",
   "pygments_lexer": "ipython3",
   "version": "3.10.6"
  }
 },
 "nbformat": 4,
 "nbformat_minor": 5
}
