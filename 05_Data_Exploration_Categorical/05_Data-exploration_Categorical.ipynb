{
 "cells": [
  {
   "cell_type": "markdown",
   "id": "abb0018e",
   "metadata": {},
   "source": [
    "# Table of Contents \n",
    "\n",
    "- The BREAST-CANCER dataset:\n",
    "    - Load the dataset\n",
    "    - Explore the dataset: Descriptive statistics\n",
    "    - Explore the dataset: Visualization\n",
    "    \n"
   ]
  },
  {
   "cell_type": "code",
   "execution_count": null,
   "id": "b9ccdeee",
   "metadata": {},
   "outputs": [],
   "source": []
  },
  {
   "cell_type": "code",
   "execution_count": 1,
   "id": "c76d3ff3",
   "metadata": {
    "scrolled": true
   },
   "outputs": [],
   "source": [
    "import os\n",
    "import pandas as pd\n",
    "from matplotlib import pyplot as plt\n",
    "import seaborn as sns"
   ]
  },
  {
   "cell_type": "markdown",
   "id": "acba74f6",
   "metadata": {},
   "source": [
    "## The BREAST-CANCER dataset\n",
    "\n",
    "available at [UCI database](https://archive.ics.uci.edu/ml/datasets/breast+cancer).\n",
    "\n",
    "\n",
    "This is one of three domains provided by the Oncology Institute that has repeatedly appeared in the machine learning literature. (See also lymphography and primary-tumor.)\n",
    " \n",
    "This data set includes 286 intances (201 of one class, 85 of another class).  The instances are described by 9 attributes, some of which are ordinal and some are nominal.\n",
    " \n",
    "Attribute information\n",
    "\n",
    "| column | values |\n",
    "| --- | --- |\n",
    "| Class | no-recurrence-events, recurrence-events |\n",
    "| age | 10-19, 20-29, 30-39, 40-49, 50-59, 60-69, 70-79, 80-89, 90-99|\n",
    "| menopause | lt40, ge40, premeno|\n",
    "| tumor-size | 0-4, 5-9, 10-14, 15-19, 20-24, 25-29, 30-34, 35-39, 40-44, 45-49, 50-54, 55-59|\n",
    "| inv-nodes | 0-2, 3-5, 6-8, 9-11, 12-14, 15-17, 18-20, 21-23, 24-26, 27-29, 30-32, 33-35, 36-39|\n",
    "| node-caps | yes, no|\n",
    "| deg-malig | 1, 2, 3|\n",
    "| breast | left, right|\n",
    "| breast-quad | left-up, left-low, right-up, right-low, central|\n",
    "| irradiat | yes, no|\n",
    " \n",
    "There are 9 Missing Attribute Values (denoted by \"?\") \n"
   ]
  },
  {
   "cell_type": "markdown",
   "id": "415141bd",
   "metadata": {},
   "source": [
    "## Load the Dataset"
   ]
  },
  {
   "cell_type": "code",
   "execution_count": 2,
   "id": "8bbb63c7",
   "metadata": {},
   "outputs": [],
   "source": [
    "df = pd.read_csv(os.path.join('dataset','breast-cancer.csv'))"
   ]
  },
  {
   "cell_type": "code",
   "execution_count": 3,
   "id": "46cdc1f8",
   "metadata": {
    "scrolled": false
   },
   "outputs": [
    {
     "data": {
      "text/html": [
       "<div>\n",
       "<style scoped>\n",
       "    .dataframe tbody tr th:only-of-type {\n",
       "        vertical-align: middle;\n",
       "    }\n",
       "\n",
       "    .dataframe tbody tr th {\n",
       "        vertical-align: top;\n",
       "    }\n",
       "\n",
       "    .dataframe thead th {\n",
       "        text-align: right;\n",
       "    }\n",
       "</style>\n",
       "<table border=\"1\" class=\"dataframe\">\n",
       "  <thead>\n",
       "    <tr style=\"text-align: right;\">\n",
       "      <th></th>\n",
       "      <th>age</th>\n",
       "      <th>menopause</th>\n",
       "      <th>tumor-size</th>\n",
       "      <th>inv-nodes</th>\n",
       "      <th>node-caps</th>\n",
       "      <th>deg-malig</th>\n",
       "      <th>breast</th>\n",
       "      <th>breast-quad</th>\n",
       "      <th>irradiat</th>\n",
       "      <th>Class</th>\n",
       "    </tr>\n",
       "  </thead>\n",
       "  <tbody>\n",
       "    <tr>\n",
       "      <th>0</th>\n",
       "      <td>'40-49'</td>\n",
       "      <td>'premeno'</td>\n",
       "      <td>'15-19'</td>\n",
       "      <td>'0-2'</td>\n",
       "      <td>'yes'</td>\n",
       "      <td>'3'</td>\n",
       "      <td>'right'</td>\n",
       "      <td>'left_up'</td>\n",
       "      <td>'no'</td>\n",
       "      <td>'recurrence-events'</td>\n",
       "    </tr>\n",
       "    <tr>\n",
       "      <th>1</th>\n",
       "      <td>'50-59'</td>\n",
       "      <td>'ge40'</td>\n",
       "      <td>'15-19'</td>\n",
       "      <td>'0-2'</td>\n",
       "      <td>'no'</td>\n",
       "      <td>'1'</td>\n",
       "      <td>'right'</td>\n",
       "      <td>'central'</td>\n",
       "      <td>'no'</td>\n",
       "      <td>'no-recurrence-events'</td>\n",
       "    </tr>\n",
       "    <tr>\n",
       "      <th>2</th>\n",
       "      <td>'50-59'</td>\n",
       "      <td>'ge40'</td>\n",
       "      <td>'35-39'</td>\n",
       "      <td>'0-2'</td>\n",
       "      <td>'no'</td>\n",
       "      <td>'2'</td>\n",
       "      <td>'left'</td>\n",
       "      <td>'left_low'</td>\n",
       "      <td>'no'</td>\n",
       "      <td>'recurrence-events'</td>\n",
       "    </tr>\n",
       "    <tr>\n",
       "      <th>3</th>\n",
       "      <td>'40-49'</td>\n",
       "      <td>'premeno'</td>\n",
       "      <td>'35-39'</td>\n",
       "      <td>'0-2'</td>\n",
       "      <td>'yes'</td>\n",
       "      <td>'3'</td>\n",
       "      <td>'right'</td>\n",
       "      <td>'left_low'</td>\n",
       "      <td>'yes'</td>\n",
       "      <td>'no-recurrence-events'</td>\n",
       "    </tr>\n",
       "    <tr>\n",
       "      <th>4</th>\n",
       "      <td>'40-49'</td>\n",
       "      <td>'premeno'</td>\n",
       "      <td>'30-34'</td>\n",
       "      <td>'3-5'</td>\n",
       "      <td>'yes'</td>\n",
       "      <td>'2'</td>\n",
       "      <td>'left'</td>\n",
       "      <td>'right_up'</td>\n",
       "      <td>'no'</td>\n",
       "      <td>'recurrence-events'</td>\n",
       "    </tr>\n",
       "    <tr>\n",
       "      <th>...</th>\n",
       "      <td>...</td>\n",
       "      <td>...</td>\n",
       "      <td>...</td>\n",
       "      <td>...</td>\n",
       "      <td>...</td>\n",
       "      <td>...</td>\n",
       "      <td>...</td>\n",
       "      <td>...</td>\n",
       "      <td>...</td>\n",
       "      <td>...</td>\n",
       "    </tr>\n",
       "    <tr>\n",
       "      <th>281</th>\n",
       "      <td>'50-59'</td>\n",
       "      <td>'ge40'</td>\n",
       "      <td>'30-34'</td>\n",
       "      <td>'6-8'</td>\n",
       "      <td>'yes'</td>\n",
       "      <td>'2'</td>\n",
       "      <td>'left'</td>\n",
       "      <td>'left_low'</td>\n",
       "      <td>'no'</td>\n",
       "      <td>'no-recurrence-events'</td>\n",
       "    </tr>\n",
       "    <tr>\n",
       "      <th>282</th>\n",
       "      <td>'50-59'</td>\n",
       "      <td>'premeno'</td>\n",
       "      <td>'25-29'</td>\n",
       "      <td>'3-5'</td>\n",
       "      <td>'yes'</td>\n",
       "      <td>'2'</td>\n",
       "      <td>'left'</td>\n",
       "      <td>'left_low'</td>\n",
       "      <td>'yes'</td>\n",
       "      <td>'no-recurrence-events'</td>\n",
       "    </tr>\n",
       "    <tr>\n",
       "      <th>283</th>\n",
       "      <td>'30-39'</td>\n",
       "      <td>'premeno'</td>\n",
       "      <td>'30-34'</td>\n",
       "      <td>'6-8'</td>\n",
       "      <td>'yes'</td>\n",
       "      <td>'2'</td>\n",
       "      <td>'right'</td>\n",
       "      <td>'right_up'</td>\n",
       "      <td>'no'</td>\n",
       "      <td>'no-recurrence-events'</td>\n",
       "    </tr>\n",
       "    <tr>\n",
       "      <th>284</th>\n",
       "      <td>'50-59'</td>\n",
       "      <td>'premeno'</td>\n",
       "      <td>'15-19'</td>\n",
       "      <td>'0-2'</td>\n",
       "      <td>'no'</td>\n",
       "      <td>'2'</td>\n",
       "      <td>'right'</td>\n",
       "      <td>'left_low'</td>\n",
       "      <td>'no'</td>\n",
       "      <td>'no-recurrence-events'</td>\n",
       "    </tr>\n",
       "    <tr>\n",
       "      <th>285</th>\n",
       "      <td>'50-59'</td>\n",
       "      <td>'ge40'</td>\n",
       "      <td>'40-44'</td>\n",
       "      <td>'0-2'</td>\n",
       "      <td>'no'</td>\n",
       "      <td>'3'</td>\n",
       "      <td>'left'</td>\n",
       "      <td>'right_up'</td>\n",
       "      <td>'no'</td>\n",
       "      <td>'no-recurrence-events'</td>\n",
       "    </tr>\n",
       "  </tbody>\n",
       "</table>\n",
       "<p>286 rows × 10 columns</p>\n",
       "</div>"
      ],
      "text/plain": [
       "         age  menopause tumor-size inv-nodes node-caps deg-malig   breast  \\\n",
       "0    '40-49'  'premeno'    '15-19'     '0-2'     'yes'       '3'  'right'   \n",
       "1    '50-59'     'ge40'    '15-19'     '0-2'      'no'       '1'  'right'   \n",
       "2    '50-59'     'ge40'    '35-39'     '0-2'      'no'       '2'   'left'   \n",
       "3    '40-49'  'premeno'    '35-39'     '0-2'     'yes'       '3'  'right'   \n",
       "4    '40-49'  'premeno'    '30-34'     '3-5'     'yes'       '2'   'left'   \n",
       "..       ...        ...        ...       ...       ...       ...      ...   \n",
       "281  '50-59'     'ge40'    '30-34'     '6-8'     'yes'       '2'   'left'   \n",
       "282  '50-59'  'premeno'    '25-29'     '3-5'     'yes'       '2'   'left'   \n",
       "283  '30-39'  'premeno'    '30-34'     '6-8'     'yes'       '2'  'right'   \n",
       "284  '50-59'  'premeno'    '15-19'     '0-2'      'no'       '2'  'right'   \n",
       "285  '50-59'     'ge40'    '40-44'     '0-2'      'no'       '3'   'left'   \n",
       "\n",
       "    breast-quad irradiat                   Class  \n",
       "0     'left_up'     'no'     'recurrence-events'  \n",
       "1     'central'     'no'  'no-recurrence-events'  \n",
       "2    'left_low'     'no'     'recurrence-events'  \n",
       "3    'left_low'    'yes'  'no-recurrence-events'  \n",
       "4    'right_up'     'no'     'recurrence-events'  \n",
       "..          ...      ...                     ...  \n",
       "281  'left_low'     'no'  'no-recurrence-events'  \n",
       "282  'left_low'    'yes'  'no-recurrence-events'  \n",
       "283  'right_up'     'no'  'no-recurrence-events'  \n",
       "284  'left_low'     'no'  'no-recurrence-events'  \n",
       "285  'right_up'     'no'  'no-recurrence-events'  \n",
       "\n",
       "[286 rows x 10 columns]"
      ]
     },
     "execution_count": 3,
     "metadata": {},
     "output_type": "execute_result"
    }
   ],
   "source": [
    "df"
   ]
  },
  {
   "cell_type": "code",
   "execution_count": 4,
   "id": "7b750529",
   "metadata": {},
   "outputs": [
    {
     "name": "stdout",
     "output_type": "stream",
     "text": [
      "<class 'pandas.core.frame.DataFrame'>\n",
      "RangeIndex: 286 entries, 0 to 285\n",
      "Data columns (total 10 columns):\n",
      " #   Column       Non-Null Count  Dtype \n",
      "---  ------       --------------  ----- \n",
      " 0   age          286 non-null    object\n",
      " 1   menopause    286 non-null    object\n",
      " 2   tumor-size   286 non-null    object\n",
      " 3   inv-nodes    286 non-null    object\n",
      " 4   node-caps    286 non-null    object\n",
      " 5   deg-malig    286 non-null    object\n",
      " 6   breast       286 non-null    object\n",
      " 7   breast-quad  286 non-null    object\n",
      " 8   irradiat     286 non-null    object\n",
      " 9   Class        286 non-null    object\n",
      "dtypes: object(10)\n",
      "memory usage: 22.5+ KB\n"
     ]
    }
   ],
   "source": [
    "df.info()"
   ]
  },
  {
   "cell_type": "markdown",
   "id": "4487ea4c",
   "metadata": {},
   "source": [
    "**Issue #1**: values are *quoted* using character \" **'** \""
   ]
  },
  {
   "cell_type": "code",
   "execution_count": null,
   "id": "3dd47957",
   "metadata": {},
   "outputs": [],
   "source": [
    "df = pd.read_csv(os.path.join('dataset','breast-cancer.csv'),quotechar = \"'\")"
   ]
  },
  {
   "cell_type": "code",
   "execution_count": null,
   "id": "9fe0b38f",
   "metadata": {
    "scrolled": true
   },
   "outputs": [],
   "source": [
    "df"
   ]
  },
  {
   "cell_type": "code",
   "execution_count": null,
   "id": "f65093df",
   "metadata": {},
   "outputs": [],
   "source": [
    "df.head(3).T"
   ]
  },
  {
   "cell_type": "markdown",
   "id": "ad395b20",
   "metadata": {},
   "source": [
    "**Issue #2**: are we handling missing values as such?"
   ]
  },
  {
   "cell_type": "code",
   "execution_count": null,
   "id": "5d764dd4",
   "metadata": {
    "scrolled": true
   },
   "outputs": [],
   "source": [
    "df[\"node-caps\"].value_counts()"
   ]
  },
  {
   "cell_type": "code",
   "execution_count": null,
   "id": "d84ac224",
   "metadata": {},
   "outputs": [],
   "source": [
    "df = pd.read_csv(os.path.join('dataset','breast-cancer.csv'),quotechar = \"'\", na_values = '?')\n"
   ]
  },
  {
   "cell_type": "code",
   "execution_count": null,
   "id": "7191b8f0",
   "metadata": {},
   "outputs": [],
   "source": [
    "df[\"node-caps\"].value_counts()"
   ]
  },
  {
   "cell_type": "code",
   "execution_count": null,
   "id": "7ee1181c",
   "metadata": {},
   "outputs": [],
   "source": [
    "df[\"node-caps\"].value_counts(dropna=False)"
   ]
  },
  {
   "cell_type": "markdown",
   "id": "184d9ed3",
   "metadata": {},
   "source": [
    "## Explore the dataset: Descriptive statistics\n"
   ]
  },
  {
   "cell_type": "code",
   "execution_count": null,
   "id": "1ddeb8b3",
   "metadata": {
    "scrolled": true
   },
   "outputs": [],
   "source": [
    "df"
   ]
  },
  {
   "cell_type": "code",
   "execution_count": null,
   "id": "0c7c985f",
   "metadata": {},
   "outputs": [],
   "source": [
    "df.head(10)"
   ]
  },
  {
   "cell_type": "code",
   "execution_count": null,
   "id": "a7901e10",
   "metadata": {},
   "outputs": [],
   "source": [
    "df.head(2).T"
   ]
  },
  {
   "cell_type": "code",
   "execution_count": null,
   "id": "035ce900",
   "metadata": {},
   "outputs": [],
   "source": [
    "df.shape"
   ]
  },
  {
   "cell_type": "markdown",
   "id": "7ec8bda6",
   "metadata": {},
   "source": [
    "Check if there is any missing value"
   ]
  },
  {
   "cell_type": "code",
   "execution_count": null,
   "id": "9929016d",
   "metadata": {},
   "outputs": [],
   "source": [
    "df.isna().sum()"
   ]
  },
  {
   "cell_type": "code",
   "execution_count": null,
   "id": "a927f239",
   "metadata": {},
   "outputs": [],
   "source": [
    "df[df.isna().any(axis=1)]"
   ]
  },
  {
   "cell_type": "code",
   "execution_count": null,
   "id": "cd662c3f",
   "metadata": {},
   "outputs": [],
   "source": [
    "df.age.unique()"
   ]
  },
  {
   "cell_type": "code",
   "execution_count": null,
   "id": "5f9d5353",
   "metadata": {},
   "outputs": [],
   "source": [
    "df.info()"
   ]
  },
  {
   "cell_type": "markdown",
   "id": "05bbc9ec",
   "metadata": {},
   "source": [
    "Most columns are recognized as generic \"object\" (text or mixed numeric and non-numeric values).\n",
    "Actually, we know from the documentation that we are dealing with categorical variables.\n",
    "\n",
    "`Pandas` has a **categorical** data type, which may be useful in the following cases:\n",
    "- A string variable consisting of only a few different values. Converting such a string variable to a categorical variable will save some memory.\n",
    "- The lexical order of a variable is not the same as the logical order (“one”, “two”, “three”). By converting to a categorical and specifying an order on the categories, sorting and min/max will use the logical order instead of the lexical order, see here.\n",
    "- As a signal to other Python libraries that this column should be treated as a categorical variable (e.g. to use suitable statistical methods or plot types).\n",
    "\n",
    "`Categoricals` are a pandas data type corresponding to categorical variables in statistics. A categorical variable takes on a limited, and usually fixed, number of possible values (categories). Examples are gender, social class, blood type, country affiliation, observation time or rating via Likert scales.\n",
    "\n",
    "In contrast to statistical categorical variables, categorical data might have an order (e.g. 'strongly agree' vs 'agree' or 'first observation' vs. 'second observation'), but numerical operations (additions, divisions, …) are not possible.\n",
    "\n"
   ]
  },
  {
   "cell_type": "code",
   "execution_count": null,
   "id": "559bdc63",
   "metadata": {},
   "outputs": [],
   "source": [
    "df.describe()"
   ]
  },
  {
   "cell_type": "markdown",
   "id": "bb13939d",
   "metadata": {},
   "source": [
    "By default, describe considers only numeric data"
   ]
  },
  {
   "cell_type": "code",
   "execution_count": null,
   "id": "3bf33f95",
   "metadata": {
    "scrolled": false
   },
   "outputs": [],
   "source": [
    "df.describe(include = 'all') # mixed data type: description still supported"
   ]
  },
  {
   "cell_type": "markdown",
   "id": "52b85dfb",
   "metadata": {},
   "source": [
    "We can cast our dataframe to categorical, as we know that this is the case."
   ]
  },
  {
   "cell_type": "code",
   "execution_count": null,
   "id": "4891d4b3",
   "metadata": {
    "scrolled": true
   },
   "outputs": [],
   "source": [
    "df = df.astype('category')"
   ]
  },
  {
   "cell_type": "code",
   "execution_count": null,
   "id": "112e7406",
   "metadata": {},
   "outputs": [],
   "source": [
    "df.info()"
   ]
  },
  {
   "cell_type": "code",
   "execution_count": null,
   "id": "6a576128",
   "metadata": {},
   "outputs": [],
   "source": [
    "df.describe()"
   ]
  },
  {
   "cell_type": "code",
   "execution_count": null,
   "id": "84cea99e",
   "metadata": {
    "scrolled": false
   },
   "outputs": [],
   "source": [
    "pd.set_option('display.max_rows', None)\n",
    "df.sort_values(by = 'inv-nodes').tail(80)"
   ]
  },
  {
   "cell_type": "markdown",
   "id": "2774182c",
   "metadata": {},
   "source": [
    "**Another issue**: we are not using the proper order as the lexical one is not the same as the logical one: for example (0-2 < 3-5 < 10-12) but (\"0-2\" < \"10-12\" < \"3-5\")"
   ]
  },
  {
   "cell_type": "code",
   "execution_count": null,
   "id": "a1a4d74d",
   "metadata": {},
   "outputs": [],
   "source": [
    "from pandas.api.types import CategoricalDtype \n",
    "# the following categories are available in the dataset description (\"attribute information\") at the beginning of this notebook\n",
    "categories = CategoricalDtype([\"0-2\", \"3-5\", \"6-8\", \n",
    "                               \"9-11\", \"12-14\", \"15-17\", \n",
    "                               \"18-20\", \"21-23\", \"24-26\", \n",
    "                               \"27-29\", \"30-32\", \"33-35\",\n",
    "                               \"36-39\"], ordered = True)\n",
    "# Inv-nodes: the number (range 0 - 39) of axillary lymph nodes\n",
    "# that contain metastatic breast cancer visible on histological examination.\n",
    "df['inv-nodes'] = df['inv-nodes'].astype(categories)\n"
   ]
  },
  {
   "cell_type": "code",
   "execution_count": null,
   "id": "d93bd724",
   "metadata": {},
   "outputs": [],
   "source": [
    "df.info()"
   ]
  },
  {
   "cell_type": "code",
   "execution_count": null,
   "id": "43ec97b2",
   "metadata": {},
   "outputs": [],
   "source": [
    "df.sort_values(by = 'inv-nodes').tail(80)"
   ]
  },
  {
   "cell_type": "markdown",
   "id": "02fd59ef",
   "metadata": {},
   "source": [
    "## Explore the dataset: Visualization"
   ]
  },
  {
   "cell_type": "markdown",
   "id": "ec2be126",
   "metadata": {},
   "source": [
    "*Barplot* and *pie-chart* in pandas (shown just for an attribute, but applies to all)"
   ]
  },
  {
   "cell_type": "code",
   "execution_count": null,
   "id": "bb5dd968",
   "metadata": {
    "scrolled": false
   },
   "outputs": [],
   "source": [
    "value_count = df['breast-quad'].value_counts(dropna = False) \n",
    "value_count.plot(kind='bar')\n",
    "plt.title('breast-quad')\n",
    "plt.show()\n",
    "value_count.plot(kind = \"pie\")\n",
    "plt.show()"
   ]
  },
  {
   "cell_type": "markdown",
   "id": "074e651d",
   "metadata": {},
   "source": [
    "*Barplot* in seaborn."
   ]
  },
  {
   "cell_type": "markdown",
   "id": "20c86602",
   "metadata": {},
   "source": [
    "`seaborn` axes-level functions for [plotting categorical data](https://seaborn.pydata.org/tutorial/categorical.html):\n",
    "- categorical scatter plots\n",
    "    - `stripplot()`\n",
    "    - `swarmplot()`\n",
    "- distribution plots\n",
    "    - `boxplot()`\n",
    "    - `violinplot()`\n",
    "    - `boxenplot()`\n",
    "- estimate plots\n",
    "    - `pointplot()`\n",
    "    - `barplot()`\n",
    "    - `countplot()`"
   ]
  },
  {
   "cell_type": "code",
   "execution_count": null,
   "id": "d860ada8",
   "metadata": {},
   "outputs": [],
   "source": [
    "sns.countplot(x=\"age\", data=df, palette = \"pastel\")\n",
    "plt.show()"
   ]
  },
  {
   "cell_type": "code",
   "execution_count": null,
   "id": "e324f3c6",
   "metadata": {
    "scrolled": false
   },
   "outputs": [],
   "source": [
    "sns.countplot(x=\"age\", data=df, hue = \"Class\", palette = \"pastel\")\n",
    "plt.show()"
   ]
  },
  {
   "cell_type": "markdown",
   "id": "fb893734",
   "metadata": {},
   "source": [
    "`seaborn` also provides a figure-level interface, `catplot()`, that gives unified higher-level access to the axes-level functions."
   ]
  },
  {
   "cell_type": "code",
   "execution_count": null,
   "id": "e2e8e596",
   "metadata": {},
   "outputs": [],
   "source": [
    "sns.catplot(x=\"age\", hue=\"Class\", kind=\"count\", # x = 'age' --> vertical\n",
    "            palette=\"pastel\", edgecolor=\".5\",\n",
    "            data=df)"
   ]
  },
  {
   "cell_type": "code",
   "execution_count": null,
   "id": "b7d006e7",
   "metadata": {},
   "outputs": [],
   "source": [
    "sns.catplot(y=\"node-caps\", hue=\"Class\", kind=\"count\", # y = 'node-caps' --> horizontal\n",
    "            palette=\"pastel\", edgecolor=\".5\",\n",
    "            data=df)"
   ]
  },
  {
   "cell_type": "code",
   "execution_count": null,
   "id": "7f13244a",
   "metadata": {
    "scrolled": false
   },
   "outputs": [],
   "source": [
    "sns.catplot(y=\"inv-nodes\", hue=\"Class\", kind=\"count\",\n",
    "            palette=\"pastel\", edgecolor=\".5\",\n",
    "            data=df)"
   ]
  },
  {
   "cell_type": "markdown",
   "id": "f8a16aa9",
   "metadata": {},
   "source": [
    "Notice the effect of customizing the order and domain of the categorical variable.\n",
    "- restore the original dataset\n",
    "- plot with the same catplot statement"
   ]
  },
  {
   "cell_type": "code",
   "execution_count": null,
   "id": "18f9d5e4",
   "metadata": {},
   "outputs": [],
   "source": [
    "df = pd.read_csv(os.path.join('dataset','breast-cancer.csv'),quotechar = \"'\", na_values = '?')"
   ]
  },
  {
   "cell_type": "code",
   "execution_count": null,
   "id": "fcb72a03",
   "metadata": {},
   "outputs": [],
   "source": [
    "sns.catplot(y=\"inv-nodes\", hue=\"Class\", kind=\"count\",\n",
    "            palette=\"pastel\", edgecolor=\".5\", \n",
    "            data=df)"
   ]
  }
 ],
 "metadata": {
  "kernelspec": {
   "display_name": "Python 3 (ipykernel)",
   "language": "python",
   "name": "python3"
  },
  "language_info": {
   "codemirror_mode": {
    "name": "ipython",
    "version": 3
   },
   "file_extension": ".py",
   "mimetype": "text/x-python",
   "name": "python",
   "nbconvert_exporter": "python",
   "pygments_lexer": "ipython3",
   "version": "3.11.6"
  }
 },
 "nbformat": 4,
 "nbformat_minor": 5
}
