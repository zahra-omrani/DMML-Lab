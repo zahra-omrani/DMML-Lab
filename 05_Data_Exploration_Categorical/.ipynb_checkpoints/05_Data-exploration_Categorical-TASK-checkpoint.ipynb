{
 "cells": [
  {
   "cell_type": "markdown",
   "id": "abb0018e",
   "metadata": {},
   "source": [
    "# Table of Contents \n",
    "\n",
    "- The BREAST-CANCER dataset:\n",
    "    - Load the dataset\n",
    "    - Explore the dataset: Descriptive statistics\n",
    "    - Explore the dataset: Visualization\n",
    "    \n"
   ]
  },
  {
   "cell_type": "code",
   "execution_count": 1,
   "id": "c76d3ff3",
   "metadata": {
    "scrolled": true
   },
   "outputs": [],
   "source": [
    "import os\n",
    "import pandas as pd\n",
    "from matplotlib import pyplot as plt\n",
    "import seaborn as sns"
   ]
  },
  {
   "cell_type": "markdown",
   "id": "acba74f6",
   "metadata": {},
   "source": [
    "## The BREAST-CANCER dataset\n",
    "\n",
    "available at [UCI database](https://archive.ics.uci.edu/ml/datasets/breast+cancer).\n",
    "\n",
    "\n",
    "This is one of three domains provided by the Oncology Institute that has repeatedly appeared in the machine learning literature. (See also lymphography and primary-tumor.)\n",
    " \n",
    "This data set includes 286 intances (201 of one class, 85 of another class).  The instances are described by 9 attributes, some of which are ordinal and some are nominal.\n",
    " \n",
    "Attribute information\n",
    "\n",
    "| column | values |\n",
    "| --- | --- |\n",
    "| Class | no-recurrence-events, recurrence-events |\n",
    "| age | 10-19, 20-29, 30-39, 40-49, 50-59, 60-69, 70-79, 80-89, 90-99|\n",
    "| menopause | lt40, ge40, premeno|\n",
    "| tumor-size | 0-4, 5-9, 10-14, 15-19, 20-24, 25-29, 30-34, 35-39, 40-44, 45-49, 50-54, 55-59|\n",
    "| inv-nodes | 0-2, 3-5, 6-8, 9-11, 12-14, 15-17, 18-20, 21-23, 24-26, 27-29, 30-32, 33-35, 36-39|\n",
    "| node-caps | yes, no|\n",
    "| deg-malig | 1, 2, 3|\n",
    "| breast | left, right|\n",
    "| breast-quad | left-up, left-low, right-up, right-low, central|\n",
    "| irradiat | yes, no|\n",
    " \n",
    "There are 9 Missing Attribute Values (denoted by \"?\") \n"
   ]
  },
  {
   "cell_type": "markdown",
   "id": "415141bd",
   "metadata": {},
   "source": [
    "## Load the Dataset"
   ]
  },
  {
   "cell_type": "code",
   "execution_count": 2,
   "id": "8bbb63c7",
   "metadata": {},
   "outputs": [],
   "source": [
    "# TODO"
   ]
  },
  {
   "cell_type": "markdown",
   "id": "184d9ed3",
   "metadata": {},
   "source": [
    "## Explore the dataset: Descriptive statistics\n"
   ]
  },
  {
   "cell_type": "code",
   "execution_count": 1,
   "id": "1ddeb8b3",
   "metadata": {
    "scrolled": true
   },
   "outputs": [],
   "source": [
    "# TODO"
   ]
  },
  {
   "cell_type": "markdown",
   "id": "02fd59ef",
   "metadata": {},
   "source": [
    "## Explore the dataset: Visualization"
   ]
  },
  {
   "cell_type": "code",
   "execution_count": 2,
   "id": "bb5dd968",
   "metadata": {
    "scrolled": false
   },
   "outputs": [],
   "source": [
    "# TODO"
   ]
  }
 ],
 "metadata": {
  "kernelspec": {
   "display_name": "Python 3 (ipykernel)",
   "language": "python",
   "name": "python3"
  },
  "language_info": {
   "codemirror_mode": {
    "name": "ipython",
    "version": 3
   },
   "file_extension": ".py",
   "mimetype": "text/x-python",
   "name": "python",
   "nbconvert_exporter": "python",
   "pygments_lexer": "ipython3",
   "version": "3.10.6"
  }
 },
 "nbformat": 4,
 "nbformat_minor": 5
}
