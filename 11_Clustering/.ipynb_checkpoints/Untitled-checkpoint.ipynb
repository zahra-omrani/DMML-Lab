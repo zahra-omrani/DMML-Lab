{
 "cells": [
  {
   "cell_type": "markdown",
   "id": "c8368a11",
   "metadata": {},
   "source": [
    "# Table of Contents\n",
    "- Clustering\n",
    "   - assessing clustering tendency (Hopkins statistic)\n",
    "   - k-means\n",
    "   - evaluation metrics\n"
   ]
  },
  {
   "cell_type": "code",
   "execution_count": null,
   "id": "7fb7c13a",
   "metadata": {},
   "outputs": [],
   "source": [
    "from sklearn import datasets\n",
    "from pyclustertend import hopkins\n",
    "from sklearn.preprocessing import scale\n",
    "X = scale(datasets.load_iris().data)\n",
    "hopkins(X,150)"
   ]
  }
 ],
 "metadata": {
  "kernelspec": {
   "display_name": "PyCharm (FederatedFuzzy)",
   "language": "python",
   "name": "pycharm-6176de5e"
  }
 },
 "nbformat": 4,
 "nbformat_minor": 5
}
