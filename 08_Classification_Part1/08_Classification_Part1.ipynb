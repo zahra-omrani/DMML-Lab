{
 "cells": [
  {
   "cell_type": "markdown",
   "metadata": {},
   "source": [
    "# Table of Contents\n",
    "- A rough guide: ML Taxonomy\n",
    "- Classification: a first example\n",
    "- Model Evaluation\n",
    "    - Holdout evaluation\n",
    "    - *k*-fold Cross-Validation\n",
    "- Evaluation Metrics for classification problems\n",
    "- Evaluation on Iris Dataset\n",
    "- Feature Selection\n"
   ]
  },
  {
   "cell_type": "code",
   "execution_count": 1,
   "metadata": {
    "collapsed": true
   },
   "outputs": [],
   "source": [
    "import numpy as np\n",
    "import pandas as pd\n",
    "from matplotlib import pyplot as plt"
   ]
  },
  {
   "cell_type": "markdown",
   "metadata": {},
   "source": [
    "## A rough guide: ML Taxonomy"
   ]
  },
  {
   "cell_type": "markdown",
   "metadata": {},
   "source": [
    "Often the hardest part of solving a machine learning problem can be finding the right estimator for the job. Different estimators are better suited for different types of data and different problems.\n",
    "\n",
    "The flowchart below (from the [sklearn doc](https://scikit-learn.org/stable/tutorial/machine_learning_map/index.html)) is aimed at providing a rough guide on how to approach problems with regard to which estimators to try on your data."
   ]
  },
  {
   "cell_type": "markdown",
   "metadata": {},
   "source": [
    "![`scikit-learn`](https://scikit-learn.org/stable/_static/ml_map.png)"
   ]
  },
  {
   "cell_type": "markdown",
   "metadata": {},
   "source": [
    "## Classification: a first example\n",
    "\n",
    "K nearest neighbors (kNN) is one of the simplest learning strategies: given a new, unknown observation, look up in your reference database which ones have the closest features and assign the predominant class.\n",
    "\n",
    "![KNN](https://upload.wikimedia.org/wikipedia/commons/thumb/e/e7/KnnClassification.svg/355px-KnnClassification.svg.png)"
   ]
  },
  {
   "cell_type": "markdown",
   "metadata": {},
   "source": [
    "Let's try it out on the IRIS dataset."
   ]
  },
  {
   "cell_type": "code",
   "execution_count": 2,
   "metadata": {
    "collapsed": true
   },
   "outputs": [],
   "source": [
    "from sklearn import datasets\n",
    "\n",
    "iris = datasets.load_iris()\n",
    "X, y = iris.data, iris.target\n",
    "# print(iris.DESCR)"
   ]
  },
  {
   "cell_type": "markdown",
   "metadata": {},
   "source": [
    "Let's have a look at the documentation of the sklearn implementation of the KNN classifier.\n",
    "\n",
    "Typically, for a sklearn estimator, you can rely on the following sources:\n",
    "- API: \n",
    "https://scikit-learn.org/stable/modules/generated/sklearn.neighbors.KNeighborsClassifier.html\n",
    "- User guide: https://scikit-learn.org/stable/modules/neighbors.html#classification\n",
    "- Examples: https://scikit-learn.org/stable/auto_examples/neighbors/plot_classification.html#sphx-glr-auto-examples-neighbors-plot-classification-py"
   ]
  },
  {
   "cell_type": "code",
   "execution_count": 3,
   "metadata": {
    "collapsed": true
   },
   "outputs": [],
   "source": [
    "from sklearn.neighbors import KNeighborsClassifier\n",
    "KNeighborsClassifier?"
   ]
  },
  {
   "cell_type": "markdown",
   "metadata": {},
   "source": [
    "1. Create the model\n"
   ]
  },
  {
   "cell_type": "code",
   "execution_count": 4,
   "metadata": {
    "collapsed": true
   },
   "outputs": [],
   "source": [
    "knn = KNeighborsClassifier(n_neighbors=5)"
   ]
  },
  {
   "cell_type": "markdown",
   "metadata": {},
   "source": [
    "2. fit the model"
   ]
  },
  {
   "cell_type": "code",
   "execution_count": 5,
   "metadata": {
    "collapsed": true
   },
   "outputs": [
    {
     "data": {
      "text/html": [
       "<style>#sk-container-id-1 {color: black;background-color: white;}#sk-container-id-1 pre{padding: 0;}#sk-container-id-1 div.sk-toggleable {background-color: white;}#sk-container-id-1 label.sk-toggleable__label {cursor: pointer;display: block;width: 100%;margin-bottom: 0;padding: 0.3em;box-sizing: border-box;text-align: center;}#sk-container-id-1 label.sk-toggleable__label-arrow:before {content: \"▸\";float: left;margin-right: 0.25em;color: #696969;}#sk-container-id-1 label.sk-toggleable__label-arrow:hover:before {color: black;}#sk-container-id-1 div.sk-estimator:hover label.sk-toggleable__label-arrow:before {color: black;}#sk-container-id-1 div.sk-toggleable__content {max-height: 0;max-width: 0;overflow: hidden;text-align: left;background-color: #f0f8ff;}#sk-container-id-1 div.sk-toggleable__content pre {margin: 0.2em;color: black;border-radius: 0.25em;background-color: #f0f8ff;}#sk-container-id-1 input.sk-toggleable__control:checked~div.sk-toggleable__content {max-height: 200px;max-width: 100%;overflow: auto;}#sk-container-id-1 input.sk-toggleable__control:checked~label.sk-toggleable__label-arrow:before {content: \"▾\";}#sk-container-id-1 div.sk-estimator input.sk-toggleable__control:checked~label.sk-toggleable__label {background-color: #d4ebff;}#sk-container-id-1 div.sk-label input.sk-toggleable__control:checked~label.sk-toggleable__label {background-color: #d4ebff;}#sk-container-id-1 input.sk-hidden--visually {border: 0;clip: rect(1px 1px 1px 1px);clip: rect(1px, 1px, 1px, 1px);height: 1px;margin: -1px;overflow: hidden;padding: 0;position: absolute;width: 1px;}#sk-container-id-1 div.sk-estimator {font-family: monospace;background-color: #f0f8ff;border: 1px dotted black;border-radius: 0.25em;box-sizing: border-box;margin-bottom: 0.5em;}#sk-container-id-1 div.sk-estimator:hover {background-color: #d4ebff;}#sk-container-id-1 div.sk-parallel-item::after {content: \"\";width: 100%;border-bottom: 1px solid gray;flex-grow: 1;}#sk-container-id-1 div.sk-label:hover label.sk-toggleable__label {background-color: #d4ebff;}#sk-container-id-1 div.sk-serial::before {content: \"\";position: absolute;border-left: 1px solid gray;box-sizing: border-box;top: 0;bottom: 0;left: 50%;z-index: 0;}#sk-container-id-1 div.sk-serial {display: flex;flex-direction: column;align-items: center;background-color: white;padding-right: 0.2em;padding-left: 0.2em;position: relative;}#sk-container-id-1 div.sk-item {position: relative;z-index: 1;}#sk-container-id-1 div.sk-parallel {display: flex;align-items: stretch;justify-content: center;background-color: white;position: relative;}#sk-container-id-1 div.sk-item::before, #sk-container-id-1 div.sk-parallel-item::before {content: \"\";position: absolute;border-left: 1px solid gray;box-sizing: border-box;top: 0;bottom: 0;left: 50%;z-index: -1;}#sk-container-id-1 div.sk-parallel-item {display: flex;flex-direction: column;z-index: 1;position: relative;background-color: white;}#sk-container-id-1 div.sk-parallel-item:first-child::after {align-self: flex-end;width: 50%;}#sk-container-id-1 div.sk-parallel-item:last-child::after {align-self: flex-start;width: 50%;}#sk-container-id-1 div.sk-parallel-item:only-child::after {width: 0;}#sk-container-id-1 div.sk-dashed-wrapped {border: 1px dashed gray;margin: 0 0.4em 0.5em 0.4em;box-sizing: border-box;padding-bottom: 0.4em;background-color: white;}#sk-container-id-1 div.sk-label label {font-family: monospace;font-weight: bold;display: inline-block;line-height: 1.2em;}#sk-container-id-1 div.sk-label-container {text-align: center;}#sk-container-id-1 div.sk-container {/* jupyter's `normalize.less` sets `[hidden] { display: none; }` but bootstrap.min.css set `[hidden] { display: none !important; }` so we also need the `!important` here to be able to override the default hidden behavior on the sphinx rendered scikit-learn.org. See: https://github.com/scikit-learn/scikit-learn/issues/21755 */display: inline-block !important;position: relative;}#sk-container-id-1 div.sk-text-repr-fallback {display: none;}</style><div id=\"sk-container-id-1\" class=\"sk-top-container\"><div class=\"sk-text-repr-fallback\"><pre>KNeighborsClassifier()</pre><b>In a Jupyter environment, please rerun this cell to show the HTML representation or trust the notebook. <br />On GitHub, the HTML representation is unable to render, please try loading this page with nbviewer.org.</b></div><div class=\"sk-container\" hidden><div class=\"sk-item\"><div class=\"sk-estimator sk-toggleable\"><input class=\"sk-toggleable__control sk-hidden--visually\" id=\"sk-estimator-id-1\" type=\"checkbox\" checked><label for=\"sk-estimator-id-1\" class=\"sk-toggleable__label sk-toggleable__label-arrow\">KNeighborsClassifier</label><div class=\"sk-toggleable__content\"><pre>KNeighborsClassifier()</pre></div></div></div></div></div>"
      ],
      "text/plain": [
       "KNeighborsClassifier()"
      ]
     },
     "execution_count": 5,
     "metadata": {},
     "output_type": "execute_result"
    }
   ],
   "source": [
    "knn.fit(X, y)"
   ]
  },
  {
   "cell_type": "markdown",
   "metadata": {},
   "source": [
    "3. use the model: what kind of iris has 3cm x 5cm sepal and 4cm x 2cm petal? call the \"predict\" method."
   ]
  },
  {
   "cell_type": "code",
   "execution_count": 6,
   "metadata": {
    "collapsed": true
   },
   "outputs": [
    {
     "name": "stdout",
     "output_type": "stream",
     "text": [
      "[1]\n",
      "['versicolor']\n"
     ]
    }
   ],
   "source": [
    "result = knn.predict([[3, 5, 4, 2],])\n",
    "print(result)\n",
    "print(iris.target_names[result])"
   ]
  },
  {
   "cell_type": "markdown",
   "metadata": {},
   "source": [
    "## Model evaluation\n",
    "The final goal of a classification algorithm is to correctly classify a previously unseen example. In other words we want to assess the **generalization capability** of our model. Therefore it is not sufficient to solve an optimization problem on the examples used for training. "
   ]
  },
  {
   "cell_type": "markdown",
   "metadata": {},
   "source": [
    "### Holdout method\n",
    "In the holdout method, the input dataset is split into two separate sets:  **training set** and **test set**. \n",
    "\n",
    "- the **training set** is used during training in order to increase the experience of the model. An optimization procedure finds the parameters configuration which minimizes the training error.\n",
    "- the **test set** is used to measure the actual performance of the model, thus its generalization capability. \n",
    "\n",
    "The inference capability on previously unseen examples arises from an assumption about data generating process (i.i.d. assumption): examples in training and test sets are supposed to be independent from each other and identically distributed.\n",
    "\n",
    "\n"
   ]
  },
  {
   "cell_type": "markdown",
   "metadata": {},
   "source": [
    "**It is of the utmost importance that the actual test set is not used to make choices about the model and its parameters/hyperparameters.**\n"
   ]
  },
  {
   "cell_type": "markdown",
   "metadata": {},
   "source": [
    "### *k*-fold cross-validation\n",
    "\n",
    "The **simple holdout evaluation approach can be problematic if the resulting test set is small**: the sampled test examples may not be representative of the actual distribution of our dataset. Training (and evaluating) our model on different random splits would results in different values of model performance. In other words, we may observe statistical uncertainty around the estimated average generalization error.\n",
    "\n",
    "To address this issue, *k*-fold cross validation is commonly adopted.\n",
    "The procedure consists in the following steps:\n",
    "- the dataset is split in *k* non-overlapping subset\n",
    "- for each subset *i* the model is evaluated on the *i-th* subset itself and trained on the union of the remaining *k-1* subsets,\n",
    "- after *k* iteration, we can rely on *k* values of model performance: the final score is obtained averaging the scores across the *k* trials.\n",
    "\n",
    "Using k-fold cross-validation allows to estimate the average generalization error using all the examples, at the price of an increased runtime (k training procedures)\n",
    "\n",
    "![kfoldcv](https://upload.wikimedia.org/wikipedia/commons/1/1c/K-fold_cross_validation_EN.jpg)\n"
   ]
  },
  {
   "cell_type": "markdown",
   "metadata": {},
   "source": [
    "**Note on hyperparameters tuning** from [here](https://scikit-learn.org/stable/modules/cross_validation.html#cross-validation-evaluating-estimator-performance):\n",
    "- When evaluating different settings (“hyperparameters”) for estimators (such as the *k* value that must be manually set for a KNNClassifier) there is still a risk of overfitting on the test set because the parameters can be tweaked until the estimator performs optimally.\n",
    "- This way, knowledge about the test set can \"*leak*\" into the model and evaluation metrics no longer report on generalization performance. \n",
    "- To solve this problem, yet another part of the dataset can be held out as a so-called \"**validation set**\": \n",
    "    - training proceeds on the training set, \n",
    "    - evaluation is done on the validation set\n",
    "    - when the experiment seems to be successful (found optimal *parameters* (e.g., $k$ in KNNClassifier), based on the results on the validation set), final evaluation can be done on the test set.\n",
    "\n",
    "However, by partitioning the available data into three sets, we drastically reduce the number of samples which can be used for learning the model, and the results can depend on a particular random choice for the pair of (train, validation) sets.\n",
    "\n",
    "If a test set is held out from the whole data, we can perform the final evaluation on it.\n",
    "\n",
    "![kfoldcv](https://scikit-learn.org/stable/_images/grid_search_cross_validation.png)"
   ]
  },
  {
   "cell_type": "markdown",
   "metadata": {},
   "source": [
    "For both *single holdout validation* and *k-fold cross-validation* we can resort to the implementation provided in the `model_selection` module provided in the `scikit-learn` (sklearn) library.\n",
    "\n",
    "- `train_test_split`: [docs](https://scikit-learn.org/stable/modules/generated/sklearn.model_selection.train_test_split.html)\n",
    "- `KFold` [docs](https://scikit-learn.org/stable/modules/generated/sklearn.model_selection.KFold.html#sklearn-model-selection-kfold), or (better) `StratifiedKFold` [docs](https://scikit-learn.org/stable/modules/generated/sklearn.model_selection.StratifiedKFold.html?highlight=stratified#sklearn.model_selection.StratifiedKFold), that is a variation of k-fold in which each set contains approximately the same percentage of samples of each target class as the complete set.\n"
   ]
  },
  {
   "cell_type": "markdown",
   "metadata": {},
   "source": [
    "## Evaluation Metrics for classification problems\n",
    "\n",
    "Machine learning models are often used to predict the outcomes of a classification problem. Predictive models rarely predict everything perfectly, so there are many performance metrics that can be used to analyze our models.\n",
    "\n",
    "When you run a prediction on your data to distinguish among two classes (*positive* and *negative* classes, for simplicity), your results can be broken down into 4 parts:\n",
    "\n",
    "<img src=\"images/classification_report.png\" alt=\"drawing\" width=\"450\"/>\n",
    "\n",
    "* **True Positives**: data in class *positive* that the model predicts will be in class *positive*;\n",
    "* **True Negatives**: data in class *negative* that the model predicts will be in class *negative*;\n",
    "* **False Positives**: data in class *negative* that the model predicts will be in class *positive*;\n",
    "* **False Negatives**: data in class *positive* that the model predicts will be in class *negative*.\n",
    "\n",
    "The most common performance metrics in this binary classification scenario are the following:\n",
    "\n",
    "* **accuracy**: the fraction of observations (both positive and negative) predicted correctly:\n",
    "\n",
    "$$ Accuracy = \\frac{(TP+TN)}{(TP+FP+TN+FN)} $$\n",
    "\n",
    "* **precision** (or **positive predictive value**): the fraction of predicted positive observations that are actually positive:\n",
    "\n",
    "$$ Precision = \\frac{TP}{(TP+FP)} $$\n",
    "\n",
    "* **recall** (or **sensitivity** or **True Positive Rate (TPR)**): the fraction of positive observations that are predicted correctly:\n",
    "\n",
    "$$ Recall = \\frac{TP}{(TP+FN)} $$\n",
    "\n",
    "* **False Positive Rate (FPR)** (or **1-specificity**): the fraction of negative observations that are wrongly predicted as positive (false alarm rate):\n",
    "\n",
    "$$ False Positive Rate = \\frac{FP}{(FP+TN)} $$\n",
    "\n",
    "\n",
    "* **f1-score**: a composite measure that combines both precision and recall (harmonic mean):\n",
    "\n",
    "$$ F_1 = \\frac{2 \\cdot P \\cdot R}{(P+R)}$$"
   ]
  },
  {
   "cell_type": "markdown",
   "metadata": {},
   "source": [
    "The **confusion matrix** is useful for quickly calculating precision and recall given the predicted labels from a model. A confusion matrix for binary classification shows the four different outcomes: true positive, false positive, true negative, and false negative. The actual values form the columns, and the predicted values (labels) form the rows. The intersection of the rows and columns show one of the four outcomes. \n",
    "\n",
    "![confusion-matrix.png](images/confusion-matrix.png)"
   ]
  },
  {
   "cell_type": "markdown",
   "metadata": {},
   "source": [
    "What if we have more than two classes?\n",
    "We can still plot the confusion matrix, as shown in the following example based on Iris dataset.\n",
    "![cm_multiclass](https://scikit-learn.org/stable/_images/sphx_glr_plot_confusion_matrix_001.png)\n",
    "\n"
   ]
  },
  {
   "cell_type": "markdown",
   "metadata": {},
   "source": [
    "We can also still evaluate the **metrics per class**, in a OneClass-vs-Rest fashion. For instance:\n",
    "- $precision_{virginica}$: number of correctly predicted virginica records (9) out of all predicted verginica records (9+6+0=15), which amounts to 9/15=0.6\n",
    "- $recall_{virginica}$: number of correctly predicted virginica records (9) out of the number of actual viriginica records (9+0+0=9), which amounts to 9/9=1\n",
    "- $precision_{versicolor}$: number of correctly predicted versicolor records (10) out of all predicted versicolor records (10+0+0=10), which amounts to 10/10=1\n",
    "- ...\n",
    "\n",
    "and so on, for the other classes."
   ]
  },
  {
   "cell_type": "markdown",
   "metadata": {},
   "source": [
    "ROC (Receiver Operating Characteristic) curve is another useful tool to evaluate classifier output quality.\n",
    "ROC curves feature **true positive rate** on the Y axis, and **false positive rate** on the X axis.\n",
    "\n",
    "ROC curves are typically used in binary classification to study the output of a classifier. In order to extend ROC curve and ROC area to multi-label classification, it is necessary to binarize the output. "
   ]
  },
  {
   "cell_type": "code",
   "execution_count": 7,
   "metadata": {
    "collapsed": true
   },
   "outputs": [
    {
     "data": {
      "image/png": "[encoded data removed]",
      "text/plain": [
       "<Figure size 640x480 with 1 Axes>"
      ]
     },
     "metadata": {},
     "output_type": "display_data"
    }
   ],
   "source": [
    "import matplotlib.pyplot as plt\n",
    "from sklearn.datasets import make_classification\n",
    "from sklearn.metrics import RocCurveDisplay\n",
    "from sklearn.model_selection import train_test_split\n",
    "from sklearn.svm import SVC\n",
    "X_b, y_b = make_classification(random_state=2)\n",
    "\n",
    "plt.scatter(X_b[:, 0], X_b[:, 1], c=y_b, edgecolors=\"k\")\n",
    "\n",
    "X_b_train, X_b_test, y_b_train, y_b_test = train_test_split(X_b, y_b, random_state=0)\n",
    "clf = SVC(random_state=0,probability = True).fit(X_b_train, y_b_train)\n",
    "\n",
    "y_b_pred = clf.predict_proba(X_b_test) \n"
   ]
  },
  {
   "cell_type": "markdown",
   "metadata": {},
   "source": [
    "An actual curve (multiple points in the FPR-TPR space) can be obtained if we predict *probabilities*.\n",
    "\n",
    "If we predict *labels* directly, we simply obtain a single point in the FPR-TPR space.\n"
   ]
  },
  {
   "cell_type": "code",
   "execution_count": 8,
   "metadata": {
    "collapsed": true
   },
   "outputs": [
    {
     "data": {
      "text/plain": [
       "array([[0.3521471 , 0.6478529 ],\n",
       "       [0.78324698, 0.21675302],\n",
       "       [0.14000071, 0.85999929],\n",
       "       [0.16624429, 0.83375571],\n",
       "       [0.12557431, 0.87442569],\n",
       "       [0.96866367, 0.03133633],\n",
       "       [0.20721912, 0.79278088],\n",
       "       [0.09237574, 0.90762426],\n",
       "       [0.06247759, 0.93752241],\n",
       "       [0.03996521, 0.96003479],\n",
       "       [0.93876115, 0.06123885],\n",
       "       [0.99385488, 0.00614512],\n",
       "       [0.13862898, 0.86137102],\n",
       "       [0.05679315, 0.94320685],\n",
       "       [0.00695192, 0.99304808],\n",
       "       [0.01877134, 0.98122866],\n",
       "       [0.11295862, 0.88704138],\n",
       "       [0.33581262, 0.66418738],\n",
       "       [0.01518629, 0.98481371],\n",
       "       [0.93856993, 0.06143007],\n",
       "       [0.02198946, 0.97801054],\n",
       "       [0.93975413, 0.06024587],\n",
       "       [0.95452817, 0.04547183],\n",
       "       [0.91801943, 0.08198057],\n",
       "       [0.44779525, 0.55220475]])"
      ]
     },
     "execution_count": 8,
     "metadata": {},
     "output_type": "execute_result"
    }
   ],
   "source": [
    "y_b_pred"
   ]
  },
  {
   "cell_type": "code",
   "execution_count": 9,
   "metadata": {
    "collapsed": true
   },
   "outputs": [
    {
     "data": {
      "image/png": "[encoded data removed]",
      "text/plain": [
       "<Figure size 640x480 with 1 Axes>"
      ]
     },
     "metadata": {},
     "output_type": "display_data"
    }
   ],
   "source": [
    "RocCurveDisplay.from_predictions(y_b_test,y_b_pred[:,1]) # display from predictions, (but there is also the \"from_estimator\" method)\n",
    "plt.plot([0, 1], [0, 1], color=\"navy\", lw=2, linestyle=\"--\")\n",
    "plt.show()\n"
   ]
  },
  {
   "cell_type": "markdown",
   "metadata": {},
   "source": [
    "## Evaluation on Iris Dataset"
   ]
  },
  {
   "cell_type": "markdown",
   "metadata": {},
   "source": [
    "### Holdout evaluation"
   ]
  },
  {
   "cell_type": "code",
   "execution_count": 10,
   "metadata": {
    "collapsed": true
   },
   "outputs": [
    {
     "data": {
      "text/plain": [
       "0    50\n",
       "1    50\n",
       "2    50\n",
       "dtype: int64"
      ]
     },
     "execution_count": 10,
     "metadata": {},
     "output_type": "execute_result"
    }
   ],
   "source": [
    "pd.Series(y).value_counts()"
   ]
  },
  {
   "cell_type": "markdown",
   "metadata": {},
   "source": [
    "Split the dataset in training set and test set."
   ]
  },
  {
   "cell_type": "code",
   "execution_count": 11,
   "metadata": {
    "collapsed": true
   },
   "outputs": [],
   "source": [
    "from sklearn.model_selection import train_test_split\n",
    "train_test_split?"
   ]
  },
  {
   "cell_type": "code",
   "execution_count": 12,
   "metadata": {
    "collapsed": true
   },
   "outputs": [],
   "source": [
    "X_train, X_test, y_train, y_test = train_test_split(X, y, \n",
    "                                                    test_size=0.3, \n",
    "                                                    random_state=0)\n"
   ]
  },
  {
   "cell_type": "code",
   "execution_count": 13,
   "metadata": {
    "collapsed": true
   },
   "outputs": [
    {
     "data": {
      "text/plain": [
       "2    39\n",
       "0    34\n",
       "1    32\n",
       "dtype: int64"
      ]
     },
     "execution_count": 13,
     "metadata": {},
     "output_type": "execute_result"
    }
   ],
   "source": [
    "pd.Series(y_train).value_counts()"
   ]
  },
  {
   "cell_type": "code",
   "execution_count": 14,
   "metadata": {
    "collapsed": true
   },
   "outputs": [
    {
     "data": {
      "text/plain": [
       "1    18\n",
       "0    16\n",
       "2    11\n",
       "dtype: int64"
      ]
     },
     "execution_count": 14,
     "metadata": {},
     "output_type": "execute_result"
    }
   ],
   "source": [
    "pd.Series(y_test).value_counts()"
   ]
  },
  {
   "cell_type": "markdown",
   "metadata": {},
   "source": [
    "Train the classification model based on the training set and predict the labels for the instances in the test set."
   ]
  },
  {
   "cell_type": "code",
   "execution_count": 15,
   "metadata": {
    "collapsed": true
   },
   "outputs": [],
   "source": [
    "knn = KNeighborsClassifier(n_neighbors=5).fit(X_train,y_train)\n",
    "y_pred = knn.predict(X_test)"
   ]
  },
  {
   "cell_type": "markdown",
   "metadata": {},
   "source": [
    "Evaluate the performance of the model."
   ]
  },
  {
   "cell_type": "code",
   "execution_count": 16,
   "metadata": {
    "collapsed": true
   },
   "outputs": [
    {
     "name": "stdout",
     "output_type": "stream",
     "text": [
      "0.9777777777777777\n"
     ]
    }
   ],
   "source": [
    "from sklearn.metrics import accuracy_score, classification_report, ConfusionMatrixDisplay\n",
    "print(accuracy_score(y_test, y_pred))"
   ]
  },
  {
   "cell_type": "markdown",
   "metadata": {},
   "source": [
    "Sanity check: how is accuracy defined?"
   ]
  },
  {
   "cell_type": "code",
   "execution_count": 17,
   "metadata": {
    "collapsed": true
   },
   "outputs": [
    {
     "data": {
      "text/plain": [
       "0.9777777777777777"
      ]
     },
     "execution_count": 17,
     "metadata": {},
     "output_type": "execute_result"
    }
   ],
   "source": [
    "np.sum(y_test==y_pred)/ len(y_test)"
   ]
  },
  {
   "cell_type": "code",
   "execution_count": 18,
   "metadata": {
    "collapsed": true
   },
   "outputs": [
    {
     "data": {
      "image/png": "[encoded data removed]",
      "text/plain": [
       "<Figure size 640x480 with 2 Axes>"
      ]
     },
     "metadata": {},
     "output_type": "display_data"
    }
   ],
   "source": [
    "ConfusionMatrixDisplay.from_predictions(y_test, \n",
    "                                        y_pred,\n",
    "                                        display_labels = iris.target_names)\n",
    "plt.show()"
   ]
  },
  {
   "cell_type": "code",
   "execution_count": 19,
   "metadata": {
    "collapsed": true
   },
   "outputs": [
    {
     "name": "stdout",
     "output_type": "stream",
     "text": [
      "              precision    recall  f1-score   support\n",
      "\n",
      "      setosa       1.00      1.00      1.00        16\n",
      "  versicolor       1.00      0.94      0.97        18\n",
      "   virginica       0.92      1.00      0.96        11\n",
      "\n",
      "    accuracy                           0.98        45\n",
      "   macro avg       0.97      0.98      0.98        45\n",
      "weighted avg       0.98      0.98      0.98        45\n",
      "\n"
     ]
    }
   ],
   "source": [
    "print(classification_report(y_test,y_pred,target_names = iris.target_names))"
   ]
  },
  {
   "cell_type": "markdown",
   "metadata": {},
   "source": [
    "Optionally, you can get a dictionary from `classification_report`"
   ]
  },
  {
   "cell_type": "code",
   "execution_count": 20,
   "metadata": {
    "collapsed": true
   },
   "outputs": [
    {
     "data": {
      "text/plain": [
       "{'setosa': {'precision': 1.0, 'recall': 1.0, 'f1-score': 1.0, 'support': 16},\n",
       " 'versicolor': {'precision': 1.0,\n",
       "  'recall': 0.9444444444444444,\n",
       "  'f1-score': 0.9714285714285714,\n",
       "  'support': 18},\n",
       " 'virginica': {'precision': 0.9166666666666666,\n",
       "  'recall': 1.0,\n",
       "  'f1-score': 0.9565217391304348,\n",
       "  'support': 11},\n",
       " 'accuracy': 0.9777777777777777,\n",
       " 'macro avg': {'precision': 0.9722222222222222,\n",
       "  'recall': 0.9814814814814815,\n",
       "  'f1-score': 0.975983436853002,\n",
       "  'support': 45},\n",
       " 'weighted avg': {'precision': 0.9796296296296295,\n",
       "  'recall': 0.9777777777777777,\n",
       "  'f1-score': 0.9779434092477569,\n",
       "  'support': 45}}"
      ]
     },
     "execution_count": 20,
     "metadata": {},
     "output_type": "execute_result"
    }
   ],
   "source": [
    "classification_report(y_test,y_pred,target_names = iris.target_names,output_dict = True)"
   ]
  },
  {
   "cell_type": "markdown",
   "metadata": {},
   "source": [
    "Note on metrics averaging:\n",
    "- **macro**: Calculate metrics for each label, and find their unweighted mean. This does not take label imbalance into account.\n",
    "- **weighted**: Calculate metrics for each label, and find their average weighted by support (the number of true instances for each label). This alters 'macro' to account for label imbalance.\n",
    "- **micro**: Calculate metrics globally by counting the total true positives, false negatives and false positives.\n"
   ]
  },
  {
   "cell_type": "markdown",
   "metadata": {},
   "source": [
    "### Cross-validation"
   ]
  },
  {
   "cell_type": "code",
   "execution_count": 21,
   "metadata": {
    "collapsed": true
   },
   "outputs": [
    {
     "name": "stdout",
     "output_type": "stream",
     "text": [
      "\n",
      "-------------------------------------------fold 0\n",
      "\n",
      "TRAIN: (120,)\n",
      "[  0   1   2   3   5   6   7   9  10  11  12  14  15  16  17  18  19  21\n",
      "  22  23  25  26  27  29  30  32  34  35  38  39  40  41  43  44  47  48\n",
      "  49  50  51  52  53  54  55  56  57  58  60  61  62  64  65  66  67  68\n",
      "  69  70  71  73  74  75  76  77  78  79  80  81  82  83  84  85  86  89\n",
      "  91  92  93  94  95  96  97  98  99 100 101 102 103 105 106 107 108 109\n",
      " 110 111 113 114 115 118 119 120 122 123 124 125 126 128 129 130 131 134\n",
      " 136 137 139 140 142 143 144 145 146 147 148 149]\n",
      "TEST: (30,)\n",
      "[  4   8  13  20  24  28  31  33  36  37  42  45  46  59  63  72  87  88\n",
      "  90 104 112 116 117 121 127 132 133 135 138 141]\n",
      "TEST LABELS:\n",
      "[0 0 0 0 0 0 0 0 0 0 0 0 0 1 1 1 1 1 1 2 2 2 2 2 2 2 2 2 2 2]\n",
      "-------------------------------------------end fold 0\n",
      "\n",
      "-------------------------------------------fold 1\n",
      "\n",
      "TRAIN: (120,)\n",
      "[  1   2   3   4   6   7   8  10  11  12  13  14  15  17  18  20  21  22\n",
      "  24  25  26  27  28  30  31  32  33  34  36  37  39  40  41  42  43  44\n",
      "  45  46  47  48  49  50  51  52  54  55  56  57  58  59  61  63  64  66\n",
      "  67  68  69  70  71  72  73  74  75  76  77  78  80  81  83  84  85  87\n",
      "  88  90  92  94  95  96  97  98  99 100 102 103 104 105 106 107 108 109\n",
      " 111 112 113 116 117 118 120 121 122 123 124 125 126 127 128 129 132 133\n",
      " 134 135 137 138 139 140 141 144 146 147 148 149]\n",
      "TEST: (30,)\n",
      "[  0   5   9  16  19  23  29  35  38  53  60  62  65  79  82  86  89  91\n",
      "  93 101 110 114 115 119 130 131 136 142 143 145]\n",
      "TEST LABELS:\n",
      "[0 0 0 0 0 0 0 0 0 1 1 1 1 1 1 1 1 1 1 2 2 2 2 2 2 2 2 2 2 2]\n",
      "-------------------------------------------end fold 1\n",
      "\n",
      "-------------------------------------------fold 2\n",
      "\n",
      "TRAIN: (120,)\n",
      "[  0   2   3   4   5   7   8   9  10  13  15  16  17  18  19  20  22  23\n",
      "  24  27  28  29  30  31  32  33  34  35  36  37  38  39  40  42  45  46\n",
      "  47  48  49  52  53  55  57  58  59  60  61  62  63  64  65  66  67  68\n",
      "  69  72  73  75  76  77  78  79  82  83  84  85  86  87  88  89  90  91\n",
      "  92  93  94  96  97  98  99 101 102 104 105 106 107 108 109 110 111 112\n",
      " 113 114 115 116 117 119 120 121 123 125 126 127 130 131 132 133 134 135\n",
      " 136 137 138 139 140 141 142 143 144 145 147 148]\n",
      "TEST: (30,)\n",
      "[  1   6  11  12  14  21  25  26  41  43  44  50  51  54  56  70  71  74\n",
      "  80  81  95 100 103 118 122 124 128 129 146 149]\n",
      "TEST LABELS:\n",
      "[0 0 0 0 0 0 0 0 0 0 0 1 1 1 1 1 1 1 1 1 1 2 2 2 2 2 2 2 2 2]\n",
      "-------------------------------------------end fold 2\n",
      "\n",
      "-------------------------------------------fold 3\n",
      "\n",
      "TRAIN: (120,)\n",
      "[  0   1   2   4   5   6   8   9  11  12  13  14  16  17  19  20  21  23\n",
      "  24  25  26  28  29  31  32  33  35  36  37  38  39  41  42  43  44  45\n",
      "  46  47  49  50  51  53  54  55  56  57  59  60  62  63  65  66  67  68\n",
      "  70  71  72  73  74  78  79  80  81  82  83  84  86  87  88  89  90  91\n",
      "  93  95  96  98 100 101 103 104 106 109 110 111 112 113 114 115 116 117\n",
      " 118 119 120 121 122 123 124 125 126 127 128 129 130 131 132 133 135 136\n",
      " 137 138 140 141 142 143 144 145 146 147 148 149]\n",
      "TEST: (30,)\n",
      "[  3   7  10  15  18  22  27  30  34  40  48  52  58  61  64  69  75  76\n",
      "  77  85  92  94  97  99 102 105 107 108 134 139]\n",
      "TEST LABELS:\n",
      "[0 0 0 0 0 0 0 0 0 0 0 1 1 1 1 1 1 1 1 1 1 1 1 1 2 2 2 2 2 2]\n",
      "-------------------------------------------end fold 3\n",
      "\n",
      "-------------------------------------------fold 4\n",
      "\n",
      "TRAIN: (120,)\n",
      "[  0   1   3   4   5   6   7   8   9  10  11  12  13  14  15  16  18  19\n",
      "  20  21  22  23  24  25  26  27  28  29  30  31  33  34  35  36  37  38\n",
      "  40  41  42  43  44  45  46  48  50  51  52  53  54  56  58  59  60  61\n",
      "  62  63  64  65  69  70  71  72  74  75  76  77  79  80  81  82  85  86\n",
      "  87  88  89  90  91  92  93  94  95  97  99 100 101 102 103 104 105 107\n",
      " 108 110 112 114 115 116 117 118 119 121 122 124 127 128 129 130 131 132\n",
      " 133 134 135 136 138 139 141 142 143 145 146 149]\n",
      "TEST: (30,)\n",
      "[  2  17  32  39  47  49  55  57  66  67  68  73  78  83  84  96  98 106\n",
      " 109 111 113 120 123 125 126 137 140 144 147 148]\n",
      "TEST LABELS:\n",
      "[0 0 0 0 0 0 1 1 1 1 1 1 1 1 1 1 1 2 2 2 2 2 2 2 2 2 2 2 2 2]\n",
      "-------------------------------------------end fold 4\n"
     ]
    }
   ],
   "source": [
    "from sklearn.model_selection import KFold\n",
    "kf = KFold(n_splits = 5,\n",
    "           shuffle = True,\n",
    "           random_state = 123\n",
    "          )\n",
    "\n",
    "for enu,(train_index, test_index) in enumerate(kf.split(iris.data, iris.target)):\n",
    "    print()\n",
    "    print(f'-------------------------------------------fold {enu}')\n",
    "    print(f'')\n",
    "    print(\"TRAIN:\",train_index.shape)\n",
    "    print(train_index)\n",
    "    print(\"TEST:\", test_index.shape)\n",
    "    print(test_index)\n",
    "    print(\"TEST LABELS:\")\n",
    "    print(iris.target[test_index])\n",
    "    # train model on the current training set\n",
    "    # test model on the current test set\n",
    "    \n",
    "    print(f'-------------------------------------------end fold {enu}')\n",
    "\n",
    "# compute average metrics"
   ]
  },
  {
   "cell_type": "markdown",
   "metadata": {},
   "source": [
    "Is this behaviour correct?"
   ]
  },
  {
   "cell_type": "code",
   "execution_count": 22,
   "metadata": {
    "collapsed": true
   },
   "outputs": [
    {
     "data": {
      "text/plain": [
       "array([0, 0, 0, 0, 0, 0, 0, 0, 0, 0, 0, 0, 0, 0, 0, 0, 0, 0, 0, 0, 0, 0,\n",
       "       0, 0, 0, 0, 0, 0, 0, 0, 0, 0, 0, 0, 0, 0, 0, 0, 0, 0, 0, 0, 0, 0,\n",
       "       0, 0, 0, 0, 0, 0, 1, 1, 1, 1, 1, 1, 1, 1, 1, 1, 1, 1, 1, 1, 1, 1,\n",
       "       1, 1, 1, 1, 1, 1, 1, 1, 1, 1, 1, 1, 1, 1, 1, 1, 1, 1, 1, 1, 1, 1,\n",
       "       1, 1, 1, 1, 1, 1, 1, 1, 1, 1, 1, 1, 2, 2, 2, 2, 2, 2, 2, 2, 2, 2,\n",
       "       2, 2, 2, 2, 2, 2, 2, 2, 2, 2, 2, 2, 2, 2, 2, 2, 2, 2, 2, 2, 2, 2,\n",
       "       2, 2, 2, 2, 2, 2, 2, 2, 2, 2, 2, 2, 2, 2, 2, 2, 2, 2])"
      ]
     },
     "execution_count": 22,
     "metadata": {},
     "output_type": "execute_result"
    }
   ],
   "source": [
    "y"
   ]
  },
  {
   "cell_type": "markdown",
   "metadata": {},
   "source": [
    "Shuffling may be essential to get a meaningful cross-validation result if data ordering is not arbitrary (i.e., same class labels are contiguous).\n",
    "By default no shuffling occurs, including for the (stratified) K fold cross-validation."
   ]
  },
  {
   "cell_type": "markdown",
   "metadata": {},
   "source": [
    "Actually, we do not need to implement the loop above. Indeed, `sklearn` offers specific methods for evaluating models performance in cross-validation"
   ]
  },
  {
   "cell_type": "code",
   "execution_count": 23,
   "metadata": {
    "collapsed": true
   },
   "outputs": [
    {
     "data": {
      "text/plain": [
       "array([0.96666667, 0.96666667, 0.96666667, 0.96666667, 0.93333333])"
      ]
     },
     "execution_count": 23,
     "metadata": {},
     "output_type": "execute_result"
    }
   ],
   "source": [
    "from sklearn.model_selection import cross_val_score\n",
    "cross_val_score(KNeighborsClassifier(), X, y, cv = KFold(5, shuffle = True, random_state = 123)) \n",
    "# note that the default scorer for KNeighborsClassifier is the accuracy score"
   ]
  },
  {
   "cell_type": "markdown",
   "metadata": {},
   "source": [
    "The `cross_validate` function differs from `cross_val_score` in two ways:\n",
    "- It allows specifying multiple metrics for evaluation.\n",
    "- It returns a dict containing fit-times, score-times (and optionally training scores as well as fitted estimators) in addition to the test score."
   ]
  },
  {
   "cell_type": "code",
   "execution_count": 24,
   "metadata": {
    "collapsed": true
   },
   "outputs": [
    {
     "data": {
      "text/plain": [
       "{'fit_time': array([0.00100088, 0.00100183, 0.00100017, 0.00146794, 0.00100088]),\n",
       " 'score_time': array([0.00399923, 0.00472784, 0.00472665, 0.00448585, 0.00100017]),\n",
       " 'estimator': [KNeighborsClassifier(),\n",
       "  KNeighborsClassifier(),\n",
       "  KNeighborsClassifier(),\n",
       "  KNeighborsClassifier(),\n",
       "  KNeighborsClassifier()],\n",
       " 'test_fscore': array([0.95520422, 0.96825397, 0.96491228, 0.96102564, 0.94405594]),\n",
       " 'test_accuracy': array([0.96666667, 0.96666667, 0.96666667, 0.96666667, 0.93333333])}"
      ]
     },
     "execution_count": 24,
     "metadata": {},
     "output_type": "execute_result"
    }
   ],
   "source": [
    "from sklearn.model_selection import cross_validate\n",
    "from sklearn.metrics import make_scorer, f1_score, accuracy_score\n",
    "results = cross_validate(KNeighborsClassifier(), \n",
    "                         iris.data,\n",
    "                         iris.target,\n",
    "                         scoring = {\n",
    "                             'fscore': make_scorer(f1_score, average = 'macro'),\n",
    "                             'accuracy': make_scorer(accuracy_score)},\n",
    "                         return_estimator = True,\n",
    "                         cv = KFold(5, shuffle = True, random_state = 123),\n",
    "                         n_jobs = -1) # Number of jobs to run in parallel. \n",
    "                                      # Training the estimator and computing the score are parallelized over the cross-validation splits.\n",
    "results"
   ]
  },
  {
   "cell_type": "markdown",
   "metadata": {},
   "source": [
    "How to obtain the ***average* classification report** over cross-validation?"
   ]
  },
  {
   "cell_type": "code",
   "execution_count": 25,
   "metadata": {
    "collapsed": true
   },
   "outputs": [
    {
     "name": "stdout",
     "output_type": "stream",
     "text": [
      "FOLD 1\n",
      "              precision    recall  f1-score   support\n",
      "\n",
      "           0       1.00      1.00      1.00        10\n",
      "           1       1.00      0.90      0.95        10\n",
      "           2       0.91      1.00      0.95        10\n",
      "\n",
      "    accuracy                           0.97        30\n",
      "   macro avg       0.97      0.97      0.97        30\n",
      "weighted avg       0.97      0.97      0.97        30\n",
      "\n"
     ]
    },
    {
     "data": {
      "text/html": [
       "<div>\n",
       "<style scoped>\n",
       "    .dataframe tbody tr th:only-of-type {\n",
       "        vertical-align: middle;\n",
       "    }\n",
       "\n",
       "    .dataframe tbody tr th {\n",
       "        vertical-align: top;\n",
       "    }\n",
       "\n",
       "    .dataframe thead th {\n",
       "        text-align: right;\n",
       "    }\n",
       "</style>\n",
       "<table border=\"1\" class=\"dataframe\">\n",
       "  <thead>\n",
       "    <tr style=\"text-align: right;\">\n",
       "      <th></th>\n",
       "      <th>0</th>\n",
       "      <th>1</th>\n",
       "      <th>2</th>\n",
       "      <th>macro avg</th>\n",
       "      <th>weighted avg</th>\n",
       "    </tr>\n",
       "  </thead>\n",
       "  <tbody>\n",
       "    <tr>\n",
       "      <th>precision</th>\n",
       "      <td>1.0</td>\n",
       "      <td>1.000000</td>\n",
       "      <td>0.909091</td>\n",
       "      <td>0.969697</td>\n",
       "      <td>0.969697</td>\n",
       "    </tr>\n",
       "    <tr>\n",
       "      <th>recall</th>\n",
       "      <td>1.0</td>\n",
       "      <td>0.900000</td>\n",
       "      <td>1.000000</td>\n",
       "      <td>0.966667</td>\n",
       "      <td>0.966667</td>\n",
       "    </tr>\n",
       "    <tr>\n",
       "      <th>f1-score</th>\n",
       "      <td>1.0</td>\n",
       "      <td>0.947368</td>\n",
       "      <td>0.952381</td>\n",
       "      <td>0.966583</td>\n",
       "      <td>0.966583</td>\n",
       "    </tr>\n",
       "    <tr>\n",
       "      <th>support</th>\n",
       "      <td>10.0</td>\n",
       "      <td>10.000000</td>\n",
       "      <td>10.000000</td>\n",
       "      <td>30.000000</td>\n",
       "      <td>30.000000</td>\n",
       "    </tr>\n",
       "  </tbody>\n",
       "</table>\n",
       "</div>"
      ],
      "text/plain": [
       "              0          1          2  macro avg  weighted avg\n",
       "precision   1.0   1.000000   0.909091   0.969697      0.969697\n",
       "recall      1.0   0.900000   1.000000   0.966667      0.966667\n",
       "f1-score    1.0   0.947368   0.952381   0.966583      0.966583\n",
       "support    10.0  10.000000  10.000000  30.000000     30.000000"
      ]
     },
     "metadata": {},
     "output_type": "display_data"
    },
    {
     "name": "stdout",
     "output_type": "stream",
     "text": [
      "FOLD 2\n",
      "              precision    recall  f1-score   support\n",
      "\n",
      "           0       1.00      1.00      1.00        10\n",
      "           1       1.00      1.00      1.00        10\n",
      "           2       1.00      1.00      1.00        10\n",
      "\n",
      "    accuracy                           1.00        30\n",
      "   macro avg       1.00      1.00      1.00        30\n",
      "weighted avg       1.00      1.00      1.00        30\n",
      "\n"
     ]
    },
    {
     "data": {
      "text/html": [
       "<div>\n",
       "<style scoped>\n",
       "    .dataframe tbody tr th:only-of-type {\n",
       "        vertical-align: middle;\n",
       "    }\n",
       "\n",
       "    .dataframe tbody tr th {\n",
       "        vertical-align: top;\n",
       "    }\n",
       "\n",
       "    .dataframe thead th {\n",
       "        text-align: right;\n",
       "    }\n",
       "</style>\n",
       "<table border=\"1\" class=\"dataframe\">\n",
       "  <thead>\n",
       "    <tr style=\"text-align: right;\">\n",
       "      <th></th>\n",
       "      <th>0</th>\n",
       "      <th>1</th>\n",
       "      <th>2</th>\n",
       "      <th>macro avg</th>\n",
       "      <th>weighted avg</th>\n",
       "    </tr>\n",
       "  </thead>\n",
       "  <tbody>\n",
       "    <tr>\n",
       "      <th>precision</th>\n",
       "      <td>1.0</td>\n",
       "      <td>1.0</td>\n",
       "      <td>1.0</td>\n",
       "      <td>1.0</td>\n",
       "      <td>1.0</td>\n",
       "    </tr>\n",
       "    <tr>\n",
       "      <th>recall</th>\n",
       "      <td>1.0</td>\n",
       "      <td>1.0</td>\n",
       "      <td>1.0</td>\n",
       "      <td>1.0</td>\n",
       "      <td>1.0</td>\n",
       "    </tr>\n",
       "    <tr>\n",
       "      <th>f1-score</th>\n",
       "      <td>1.0</td>\n",
       "      <td>1.0</td>\n",
       "      <td>1.0</td>\n",
       "      <td>1.0</td>\n",
       "      <td>1.0</td>\n",
       "    </tr>\n",
       "    <tr>\n",
       "      <th>support</th>\n",
       "      <td>10.0</td>\n",
       "      <td>10.0</td>\n",
       "      <td>10.0</td>\n",
       "      <td>30.0</td>\n",
       "      <td>30.0</td>\n",
       "    </tr>\n",
       "  </tbody>\n",
       "</table>\n",
       "</div>"
      ],
      "text/plain": [
       "              0     1     2  macro avg  weighted avg\n",
       "precision   1.0   1.0   1.0        1.0           1.0\n",
       "recall      1.0   1.0   1.0        1.0           1.0\n",
       "f1-score    1.0   1.0   1.0        1.0           1.0\n",
       "support    10.0  10.0  10.0       30.0          30.0"
      ]
     },
     "metadata": {},
     "output_type": "display_data"
    },
    {
     "name": "stdout",
     "output_type": "stream",
     "text": [
      "FOLD 3\n",
      "              precision    recall  f1-score   support\n",
      "\n",
      "           0       1.00      1.00      1.00        10\n",
      "           1       1.00      0.90      0.95        10\n",
      "           2       0.91      1.00      0.95        10\n",
      "\n",
      "    accuracy                           0.97        30\n",
      "   macro avg       0.97      0.97      0.97        30\n",
      "weighted avg       0.97      0.97      0.97        30\n",
      "\n"
     ]
    },
    {
     "data": {
      "text/html": [
       "<div>\n",
       "<style scoped>\n",
       "    .dataframe tbody tr th:only-of-type {\n",
       "        vertical-align: middle;\n",
       "    }\n",
       "\n",
       "    .dataframe tbody tr th {\n",
       "        vertical-align: top;\n",
       "    }\n",
       "\n",
       "    .dataframe thead th {\n",
       "        text-align: right;\n",
       "    }\n",
       "</style>\n",
       "<table border=\"1\" class=\"dataframe\">\n",
       "  <thead>\n",
       "    <tr style=\"text-align: right;\">\n",
       "      <th></th>\n",
       "      <th>0</th>\n",
       "      <th>1</th>\n",
       "      <th>2</th>\n",
       "      <th>macro avg</th>\n",
       "      <th>weighted avg</th>\n",
       "    </tr>\n",
       "  </thead>\n",
       "  <tbody>\n",
       "    <tr>\n",
       "      <th>precision</th>\n",
       "      <td>1.0</td>\n",
       "      <td>1.000000</td>\n",
       "      <td>0.909091</td>\n",
       "      <td>0.969697</td>\n",
       "      <td>0.969697</td>\n",
       "    </tr>\n",
       "    <tr>\n",
       "      <th>recall</th>\n",
       "      <td>1.0</td>\n",
       "      <td>0.900000</td>\n",
       "      <td>1.000000</td>\n",
       "      <td>0.966667</td>\n",
       "      <td>0.966667</td>\n",
       "    </tr>\n",
       "    <tr>\n",
       "      <th>f1-score</th>\n",
       "      <td>1.0</td>\n",
       "      <td>0.947368</td>\n",
       "      <td>0.952381</td>\n",
       "      <td>0.966583</td>\n",
       "      <td>0.966583</td>\n",
       "    </tr>\n",
       "    <tr>\n",
       "      <th>support</th>\n",
       "      <td>10.0</td>\n",
       "      <td>10.000000</td>\n",
       "      <td>10.000000</td>\n",
       "      <td>30.000000</td>\n",
       "      <td>30.000000</td>\n",
       "    </tr>\n",
       "  </tbody>\n",
       "</table>\n",
       "</div>"
      ],
      "text/plain": [
       "              0          1          2  macro avg  weighted avg\n",
       "precision   1.0   1.000000   0.909091   0.969697      0.969697\n",
       "recall      1.0   0.900000   1.000000   0.966667      0.966667\n",
       "f1-score    1.0   0.947368   0.952381   0.966583      0.966583\n",
       "support    10.0  10.000000  10.000000  30.000000     30.000000"
      ]
     },
     "metadata": {},
     "output_type": "display_data"
    },
    {
     "name": "stdout",
     "output_type": "stream",
     "text": [
      "FOLD 4\n",
      "              precision    recall  f1-score   support\n",
      "\n",
      "           0       1.00      1.00      1.00        10\n",
      "           1       1.00      1.00      1.00        10\n",
      "           2       1.00      1.00      1.00        10\n",
      "\n",
      "    accuracy                           1.00        30\n",
      "   macro avg       1.00      1.00      1.00        30\n",
      "weighted avg       1.00      1.00      1.00        30\n",
      "\n"
     ]
    },
    {
     "data": {
      "text/html": [
       "<div>\n",
       "<style scoped>\n",
       "    .dataframe tbody tr th:only-of-type {\n",
       "        vertical-align: middle;\n",
       "    }\n",
       "\n",
       "    .dataframe tbody tr th {\n",
       "        vertical-align: top;\n",
       "    }\n",
       "\n",
       "    .dataframe thead th {\n",
       "        text-align: right;\n",
       "    }\n",
       "</style>\n",
       "<table border=\"1\" class=\"dataframe\">\n",
       "  <thead>\n",
       "    <tr style=\"text-align: right;\">\n",
       "      <th></th>\n",
       "      <th>0</th>\n",
       "      <th>1</th>\n",
       "      <th>2</th>\n",
       "      <th>macro avg</th>\n",
       "      <th>weighted avg</th>\n",
       "    </tr>\n",
       "  </thead>\n",
       "  <tbody>\n",
       "    <tr>\n",
       "      <th>precision</th>\n",
       "      <td>1.0</td>\n",
       "      <td>1.0</td>\n",
       "      <td>1.0</td>\n",
       "      <td>1.0</td>\n",
       "      <td>1.0</td>\n",
       "    </tr>\n",
       "    <tr>\n",
       "      <th>recall</th>\n",
       "      <td>1.0</td>\n",
       "      <td>1.0</td>\n",
       "      <td>1.0</td>\n",
       "      <td>1.0</td>\n",
       "      <td>1.0</td>\n",
       "    </tr>\n",
       "    <tr>\n",
       "      <th>f1-score</th>\n",
       "      <td>1.0</td>\n",
       "      <td>1.0</td>\n",
       "      <td>1.0</td>\n",
       "      <td>1.0</td>\n",
       "      <td>1.0</td>\n",
       "    </tr>\n",
       "    <tr>\n",
       "      <th>support</th>\n",
       "      <td>10.0</td>\n",
       "      <td>10.0</td>\n",
       "      <td>10.0</td>\n",
       "      <td>30.0</td>\n",
       "      <td>30.0</td>\n",
       "    </tr>\n",
       "  </tbody>\n",
       "</table>\n",
       "</div>"
      ],
      "text/plain": [
       "              0     1     2  macro avg  weighted avg\n",
       "precision   1.0   1.0   1.0        1.0           1.0\n",
       "recall      1.0   1.0   1.0        1.0           1.0\n",
       "f1-score    1.0   1.0   1.0        1.0           1.0\n",
       "support    10.0  10.0  10.0       30.0          30.0"
      ]
     },
     "metadata": {},
     "output_type": "display_data"
    },
    {
     "name": "stdout",
     "output_type": "stream",
     "text": [
      "FOLD 5\n",
      "              precision    recall  f1-score   support\n",
      "\n",
      "           0       1.00      1.00      1.00        10\n",
      "           1       0.90      0.90      0.90        10\n",
      "           2       0.90      0.90      0.90        10\n",
      "\n",
      "    accuracy                           0.93        30\n",
      "   macro avg       0.93      0.93      0.93        30\n",
      "weighted avg       0.93      0.93      0.93        30\n",
      "\n"
     ]
    },
    {
     "data": {
      "text/html": [
       "<div>\n",
       "<style scoped>\n",
       "    .dataframe tbody tr th:only-of-type {\n",
       "        vertical-align: middle;\n",
       "    }\n",
       "\n",
       "    .dataframe tbody tr th {\n",
       "        vertical-align: top;\n",
       "    }\n",
       "\n",
       "    .dataframe thead th {\n",
       "        text-align: right;\n",
       "    }\n",
       "</style>\n",
       "<table border=\"1\" class=\"dataframe\">\n",
       "  <thead>\n",
       "    <tr style=\"text-align: right;\">\n",
       "      <th></th>\n",
       "      <th>0</th>\n",
       "      <th>1</th>\n",
       "      <th>2</th>\n",
       "      <th>macro avg</th>\n",
       "      <th>weighted avg</th>\n",
       "    </tr>\n",
       "  </thead>\n",
       "  <tbody>\n",
       "    <tr>\n",
       "      <th>precision</th>\n",
       "      <td>1.0</td>\n",
       "      <td>0.9</td>\n",
       "      <td>0.9</td>\n",
       "      <td>0.933333</td>\n",
       "      <td>0.933333</td>\n",
       "    </tr>\n",
       "    <tr>\n",
       "      <th>recall</th>\n",
       "      <td>1.0</td>\n",
       "      <td>0.9</td>\n",
       "      <td>0.9</td>\n",
       "      <td>0.933333</td>\n",
       "      <td>0.933333</td>\n",
       "    </tr>\n",
       "    <tr>\n",
       "      <th>f1-score</th>\n",
       "      <td>1.0</td>\n",
       "      <td>0.9</td>\n",
       "      <td>0.9</td>\n",
       "      <td>0.933333</td>\n",
       "      <td>0.933333</td>\n",
       "    </tr>\n",
       "    <tr>\n",
       "      <th>support</th>\n",
       "      <td>10.0</td>\n",
       "      <td>10.0</td>\n",
       "      <td>10.0</td>\n",
       "      <td>30.000000</td>\n",
       "      <td>30.000000</td>\n",
       "    </tr>\n",
       "  </tbody>\n",
       "</table>\n",
       "</div>"
      ],
      "text/plain": [
       "              0     1     2  macro avg  weighted avg\n",
       "precision   1.0   0.9   0.9   0.933333      0.933333\n",
       "recall      1.0   0.9   0.9   0.933333      0.933333\n",
       "f1-score    1.0   0.9   0.9   0.933333      0.933333\n",
       "support    10.0  10.0  10.0  30.000000     30.000000"
      ]
     },
     "metadata": {},
     "output_type": "display_data"
    }
   ],
   "source": [
    "from sklearn.model_selection import StratifiedKFold\n",
    "skf = StratifiedKFold(n_splits=5, shuffle = True, random_state = 123)\n",
    "\n",
    "list_df = []\n",
    "list_accuracy = []\n",
    "\n",
    "k = 1\n",
    "for train, val in skf.split(iris.data, iris.target):\n",
    "    print(f'FOLD {k}')\n",
    "    # fit and predict using classifier\n",
    "    X_tr = iris.data[train]\n",
    "    y_tr = iris.target[train]\n",
    "    X_val = iris.data[val]\n",
    "    y_val = iris.target[val]\n",
    "    clf = KNeighborsClassifier()\n",
    "    clf.fit(X_tr,y_tr)\n",
    "    y_pred = clf.predict(X_val)\n",
    "    # compute classification report\n",
    "    cr = classification_report(y_val,y_pred,output_dict = True)\n",
    "    print(classification_report(y_val,y_pred))\n",
    "    # store accuracy\n",
    "    list_accuracy.append(cr['accuracy'])\n",
    "    # store per-class metrics as a dataframe\n",
    "    df = pd.DataFrame({k:v for k,v in cr.items() if k!='accuracy'})\n",
    "    display(df)\n",
    "    list_df.append(df)\n",
    "    k+=1\n",
    "    \n",
    "\n",
    "# compute average per-class metrics    \n",
    "df_concat = pd.concat(list_df)\n",
    "grouped_by_row_index = df_concat.groupby(df_concat.index)\n",
    "df_avg = grouped_by_row_index.mean()\n",
    "\n",
    "# compute average accuracy\n",
    "accuracy_avg = np.mean(list_accuracy)"
   ]
  },
  {
   "cell_type": "code",
   "execution_count": 26,
   "metadata": {
    "collapsed": true
   },
   "outputs": [
    {
     "data": {
      "text/plain": [
       "0.9733333333333334"
      ]
     },
     "execution_count": 26,
     "metadata": {},
     "output_type": "execute_result"
    }
   ],
   "source": [
    "accuracy_avg"
   ]
  },
  {
   "cell_type": "code",
   "execution_count": 27,
   "metadata": {
    "collapsed": true
   },
   "outputs": [
    {
     "data": {
      "text/html": [
       "<div>\n",
       "<style scoped>\n",
       "    .dataframe tbody tr th:only-of-type {\n",
       "        vertical-align: middle;\n",
       "    }\n",
       "\n",
       "    .dataframe tbody tr th {\n",
       "        vertical-align: top;\n",
       "    }\n",
       "\n",
       "    .dataframe thead th {\n",
       "        text-align: right;\n",
       "    }\n",
       "</style>\n",
       "<table border=\"1\" class=\"dataframe\">\n",
       "  <thead>\n",
       "    <tr style=\"text-align: right;\">\n",
       "      <th></th>\n",
       "      <th>0</th>\n",
       "      <th>1</th>\n",
       "      <th>2</th>\n",
       "      <th>macro avg</th>\n",
       "      <th>weighted avg</th>\n",
       "    </tr>\n",
       "  </thead>\n",
       "  <tbody>\n",
       "    <tr>\n",
       "      <th>f1-score</th>\n",
       "      <td>1.0</td>\n",
       "      <td>0.958947</td>\n",
       "      <td>0.960952</td>\n",
       "      <td>0.973300</td>\n",
       "      <td>0.973300</td>\n",
       "    </tr>\n",
       "    <tr>\n",
       "      <th>precision</th>\n",
       "      <td>1.0</td>\n",
       "      <td>0.980000</td>\n",
       "      <td>0.943636</td>\n",
       "      <td>0.974545</td>\n",
       "      <td>0.974545</td>\n",
       "    </tr>\n",
       "    <tr>\n",
       "      <th>recall</th>\n",
       "      <td>1.0</td>\n",
       "      <td>0.940000</td>\n",
       "      <td>0.980000</td>\n",
       "      <td>0.973333</td>\n",
       "      <td>0.973333</td>\n",
       "    </tr>\n",
       "    <tr>\n",
       "      <th>support</th>\n",
       "      <td>10.0</td>\n",
       "      <td>10.000000</td>\n",
       "      <td>10.000000</td>\n",
       "      <td>30.000000</td>\n",
       "      <td>30.000000</td>\n",
       "    </tr>\n",
       "  </tbody>\n",
       "</table>\n",
       "</div>"
      ],
      "text/plain": [
       "              0          1          2  macro avg  weighted avg\n",
       "f1-score    1.0   0.958947   0.960952   0.973300      0.973300\n",
       "precision   1.0   0.980000   0.943636   0.974545      0.974545\n",
       "recall      1.0   0.940000   0.980000   0.973333      0.973333\n",
       "support    10.0  10.000000  10.000000  30.000000     30.000000"
      ]
     },
     "execution_count": 27,
     "metadata": {},
     "output_type": "execute_result"
    }
   ],
   "source": [
    "df_avg"
   ]
  },
  {
   "cell_type": "markdown",
   "metadata": {},
   "source": [
    "## Feature Selection\n",
    "Feature selection/ dimensionality reduction can be used either to improve estimators' accuracy scores or to boost their performance on very high-dimensional datasets.\n",
    "\n"
   ]
  },
  {
   "cell_type": "markdown",
   "metadata": {},
   "source": [
    "### A baseline: Variance threshold\n",
    "\n"
   ]
  },
  {
   "cell_type": "markdown",
   "metadata": {},
   "source": [
    "Removes all features whose variance doesn’t meet some threshold. "
   ]
  },
  {
   "cell_type": "code",
   "execution_count": 28,
   "metadata": {
    "collapsed": true
   },
   "outputs": [
    {
     "data": {
      "text/plain": [
       "array([[5. , 2. , 3.5, 1. ],\n",
       "       [6.5, 3. , 5.5, 1.8],\n",
       "       [6.7, 3.3, 5.7, 2.5],\n",
       "       [6. , 2.2, 5. , 1.5],\n",
       "       [6.7, 2.5, 5.8, 1.8],\n",
       "       [5.6, 2.5, 3.9, 1.1],\n",
       "       [7.7, 3. , 6.1, 2.3],\n",
       "       [6.3, 3.3, 4.7, 1.6],\n",
       "       [5.5, 2.4, 3.8, 1.1],\n",
       "       [6.3, 2.7, 4.9, 1.8],\n",
       "       [6.3, 2.8, 5.1, 1.5],\n",
       "       [4.9, 2.5, 4.5, 1.7],\n",
       "       [6.3, 2.5, 5. , 1.9],\n",
       "       [7. , 3.2, 4.7, 1.4],\n",
       "       [6.5, 3. , 5.2, 2. ],\n",
       "       [6. , 3.4, 4.5, 1.6],\n",
       "       [4.8, 3.1, 1.6, 0.2],\n",
       "       [5.8, 2.7, 5.1, 1.9],\n",
       "       [5.6, 2.7, 4.2, 1.3],\n",
       "       [5.6, 2.9, 3.6, 1.3],\n",
       "       [5.5, 2.5, 4. , 1.3],\n",
       "       [6.1, 3. , 4.6, 1.4],\n",
       "       [7.2, 3.2, 6. , 1.8],\n",
       "       [5.3, 3.7, 1.5, 0.2],\n",
       "       [4.3, 3. , 1.1, 0.1],\n",
       "       [6.4, 2.7, 5.3, 1.9],\n",
       "       [5.7, 3. , 4.2, 1.2],\n",
       "       [5.4, 3.4, 1.7, 0.2],\n",
       "       [5.7, 4.4, 1.5, 0.4],\n",
       "       [6.9, 3.1, 4.9, 1.5],\n",
       "       [4.6, 3.1, 1.5, 0.2],\n",
       "       [5.9, 3. , 5.1, 1.8],\n",
       "       [5.1, 2.5, 3. , 1.1],\n",
       "       [4.6, 3.4, 1.4, 0.3],\n",
       "       [6.2, 2.2, 4.5, 1.5],\n",
       "       [7.2, 3.6, 6.1, 2.5],\n",
       "       [5.7, 2.9, 4.2, 1.3],\n",
       "       [4.8, 3. , 1.4, 0.1],\n",
       "       [7.1, 3. , 5.9, 2.1],\n",
       "       [6.9, 3.2, 5.7, 2.3],\n",
       "       [6.5, 3. , 5.8, 2.2],\n",
       "       [6.4, 2.8, 5.6, 2.1],\n",
       "       [5.1, 3.8, 1.6, 0.2],\n",
       "       [4.8, 3.4, 1.6, 0.2],\n",
       "       [6.5, 3.2, 5.1, 2. ],\n",
       "       [6.7, 3.3, 5.7, 2.1],\n",
       "       [4.5, 2.3, 1.3, 0.3],\n",
       "       [6.2, 3.4, 5.4, 2.3],\n",
       "       [4.9, 3. , 1.4, 0.2],\n",
       "       [5.7, 2.5, 5. , 2. ],\n",
       "       [6.9, 3.1, 5.4, 2.1],\n",
       "       [4.4, 3.2, 1.3, 0.2],\n",
       "       [5. , 3.6, 1.4, 0.2],\n",
       "       [7.2, 3. , 5.8, 1.6],\n",
       "       [5.1, 3.5, 1.4, 0.3],\n",
       "       [4.4, 3. , 1.3, 0.2],\n",
       "       [5.4, 3.9, 1.7, 0.4],\n",
       "       [5.5, 2.3, 4. , 1.3],\n",
       "       [6.8, 3.2, 5.9, 2.3],\n",
       "       [7.6, 3. , 6.6, 2.1],\n",
       "       [5.1, 3.5, 1.4, 0.2],\n",
       "       [4.9, 3.1, 1.5, 0.2],\n",
       "       [5.2, 3.4, 1.4, 0.2],\n",
       "       [5.7, 2.8, 4.5, 1.3],\n",
       "       [6.6, 3. , 4.4, 1.4],\n",
       "       [5. , 3.2, 1.2, 0.2],\n",
       "       [5.1, 3.3, 1.7, 0.5],\n",
       "       [6.4, 2.9, 4.3, 1.3],\n",
       "       [5.4, 3.4, 1.5, 0.4],\n",
       "       [7.7, 2.6, 6.9, 2.3],\n",
       "       [4.9, 2.4, 3.3, 1. ],\n",
       "       [7.9, 3.8, 6.4, 2. ],\n",
       "       [6.7, 3.1, 4.4, 1.4],\n",
       "       [5.2, 4.1, 1.5, 0.1],\n",
       "       [6. , 3. , 4.8, 1.8],\n",
       "       [5.8, 4. , 1.2, 0.2],\n",
       "       [7.7, 2.8, 6.7, 2. ],\n",
       "       [5.1, 3.8, 1.5, 0.3],\n",
       "       [4.7, 3.2, 1.6, 0.2],\n",
       "       [7.4, 2.8, 6.1, 1.9],\n",
       "       [5. , 3.3, 1.4, 0.2],\n",
       "       [6.3, 3.4, 5.6, 2.4],\n",
       "       [5.7, 2.8, 4.1, 1.3],\n",
       "       [5.8, 2.7, 3.9, 1.2],\n",
       "       [5.7, 2.6, 3.5, 1. ],\n",
       "       [6.4, 3.2, 5.3, 2.3],\n",
       "       [6.7, 3. , 5.2, 2.3],\n",
       "       [6.3, 2.5, 4.9, 1.5],\n",
       "       [6.7, 3. , 5. , 1.7],\n",
       "       [5. , 3. , 1.6, 0.2],\n",
       "       [5.5, 2.4, 3.7, 1. ],\n",
       "       [6.7, 3.1, 5.6, 2.4],\n",
       "       [5.8, 2.7, 5.1, 1.9],\n",
       "       [5.1, 3.4, 1.5, 0.2],\n",
       "       [6.6, 2.9, 4.6, 1.3],\n",
       "       [5.6, 3. , 4.1, 1.3],\n",
       "       [5.9, 3.2, 4.8, 1.8],\n",
       "       [6.3, 2.3, 4.4, 1.3],\n",
       "       [5.5, 3.5, 1.3, 0.2],\n",
       "       [5.1, 3.7, 1.5, 0.4],\n",
       "       [4.9, 3.1, 1.5, 0.1],\n",
       "       [6.3, 2.9, 5.6, 1.8],\n",
       "       [5.8, 2.7, 4.1, 1. ],\n",
       "       [7.7, 3.8, 6.7, 2.2],\n",
       "       [4.6, 3.2, 1.4, 0.2]])"
      ]
     },
     "execution_count": 28,
     "metadata": {},
     "output_type": "execute_result"
    }
   ],
   "source": [
    "X_train"
   ]
  },
  {
   "cell_type": "code",
   "execution_count": 29,
   "metadata": {
    "collapsed": true
   },
   "outputs": [
    {
     "data": {
      "text/plain": [
       "array([[0.19444444, 0.        , 0.4137931 , 0.375     ],\n",
       "       [0.61111111, 0.41666667, 0.75862069, 0.70833333],\n",
       "       [0.66666667, 0.54166667, 0.79310345, 1.        ],\n",
       "       [0.47222222, 0.08333333, 0.67241379, 0.58333333],\n",
       "       [0.66666667, 0.20833333, 0.81034483, 0.70833333],\n",
       "       [0.36111111, 0.20833333, 0.48275862, 0.41666667],\n",
       "       [0.94444444, 0.41666667, 0.86206897, 0.91666667],\n",
       "       [0.55555556, 0.54166667, 0.62068966, 0.625     ],\n",
       "       [0.33333333, 0.16666667, 0.46551724, 0.41666667],\n",
       "       [0.55555556, 0.29166667, 0.65517241, 0.70833333]])"
      ]
     },
     "execution_count": 29,
     "metadata": {},
     "output_type": "execute_result"
    }
   ],
   "source": [
    "from sklearn.preprocessing import MinMaxScaler\n",
    "X_normalized = MinMaxScaler().fit_transform(X_train)\n",
    "X_normalized[:10,:] # display just the first ten rows"
   ]
  },
  {
   "cell_type": "code",
   "execution_count": 30,
   "metadata": {
    "collapsed": true
   },
   "outputs": [
    {
     "data": {
      "text/plain": [
       "array([0.05876347, 0.03349805, 0.09588197, 0.10464601])"
      ]
     },
     "execution_count": 30,
     "metadata": {},
     "output_type": "execute_result"
    }
   ],
   "source": [
    "X_normalized.var(axis=0)"
   ]
  },
  {
   "cell_type": "code",
   "execution_count": 31,
   "metadata": {
    "collapsed": true
   },
   "outputs": [
    {
     "data": {
      "text/plain": [
       "array([[0.19444444, 0.4137931 , 0.375     ],\n",
       "       [0.61111111, 0.75862069, 0.70833333],\n",
       "       [0.66666667, 0.79310345, 1.        ],\n",
       "       [0.47222222, 0.67241379, 0.58333333],\n",
       "       [0.66666667, 0.81034483, 0.70833333],\n",
       "       [0.36111111, 0.48275862, 0.41666667],\n",
       "       [0.94444444, 0.86206897, 0.91666667],\n",
       "       [0.55555556, 0.62068966, 0.625     ],\n",
       "       [0.33333333, 0.46551724, 0.41666667],\n",
       "       [0.55555556, 0.65517241, 0.70833333]])"
      ]
     },
     "execution_count": 31,
     "metadata": {},
     "output_type": "execute_result"
    }
   ],
   "source": [
    "from sklearn.feature_selection import VarianceThreshold\n",
    "fsel = VarianceThreshold(threshold = 0.05)\n",
    "fsel.fit_transform(X_normalized)[:10,:] # display just the first ten rows\n"
   ]
  },
  {
   "cell_type": "markdown",
   "metadata": {},
   "source": [
    "### Univariate feature selection\n",
    "Univariate feature selection works by examining each feature individually: the best features are selected based on univariate statistical tests. \n",
    "\n",
    "Scikit-learn exposes feature selection routines as objects that implement the *transform* method. The most popular *selection routines* are the following:\n",
    "- `SelectKBest`: Select features according to the *k* highest scores.\n",
    "- `SelectPercentile`: Select features according to a percentile of the highest scores (percent of features to keep).\n",
    "\n",
    "These selection routines take as input a *scoring function* that returns univariate scores:\n",
    "- classification\n",
    "    - `chi2`: Compute chi-squared stats between each non-negative feature and class.\n",
    "    - `f_classif`: Compute the ANOVA F-value for the provided sample. (*Note: F-test captures only linear dependency*)\n",
    "    - `mutual_info_classif`: Estimate mutual information for a discrete target variable. (*Note: mutual information can capture any kind of dependency between variables*)\n",
    "- regression\n",
    "    - `f_regression`: Univariate linear regression tests returning F-statistic and p-values.\n",
    "    - `mutual_info_regression`: Estimate mutual information for a continuous target variable.\n",
    "\n"
   ]
  },
  {
   "cell_type": "markdown",
   "metadata": {},
   "source": [
    "A practical example."
   ]
  },
  {
   "cell_type": "code",
   "execution_count": 65,
   "metadata": {
    "collapsed": true
   },
   "outputs": [
    {
     "data": {
      "text/html": [
       "<div>\n",
       "<style scoped>\n",
       "    .dataframe tbody tr th:only-of-type {\n",
       "        vertical-align: middle;\n",
       "    }\n",
       "\n",
       "    .dataframe tbody tr th {\n",
       "        vertical-align: top;\n",
       "    }\n",
       "\n",
       "    .dataframe thead th {\n",
       "        text-align: right;\n",
       "    }\n",
       "</style>\n",
       "<table border=\"1\" class=\"dataframe\">\n",
       "  <thead>\n",
       "    <tr style=\"text-align: right;\">\n",
       "      <th></th>\n",
       "      <th>0</th>\n",
       "      <th>1</th>\n",
       "      <th>2</th>\n",
       "      <th>3</th>\n",
       "      <th>4</th>\n",
       "      <th>5</th>\n",
       "      <th>6</th>\n",
       "      <th>7</th>\n",
       "      <th>8</th>\n",
       "      <th>9</th>\n",
       "      <th>...</th>\n",
       "      <th>14</th>\n",
       "      <th>15</th>\n",
       "      <th>16</th>\n",
       "      <th>17</th>\n",
       "      <th>18</th>\n",
       "      <th>19</th>\n",
       "      <th>20</th>\n",
       "      <th>21</th>\n",
       "      <th>22</th>\n",
       "      <th>23</th>\n",
       "    </tr>\n",
       "  </thead>\n",
       "  <tbody>\n",
       "    <tr>\n",
       "      <th>0</th>\n",
       "      <td>5.1</td>\n",
       "      <td>3.5</td>\n",
       "      <td>1.4</td>\n",
       "      <td>0.2</td>\n",
       "      <td>0.085889</td>\n",
       "      <td>0.037271</td>\n",
       "      <td>0.055513</td>\n",
       "      <td>0.095566</td>\n",
       "      <td>0.073667</td>\n",
       "      <td>0.081621</td>\n",
       "      <td>...</td>\n",
       "      <td>0.009178</td>\n",
       "      <td>0.034519</td>\n",
       "      <td>0.066275</td>\n",
       "      <td>0.044171</td>\n",
       "      <td>0.055149</td>\n",
       "      <td>0.070371</td>\n",
       "      <td>0.058940</td>\n",
       "      <td>0.004993</td>\n",
       "      <td>0.056179</td>\n",
       "      <td>0.076636</td>\n",
       "    </tr>\n",
       "    <tr>\n",
       "      <th>1</th>\n",
       "      <td>4.9</td>\n",
       "      <td>3.0</td>\n",
       "      <td>1.4</td>\n",
       "      <td>0.2</td>\n",
       "      <td>0.091091</td>\n",
       "      <td>0.009291</td>\n",
       "      <td>0.090252</td>\n",
       "      <td>0.046096</td>\n",
       "      <td>0.045202</td>\n",
       "      <td>0.099943</td>\n",
       "      <td>...</td>\n",
       "      <td>0.003515</td>\n",
       "      <td>0.053489</td>\n",
       "      <td>0.016650</td>\n",
       "      <td>0.030841</td>\n",
       "      <td>0.004506</td>\n",
       "      <td>0.023858</td>\n",
       "      <td>0.067483</td>\n",
       "      <td>0.078238</td>\n",
       "      <td>0.069520</td>\n",
       "      <td>0.032895</td>\n",
       "    </tr>\n",
       "    <tr>\n",
       "      <th>2</th>\n",
       "      <td>4.7</td>\n",
       "      <td>3.2</td>\n",
       "      <td>1.3</td>\n",
       "      <td>0.2</td>\n",
       "      <td>0.049403</td>\n",
       "      <td>0.052412</td>\n",
       "      <td>0.029854</td>\n",
       "      <td>0.046311</td>\n",
       "      <td>0.098478</td>\n",
       "      <td>0.050113</td>\n",
       "      <td>...</td>\n",
       "      <td>0.029002</td>\n",
       "      <td>0.078907</td>\n",
       "      <td>0.045712</td>\n",
       "      <td>0.000693</td>\n",
       "      <td>0.041934</td>\n",
       "      <td>0.033067</td>\n",
       "      <td>0.060415</td>\n",
       "      <td>0.032462</td>\n",
       "      <td>0.098125</td>\n",
       "      <td>0.058823</td>\n",
       "    </tr>\n",
       "    <tr>\n",
       "      <th>3</th>\n",
       "      <td>4.6</td>\n",
       "      <td>3.1</td>\n",
       "      <td>1.5</td>\n",
       "      <td>0.2</td>\n",
       "      <td>0.013109</td>\n",
       "      <td>0.052098</td>\n",
       "      <td>0.035798</td>\n",
       "      <td>0.001500</td>\n",
       "      <td>0.009643</td>\n",
       "      <td>0.078423</td>\n",
       "      <td>...</td>\n",
       "      <td>0.027070</td>\n",
       "      <td>0.012982</td>\n",
       "      <td>0.047272</td>\n",
       "      <td>0.039063</td>\n",
       "      <td>0.040508</td>\n",
       "      <td>0.037615</td>\n",
       "      <td>0.029217</td>\n",
       "      <td>0.055288</td>\n",
       "      <td>0.043119</td>\n",
       "      <td>0.078376</td>\n",
       "    </tr>\n",
       "    <tr>\n",
       "      <th>4</th>\n",
       "      <td>5.0</td>\n",
       "      <td>3.6</td>\n",
       "      <td>1.4</td>\n",
       "      <td>0.2</td>\n",
       "      <td>0.070077</td>\n",
       "      <td>0.077641</td>\n",
       "      <td>0.028783</td>\n",
       "      <td>0.021031</td>\n",
       "      <td>0.050411</td>\n",
       "      <td>0.013313</td>\n",
       "      <td>...</td>\n",
       "      <td>0.062573</td>\n",
       "      <td>0.063432</td>\n",
       "      <td>0.053294</td>\n",
       "      <td>0.073539</td>\n",
       "      <td>0.081517</td>\n",
       "      <td>0.037486</td>\n",
       "      <td>0.080492</td>\n",
       "      <td>0.087965</td>\n",
       "      <td>0.058689</td>\n",
       "      <td>0.065585</td>\n",
       "    </tr>\n",
       "    <tr>\n",
       "      <th>...</th>\n",
       "      <td>...</td>\n",
       "      <td>...</td>\n",
       "      <td>...</td>\n",
       "      <td>...</td>\n",
       "      <td>...</td>\n",
       "      <td>...</td>\n",
       "      <td>...</td>\n",
       "      <td>...</td>\n",
       "      <td>...</td>\n",
       "      <td>...</td>\n",
       "      <td>...</td>\n",
       "      <td>...</td>\n",
       "      <td>...</td>\n",
       "      <td>...</td>\n",
       "      <td>...</td>\n",
       "      <td>...</td>\n",
       "      <td>...</td>\n",
       "      <td>...</td>\n",
       "      <td>...</td>\n",
       "      <td>...</td>\n",
       "      <td>...</td>\n",
       "    </tr>\n",
       "    <tr>\n",
       "      <th>145</th>\n",
       "      <td>6.7</td>\n",
       "      <td>3.0</td>\n",
       "      <td>5.2</td>\n",
       "      <td>2.3</td>\n",
       "      <td>0.063802</td>\n",
       "      <td>0.044238</td>\n",
       "      <td>0.085260</td>\n",
       "      <td>0.001071</td>\n",
       "      <td>0.075947</td>\n",
       "      <td>0.018392</td>\n",
       "      <td>...</td>\n",
       "      <td>0.080565</td>\n",
       "      <td>0.055276</td>\n",
       "      <td>0.047896</td>\n",
       "      <td>0.045679</td>\n",
       "      <td>0.043318</td>\n",
       "      <td>0.067997</td>\n",
       "      <td>0.031090</td>\n",
       "      <td>0.078443</td>\n",
       "      <td>0.067694</td>\n",
       "      <td>0.062368</td>\n",
       "    </tr>\n",
       "    <tr>\n",
       "      <th>146</th>\n",
       "      <td>6.3</td>\n",
       "      <td>2.5</td>\n",
       "      <td>5.0</td>\n",
       "      <td>1.9</td>\n",
       "      <td>0.043094</td>\n",
       "      <td>0.042293</td>\n",
       "      <td>0.004353</td>\n",
       "      <td>0.088163</td>\n",
       "      <td>0.021030</td>\n",
       "      <td>0.004195</td>\n",
       "      <td>...</td>\n",
       "      <td>0.061941</td>\n",
       "      <td>0.082326</td>\n",
       "      <td>0.021805</td>\n",
       "      <td>0.072496</td>\n",
       "      <td>0.011366</td>\n",
       "      <td>0.015713</td>\n",
       "      <td>0.012002</td>\n",
       "      <td>0.054378</td>\n",
       "      <td>0.078589</td>\n",
       "      <td>0.046266</td>\n",
       "    </tr>\n",
       "    <tr>\n",
       "      <th>147</th>\n",
       "      <td>6.5</td>\n",
       "      <td>3.0</td>\n",
       "      <td>5.2</td>\n",
       "      <td>2.0</td>\n",
       "      <td>0.013167</td>\n",
       "      <td>0.018853</td>\n",
       "      <td>0.098990</td>\n",
       "      <td>0.015766</td>\n",
       "      <td>0.084924</td>\n",
       "      <td>0.089570</td>\n",
       "      <td>...</td>\n",
       "      <td>0.079186</td>\n",
       "      <td>0.093835</td>\n",
       "      <td>0.069781</td>\n",
       "      <td>0.077314</td>\n",
       "      <td>0.002414</td>\n",
       "      <td>0.001544</td>\n",
       "      <td>0.094837</td>\n",
       "      <td>0.094654</td>\n",
       "      <td>0.062991</td>\n",
       "      <td>0.065031</td>\n",
       "    </tr>\n",
       "    <tr>\n",
       "      <th>148</th>\n",
       "      <td>6.2</td>\n",
       "      <td>3.4</td>\n",
       "      <td>5.4</td>\n",
       "      <td>2.3</td>\n",
       "      <td>0.034649</td>\n",
       "      <td>0.049357</td>\n",
       "      <td>0.012220</td>\n",
       "      <td>0.085819</td>\n",
       "      <td>0.098354</td>\n",
       "      <td>0.014587</td>\n",
       "      <td>...</td>\n",
       "      <td>0.050521</td>\n",
       "      <td>0.067844</td>\n",
       "      <td>0.040648</td>\n",
       "      <td>0.081789</td>\n",
       "      <td>0.068055</td>\n",
       "      <td>0.092150</td>\n",
       "      <td>0.010276</td>\n",
       "      <td>0.047234</td>\n",
       "      <td>0.063930</td>\n",
       "      <td>0.093585</td>\n",
       "    </tr>\n",
       "    <tr>\n",
       "      <th>149</th>\n",
       "      <td>5.9</td>\n",
       "      <td>3.0</td>\n",
       "      <td>5.1</td>\n",
       "      <td>1.8</td>\n",
       "      <td>0.045734</td>\n",
       "      <td>0.030017</td>\n",
       "      <td>0.061994</td>\n",
       "      <td>0.048972</td>\n",
       "      <td>0.023635</td>\n",
       "      <td>0.008200</td>\n",
       "      <td>...</td>\n",
       "      <td>0.049377</td>\n",
       "      <td>0.046680</td>\n",
       "      <td>0.003935</td>\n",
       "      <td>0.011825</td>\n",
       "      <td>0.001818</td>\n",
       "      <td>0.019238</td>\n",
       "      <td>0.052641</td>\n",
       "      <td>0.045446</td>\n",
       "      <td>0.083814</td>\n",
       "      <td>0.047002</td>\n",
       "    </tr>\n",
       "  </tbody>\n",
       "</table>\n",
       "<p>150 rows × 24 columns</p>\n",
       "</div>"
      ],
      "text/plain": [
       "      0    1    2    3         4         5         6         7         8   \\\n",
       "0    5.1  3.5  1.4  0.2  0.085889  0.037271  0.055513  0.095566  0.073667   \n",
       "1    4.9  3.0  1.4  0.2  0.091091  0.009291  0.090252  0.046096  0.045202   \n",
       "2    4.7  3.2  1.3  0.2  0.049403  0.052412  0.029854  0.046311  0.098478   \n",
       "3    4.6  3.1  1.5  0.2  0.013109  0.052098  0.035798  0.001500  0.009643   \n",
       "4    5.0  3.6  1.4  0.2  0.070077  0.077641  0.028783  0.021031  0.050411   \n",
       "..   ...  ...  ...  ...       ...       ...       ...       ...       ...   \n",
       "145  6.7  3.0  5.2  2.3  0.063802  0.044238  0.085260  0.001071  0.075947   \n",
       "146  6.3  2.5  5.0  1.9  0.043094  0.042293  0.004353  0.088163  0.021030   \n",
       "147  6.5  3.0  5.2  2.0  0.013167  0.018853  0.098990  0.015766  0.084924   \n",
       "148  6.2  3.4  5.4  2.3  0.034649  0.049357  0.012220  0.085819  0.098354   \n",
       "149  5.9  3.0  5.1  1.8  0.045734  0.030017  0.061994  0.048972  0.023635   \n",
       "\n",
       "           9   ...        14        15        16        17        18  \\\n",
       "0    0.081621  ...  0.009178  0.034519  0.066275  0.044171  0.055149   \n",
       "1    0.099943  ...  0.003515  0.053489  0.016650  0.030841  0.004506   \n",
       "2    0.050113  ...  0.029002  0.078907  0.045712  0.000693  0.041934   \n",
       "3    0.078423  ...  0.027070  0.012982  0.047272  0.039063  0.040508   \n",
       "4    0.013313  ...  0.062573  0.063432  0.053294  0.073539  0.081517   \n",
       "..        ...  ...       ...       ...       ...       ...       ...   \n",
       "145  0.018392  ...  0.080565  0.055276  0.047896  0.045679  0.043318   \n",
       "146  0.004195  ...  0.061941  0.082326  0.021805  0.072496  0.011366   \n",
       "147  0.089570  ...  0.079186  0.093835  0.069781  0.077314  0.002414   \n",
       "148  0.014587  ...  0.050521  0.067844  0.040648  0.081789  0.068055   \n",
       "149  0.008200  ...  0.049377  0.046680  0.003935  0.011825  0.001818   \n",
       "\n",
       "           19        20        21        22        23  \n",
       "0    0.070371  0.058940  0.004993  0.056179  0.076636  \n",
       "1    0.023858  0.067483  0.078238  0.069520  0.032895  \n",
       "2    0.033067  0.060415  0.032462  0.098125  0.058823  \n",
       "3    0.037615  0.029217  0.055288  0.043119  0.078376  \n",
       "4    0.037486  0.080492  0.087965  0.058689  0.065585  \n",
       "..        ...       ...       ...       ...       ...  \n",
       "145  0.067997  0.031090  0.078443  0.067694  0.062368  \n",
       "146  0.015713  0.012002  0.054378  0.078589  0.046266  \n",
       "147  0.001544  0.094837  0.094654  0.062991  0.065031  \n",
       "148  0.092150  0.010276  0.047234  0.063930  0.093585  \n",
       "149  0.019238  0.052641  0.045446  0.083814  0.047002  \n",
       "\n",
       "[150 rows x 24 columns]"
      ]
     },
     "metadata": {},
     "output_type": "display_data"
    }
   ],
   "source": [
    "from sklearn.datasets import load_iris\n",
    "from sklearn.model_selection import train_test_split\n",
    "\n",
    "# The iris dataset\n",
    "X, y = load_iris(return_X_y=True)\n",
    "\n",
    "# Some noisy data not correlated\n",
    "E = np.random.RandomState(32).uniform(0, 0.1, size=(X.shape[0], 20))\n",
    "# Add the noisy data to the informative features\n",
    "X = np.hstack((X, E))\n",
    "display(pd.DataFrame(X))\n",
    "# Split dataset to select feature and evaluate the classifier\n",
    "X_train, X_test, y_train, y_test = train_test_split(X, y, stratify=y, random_state=0)"
   ]
  },
  {
   "cell_type": "code",
   "execution_count": 66,
   "metadata": {
    "collapsed": true
   },
   "outputs": [
    {
     "data": {
      "text/plain": [
       "Text(0.5, 1.0, 'column 4')"
      ]
     },
     "execution_count": 66,
     "metadata": {},
     "output_type": "execute_result"
    },
    {
     "data": {
      "image/png": "[encoded data removed]",
      "text/plain": [
       "<Figure size 640x480 with 1 Axes>"
      ]
     },
     "metadata": {},
     "output_type": "display_data"
    }
   ],
   "source": [
    "pd.DataFrame(X)[4].plot(kind = 'hist',bins = 7)\n",
    "plt.title('column 4')"
   ]
  },
  {
   "cell_type": "code",
   "execution_count": 67,
   "metadata": {
    "collapsed": true
   },
   "outputs": [
    {
     "data": {
      "text/plain": [
       "((112, 24), (38, 24))"
      ]
     },
     "execution_count": 67,
     "metadata": {},
     "output_type": "execute_result"
    }
   ],
   "source": [
    "X_train.shape, X_test.shape"
   ]
  },
  {
   "cell_type": "code",
   "execution_count": 68,
   "metadata": {
    "collapsed": true
   },
   "outputs": [
    {
     "data": {
      "text/html": [
       "<style>#sk-container-id-3 {color: black;background-color: white;}#sk-container-id-3 pre{padding: 0;}#sk-container-id-3 div.sk-toggleable {background-color: white;}#sk-container-id-3 label.sk-toggleable__label {cursor: pointer;display: block;width: 100%;margin-bottom: 0;padding: 0.3em;box-sizing: border-box;text-align: center;}#sk-container-id-3 label.sk-toggleable__label-arrow:before {content: \"▸\";float: left;margin-right: 0.25em;color: #696969;}#sk-container-id-3 label.sk-toggleable__label-arrow:hover:before {color: black;}#sk-container-id-3 div.sk-estimator:hover label.sk-toggleable__label-arrow:before {color: black;}#sk-container-id-3 div.sk-toggleable__content {max-height: 0;max-width: 0;overflow: hidden;text-align: left;background-color: #f0f8ff;}#sk-container-id-3 div.sk-toggleable__content pre {margin: 0.2em;color: black;border-radius: 0.25em;background-color: #f0f8ff;}#sk-container-id-3 input.sk-toggleable__control:checked~div.sk-toggleable__content {max-height: 200px;max-width: 100%;overflow: auto;}#sk-container-id-3 input.sk-toggleable__control:checked~label.sk-toggleable__label-arrow:before {content: \"▾\";}#sk-container-id-3 div.sk-estimator input.sk-toggleable__control:checked~label.sk-toggleable__label {background-color: #d4ebff;}#sk-container-id-3 div.sk-label input.sk-toggleable__control:checked~label.sk-toggleable__label {background-color: #d4ebff;}#sk-container-id-3 input.sk-hidden--visually {border: 0;clip: rect(1px 1px 1px 1px);clip: rect(1px, 1px, 1px, 1px);height: 1px;margin: -1px;overflow: hidden;padding: 0;position: absolute;width: 1px;}#sk-container-id-3 div.sk-estimator {font-family: monospace;background-color: #f0f8ff;border: 1px dotted black;border-radius: 0.25em;box-sizing: border-box;margin-bottom: 0.5em;}#sk-container-id-3 div.sk-estimator:hover {background-color: #d4ebff;}#sk-container-id-3 div.sk-parallel-item::after {content: \"\";width: 100%;border-bottom: 1px solid gray;flex-grow: 1;}#sk-container-id-3 div.sk-label:hover label.sk-toggleable__label {background-color: #d4ebff;}#sk-container-id-3 div.sk-serial::before {content: \"\";position: absolute;border-left: 1px solid gray;box-sizing: border-box;top: 0;bottom: 0;left: 50%;z-index: 0;}#sk-container-id-3 div.sk-serial {display: flex;flex-direction: column;align-items: center;background-color: white;padding-right: 0.2em;padding-left: 0.2em;position: relative;}#sk-container-id-3 div.sk-item {position: relative;z-index: 1;}#sk-container-id-3 div.sk-parallel {display: flex;align-items: stretch;justify-content: center;background-color: white;position: relative;}#sk-container-id-3 div.sk-item::before, #sk-container-id-3 div.sk-parallel-item::before {content: \"\";position: absolute;border-left: 1px solid gray;box-sizing: border-box;top: 0;bottom: 0;left: 50%;z-index: -1;}#sk-container-id-3 div.sk-parallel-item {display: flex;flex-direction: column;z-index: 1;position: relative;background-color: white;}#sk-container-id-3 div.sk-parallel-item:first-child::after {align-self: flex-end;width: 50%;}#sk-container-id-3 div.sk-parallel-item:last-child::after {align-self: flex-start;width: 50%;}#sk-container-id-3 div.sk-parallel-item:only-child::after {width: 0;}#sk-container-id-3 div.sk-dashed-wrapped {border: 1px dashed gray;margin: 0 0.4em 0.5em 0.4em;box-sizing: border-box;padding-bottom: 0.4em;background-color: white;}#sk-container-id-3 div.sk-label label {font-family: monospace;font-weight: bold;display: inline-block;line-height: 1.2em;}#sk-container-id-3 div.sk-label-container {text-align: center;}#sk-container-id-3 div.sk-container {/* jupyter's `normalize.less` sets `[hidden] { display: none; }` but bootstrap.min.css set `[hidden] { display: none !important; }` so we also need the `!important` here to be able to override the default hidden behavior on the sphinx rendered scikit-learn.org. See: https://github.com/scikit-learn/scikit-learn/issues/21755 */display: inline-block !important;position: relative;}#sk-container-id-3 div.sk-text-repr-fallback {display: none;}</style><div id=\"sk-container-id-3\" class=\"sk-top-container\"><div class=\"sk-text-repr-fallback\"><pre>SelectKBest(k=4)</pre><b>In a Jupyter environment, please rerun this cell to show the HTML representation or trust the notebook. <br />On GitHub, the HTML representation is unable to render, please try loading this page with nbviewer.org.</b></div><div class=\"sk-container\" hidden><div class=\"sk-item\"><div class=\"sk-estimator sk-toggleable\"><input class=\"sk-toggleable__control sk-hidden--visually\" id=\"sk-estimator-id-3\" type=\"checkbox\" checked><label for=\"sk-estimator-id-3\" class=\"sk-toggleable__label sk-toggleable__label-arrow\">SelectKBest</label><div class=\"sk-toggleable__content\"><pre>SelectKBest(k=4)</pre></div></div></div></div></div>"
      ],
      "text/plain": [
       "SelectKBest(k=4)"
      ]
     },
     "execution_count": 68,
     "metadata": {},
     "output_type": "execute_result"
    }
   ],
   "source": [
    "from sklearn.feature_selection import SelectKBest, f_classif\n",
    "\n",
    "selector = SelectKBest(f_classif, k=4)\n",
    "selector.fit(X_train, y_train)\n"
   ]
  },
  {
   "cell_type": "code",
   "execution_count": 69,
   "metadata": {
    "collapsed": true
   },
   "outputs": [],
   "source": [
    "f_classif?"
   ]
  },
  {
   "cell_type": "markdown",
   "metadata": {},
   "source": [
    "The *f_classif* function evaluates the one-way ANOVA test.\n",
    "\n",
    "The one-way ANOVA tests the null hypothesis that 2 or more groups have    the same population mean. The test is applied to samples from two or     more groups, possibly with differing sizes. \n",
    "\n",
    "In our setting, the *groups* are the sets of samples belonging to a given class. Intuitively, if, for a given feature, the sets of samples belonging to different classes have the same mean, than that feature is not \"useful\"."
   ]
  },
  {
   "cell_type": "code",
   "execution_count": 70,
   "metadata": {
    "collapsed": true
   },
   "outputs": [
    {
     "name": "stdout",
     "output_type": "stream",
     "text": [
      "f-stat Att.0: 119.3  -  p-value Att.0: 1.67e-31\n",
      "f-stat Att.1: 49.16  -  p-value Att.1: 4.49e-17\n"
     ]
    }
   ],
   "source": [
    "f_statistics, p_values = f_classif(X[:,:2],y)\n",
    "print(f'f-stat Att.0: {f_statistics[0]:.4}  -  p-value Att.0: {p_values[0]:.3}')\n",
    "print(f'f-stat Att.1: {f_statistics[1]:.4}  -  p-value Att.1: {p_values[1]:.3}')\n"
   ]
  },
  {
   "cell_type": "markdown",
   "metadata": {},
   "source": [
    "For the first two attributes, the p-value is close to zero. With a level of significance $\\alpha$ (e.g. $\\alpha = 0.05$) we can reject the null hypothesis --> the three groups (one per class) have different mean --> the feature is \"useful\" and should be retained."
   ]
  },
  {
   "cell_type": "code",
   "execution_count": 46,
   "metadata": {
    "collapsed": true
   },
   "outputs": [
    {
     "data": {
      "image/png": "[encoded data removed]",
      "text/plain": [
       "<Figure size 640x480 with 1 Axes>"
      ]
     },
     "metadata": {},
     "output_type": "display_data"
    }
   ],
   "source": [
    "X_indices = np.arange(X.shape[-1])\n",
    "plt.bar(X_indices - 0.05, selector.pvalues_, width=0.2)\n",
    "plt.title(\"Feature univariate score\")\n",
    "plt.xlabel(\"Feature number\")\n",
    "plt.ylabel(r\"Univariate score ($p_{value}$)\")\n",
    "plt.show()"
   ]
  },
  {
   "cell_type": "code",
   "execution_count": 48,
   "metadata": {
    "collapsed": true
   },
   "outputs": [],
   "source": [
    "scores = -np.log10(selector.pvalues_)\n",
    "scores /= scores.max()"
   ]
  },
  {
   "cell_type": "code",
   "execution_count": 49,
   "metadata": {
    "collapsed": true
   },
   "outputs": [
    {
     "data": {
      "image/png": "[encoded data removed]",
      "text/plain": [
       "<Figure size 640x480 with 1 Axes>"
      ]
     },
     "metadata": {},
     "output_type": "display_data"
    }
   ],
   "source": [
    "X_indices = np.arange(X.shape[-1])\n",
    "plt.bar(X_indices - 0.05, scores, width=0.2)\n",
    "plt.title(\"Feature univariate score\")\n",
    "plt.xlabel(\"Feature number\")\n",
    "plt.ylabel(r\"Univariate score ($-Log(p_{value})$)\")\n",
    "plt.show()"
   ]
  },
  {
   "cell_type": "code",
   "execution_count": 50,
   "metadata": {
    "collapsed": true
   },
   "outputs": [
    {
     "data": {
      "text/html": [
       "<div>\n",
       "<style scoped>\n",
       "    .dataframe tbody tr th:only-of-type {\n",
       "        vertical-align: middle;\n",
       "    }\n",
       "\n",
       "    .dataframe tbody tr th {\n",
       "        vertical-align: top;\n",
       "    }\n",
       "\n",
       "    .dataframe thead th {\n",
       "        text-align: right;\n",
       "    }\n",
       "</style>\n",
       "<table border=\"1\" class=\"dataframe\">\n",
       "  <thead>\n",
       "    <tr style=\"text-align: right;\">\n",
       "      <th></th>\n",
       "      <th>0</th>\n",
       "      <th>1</th>\n",
       "      <th>2</th>\n",
       "      <th>3</th>\n",
       "      <th>4</th>\n",
       "      <th>5</th>\n",
       "      <th>6</th>\n",
       "      <th>7</th>\n",
       "      <th>8</th>\n",
       "      <th>9</th>\n",
       "      <th>...</th>\n",
       "      <th>14</th>\n",
       "      <th>15</th>\n",
       "      <th>16</th>\n",
       "      <th>17</th>\n",
       "      <th>18</th>\n",
       "      <th>19</th>\n",
       "      <th>20</th>\n",
       "      <th>21</th>\n",
       "      <th>22</th>\n",
       "      <th>23</th>\n",
       "    </tr>\n",
       "  </thead>\n",
       "  <tbody>\n",
       "    <tr>\n",
       "      <th>0</th>\n",
       "      <td>5.0</td>\n",
       "      <td>2.0</td>\n",
       "      <td>3.5</td>\n",
       "      <td>1.0</td>\n",
       "      <td>0.008407</td>\n",
       "      <td>0.032423</td>\n",
       "      <td>0.001000</td>\n",
       "      <td>0.055466</td>\n",
       "      <td>0.095411</td>\n",
       "      <td>0.070884</td>\n",
       "      <td>...</td>\n",
       "      <td>0.077037</td>\n",
       "      <td>0.059674</td>\n",
       "      <td>0.030528</td>\n",
       "      <td>0.006279</td>\n",
       "      <td>0.087363</td>\n",
       "      <td>0.003562</td>\n",
       "      <td>0.006364</td>\n",
       "      <td>0.099265</td>\n",
       "      <td>0.034852</td>\n",
       "      <td>0.065962</td>\n",
       "    </tr>\n",
       "    <tr>\n",
       "      <th>1</th>\n",
       "      <td>4.9</td>\n",
       "      <td>3.0</td>\n",
       "      <td>1.4</td>\n",
       "      <td>0.2</td>\n",
       "      <td>0.091091</td>\n",
       "      <td>0.009291</td>\n",
       "      <td>0.090252</td>\n",
       "      <td>0.046096</td>\n",
       "      <td>0.045202</td>\n",
       "      <td>0.099943</td>\n",
       "      <td>...</td>\n",
       "      <td>0.003515</td>\n",
       "      <td>0.053489</td>\n",
       "      <td>0.016650</td>\n",
       "      <td>0.030841</td>\n",
       "      <td>0.004506</td>\n",
       "      <td>0.023858</td>\n",
       "      <td>0.067483</td>\n",
       "      <td>0.078238</td>\n",
       "      <td>0.069520</td>\n",
       "      <td>0.032895</td>\n",
       "    </tr>\n",
       "    <tr>\n",
       "      <th>2</th>\n",
       "      <td>4.4</td>\n",
       "      <td>2.9</td>\n",
       "      <td>1.4</td>\n",
       "      <td>0.2</td>\n",
       "      <td>0.036902</td>\n",
       "      <td>0.068853</td>\n",
       "      <td>0.062160</td>\n",
       "      <td>0.078923</td>\n",
       "      <td>0.008564</td>\n",
       "      <td>0.005167</td>\n",
       "      <td>...</td>\n",
       "      <td>0.021172</td>\n",
       "      <td>0.091845</td>\n",
       "      <td>0.018953</td>\n",
       "      <td>0.023671</td>\n",
       "      <td>0.014105</td>\n",
       "      <td>0.018984</td>\n",
       "      <td>0.070037</td>\n",
       "      <td>0.056722</td>\n",
       "      <td>0.071706</td>\n",
       "      <td>0.016743</td>\n",
       "    </tr>\n",
       "    <tr>\n",
       "      <th>3</th>\n",
       "      <td>5.0</td>\n",
       "      <td>2.3</td>\n",
       "      <td>3.3</td>\n",
       "      <td>1.0</td>\n",
       "      <td>0.053134</td>\n",
       "      <td>0.030910</td>\n",
       "      <td>0.072807</td>\n",
       "      <td>0.018478</td>\n",
       "      <td>0.046550</td>\n",
       "      <td>0.026775</td>\n",
       "      <td>...</td>\n",
       "      <td>0.057394</td>\n",
       "      <td>0.048638</td>\n",
       "      <td>0.015598</td>\n",
       "      <td>0.078421</td>\n",
       "      <td>0.080969</td>\n",
       "      <td>0.095683</td>\n",
       "      <td>0.000787</td>\n",
       "      <td>0.093280</td>\n",
       "      <td>0.041715</td>\n",
       "      <td>0.054997</td>\n",
       "    </tr>\n",
       "    <tr>\n",
       "      <th>4</th>\n",
       "      <td>4.9</td>\n",
       "      <td>2.5</td>\n",
       "      <td>4.5</td>\n",
       "      <td>1.7</td>\n",
       "      <td>0.067322</td>\n",
       "      <td>0.085248</td>\n",
       "      <td>0.052598</td>\n",
       "      <td>0.089712</td>\n",
       "      <td>0.060825</td>\n",
       "      <td>0.077096</td>\n",
       "      <td>...</td>\n",
       "      <td>0.064801</td>\n",
       "      <td>0.000805</td>\n",
       "      <td>0.098850</td>\n",
       "      <td>0.078648</td>\n",
       "      <td>0.025627</td>\n",
       "      <td>0.010826</td>\n",
       "      <td>0.032955</td>\n",
       "      <td>0.008774</td>\n",
       "      <td>0.018743</td>\n",
       "      <td>0.063714</td>\n",
       "    </tr>\n",
       "  </tbody>\n",
       "</table>\n",
       "<p>5 rows × 24 columns</p>\n",
       "</div>"
      ],
      "text/plain": [
       "    0    1    2    3         4         5         6         7         8   \\\n",
       "0  5.0  2.0  3.5  1.0  0.008407  0.032423  0.001000  0.055466  0.095411   \n",
       "1  4.9  3.0  1.4  0.2  0.091091  0.009291  0.090252  0.046096  0.045202   \n",
       "2  4.4  2.9  1.4  0.2  0.036902  0.068853  0.062160  0.078923  0.008564   \n",
       "3  5.0  2.3  3.3  1.0  0.053134  0.030910  0.072807  0.018478  0.046550   \n",
       "4  4.9  2.5  4.5  1.7  0.067322  0.085248  0.052598  0.089712  0.060825   \n",
       "\n",
       "         9   ...        14        15        16        17        18        19  \\\n",
       "0  0.070884  ...  0.077037  0.059674  0.030528  0.006279  0.087363  0.003562   \n",
       "1  0.099943  ...  0.003515  0.053489  0.016650  0.030841  0.004506  0.023858   \n",
       "2  0.005167  ...  0.021172  0.091845  0.018953  0.023671  0.014105  0.018984   \n",
       "3  0.026775  ...  0.057394  0.048638  0.015598  0.078421  0.080969  0.095683   \n",
       "4  0.077096  ...  0.064801  0.000805  0.098850  0.078648  0.025627  0.010826   \n",
       "\n",
       "         20        21        22        23  \n",
       "0  0.006364  0.099265  0.034852  0.065962  \n",
       "1  0.067483  0.078238  0.069520  0.032895  \n",
       "2  0.070037  0.056722  0.071706  0.016743  \n",
       "3  0.000787  0.093280  0.041715  0.054997  \n",
       "4  0.032955  0.008774  0.018743  0.063714  \n",
       "\n",
       "[5 rows x 24 columns]"
      ]
     },
     "metadata": {},
     "output_type": "display_data"
    },
    {
     "data": {
      "text/html": [
       "<div>\n",
       "<style scoped>\n",
       "    .dataframe tbody tr th:only-of-type {\n",
       "        vertical-align: middle;\n",
       "    }\n",
       "\n",
       "    .dataframe tbody tr th {\n",
       "        vertical-align: top;\n",
       "    }\n",
       "\n",
       "    .dataframe thead th {\n",
       "        text-align: right;\n",
       "    }\n",
       "</style>\n",
       "<table border=\"1\" class=\"dataframe\">\n",
       "  <thead>\n",
       "    <tr style=\"text-align: right;\">\n",
       "      <th></th>\n",
       "      <th>0</th>\n",
       "      <th>1</th>\n",
       "      <th>2</th>\n",
       "      <th>3</th>\n",
       "    </tr>\n",
       "  </thead>\n",
       "  <tbody>\n",
       "    <tr>\n",
       "      <th>0</th>\n",
       "      <td>5.0</td>\n",
       "      <td>2.0</td>\n",
       "      <td>3.5</td>\n",
       "      <td>1.0</td>\n",
       "    </tr>\n",
       "    <tr>\n",
       "      <th>1</th>\n",
       "      <td>4.9</td>\n",
       "      <td>3.0</td>\n",
       "      <td>1.4</td>\n",
       "      <td>0.2</td>\n",
       "    </tr>\n",
       "    <tr>\n",
       "      <th>2</th>\n",
       "      <td>4.4</td>\n",
       "      <td>2.9</td>\n",
       "      <td>1.4</td>\n",
       "      <td>0.2</td>\n",
       "    </tr>\n",
       "    <tr>\n",
       "      <th>3</th>\n",
       "      <td>5.0</td>\n",
       "      <td>2.3</td>\n",
       "      <td>3.3</td>\n",
       "      <td>1.0</td>\n",
       "    </tr>\n",
       "    <tr>\n",
       "      <th>4</th>\n",
       "      <td>4.9</td>\n",
       "      <td>2.5</td>\n",
       "      <td>4.5</td>\n",
       "      <td>1.7</td>\n",
       "    </tr>\n",
       "  </tbody>\n",
       "</table>\n",
       "</div>"
      ],
      "text/plain": [
       "     0    1    2    3\n",
       "0  5.0  2.0  3.5  1.0\n",
       "1  4.9  3.0  1.4  0.2\n",
       "2  4.4  2.9  1.4  0.2\n",
       "3  5.0  2.3  3.3  1.0\n",
       "4  4.9  2.5  4.5  1.7"
      ]
     },
     "metadata": {},
     "output_type": "display_data"
    }
   ],
   "source": [
    "X_out = selector.transform(X_train)\n",
    "display(pd.DataFrame(X_train).head())\n",
    "display(pd.DataFrame(X_out).head())"
   ]
  },
  {
   "cell_type": "code",
   "execution_count": 51,
   "metadata": {
    "collapsed": true
   },
   "outputs": [
    {
     "data": {
      "text/plain": [
       "array(['x0', 'x1', 'x2', 'x3'], dtype=object)"
      ]
     },
     "execution_count": 51,
     "metadata": {},
     "output_type": "execute_result"
    }
   ],
   "source": [
    "selector.get_feature_names_out()"
   ]
  },
  {
   "cell_type": "markdown",
   "metadata": {},
   "source": [
    "### Recursive feature elimination (RFE)\n",
    "Suppose you can rely on an external estimator (classification/regression model) that assigns weights to features.\n",
    "\n",
    "In RFE, first the estimator is trained on the initial set of features and the importance of each feature is obtained either through any specific attribute (e.g., `coef_`, `feature_importances_`)  or callable. Then, the least important feature (or features, if a step>1 is used) is pruned from current set of features. That procedure is recursively repeated on the pruned set until the desired number of features to select is eventually reached."
   ]
  },
  {
   "cell_type": "code",
   "execution_count": 52,
   "metadata": {
    "collapsed": true
   },
   "outputs": [
    {
     "data": {
      "text/plain": [
       "array([ 4,  3,  1,  2, 15, 24, 17, 23, 22, 12, 21, 11, 19,  5, 14, 16, 10,\n",
       "       13,  8,  6,  7,  9, 20, 18])"
      ]
     },
     "execution_count": 52,
     "metadata": {},
     "output_type": "execute_result"
    }
   ],
   "source": [
    "from sklearn.feature_selection import RFE\n",
    "from sklearn.linear_model import LogisticRegression\n",
    "lr = LogisticRegression(max_iter = 1000) \n",
    "# LogisticRegression has attribute \"coef_\", indicating coefficient of the features in the decision function.\n",
    "rfe = RFE(estimator=lr, n_features_to_select=1, step=1)\n",
    "rfe.fit(X_train, y_train)\n",
    "rfe.ranking_\n"
   ]
  },
  {
   "cell_type": "markdown",
   "metadata": {},
   "source": [
    "### Feature selection using `SelectFromModel`\n",
    "\n",
    "SelectFromModel is a meta-transformer that can be used alongside any estimator that assigns importance to each feature through a specific attribute (such as `coef_`, `feature_importances_`) or via an `importance_getter` callable after fitting. The features are considered unimportant and removed if the corresponding importance of the feature values are below the provided threshold parameter (or via other built-in heuristics).\n",
    "\n",
    "Differently from RFE, `SelectFromModel` involves no iteration.\n"
   ]
  },
  {
   "cell_type": "markdown",
   "metadata": {},
   "source": [
    "### Sequential Feature Selection (SFS)\n",
    "\n",
    "It can be either forward or backward:\n",
    "- *Forward-SFS* is a greedy procedure that iteratively finds the best new feature to add to the set of selected features. Concretely, we initially start with zero features and find the one feature that **maximizes a cross-validated score** when an estimator is trained on this single feature. Once that first feature is selected, we repeat the procedure by adding a new feature to the set of selected features. The procedure stops when the desired number of selected features is reached, as determined by the `n_features_to_select` parameter.\n",
    "- *Backward-SFS* follows the same idea but works in the opposite direction: instead of starting with no features and greedily adding features, we start with all the features and greedily remove features from the set. The direction parameter controls whether forward or backward SFS is used.\n",
    "\n",
    "\n",
    "As it relies on a cross-validated score for selecting the best feature at each iteration, SFS differs from RFE and SelectFromModel in that it does not require the underlying model to expose a `coef_` or `feature_importances_` attribute. It may however be slower considering that more models need to be evaluated, compared to the other approaches.\n",
    "\n",
    "\n"
   ]
  },
  {
   "cell_type": "code",
   "execution_count": 53,
   "metadata": {
    "collapsed": true
   },
   "outputs": [
    {
     "data": {
      "text/html": [
       "<div>\n",
       "<style scoped>\n",
       "    .dataframe tbody tr th:only-of-type {\n",
       "        vertical-align: middle;\n",
       "    }\n",
       "\n",
       "    .dataframe tbody tr th {\n",
       "        vertical-align: top;\n",
       "    }\n",
       "\n",
       "    .dataframe thead th {\n",
       "        text-align: right;\n",
       "    }\n",
       "</style>\n",
       "<table border=\"1\" class=\"dataframe\">\n",
       "  <thead>\n",
       "    <tr style=\"text-align: right;\">\n",
       "      <th></th>\n",
       "      <th>0</th>\n",
       "      <th>1</th>\n",
       "      <th>2</th>\n",
       "      <th>3</th>\n",
       "      <th>4</th>\n",
       "      <th>5</th>\n",
       "      <th>6</th>\n",
       "      <th>7</th>\n",
       "      <th>8</th>\n",
       "      <th>9</th>\n",
       "      <th>...</th>\n",
       "      <th>14</th>\n",
       "      <th>15</th>\n",
       "      <th>16</th>\n",
       "      <th>17</th>\n",
       "      <th>18</th>\n",
       "      <th>19</th>\n",
       "      <th>20</th>\n",
       "      <th>21</th>\n",
       "      <th>22</th>\n",
       "      <th>23</th>\n",
       "    </tr>\n",
       "  </thead>\n",
       "  <tbody>\n",
       "    <tr>\n",
       "      <th>0</th>\n",
       "      <td>5.0</td>\n",
       "      <td>2.0</td>\n",
       "      <td>3.5</td>\n",
       "      <td>1.0</td>\n",
       "      <td>0.008407</td>\n",
       "      <td>0.032423</td>\n",
       "      <td>0.001000</td>\n",
       "      <td>0.055466</td>\n",
       "      <td>0.095411</td>\n",
       "      <td>0.070884</td>\n",
       "      <td>...</td>\n",
       "      <td>0.077037</td>\n",
       "      <td>0.059674</td>\n",
       "      <td>0.030528</td>\n",
       "      <td>0.006279</td>\n",
       "      <td>0.087363</td>\n",
       "      <td>0.003562</td>\n",
       "      <td>0.006364</td>\n",
       "      <td>0.099265</td>\n",
       "      <td>0.034852</td>\n",
       "      <td>0.065962</td>\n",
       "    </tr>\n",
       "    <tr>\n",
       "      <th>1</th>\n",
       "      <td>4.9</td>\n",
       "      <td>3.0</td>\n",
       "      <td>1.4</td>\n",
       "      <td>0.2</td>\n",
       "      <td>0.091091</td>\n",
       "      <td>0.009291</td>\n",
       "      <td>0.090252</td>\n",
       "      <td>0.046096</td>\n",
       "      <td>0.045202</td>\n",
       "      <td>0.099943</td>\n",
       "      <td>...</td>\n",
       "      <td>0.003515</td>\n",
       "      <td>0.053489</td>\n",
       "      <td>0.016650</td>\n",
       "      <td>0.030841</td>\n",
       "      <td>0.004506</td>\n",
       "      <td>0.023858</td>\n",
       "      <td>0.067483</td>\n",
       "      <td>0.078238</td>\n",
       "      <td>0.069520</td>\n",
       "      <td>0.032895</td>\n",
       "    </tr>\n",
       "    <tr>\n",
       "      <th>2</th>\n",
       "      <td>4.4</td>\n",
       "      <td>2.9</td>\n",
       "      <td>1.4</td>\n",
       "      <td>0.2</td>\n",
       "      <td>0.036902</td>\n",
       "      <td>0.068853</td>\n",
       "      <td>0.062160</td>\n",
       "      <td>0.078923</td>\n",
       "      <td>0.008564</td>\n",
       "      <td>0.005167</td>\n",
       "      <td>...</td>\n",
       "      <td>0.021172</td>\n",
       "      <td>0.091845</td>\n",
       "      <td>0.018953</td>\n",
       "      <td>0.023671</td>\n",
       "      <td>0.014105</td>\n",
       "      <td>0.018984</td>\n",
       "      <td>0.070037</td>\n",
       "      <td>0.056722</td>\n",
       "      <td>0.071706</td>\n",
       "      <td>0.016743</td>\n",
       "    </tr>\n",
       "    <tr>\n",
       "      <th>3</th>\n",
       "      <td>5.0</td>\n",
       "      <td>2.3</td>\n",
       "      <td>3.3</td>\n",
       "      <td>1.0</td>\n",
       "      <td>0.053134</td>\n",
       "      <td>0.030910</td>\n",
       "      <td>0.072807</td>\n",
       "      <td>0.018478</td>\n",
       "      <td>0.046550</td>\n",
       "      <td>0.026775</td>\n",
       "      <td>...</td>\n",
       "      <td>0.057394</td>\n",
       "      <td>0.048638</td>\n",
       "      <td>0.015598</td>\n",
       "      <td>0.078421</td>\n",
       "      <td>0.080969</td>\n",
       "      <td>0.095683</td>\n",
       "      <td>0.000787</td>\n",
       "      <td>0.093280</td>\n",
       "      <td>0.041715</td>\n",
       "      <td>0.054997</td>\n",
       "    </tr>\n",
       "    <tr>\n",
       "      <th>4</th>\n",
       "      <td>4.9</td>\n",
       "      <td>2.5</td>\n",
       "      <td>4.5</td>\n",
       "      <td>1.7</td>\n",
       "      <td>0.067322</td>\n",
       "      <td>0.085248</td>\n",
       "      <td>0.052598</td>\n",
       "      <td>0.089712</td>\n",
       "      <td>0.060825</td>\n",
       "      <td>0.077096</td>\n",
       "      <td>...</td>\n",
       "      <td>0.064801</td>\n",
       "      <td>0.000805</td>\n",
       "      <td>0.098850</td>\n",
       "      <td>0.078648</td>\n",
       "      <td>0.025627</td>\n",
       "      <td>0.010826</td>\n",
       "      <td>0.032955</td>\n",
       "      <td>0.008774</td>\n",
       "      <td>0.018743</td>\n",
       "      <td>0.063714</td>\n",
       "    </tr>\n",
       "    <tr>\n",
       "      <th>...</th>\n",
       "      <td>...</td>\n",
       "      <td>...</td>\n",
       "      <td>...</td>\n",
       "      <td>...</td>\n",
       "      <td>...</td>\n",
       "      <td>...</td>\n",
       "      <td>...</td>\n",
       "      <td>...</td>\n",
       "      <td>...</td>\n",
       "      <td>...</td>\n",
       "      <td>...</td>\n",
       "      <td>...</td>\n",
       "      <td>...</td>\n",
       "      <td>...</td>\n",
       "      <td>...</td>\n",
       "      <td>...</td>\n",
       "      <td>...</td>\n",
       "      <td>...</td>\n",
       "      <td>...</td>\n",
       "      <td>...</td>\n",
       "      <td>...</td>\n",
       "    </tr>\n",
       "    <tr>\n",
       "      <th>107</th>\n",
       "      <td>5.6</td>\n",
       "      <td>3.0</td>\n",
       "      <td>4.5</td>\n",
       "      <td>1.5</td>\n",
       "      <td>0.095764</td>\n",
       "      <td>0.084037</td>\n",
       "      <td>0.098592</td>\n",
       "      <td>0.027242</td>\n",
       "      <td>0.045610</td>\n",
       "      <td>0.017594</td>\n",
       "      <td>...</td>\n",
       "      <td>0.028410</td>\n",
       "      <td>0.089656</td>\n",
       "      <td>0.027644</td>\n",
       "      <td>0.095602</td>\n",
       "      <td>0.000257</td>\n",
       "      <td>0.014435</td>\n",
       "      <td>0.072215</td>\n",
       "      <td>0.005292</td>\n",
       "      <td>0.083675</td>\n",
       "      <td>0.001019</td>\n",
       "    </tr>\n",
       "    <tr>\n",
       "      <th>108</th>\n",
       "      <td>4.7</td>\n",
       "      <td>3.2</td>\n",
       "      <td>1.6</td>\n",
       "      <td>0.2</td>\n",
       "      <td>0.086868</td>\n",
       "      <td>0.062618</td>\n",
       "      <td>0.076539</td>\n",
       "      <td>0.039049</td>\n",
       "      <td>0.093585</td>\n",
       "      <td>0.034067</td>\n",
       "      <td>...</td>\n",
       "      <td>0.052709</td>\n",
       "      <td>0.082726</td>\n",
       "      <td>0.009826</td>\n",
       "      <td>0.043018</td>\n",
       "      <td>0.032053</td>\n",
       "      <td>0.035208</td>\n",
       "      <td>0.072241</td>\n",
       "      <td>0.036238</td>\n",
       "      <td>0.044836</td>\n",
       "      <td>0.076131</td>\n",
       "    </tr>\n",
       "    <tr>\n",
       "      <th>109</th>\n",
       "      <td>7.4</td>\n",
       "      <td>2.8</td>\n",
       "      <td>6.1</td>\n",
       "      <td>1.9</td>\n",
       "      <td>0.094457</td>\n",
       "      <td>0.034413</td>\n",
       "      <td>0.091462</td>\n",
       "      <td>0.040413</td>\n",
       "      <td>0.003479</td>\n",
       "      <td>0.033816</td>\n",
       "      <td>...</td>\n",
       "      <td>0.054764</td>\n",
       "      <td>0.048690</td>\n",
       "      <td>0.067696</td>\n",
       "      <td>0.056622</td>\n",
       "      <td>0.087926</td>\n",
       "      <td>0.056846</td>\n",
       "      <td>0.098286</td>\n",
       "      <td>0.031396</td>\n",
       "      <td>0.051722</td>\n",
       "      <td>0.031439</td>\n",
       "    </tr>\n",
       "    <tr>\n",
       "      <th>110</th>\n",
       "      <td>6.9</td>\n",
       "      <td>3.1</td>\n",
       "      <td>5.1</td>\n",
       "      <td>2.3</td>\n",
       "      <td>0.099200</td>\n",
       "      <td>0.099441</td>\n",
       "      <td>0.089466</td>\n",
       "      <td>0.029368</td>\n",
       "      <td>0.012754</td>\n",
       "      <td>0.088862</td>\n",
       "      <td>...</td>\n",
       "      <td>0.092964</td>\n",
       "      <td>0.002335</td>\n",
       "      <td>0.001411</td>\n",
       "      <td>0.086829</td>\n",
       "      <td>0.012567</td>\n",
       "      <td>0.023855</td>\n",
       "      <td>0.019008</td>\n",
       "      <td>0.029453</td>\n",
       "      <td>0.099989</td>\n",
       "      <td>0.012572</td>\n",
       "    </tr>\n",
       "    <tr>\n",
       "      <th>111</th>\n",
       "      <td>6.4</td>\n",
       "      <td>2.7</td>\n",
       "      <td>5.3</td>\n",
       "      <td>1.9</td>\n",
       "      <td>0.010071</td>\n",
       "      <td>0.080591</td>\n",
       "      <td>0.004051</td>\n",
       "      <td>0.076411</td>\n",
       "      <td>0.023072</td>\n",
       "      <td>0.051300</td>\n",
       "      <td>...</td>\n",
       "      <td>0.032845</td>\n",
       "      <td>0.037618</td>\n",
       "      <td>0.097523</td>\n",
       "      <td>0.056621</td>\n",
       "      <td>0.008600</td>\n",
       "      <td>0.009619</td>\n",
       "      <td>0.033427</td>\n",
       "      <td>0.043804</td>\n",
       "      <td>0.042216</td>\n",
       "      <td>0.039718</td>\n",
       "    </tr>\n",
       "  </tbody>\n",
       "</table>\n",
       "<p>112 rows × 24 columns</p>\n",
       "</div>"
      ],
      "text/plain": [
       "      0    1    2    3         4         5         6         7         8   \\\n",
       "0    5.0  2.0  3.5  1.0  0.008407  0.032423  0.001000  0.055466  0.095411   \n",
       "1    4.9  3.0  1.4  0.2  0.091091  0.009291  0.090252  0.046096  0.045202   \n",
       "2    4.4  2.9  1.4  0.2  0.036902  0.068853  0.062160  0.078923  0.008564   \n",
       "3    5.0  2.3  3.3  1.0  0.053134  0.030910  0.072807  0.018478  0.046550   \n",
       "4    4.9  2.5  4.5  1.7  0.067322  0.085248  0.052598  0.089712  0.060825   \n",
       "..   ...  ...  ...  ...       ...       ...       ...       ...       ...   \n",
       "107  5.6  3.0  4.5  1.5  0.095764  0.084037  0.098592  0.027242  0.045610   \n",
       "108  4.7  3.2  1.6  0.2  0.086868  0.062618  0.076539  0.039049  0.093585   \n",
       "109  7.4  2.8  6.1  1.9  0.094457  0.034413  0.091462  0.040413  0.003479   \n",
       "110  6.9  3.1  5.1  2.3  0.099200  0.099441  0.089466  0.029368  0.012754   \n",
       "111  6.4  2.7  5.3  1.9  0.010071  0.080591  0.004051  0.076411  0.023072   \n",
       "\n",
       "           9   ...        14        15        16        17        18  \\\n",
       "0    0.070884  ...  0.077037  0.059674  0.030528  0.006279  0.087363   \n",
       "1    0.099943  ...  0.003515  0.053489  0.016650  0.030841  0.004506   \n",
       "2    0.005167  ...  0.021172  0.091845  0.018953  0.023671  0.014105   \n",
       "3    0.026775  ...  0.057394  0.048638  0.015598  0.078421  0.080969   \n",
       "4    0.077096  ...  0.064801  0.000805  0.098850  0.078648  0.025627   \n",
       "..        ...  ...       ...       ...       ...       ...       ...   \n",
       "107  0.017594  ...  0.028410  0.089656  0.027644  0.095602  0.000257   \n",
       "108  0.034067  ...  0.052709  0.082726  0.009826  0.043018  0.032053   \n",
       "109  0.033816  ...  0.054764  0.048690  0.067696  0.056622  0.087926   \n",
       "110  0.088862  ...  0.092964  0.002335  0.001411  0.086829  0.012567   \n",
       "111  0.051300  ...  0.032845  0.037618  0.097523  0.056621  0.008600   \n",
       "\n",
       "           19        20        21        22        23  \n",
       "0    0.003562  0.006364  0.099265  0.034852  0.065962  \n",
       "1    0.023858  0.067483  0.078238  0.069520  0.032895  \n",
       "2    0.018984  0.070037  0.056722  0.071706  0.016743  \n",
       "3    0.095683  0.000787  0.093280  0.041715  0.054997  \n",
       "4    0.010826  0.032955  0.008774  0.018743  0.063714  \n",
       "..        ...       ...       ...       ...       ...  \n",
       "107  0.014435  0.072215  0.005292  0.083675  0.001019  \n",
       "108  0.035208  0.072241  0.036238  0.044836  0.076131  \n",
       "109  0.056846  0.098286  0.031396  0.051722  0.031439  \n",
       "110  0.023855  0.019008  0.029453  0.099989  0.012572  \n",
       "111  0.009619  0.033427  0.043804  0.042216  0.039718  \n",
       "\n",
       "[112 rows x 24 columns]"
      ]
     },
     "execution_count": 53,
     "metadata": {},
     "output_type": "execute_result"
    }
   ],
   "source": [
    "pd.DataFrame(X_train)"
   ]
  },
  {
   "cell_type": "code",
   "execution_count": 54,
   "metadata": {
    "collapsed": true
   },
   "outputs": [],
   "source": [
    "from sklearn.feature_selection import SequentialFeatureSelector"
   ]
  },
  {
   "cell_type": "code",
   "execution_count": 55,
   "metadata": {
    "collapsed": true
   },
   "outputs": [
    {
     "data": {
      "text/plain": [
       "StratifiedKFold(n_splits=5, random_state=123, shuffle=True)"
      ]
     },
     "execution_count": 55,
     "metadata": {},
     "output_type": "execute_result"
    }
   ],
   "source": [
    "skf"
   ]
  },
  {
   "cell_type": "code",
   "execution_count": 56,
   "metadata": {
    "collapsed": true
   },
   "outputs": [
    {
     "data": {
      "text/plain": [
       "array([False, False, False,  True,  True,  True,  True, False, False,\n",
       "       False, False, False, False, False, False, False, False, False,\n",
       "       False, False, False, False, False, False])"
      ]
     },
     "execution_count": 56,
     "metadata": {},
     "output_type": "execute_result"
    }
   ],
   "source": [
    "lr = LogisticRegression(max_iter = 1000)\n",
    "sfs = SequentialFeatureSelector(lr, \n",
    "                                cv = skf,\n",
    "                                scoring = 'accuracy', \n",
    "                                direction='forward', \n",
    "                                n_features_to_select=4)\n",
    "sfs.fit(X_train, y_train)\n",
    "\n",
    "sfs.get_support()"
   ]
  },
  {
   "cell_type": "code",
   "execution_count": 57,
   "metadata": {
    "collapsed": true
   },
   "outputs": [
    {
     "data": {
      "text/plain": [
       "array([False, False, False,  True, False, False, False, False, False,\n",
       "       False, False, False, False, False, False, False, False, False,\n",
       "       False, False, False,  True,  True,  True])"
      ]
     },
     "execution_count": 57,
     "metadata": {},
     "output_type": "execute_result"
    }
   ],
   "source": [
    "lr = LogisticRegression(max_iter = 1000)\n",
    "sfs = SequentialFeatureSelector(lr,\n",
    "                                cv = skf, \n",
    "                                scoring = 'accuracy',  \n",
    "                                direction='backward', \n",
    "                                n_features_to_select=4)\n",
    "sfs.fit(X_train, y_train)\n",
    "\n",
    "sfs.get_support()"
   ]
  },
  {
   "cell_type": "markdown",
   "metadata": {},
   "source": [
    "**Note 1**: Which one takes the longest and why?"
   ]
  },
  {
   "cell_type": "code",
   "execution_count": 58,
   "metadata": {
    "collapsed": true
   },
   "outputs": [
    {
     "name": "stdout",
     "output_type": "stream",
     "text": [
      "1.59 s ± 74.3 ms per loop (mean ± std. dev. of 7 runs, 1 loop each)\n"
     ]
    }
   ],
   "source": [
    "%%timeit\n",
    "\n",
    "lr = LogisticRegression(max_iter = 1000)\n",
    "sfs = SequentialFeatureSelector(lr, \n",
    "                                cv = skf,\n",
    "                                scoring = 'accuracy', \n",
    "                                direction='forward', \n",
    "                                n_features_to_select=4)\n",
    "sfs.fit(X_train, y_train)\n",
    "\n",
    "sfs.get_support()"
   ]
  },
  {
   "cell_type": "code",
   "execution_count": 59,
   "metadata": {
    "collapsed": true
   },
   "outputs": [
    {
     "name": "stdout",
     "output_type": "stream",
     "text": [
      "9.07 s ± 600 ms per loop (mean ± std. dev. of 7 runs, 1 loop each)\n"
     ]
    }
   ],
   "source": [
    "%%timeit\n",
    "\n",
    "lr = LogisticRegression(max_iter = 1000)\n",
    "sfs = SequentialFeatureSelector(lr, \n",
    "                                cv = skf, \n",
    "                                scoring = 'accuracy', \n",
    "                                direction='backward', \n",
    "                                n_features_to_select=4)\n",
    "sfs.fit(X_train, y_train)\n",
    "\n",
    "sfs.get_support()"
   ]
  },
  {
   "cell_type": "markdown",
   "metadata": {},
   "source": [
    "**Note 2**: Why do we have noisy features among the selected ones?"
   ]
  },
  {
   "cell_type": "markdown",
   "metadata": {},
   "source": [
    "Check manually the first step, e.g. in the forward fashion."
   ]
  },
  {
   "cell_type": "code",
   "execution_count": 71,
   "metadata": {
    "collapsed": true
   },
   "outputs": [
    {
     "name": "stdout",
     "output_type": "stream",
     "text": [
      "0.7494071146245058\n",
      "0.5462450592885375\n",
      "0.9375494071146244\n",
      "0.9644268774703558\n",
      "0.30316205533596835\n",
      "0.3387351778656126\n",
      "0.30316205533596835\n",
      "0.25968379446640316\n",
      "0.2952569169960474\n",
      "0.3387351778656126\n",
      "0.2675889328063241\n",
      "0.30434782608695654\n",
      "0.36561264822134387\n",
      "0.28616600790513835\n",
      "0.34703557312252964\n",
      "0.33833992094861653\n",
      "0.3395256916996047\n",
      "0.2683794466403162\n",
      "0.3391304347826087\n",
      "0.35612648221343873\n",
      "0.33794466403162055\n",
      "0.38300395256916997\n",
      "0.33794466403162055\n",
      "0.2865612648221344\n"
     ]
    }
   ],
   "source": [
    "for i in range(X_train.shape[1]):\n",
    "    print(np.mean(cross_val_score(LogisticRegression(max_iter = 1000), \n",
    "                                  X_train[:,i].reshape(-1, 1),\n",
    "                                  y_train, \n",
    "                                  cv = skf)))\n"
   ]
  },
  {
   "cell_type": "markdown",
   "metadata": {},
   "source": [
    "The highest score (around 0.96) is obtained for the fourth attribute (index = 3).\n",
    "\n",
    "Evaluate the second step: which feature should be added? (i.e., which one improves most the cross-val-score?)"
   ]
  },
  {
   "cell_type": "code",
   "execution_count": 74,
   "metadata": {
    "collapsed": true
   },
   "outputs": [
    {
     "name": "stdout",
     "output_type": "stream",
     "text": [
      "0 0.9379446640316207\n",
      "1 0.9379446640316207\n",
      "2 0.9466403162055336\n",
      "4 0.9644268774703558\n",
      "5 0.9644268774703558\n",
      "6 0.9644268774703558\n",
      "7 0.9644268774703558\n",
      "8 0.9644268774703558\n",
      "9 0.9644268774703558\n",
      "10 0.9644268774703558\n",
      "11 0.9644268774703558\n",
      "12 0.9644268774703558\n",
      "13 0.9644268774703558\n",
      "14 0.9644268774703558\n",
      "15 0.9644268774703558\n",
      "16 0.9644268774703558\n",
      "17 0.9644268774703558\n",
      "18 0.9644268774703558\n",
      "19 0.9644268774703558\n",
      "20 0.9644268774703558\n",
      "21 0.9644268774703558\n",
      "22 0.9644268774703558\n",
      "23 0.9644268774703558\n"
     ]
    }
   ],
   "source": [
    "for i in range(X_train.shape[1]):\n",
    "    if i == 3:\n",
    "        continue\n",
    "    X_new = np.concatenate((X_train[:,i].reshape(-1, 1),(X_train[:,3].reshape(-1, 1))),axis = 1)\n",
    "    print(i,np.mean(cross_val_score(LogisticRegression(max_iter = 1000), \n",
    "                                    X_new,\n",
    "                                    y_train, \n",
    "                                    cv = skf)))"
   ]
  },
  {
   "cell_type": "markdown",
   "metadata": {},
   "source": [
    "It seems that, in our setting, the other actual features from the Iris dataset (X0, X1, X2) worsen the prediction, rather than improving it. That's why, if we set the target number of features to be selected to 4, the algorithm favors the noisy ones."
   ]
  },
  {
   "cell_type": "markdown",
   "metadata": {},
   "source": [
    "By setting an even minimum tolerance value (features are selected until the score improvement does not exceed such a threshold), the behavior is as expected."
   ]
  },
  {
   "cell_type": "code",
   "execution_count": 75,
   "metadata": {
    "collapsed": true
   },
   "outputs": [
    {
     "data": {
      "text/plain": [
       "array([False, False, False,  True, False, False, False, False, False,\n",
       "       False, False, False, False, False, False, False, False, False,\n",
       "       False, False, False, False, False, False])"
      ]
     },
     "execution_count": 75,
     "metadata": {},
     "output_type": "execute_result"
    }
   ],
   "source": [
    "lr = LogisticRegression(max_iter = 1000)\n",
    "sfs = SequentialFeatureSelector(lr, \n",
    "                                cv = skf, \n",
    "                                tol = 0.0000001, \n",
    "                                scoring = 'accuracy',  \n",
    "                                direction='forward', \n",
    "                                n_features_to_select='auto')\n",
    "sfs.fit(X_train, y_train)\n",
    "\n",
    "sfs.get_support()"
   ]
  }
 ],
 "metadata": {
  "kernelspec": {
   "display_name": "Python 3 (ipykernel)",
   "language": "python",
   "name": "python3"
  },
  "language_info": {
   "codemirror_mode": {
    "name": "ipython",
    "version": 3
   },
   "file_extension": ".py",
   "mimetype": "text/x-python",
   "name": "python",
   "nbconvert_exporter": "python",
   "pygments_lexer": "ipython3",
   "version": "3.10.6"
  }
 },
 "nbformat": 4,
 "nbformat_minor": 4
}
