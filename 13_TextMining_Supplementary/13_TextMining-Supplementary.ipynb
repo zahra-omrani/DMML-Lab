{
 "cells": [
  {
   "cell_type": "markdown",
   "id": "b9db5080",
   "metadata": {},
   "source": [
    "# <font color='blue'><ins>TASK</ins></font>\n",
    "- 13_TASK-2:\n",
    "- Consider the TripAdvisor dataset\n",
    "    - Carry out an exploratory data analysis.\n",
    "    - Carry out a classification analysis in the following setting:\n",
    "        - consider three models, namely SVM - MultinomialNB - DecisionTree.\n",
    "        - Evaluate the classifiers by applying a 5 fold cross-validation\n",
    "        - Compare the results achieved by the three models, in terms of accuracy\n",
    "        - Comment the results achieved in terms of precision and recall per class   \n",
    "    - Report and discuss the results."
   ]
  },
  {
   "cell_type": "markdown",
   "id": "c8b9503c",
   "metadata": {},
   "source": [
    "Differently from previous examples, texts are organized in folders on your disk:\n",
    "```\n",
    "|__TripAdvisor\n",
    "    |__Class1\n",
    "       |______file1\n",
    "       |______file2\n",
    "       |______...\n",
    "       |______file100\n",
    "    |__Class2\n",
    "       |______file101\n",
    "       |______file102\n",
    "       |______...\n",
    "       |______file200\n",
    "    |__ ...\n",
    "```\n",
    "\n",
    "The folder names represents the names of the classes.\n",
    "We will use the `sklearn.datasets.load_files` utility to read the files an prepare our dataset.\n"
   ]
  },
  {
   "cell_type": "code",
   "execution_count": 2,
   "id": "4f36fd13",
   "metadata": {},
   "outputs": [
    {
     "data": {
      "text/plain": [
       "(501, 501)"
      ]
     },
     "execution_count": 2,
     "metadata": {},
     "output_type": "execute_result"
    }
   ],
   "source": [
    "from sklearn.datasets import load_files\n",
    "\n",
    "# load files from directory\n",
    "categories = ['Class1', 'Class2', 'Class3', 'Class4', 'Class5']\n",
    "dataset=load_files(\"dataset/TripAdvisor\",description=None,categories=categories, encoding='cp437',load_content=True, shuffle=True, random_state=42)\n",
    "\n",
    "len(dataset.data), len(dataset.target)"
   ]
  },
  {
   "cell_type": "code",
   "execution_count": 4,
   "id": "c22d01d0",
   "metadata": {},
   "outputs": [
    {
     "data": {
      "text/plain": [
       "(\"'The Don Miguel 2 is situated just up a slight incline from the back of Miguel 1,could not find the Advisor page for these apartments.We were in apartment F on the 21st floor owned by Michael Baker and refurbished to a good standard.Fantastic view over the whole of Benidorm (Not much to beat it) and about 4/5 minutes from the beach. Nightlife and Bars just far enough to not bother about,but close enough to walk without exsertion.'\",\n",
       " 3)"
      ]
     },
     "execution_count": 4,
     "metadata": {},
     "output_type": "execute_result"
    }
   ],
   "source": [
    "dataset.data[0], dataset.target[0]"
   ]
  }
 ],
 "metadata": {
  "kernelspec": {
   "display_name": "Python 3 (ipykernel)",
   "language": "python",
   "name": "python3"
  },
  "language_info": {
   "codemirror_mode": {
    "name": "ipython",
    "version": 3
   },
   "file_extension": ".py",
   "mimetype": "text/x-python",
   "name": "python",
   "nbconvert_exporter": "python",
   "pygments_lexer": "ipython3",
   "version": "3.10.6"
  }
 },
 "nbformat": 4,
 "nbformat_minor": 5
}
