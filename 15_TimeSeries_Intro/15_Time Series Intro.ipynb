{
 "cells": [
  {
   "cell_type": "markdown",
   "metadata": {},
   "source": [
    "# Table of contents\n",
    "- [Date and Time Data Types and Tools](#Date-and-Time-Data-Types-and-Tools)\n",
    "- [Time Series Basics](#Time-Series-Basics)\n",
    "- [DateRanges, Frequencies, and Shifting](#Date-Ranges,-Frequencies,-and-Shifting)\n",
    "- [Time zone handling](#Time-zone-handling)\n",
    "- [Resampling and Frequency Conversion](#Resampling-and-Frequency-Conversion)\n",
    "- [Moving Window Functions](#Moving-Window-Functions)\n"
   ]
  },
  {
   "cell_type": "markdown",
   "metadata": {},
   "source": [
    "Most of the content of this notebook is based on the following books:\n",
    "\n",
    "- \"[Python for Data Analysis](https://www.oreilly.com/library/view/python-for-data/9781491957653/)\" (Chapter 11)\n",
    "    - Author: Wes McKinney \n",
    "    - Relased: October 2017\n",
    "    - Publisher: O'Reilly Media, INC. \n",
    "    - ISBN: 9781491957660\n",
    "- \"[Practical Time Series Analysis. Prediction with Statistics & Machine Learning](https://www.oreilly.com/library/view/practical-time-series/9781492041641/)\"\n",
    "    - Author: Aileen Nielsen\n",
    "    - Released: October 2019\n",
    "    - Publisher: O'Reilly Media, INC. \n",
    "    - ISBN: 9781492041658"
   ]
  },
  {
   "cell_type": "code",
   "execution_count": 1,
   "metadata": {},
   "outputs": [],
   "source": [
    "import numpy as np\n",
    "import pandas as pd\n",
    "import math\n",
    "np.random.seed(12345)\n",
    "import matplotlib.pyplot as plt"
   ]
  },
  {
   "cell_type": "markdown",
   "metadata": {},
   "source": [
    "**Time series** is an important form of structured data, with application in many fields.\n",
    "\n",
    "In **medicine**, for instance, time-series analysis for individual patients has been widely investigated. The first practical electrocardiograms (ECGs) were invented in the early 20th century and enabled the diagnosis of cardiac conditions by recording electrical signals from the heart. The electroencephalogram (EEG) was introduced in 1924: it measures the electrical impulses in the brain. Nowadays, the pervasiveness of wearable sensors and smart devices leads to the widespread collection of large amount of longitudinal data both from sick and healthy subjects.\n",
    "\n",
    "Time series analysis and forecasting plays a central role in **meteorology**, since the dawn of civilisation.\n",
    "\n",
    "Other examples range from the forecasting of **economic growth** and trading markets to **astronomy**, leading to the analysis of variable stars and the observation of transitory events such as supernovae.\n",
    "\n"
   ]
  },
  {
   "cell_type": "markdown",
   "metadata": {},
   "source": [
    "\n",
    "A time series consists of a sequence of observation over time. Each observation may be associated with:\n",
    "- a *timestamp*, specific instants in time\n",
    "- a fixed *period*, such as a whole year, or month, or day\n",
    "- an *interval* of time, i.e. a time frame between two timestamps."
   ]
  },
  {
   "cell_type": "markdown",
   "metadata": {},
   "source": [
    "The python standard library and `pandas` (originally developed by Wes Mckinney) have many built-in tools and algorithms for handling time series.\n",
    "\n",
    "The name `pandas` is actually derived from the term \"panel data\", which refers to multi-dimensional data involving measurements over time."
   ]
  },
  {
   "cell_type": "markdown",
   "metadata": {},
   "source": [
    "## Date and Time Data Types and Tools"
   ]
  },
  {
   "cell_type": "markdown",
   "metadata": {},
   "source": [
    "`datetime` stores the date and time down to microseconds"
   ]
  },
  {
   "cell_type": "code",
   "execution_count": 2,
   "metadata": {},
   "outputs": [
    {
     "name": "stdout",
     "output_type": "stream",
     "text": [
      "2022-12-05 18:03:33.749875 <class 'datetime.datetime'>\n"
     ]
    },
    {
     "data": {
      "text/plain": [
       "datetime.datetime(2022, 12, 5, 18, 3, 33, 749875)"
      ]
     },
     "execution_count": 2,
     "metadata": {},
     "output_type": "execute_result"
    }
   ],
   "source": [
    "from datetime import datetime\n",
    "now = datetime.now()\n",
    "print(now, type(now))\n",
    "now \n"
   ]
  },
  {
   "cell_type": "code",
   "execution_count": 3,
   "metadata": {},
   "outputs": [
    {
     "data": {
      "text/plain": [
       "(2022, 12, 5, 749875)"
      ]
     },
     "execution_count": 3,
     "metadata": {},
     "output_type": "execute_result"
    }
   ],
   "source": [
    "now.year, now.month, now.day, now.microsecond"
   ]
  },
  {
   "cell_type": "markdown",
   "metadata": {},
   "source": [
    "The time difference between two datetime objects is represented by the `timedelta` object"
   ]
  },
  {
   "cell_type": "code",
   "execution_count": 4,
   "metadata": {},
   "outputs": [
    {
     "data": {
      "text/plain": [
       "datetime.timedelta(days=926, seconds=56700)"
      ]
     },
     "execution_count": 4,
     "metadata": {},
     "output_type": "execute_result"
    }
   ],
   "source": [
    "delta = datetime(2011, 1, 7) - datetime(2008, 6, 24, 8, 15)\n",
    "delta"
   ]
  },
  {
   "cell_type": "code",
   "execution_count": 5,
   "metadata": {},
   "outputs": [
    {
     "data": {
      "text/plain": [
       "(926, 56700)"
      ]
     },
     "execution_count": 5,
     "metadata": {},
     "output_type": "execute_result"
    }
   ],
   "source": [
    "delta.days, delta.seconds"
   ]
  },
  {
   "cell_type": "code",
   "execution_count": 6,
   "metadata": {},
   "outputs": [
    {
     "data": {
      "text/plain": [
       "['__abs__',\n",
       " '__add__',\n",
       " '__bool__',\n",
       " '__class__',\n",
       " '__delattr__',\n",
       " '__dir__',\n",
       " '__divmod__',\n",
       " '__doc__',\n",
       " '__eq__',\n",
       " '__floordiv__',\n",
       " '__format__',\n",
       " '__ge__',\n",
       " '__getattribute__',\n",
       " '__gt__',\n",
       " '__hash__',\n",
       " '__init__',\n",
       " '__init_subclass__',\n",
       " '__le__',\n",
       " '__lt__',\n",
       " '__mod__',\n",
       " '__mul__',\n",
       " '__ne__',\n",
       " '__neg__',\n",
       " '__new__',\n",
       " '__pos__',\n",
       " '__radd__',\n",
       " '__rdivmod__',\n",
       " '__reduce__',\n",
       " '__reduce_ex__',\n",
       " '__repr__',\n",
       " '__rfloordiv__',\n",
       " '__rmod__',\n",
       " '__rmul__',\n",
       " '__rsub__',\n",
       " '__rtruediv__',\n",
       " '__setattr__',\n",
       " '__sizeof__',\n",
       " '__str__',\n",
       " '__sub__',\n",
       " '__subclasshook__',\n",
       " '__truediv__',\n",
       " 'days',\n",
       " 'max',\n",
       " 'microseconds',\n",
       " 'min',\n",
       " 'resolution',\n",
       " 'seconds',\n",
       " 'total_seconds']"
      ]
     },
     "execution_count": 6,
     "metadata": {},
     "output_type": "execute_result"
    }
   ],
   "source": [
    "dir(delta)"
   ]
  },
  {
   "cell_type": "markdown",
   "metadata": {},
   "source": [
    "`timedelta` can also be used to obtain a shifted object"
   ]
  },
  {
   "cell_type": "code",
   "execution_count": 7,
   "metadata": {
    "scrolled": true
   },
   "outputs": [
    {
     "data": {
      "text/plain": [
       "datetime.datetime(2011, 1, 19, 0, 0)"
      ]
     },
     "execution_count": 7,
     "metadata": {},
     "output_type": "execute_result"
    }
   ],
   "source": [
    "from datetime import timedelta\n",
    "start = datetime(2011, 1, 7)\n",
    "start + timedelta(12) # first parameter is day but can be tuned up till weeks and down till milliseconds"
   ]
  },
  {
   "cell_type": "code",
   "execution_count": 8,
   "metadata": {},
   "outputs": [
    {
     "data": {
      "text/plain": [
       "datetime.datetime(2010, 12, 14, 0, 0)"
      ]
     },
     "execution_count": 8,
     "metadata": {},
     "output_type": "execute_result"
    }
   ],
   "source": [
    "start - 2 * timedelta(12)"
   ]
  },
  {
   "cell_type": "markdown",
   "metadata": {},
   "source": [
    "### Converting between String and Datetime"
   ]
  },
  {
   "cell_type": "markdown",
   "metadata": {},
   "source": [
    "It is often the case that datetime information are stored as strings. We can easily convert to `datetime` object using a format specification."
   ]
  },
  {
   "cell_type": "code",
   "execution_count": 9,
   "metadata": {},
   "outputs": [
    {
     "data": {
      "text/plain": [
       "datetime.datetime(2011, 1, 3, 0, 0)"
      ]
     },
     "execution_count": 9,
     "metadata": {},
     "output_type": "execute_result"
    }
   ],
   "source": [
    "value = \"2011-01-03\"\n",
    "datetime.strptime(value, \"%Y-%m-%d\") #string parsing"
   ]
  },
  {
   "cell_type": "markdown",
   "metadata": {},
   "source": [
    "Whole list of format codes available in the [docs](https://docs.python.org/3/library/datetime.html#strftime-and-strptime-format-codes)."
   ]
  },
  {
   "cell_type": "code",
   "execution_count": 10,
   "metadata": {},
   "outputs": [
    {
     "data": {
      "text/plain": [
       "[datetime.datetime(2011, 7, 6, 0, 0), datetime.datetime(2011, 8, 6, 0, 0)]"
      ]
     },
     "execution_count": 10,
     "metadata": {},
     "output_type": "execute_result"
    }
   ],
   "source": [
    "datestrs = [\"7/6/2011\", \"8/6/2011\"]\n",
    "[datetime.strptime(x, \"%m/%d/%Y\") for x in datestrs] #string parsing"
   ]
  },
  {
   "cell_type": "markdown",
   "metadata": {},
   "source": [
    "Vice versa, we can pass from `datetime` to strings using `strftime`."
   ]
  },
  {
   "cell_type": "code",
   "execution_count": 11,
   "metadata": {},
   "outputs": [
    {
     "data": {
      "text/plain": [
       "('2011-01-03', str)"
      ]
     },
     "execution_count": 11,
     "metadata": {},
     "output_type": "execute_result"
    }
   ],
   "source": [
    "stamp = datetime(2011, 1, 3)\n",
    "str(stamp)\n",
    "stamp.strftime(\"%Y-%m-%d\"), type(stamp.strftime(\"%Y-%m-%d\")) #string formatting"
   ]
  },
  {
   "cell_type": "markdown",
   "metadata": {},
   "source": [
    "`pandas` offers a specific method for parsing strings with timestamp information"
   ]
  },
  {
   "cell_type": "code",
   "execution_count": 12,
   "metadata": {},
   "outputs": [
    {
     "data": {
      "text/plain": [
       "DatetimeIndex(['2011-07-06 12:00:00', '2011-08-06 00:00:00'], dtype='datetime64[ns]', freq=None)"
      ]
     },
     "execution_count": 12,
     "metadata": {},
     "output_type": "execute_result"
    }
   ],
   "source": [
    "datestrs = [\"2011-07-06 12:00:00\", \"2011-08-06 00:00:00\"]\n",
    "pd.to_datetime(datestrs)"
   ]
  },
  {
   "cell_type": "code",
   "execution_count": 13,
   "metadata": {},
   "outputs": [],
   "source": [
    "pd.to_datetime?"
   ]
  },
  {
   "cell_type": "code",
   "execution_count": 14,
   "metadata": {},
   "outputs": [
    {
     "data": {
      "text/plain": [
       "DatetimeIndex(['2011-07-06 12:00:00', '2011-08-06 00:00:00', 'NaT'], dtype='datetime64[ns]', freq=None)"
      ]
     },
     "execution_count": 14,
     "metadata": {},
     "output_type": "execute_result"
    }
   ],
   "source": [
    "idx = pd.to_datetime(datestrs + [None])\n",
    "idx"
   ]
  },
  {
   "cell_type": "markdown",
   "metadata": {},
   "source": [
    "For datetime64[ns] types, NaT represents missing values."
   ]
  },
  {
   "cell_type": "code",
   "execution_count": 15,
   "metadata": {
    "scrolled": false
   },
   "outputs": [
    {
     "data": {
      "text/plain": [
       "(NaT, pandas._libs.tslibs.nattype.NaTType)"
      ]
     },
     "execution_count": 15,
     "metadata": {},
     "output_type": "execute_result"
    }
   ],
   "source": [
    "idx[2], type(idx[2])"
   ]
  },
  {
   "cell_type": "code",
   "execution_count": 16,
   "metadata": {},
   "outputs": [
    {
     "data": {
      "text/plain": [
       "array([False, False,  True])"
      ]
     },
     "execution_count": 16,
     "metadata": {},
     "output_type": "execute_result"
    }
   ],
   "source": [
    "pd.isna(idx)"
   ]
  },
  {
   "cell_type": "markdown",
   "metadata": {},
   "source": [
    "## Time Series Basics"
   ]
  },
  {
   "cell_type": "markdown",
   "metadata": {},
   "source": [
    "A time series object can be represented in pandas as a Series indexed by timestamps (`datetime` objects)."
   ]
  },
  {
   "cell_type": "code",
   "execution_count": 17,
   "metadata": {},
   "outputs": [
    {
     "data": {
      "text/plain": [
       "2011-01-02   -0.204708\n",
       "2011-01-05    0.478943\n",
       "2011-01-07   -0.519439\n",
       "2011-01-08   -0.555730\n",
       "2011-01-10    1.965781\n",
       "2011-01-12    1.393406\n",
       "dtype: float64"
      ]
     },
     "execution_count": 17,
     "metadata": {},
     "output_type": "execute_result"
    }
   ],
   "source": [
    "dates = [datetime(2011, 1, 2), datetime(2011, 1, 5),\n",
    "         datetime(2011, 1, 7), datetime(2011, 1, 8),\n",
    "         datetime(2011, 1, 10), datetime(2011, 1, 12)]\n",
    "ts = pd.Series(np.random.standard_normal(6), index=dates)\n",
    "ts"
   ]
  },
  {
   "cell_type": "code",
   "execution_count": 18,
   "metadata": {},
   "outputs": [
    {
     "data": {
      "text/plain": [
       "DatetimeIndex(['2011-01-02', '2011-01-05', '2011-01-07', '2011-01-08',\n",
       "               '2011-01-10', '2011-01-12'],\n",
       "              dtype='datetime64[ns]', freq=None)"
      ]
     },
     "execution_count": 18,
     "metadata": {},
     "output_type": "execute_result"
    }
   ],
   "source": [
    "ts.index"
   ]
  },
  {
   "cell_type": "code",
   "execution_count": 19,
   "metadata": {},
   "outputs": [
    {
     "data": {
      "text/plain": [
       "dtype('<M8[ns]')"
      ]
     },
     "execution_count": 19,
     "metadata": {},
     "output_type": "execute_result"
    }
   ],
   "source": [
    "ts.index.dtype"
   ]
  },
  {
   "cell_type": "markdown",
   "metadata": {},
   "source": [
    "The general dtype `datetime64[ns]` maps to either `<M8[ns]` or `>M8[ns]` depending on the endian-ness of the machine."
   ]
  },
  {
   "cell_type": "code",
   "execution_count": 20,
   "metadata": {},
   "outputs": [
    {
     "data": {
      "text/plain": [
       "Timestamp('2011-01-02 00:00:00')"
      ]
     },
     "execution_count": 20,
     "metadata": {},
     "output_type": "execute_result"
    }
   ],
   "source": [
    "stamp = ts.index[0]\n",
    "stamp"
   ]
  },
  {
   "cell_type": "markdown",
   "metadata": {},
   "source": [
    "Scalar values from a `DatetimeIndex` are pandas `Timestamp` objects"
   ]
  },
  {
   "cell_type": "markdown",
   "metadata": {},
   "source": [
    "### Indexing, Selection, Subsetting"
   ]
  },
  {
   "cell_type": "markdown",
   "metadata": {},
   "source": [
    "Time series can be indexed as classical pandas Series objects."
   ]
  },
  {
   "cell_type": "code",
   "execution_count": 21,
   "metadata": {},
   "outputs": [
    {
     "data": {
      "text/plain": [
       "-0.5194387150567381"
      ]
     },
     "execution_count": 21,
     "metadata": {},
     "output_type": "execute_result"
    }
   ],
   "source": [
    "stamp = ts.index[2]\n",
    "ts[stamp]"
   ]
  },
  {
   "cell_type": "markdown",
   "metadata": {},
   "source": [
    "We can also use strings, as long as they can be interpreted as datetime"
   ]
  },
  {
   "cell_type": "code",
   "execution_count": 22,
   "metadata": {},
   "outputs": [
    {
     "data": {
      "text/plain": [
       "1.9657805725027142"
      ]
     },
     "execution_count": 22,
     "metadata": {},
     "output_type": "execute_result"
    }
   ],
   "source": [
    "ts[\"2011-01-10\"]"
   ]
  },
  {
   "cell_type": "markdown",
   "metadata": {},
   "source": [
    "**Slicing on time series**"
   ]
  },
  {
   "cell_type": "code",
   "execution_count": 23,
   "metadata": {},
   "outputs": [
    {
     "data": {
      "text/plain": [
       "2000-01-01    0.092908\n",
       "2000-01-02    0.281746\n",
       "2000-01-03    0.769023\n",
       "2000-01-04    1.246435\n",
       "2000-01-05    1.007189\n",
       "                ...   \n",
       "2002-09-22    0.930944\n",
       "2002-09-23   -0.811676\n",
       "2002-09-24   -1.830156\n",
       "2002-09-25   -0.138730\n",
       "2002-09-26    0.334088\n",
       "Freq: D, Length: 1000, dtype: float64"
      ]
     },
     "execution_count": 23,
     "metadata": {},
     "output_type": "execute_result"
    }
   ],
   "source": [
    "longer_ts = pd.Series(np.random.standard_normal(1000),\n",
    "                      index=pd.date_range(\"2000-01-01\", periods=1000)) # 1000 days starting from first arg.\n",
    "longer_ts"
   ]
  },
  {
   "cell_type": "code",
   "execution_count": 24,
   "metadata": {},
   "outputs": [
    {
     "data": {
      "text/plain": [
       "2001-01-01    1.599534\n",
       "2001-01-02    0.474071\n",
       "2001-01-03    0.151326\n",
       "2001-01-04   -0.542173\n",
       "2001-01-05   -0.475496\n",
       "                ...   \n",
       "2001-12-27    0.057874\n",
       "2001-12-28   -0.433739\n",
       "2001-12-29    0.092698\n",
       "2001-12-30   -1.397820\n",
       "2001-12-31    1.457823\n",
       "Freq: D, Length: 365, dtype: float64"
      ]
     },
     "execution_count": 24,
     "metadata": {},
     "output_type": "execute_result"
    }
   ],
   "source": [
    "longer_ts[\"2001\"]"
   ]
  },
  {
   "cell_type": "code",
   "execution_count": 25,
   "metadata": {},
   "outputs": [
    {
     "data": {
      "text/plain": [
       "2001-05-01   -0.622547\n",
       "2001-05-02    0.936289\n",
       "2001-05-03    0.750018\n",
       "2001-05-04   -0.056715\n",
       "2001-05-05    2.300675\n",
       "2001-05-06    0.569497\n",
       "2001-05-07    1.489410\n",
       "2001-05-08    1.264250\n",
       "2001-05-09   -0.761837\n",
       "2001-05-10   -0.331617\n",
       "2001-05-11   -1.751315\n",
       "2001-05-12    0.628894\n",
       "2001-05-13    0.282502\n",
       "2001-05-14   -1.338139\n",
       "2001-05-15   -0.500607\n",
       "2001-05-16    0.121645\n",
       "2001-05-17    1.708323\n",
       "2001-05-18   -0.970999\n",
       "2001-05-19   -0.619332\n",
       "2001-05-20   -0.726708\n",
       "2001-05-21    1.221655\n",
       "2001-05-22    0.503699\n",
       "2001-05-23   -1.387874\n",
       "2001-05-24    0.204851\n",
       "2001-05-25    0.603705\n",
       "2001-05-26    0.545680\n",
       "2001-05-27    0.235477\n",
       "2001-05-28    0.111835\n",
       "2001-05-29   -1.251504\n",
       "2001-05-30   -2.949343\n",
       "2001-05-31    0.634634\n",
       "Freq: D, dtype: float64"
      ]
     },
     "execution_count": 25,
     "metadata": {},
     "output_type": "execute_result"
    }
   ],
   "source": [
    "longer_ts[\"2001-05\"]"
   ]
  },
  {
   "cell_type": "markdown",
   "metadata": {},
   "source": [
    "Back to our simple timeseries"
   ]
  },
  {
   "cell_type": "code",
   "execution_count": 26,
   "metadata": {},
   "outputs": [
    {
     "data": {
      "text/plain": [
       "2011-01-02   -0.204708\n",
       "2011-01-05    0.478943\n",
       "2011-01-07   -0.519439\n",
       "2011-01-08   -0.555730\n",
       "2011-01-10    1.965781\n",
       "2011-01-12    1.393406\n",
       "dtype: float64"
      ]
     },
     "execution_count": 26,
     "metadata": {},
     "output_type": "execute_result"
    }
   ],
   "source": [
    "ts"
   ]
  },
  {
   "cell_type": "code",
   "execution_count": 27,
   "metadata": {},
   "outputs": [
    {
     "data": {
      "text/plain": [
       "2011-01-07   -0.519439\n",
       "2011-01-08   -0.555730\n",
       "2011-01-10    1.965781\n",
       "2011-01-12    1.393406\n",
       "dtype: float64"
      ]
     },
     "execution_count": 27,
     "metadata": {},
     "output_type": "execute_result"
    }
   ],
   "source": [
    "ts[datetime(2011, 1, 7):]"
   ]
  },
  {
   "cell_type": "code",
   "execution_count": 28,
   "metadata": {},
   "outputs": [
    {
     "data": {
      "text/plain": [
       "2011-01-07   -0.519439\n",
       "2011-01-08   -0.555730\n",
       "2011-01-10    1.965781\n",
       "dtype: float64"
      ]
     },
     "execution_count": 28,
     "metadata": {},
     "output_type": "execute_result"
    }
   ],
   "source": [
    "ts[datetime(2011, 1, 7):datetime(2011, 1, 10)]"
   ]
  },
  {
   "cell_type": "markdown",
   "metadata": {},
   "source": [
    "We can also use timestamps not contained in the time series to perform a range query."
   ]
  },
  {
   "cell_type": "code",
   "execution_count": 29,
   "metadata": {},
   "outputs": [
    {
     "data": {
      "text/plain": [
       "2011-01-07   -0.519439\n",
       "2011-01-08   -0.555730\n",
       "2011-01-10    1.965781\n",
       "dtype: float64"
      ]
     },
     "execution_count": 29,
     "metadata": {},
     "output_type": "execute_result"
    }
   ],
   "source": [
    "ts[\"2011-01-06\":\"2011-01-11\"]"
   ]
  },
  {
   "cell_type": "markdown",
   "metadata": {},
   "source": [
    "Note that this slicing operations produce views on the source time series: indeed, no data is copied and modifications on the slice will be reflected in the original data."
   ]
  },
  {
   "cell_type": "markdown",
   "metadata": {},
   "source": [
    "The same concepts apply for pandas `DataFrame` objects."
   ]
  },
  {
   "cell_type": "code",
   "execution_count": 30,
   "metadata": {},
   "outputs": [
    {
     "data": {
      "text/plain": [
       "DatetimeIndex(['2000-01-05', '2000-01-12', '2000-01-19', '2000-01-26',\n",
       "               '2000-02-02', '2000-02-09', '2000-02-16', '2000-02-23',\n",
       "               '2000-03-01', '2000-03-08', '2000-03-15', '2000-03-22',\n",
       "               '2000-03-29', '2000-04-05', '2000-04-12', '2000-04-19',\n",
       "               '2000-04-26', '2000-05-03', '2000-05-10', '2000-05-17',\n",
       "               '2000-05-24', '2000-05-31', '2000-06-07', '2000-06-14',\n",
       "               '2000-06-21', '2000-06-28', '2000-07-05', '2000-07-12',\n",
       "               '2000-07-19', '2000-07-26', '2000-08-02', '2000-08-09',\n",
       "               '2000-08-16', '2000-08-23', '2000-08-30', '2000-09-06',\n",
       "               '2000-09-13', '2000-09-20', '2000-09-27', '2000-10-04',\n",
       "               '2000-10-11', '2000-10-18', '2000-10-25', '2000-11-01',\n",
       "               '2000-11-08', '2000-11-15', '2000-11-22', '2000-11-29',\n",
       "               '2000-12-06', '2000-12-13', '2000-12-20', '2000-12-27',\n",
       "               '2001-01-03', '2001-01-10', '2001-01-17', '2001-01-24',\n",
       "               '2001-01-31', '2001-02-07', '2001-02-14', '2001-02-21',\n",
       "               '2001-02-28', '2001-03-07', '2001-03-14', '2001-03-21',\n",
       "               '2001-03-28', '2001-04-04', '2001-04-11', '2001-04-18',\n",
       "               '2001-04-25', '2001-05-02', '2001-05-09', '2001-05-16',\n",
       "               '2001-05-23', '2001-05-30', '2001-06-06', '2001-06-13',\n",
       "               '2001-06-20', '2001-06-27', '2001-07-04', '2001-07-11',\n",
       "               '2001-07-18', '2001-07-25', '2001-08-01', '2001-08-08',\n",
       "               '2001-08-15', '2001-08-22', '2001-08-29', '2001-09-05',\n",
       "               '2001-09-12', '2001-09-19', '2001-09-26', '2001-10-03',\n",
       "               '2001-10-10', '2001-10-17', '2001-10-24', '2001-10-31',\n",
       "               '2001-11-07', '2001-11-14', '2001-11-21', '2001-11-28'],\n",
       "              dtype='datetime64[ns]', freq='W-WED')"
      ]
     },
     "execution_count": 30,
     "metadata": {},
     "output_type": "execute_result"
    }
   ],
   "source": [
    "dates = pd.date_range(\"2000-01-01\", periods=100, freq=\"W-WED\") \n",
    "# W: weekly frequenct, WED = anchoring suffix for Wednesday\n",
    "dates"
   ]
  },
  {
   "cell_type": "code",
   "execution_count": 31,
   "metadata": {},
   "outputs": [
    {
     "data": {
      "text/html": [
       "<div>\n",
       "<style scoped>\n",
       "    .dataframe tbody tr th:only-of-type {\n",
       "        vertical-align: middle;\n",
       "    }\n",
       "\n",
       "    .dataframe tbody tr th {\n",
       "        vertical-align: top;\n",
       "    }\n",
       "\n",
       "    .dataframe thead th {\n",
       "        text-align: right;\n",
       "    }\n",
       "</style>\n",
       "<table border=\"1\" class=\"dataframe\">\n",
       "  <thead>\n",
       "    <tr style=\"text-align: right;\">\n",
       "      <th></th>\n",
       "      <th>Colorado</th>\n",
       "      <th>Texas</th>\n",
       "      <th>New York</th>\n",
       "      <th>Ohio</th>\n",
       "    </tr>\n",
       "  </thead>\n",
       "  <tbody>\n",
       "    <tr>\n",
       "      <th>2000-01-05</th>\n",
       "      <td>0.488675</td>\n",
       "      <td>-0.178098</td>\n",
       "      <td>2.122315</td>\n",
       "      <td>0.061192</td>\n",
       "    </tr>\n",
       "    <tr>\n",
       "      <th>2000-01-12</th>\n",
       "      <td>0.884111</td>\n",
       "      <td>-0.608506</td>\n",
       "      <td>-0.072052</td>\n",
       "      <td>0.544066</td>\n",
       "    </tr>\n",
       "    <tr>\n",
       "      <th>2000-01-19</th>\n",
       "      <td>0.323886</td>\n",
       "      <td>-1.683325</td>\n",
       "      <td>0.526860</td>\n",
       "      <td>1.858791</td>\n",
       "    </tr>\n",
       "    <tr>\n",
       "      <th>2000-01-26</th>\n",
       "      <td>-0.548419</td>\n",
       "      <td>-0.279397</td>\n",
       "      <td>-0.021299</td>\n",
       "      <td>-0.287990</td>\n",
       "    </tr>\n",
       "    <tr>\n",
       "      <th>2000-02-02</th>\n",
       "      <td>0.089175</td>\n",
       "      <td>0.522858</td>\n",
       "      <td>0.572796</td>\n",
       "      <td>-1.760372</td>\n",
       "    </tr>\n",
       "    <tr>\n",
       "      <th>...</th>\n",
       "      <td>...</td>\n",
       "      <td>...</td>\n",
       "      <td>...</td>\n",
       "      <td>...</td>\n",
       "    </tr>\n",
       "    <tr>\n",
       "      <th>2001-10-31</th>\n",
       "      <td>-0.054630</td>\n",
       "      <td>-0.656506</td>\n",
       "      <td>-1.550087</td>\n",
       "      <td>-0.044347</td>\n",
       "    </tr>\n",
       "    <tr>\n",
       "      <th>2001-11-07</th>\n",
       "      <td>0.681470</td>\n",
       "      <td>-0.953726</td>\n",
       "      <td>-1.857016</td>\n",
       "      <td>0.449495</td>\n",
       "    </tr>\n",
       "    <tr>\n",
       "      <th>2001-11-14</th>\n",
       "      <td>-0.061732</td>\n",
       "      <td>1.233914</td>\n",
       "      <td>0.705830</td>\n",
       "      <td>-1.309077</td>\n",
       "    </tr>\n",
       "    <tr>\n",
       "      <th>2001-11-21</th>\n",
       "      <td>-1.537380</td>\n",
       "      <td>0.531551</td>\n",
       "      <td>2.047573</td>\n",
       "      <td>0.446691</td>\n",
       "    </tr>\n",
       "    <tr>\n",
       "      <th>2001-11-28</th>\n",
       "      <td>-0.223556</td>\n",
       "      <td>0.092835</td>\n",
       "      <td>0.716076</td>\n",
       "      <td>0.657198</td>\n",
       "    </tr>\n",
       "  </tbody>\n",
       "</table>\n",
       "<p>100 rows × 4 columns</p>\n",
       "</div>"
      ],
      "text/plain": [
       "            Colorado     Texas  New York      Ohio\n",
       "2000-01-05  0.488675 -0.178098  2.122315  0.061192\n",
       "2000-01-12  0.884111 -0.608506 -0.072052  0.544066\n",
       "2000-01-19  0.323886 -1.683325  0.526860  1.858791\n",
       "2000-01-26 -0.548419 -0.279397 -0.021299 -0.287990\n",
       "2000-02-02  0.089175  0.522858  0.572796 -1.760372\n",
       "...              ...       ...       ...       ...\n",
       "2001-10-31 -0.054630 -0.656506 -1.550087 -0.044347\n",
       "2001-11-07  0.681470 -0.953726 -1.857016  0.449495\n",
       "2001-11-14 -0.061732  1.233914  0.705830 -1.309077\n",
       "2001-11-21 -1.537380  0.531551  2.047573  0.446691\n",
       "2001-11-28 -0.223556  0.092835  0.716076  0.657198\n",
       "\n",
       "[100 rows x 4 columns]"
      ]
     },
     "execution_count": 31,
     "metadata": {},
     "output_type": "execute_result"
    }
   ],
   "source": [
    "long_df = pd.DataFrame(np.random.standard_normal((100, 4)),\n",
    "                       index=dates,\n",
    "                       columns=[\"Colorado\", \"Texas\",\n",
    "                                \"New York\", \"Ohio\"])\n",
    "long_df"
   ]
  },
  {
   "cell_type": "code",
   "execution_count": 32,
   "metadata": {},
   "outputs": [
    {
     "data": {
      "text/html": [
       "<div>\n",
       "<style scoped>\n",
       "    .dataframe tbody tr th:only-of-type {\n",
       "        vertical-align: middle;\n",
       "    }\n",
       "\n",
       "    .dataframe tbody tr th {\n",
       "        vertical-align: top;\n",
       "    }\n",
       "\n",
       "    .dataframe thead th {\n",
       "        text-align: right;\n",
       "    }\n",
       "</style>\n",
       "<table border=\"1\" class=\"dataframe\">\n",
       "  <thead>\n",
       "    <tr style=\"text-align: right;\">\n",
       "      <th></th>\n",
       "      <th>Colorado</th>\n",
       "      <th>Texas</th>\n",
       "      <th>New York</th>\n",
       "      <th>Ohio</th>\n",
       "    </tr>\n",
       "  </thead>\n",
       "  <tbody>\n",
       "    <tr>\n",
       "      <th>2001-05-02</th>\n",
       "      <td>-0.006045</td>\n",
       "      <td>0.490094</td>\n",
       "      <td>-0.277186</td>\n",
       "      <td>-0.707213</td>\n",
       "    </tr>\n",
       "    <tr>\n",
       "      <th>2001-05-09</th>\n",
       "      <td>-0.560107</td>\n",
       "      <td>2.735527</td>\n",
       "      <td>0.927335</td>\n",
       "      <td>1.513906</td>\n",
       "    </tr>\n",
       "    <tr>\n",
       "      <th>2001-05-16</th>\n",
       "      <td>0.538600</td>\n",
       "      <td>1.273768</td>\n",
       "      <td>0.667876</td>\n",
       "      <td>-0.969206</td>\n",
       "    </tr>\n",
       "    <tr>\n",
       "      <th>2001-05-23</th>\n",
       "      <td>1.676091</td>\n",
       "      <td>-0.817649</td>\n",
       "      <td>0.050188</td>\n",
       "      <td>1.951312</td>\n",
       "    </tr>\n",
       "    <tr>\n",
       "      <th>2001-05-30</th>\n",
       "      <td>3.260383</td>\n",
       "      <td>0.963301</td>\n",
       "      <td>1.201206</td>\n",
       "      <td>-1.852001</td>\n",
       "    </tr>\n",
       "  </tbody>\n",
       "</table>\n",
       "</div>"
      ],
      "text/plain": [
       "            Colorado     Texas  New York      Ohio\n",
       "2001-05-02 -0.006045  0.490094 -0.277186 -0.707213\n",
       "2001-05-09 -0.560107  2.735527  0.927335  1.513906\n",
       "2001-05-16  0.538600  1.273768  0.667876 -0.969206\n",
       "2001-05-23  1.676091 -0.817649  0.050188  1.951312\n",
       "2001-05-30  3.260383  0.963301  1.201206 -1.852001"
      ]
     },
     "execution_count": 32,
     "metadata": {},
     "output_type": "execute_result"
    }
   ],
   "source": [
    "long_df.loc[\"2001-05\"]"
   ]
  },
  {
   "cell_type": "markdown",
   "metadata": {},
   "source": [
    "### Time series with Duplicate indices"
   ]
  },
  {
   "cell_type": "markdown",
   "metadata": {},
   "source": [
    "It may happen that multiple observations fall on a particular timestamp."
   ]
  },
  {
   "cell_type": "code",
   "execution_count": 33,
   "metadata": {},
   "outputs": [
    {
     "data": {
      "text/plain": [
       "2000-01-01    0\n",
       "2000-01-02    1\n",
       "2000-01-02    2\n",
       "2000-01-02    3\n",
       "2000-01-03    4\n",
       "dtype: int64"
      ]
     },
     "execution_count": 33,
     "metadata": {},
     "output_type": "execute_result"
    }
   ],
   "source": [
    "dates = pd.DatetimeIndex([\"2000-01-01\", \"2000-01-02\", \"2000-01-02\",\n",
    "                          \"2000-01-02\", \"2000-01-03\"])\n",
    "dup_ts = pd.Series(np.arange(5), index=dates)\n",
    "dup_ts"
   ]
  },
  {
   "cell_type": "markdown",
   "metadata": {},
   "source": [
    "Check the *uniqueness* property."
   ]
  },
  {
   "cell_type": "code",
   "execution_count": 34,
   "metadata": {},
   "outputs": [
    {
     "data": {
      "text/plain": [
       "False"
      ]
     },
     "execution_count": 34,
     "metadata": {},
     "output_type": "execute_result"
    }
   ],
   "source": [
    "dup_ts.index.is_unique"
   ]
  },
  {
   "cell_type": "code",
   "execution_count": 35,
   "metadata": {},
   "outputs": [
    {
     "data": {
      "text/plain": [
       "4"
      ]
     },
     "execution_count": 35,
     "metadata": {},
     "output_type": "execute_result"
    }
   ],
   "source": [
    "dup_ts[\"2000-01-03\"]  # not duplicated"
   ]
  },
  {
   "cell_type": "code",
   "execution_count": 36,
   "metadata": {},
   "outputs": [
    {
     "data": {
      "text/plain": [
       "2000-01-02    1\n",
       "2000-01-02    2\n",
       "2000-01-02    3\n",
       "dtype: int64"
      ]
     },
     "execution_count": 36,
     "metadata": {},
     "output_type": "execute_result"
    }
   ],
   "source": [
    "dup_ts[\"2000-01-02\"]  # duplicated"
   ]
  },
  {
   "cell_type": "code",
   "execution_count": 37,
   "metadata": {},
   "outputs": [
    {
     "data": {
      "text/plain": [
       "2000-01-01    0.0\n",
       "2000-01-02    2.0\n",
       "2000-01-03    4.0\n",
       "dtype: float64"
      ]
     },
     "execution_count": 37,
     "metadata": {},
     "output_type": "execute_result"
    }
   ],
   "source": [
    "grouped = dup_ts.groupby(level=0)\n",
    "grouped.mean()"
   ]
  },
  {
   "cell_type": "code",
   "execution_count": 38,
   "metadata": {},
   "outputs": [
    {
     "data": {
      "text/plain": [
       "2000-01-01    1\n",
       "2000-01-02    3\n",
       "2000-01-03    1\n",
       "dtype: int64"
      ]
     },
     "execution_count": 38,
     "metadata": {},
     "output_type": "execute_result"
    }
   ],
   "source": [
    "grouped.count()"
   ]
  },
  {
   "cell_type": "markdown",
   "metadata": {},
   "source": [
    "## Date Ranges, Frequencies, and Shifting"
   ]
  },
  {
   "cell_type": "markdown",
   "metadata": {},
   "source": [
    "Many time series are **fixed frequency**: data points occur at regular intervals according to some rule.\n",
    "\n",
    "However, it is often the case that time series are **irregular**, i.e., without a fixed unit of time or offset between units.\n",
    "Whenever it is preferable to work with a fixed frequency, we can leverage a full suite of standard time series tools provided by `pandas`."
   ]
  },
  {
   "cell_type": "code",
   "execution_count": 39,
   "metadata": {
    "scrolled": true
   },
   "outputs": [
    {
     "data": {
      "text/plain": [
       "2011-01-02   -0.204708\n",
       "2011-01-05    0.478943\n",
       "2011-01-07   -0.519439\n",
       "2011-01-08   -0.555730\n",
       "2011-01-10    1.965781\n",
       "2011-01-12    1.393406\n",
       "dtype: float64"
      ]
     },
     "execution_count": 39,
     "metadata": {},
     "output_type": "execute_result"
    }
   ],
   "source": [
    "ts"
   ]
  },
  {
   "cell_type": "markdown",
   "metadata": {},
   "source": [
    "### Generating Date Ranges"
   ]
  },
  {
   "cell_type": "markdown",
   "metadata": {},
   "source": [
    "As we have seen before, `pd.date_range` can be used for generating a DatetimeIndex with an indicated length according to a specific frequency.\n",
    "\n",
    "By default, timestamps are generated with a daily frequency."
   ]
  },
  {
   "cell_type": "code",
   "execution_count": 40,
   "metadata": {},
   "outputs": [
    {
     "data": {
      "text/plain": [
       "DatetimeIndex(['2012-04-01', '2012-04-02', '2012-04-03', '2012-04-04',\n",
       "               '2012-04-05', '2012-04-06', '2012-04-07', '2012-04-08',\n",
       "               '2012-04-09', '2012-04-10', '2012-04-11', '2012-04-12',\n",
       "               '2012-04-13', '2012-04-14', '2012-04-15', '2012-04-16',\n",
       "               '2012-04-17', '2012-04-18', '2012-04-19', '2012-04-20',\n",
       "               '2012-04-21', '2012-04-22', '2012-04-23', '2012-04-24',\n",
       "               '2012-04-25', '2012-04-26', '2012-04-27', '2012-04-28',\n",
       "               '2012-04-29', '2012-04-30', '2012-05-01', '2012-05-02',\n",
       "               '2012-05-03', '2012-05-04', '2012-05-05', '2012-05-06',\n",
       "               '2012-05-07', '2012-05-08', '2012-05-09', '2012-05-10',\n",
       "               '2012-05-11', '2012-05-12', '2012-05-13', '2012-05-14',\n",
       "               '2012-05-15', '2012-05-16', '2012-05-17', '2012-05-18',\n",
       "               '2012-05-19', '2012-05-20', '2012-05-21', '2012-05-22',\n",
       "               '2012-05-23', '2012-05-24', '2012-05-25', '2012-05-26',\n",
       "               '2012-05-27', '2012-05-28', '2012-05-29', '2012-05-30',\n",
       "               '2012-05-31', '2012-06-01'],\n",
       "              dtype='datetime64[ns]', freq='D')"
      ]
     },
     "execution_count": 40,
     "metadata": {},
     "output_type": "execute_result"
    }
   ],
   "source": [
    "index = pd.date_range(\"2012-04-01\", \"2012-06-01\")\n",
    "index"
   ]
  },
  {
   "cell_type": "code",
   "execution_count": 41,
   "metadata": {},
   "outputs": [
    {
     "data": {
      "text/plain": [
       "DatetimeIndex(['2012-04-01', '2012-04-02', '2012-04-03', '2012-04-04',\n",
       "               '2012-04-05', '2012-04-06', '2012-04-07', '2012-04-08',\n",
       "               '2012-04-09', '2012-04-10', '2012-04-11', '2012-04-12',\n",
       "               '2012-04-13', '2012-04-14', '2012-04-15', '2012-04-16',\n",
       "               '2012-04-17', '2012-04-18', '2012-04-19', '2012-04-20'],\n",
       "              dtype='datetime64[ns]', freq='D')"
      ]
     },
     "execution_count": 41,
     "metadata": {},
     "output_type": "execute_result"
    }
   ],
   "source": [
    "pd.date_range(start=\"2012-04-01\", periods=20) # if only start is specified, the number of periods is needed"
   ]
  },
  {
   "cell_type": "code",
   "execution_count": 42,
   "metadata": {},
   "outputs": [
    {
     "data": {
      "text/plain": [
       "DatetimeIndex(['2012-05-13', '2012-05-14', '2012-05-15', '2012-05-16',\n",
       "               '2012-05-17', '2012-05-18', '2012-05-19', '2012-05-20',\n",
       "               '2012-05-21', '2012-05-22', '2012-05-23', '2012-05-24',\n",
       "               '2012-05-25', '2012-05-26', '2012-05-27', '2012-05-28',\n",
       "               '2012-05-29', '2012-05-30', '2012-05-31', '2012-06-01'],\n",
       "              dtype='datetime64[ns]', freq='D')"
      ]
     },
     "execution_count": 42,
     "metadata": {},
     "output_type": "execute_result"
    }
   ],
   "source": [
    "pd.date_range(end=\"2012-06-01\", periods=20)  # if only end is specified, the number of periods is needed"
   ]
  },
  {
   "cell_type": "markdown",
   "metadata": {},
   "source": [
    "Whole list of frequencies available in the [docs](https://pandas.pydata.org/docs/user_guide/timeseries.html#dateoffset-objects)."
   ]
  },
  {
   "cell_type": "code",
   "execution_count": 43,
   "metadata": {},
   "outputs": [
    {
     "data": {
      "text/plain": [
       "DatetimeIndex(['2000-01-31', '2000-02-29', '2000-03-31', '2000-04-28',\n",
       "               '2000-05-31', '2000-06-30', '2000-07-31', '2000-08-31',\n",
       "               '2000-09-29', '2000-10-31', '2000-11-30'],\n",
       "              dtype='datetime64[ns]', freq='BM')"
      ]
     },
     "execution_count": 43,
     "metadata": {},
     "output_type": "execute_result"
    }
   ],
   "source": [
    "pd.date_range(\"2000-01-01\", \"2000-12-01\", freq=\"BM\") # business end of month: note that index is not evenly spaced"
   ]
  },
  {
   "cell_type": "code",
   "execution_count": 44,
   "metadata": {},
   "outputs": [
    {
     "data": {
      "text/plain": [
       "DatetimeIndex(['2012-05-02 12:56:31', '2012-05-03 12:56:31',\n",
       "               '2012-05-04 12:56:31', '2012-05-05 12:56:31',\n",
       "               '2012-05-06 12:56:31'],\n",
       "              dtype='datetime64[ns]', freq='D')"
      ]
     },
     "execution_count": 44,
     "metadata": {},
     "output_type": "execute_result"
    }
   ],
   "source": [
    "pd.date_range(\"2012-05-02 12:56:31\", periods=5)"
   ]
  },
  {
   "cell_type": "markdown",
   "metadata": {},
   "source": [
    "Discard fine grained information and normalize to midnight."
   ]
  },
  {
   "cell_type": "code",
   "execution_count": 45,
   "metadata": {
    "scrolled": true
   },
   "outputs": [
    {
     "data": {
      "text/plain": [
       "DatetimeIndex(['2012-05-02', '2012-05-03', '2012-05-04', '2012-05-05',\n",
       "               '2012-05-06'],\n",
       "              dtype='datetime64[ns]', freq='D')"
      ]
     },
     "execution_count": 45,
     "metadata": {},
     "output_type": "execute_result"
    }
   ],
   "source": [
    "pd.date_range(\"2012-05-02 12:56:31\", periods=5, normalize=True) "
   ]
  },
  {
   "cell_type": "markdown",
   "metadata": {},
   "source": [
    "### Frequencies and Date Offsets"
   ]
  },
  {
   "cell_type": "markdown",
   "metadata": {},
   "source": [
    "Custom frequencies can be obtained by composition of \n",
    "- a *base frequency* (usually referred by an alias)\n",
    "- a *multiplier*"
   ]
  },
  {
   "cell_type": "code",
   "execution_count": 46,
   "metadata": {},
   "outputs": [
    {
     "data": {
      "text/plain": [
       "<Hour>"
      ]
     },
     "execution_count": 46,
     "metadata": {},
     "output_type": "execute_result"
    }
   ],
   "source": [
    "from pandas.tseries.offsets import Hour, Minute\n",
    "hour = Hour()\n",
    "hour"
   ]
  },
  {
   "cell_type": "code",
   "execution_count": 47,
   "metadata": {},
   "outputs": [
    {
     "data": {
      "text/plain": [
       "<4 * Hours>"
      ]
     },
     "execution_count": 47,
     "metadata": {},
     "output_type": "execute_result"
    }
   ],
   "source": [
    "four_hours = Hour(4)\n",
    "four_hours"
   ]
  },
  {
   "cell_type": "code",
   "execution_count": 48,
   "metadata": {},
   "outputs": [
    {
     "data": {
      "text/plain": [
       "<150 * Minutes>"
      ]
     },
     "execution_count": 48,
     "metadata": {},
     "output_type": "execute_result"
    }
   ],
   "source": [
    "Hour(2) + Minute(30) # offset an be combined together by addition"
   ]
  },
  {
   "cell_type": "code",
   "execution_count": 49,
   "metadata": {},
   "outputs": [
    {
     "data": {
      "text/plain": [
       "DatetimeIndex(['2000-01-01 00:00:00', '2000-01-01 04:00:00',\n",
       "               '2000-01-01 08:00:00', '2000-01-01 12:00:00',\n",
       "               '2000-01-01 16:00:00', '2000-01-01 20:00:00',\n",
       "               '2000-01-02 00:00:00', '2000-01-02 04:00:00',\n",
       "               '2000-01-02 08:00:00', '2000-01-02 12:00:00',\n",
       "               '2000-01-02 16:00:00', '2000-01-02 20:00:00',\n",
       "               '2000-01-03 00:00:00', '2000-01-03 04:00:00',\n",
       "               '2000-01-03 08:00:00', '2000-01-03 12:00:00',\n",
       "               '2000-01-03 16:00:00', '2000-01-03 20:00:00'],\n",
       "              dtype='datetime64[ns]', freq='4H')"
      ]
     },
     "execution_count": 49,
     "metadata": {},
     "output_type": "execute_result"
    }
   ],
   "source": [
    "pd.date_range(\"2000-01-01\", \"2000-01-03 23:59\", freq=four_hours)"
   ]
  },
  {
   "cell_type": "markdown",
   "metadata": {},
   "source": [
    "We can directly use a string alias, by putting the multiplier integer before the base frequency."
   ]
  },
  {
   "cell_type": "code",
   "execution_count": 50,
   "metadata": {},
   "outputs": [
    {
     "data": {
      "text/plain": [
       "DatetimeIndex(['2000-01-01 00:00:00', '2000-01-01 04:00:00',\n",
       "               '2000-01-01 08:00:00', '2000-01-01 12:00:00',\n",
       "               '2000-01-01 16:00:00', '2000-01-01 20:00:00',\n",
       "               '2000-01-02 00:00:00', '2000-01-02 04:00:00',\n",
       "               '2000-01-02 08:00:00', '2000-01-02 12:00:00',\n",
       "               '2000-01-02 16:00:00', '2000-01-02 20:00:00',\n",
       "               '2000-01-03 00:00:00', '2000-01-03 04:00:00',\n",
       "               '2000-01-03 08:00:00', '2000-01-03 12:00:00',\n",
       "               '2000-01-03 16:00:00', '2000-01-03 20:00:00'],\n",
       "              dtype='datetime64[ns]', freq='4H')"
      ]
     },
     "execution_count": 50,
     "metadata": {},
     "output_type": "execute_result"
    }
   ],
   "source": [
    "pd.date_range(\"2000-01-01\", \"2000-01-03 23:59\", freq=\"4H\")"
   ]
  },
  {
   "cell_type": "code",
   "execution_count": 51,
   "metadata": {},
   "outputs": [
    {
     "data": {
      "text/plain": [
       "DatetimeIndex(['2000-01-01 00:00:00', '2000-01-01 01:30:00',\n",
       "               '2000-01-01 03:00:00', '2000-01-01 04:30:00',\n",
       "               '2000-01-01 06:00:00', '2000-01-01 07:30:00',\n",
       "               '2000-01-01 09:00:00', '2000-01-01 10:30:00',\n",
       "               '2000-01-01 12:00:00', '2000-01-01 13:30:00'],\n",
       "              dtype='datetime64[ns]', freq='90T')"
      ]
     },
     "execution_count": 51,
     "metadata": {},
     "output_type": "execute_result"
    }
   ],
   "source": [
    "pd.date_range(\"2000-01-01\", periods=10, freq=\"1h30min\")"
   ]
  },
  {
   "cell_type": "markdown",
   "metadata": {},
   "source": [
    "More complex date logics can be obtained. \n",
    "- WOM: frequency class is week of month\n",
    "- 3FRI: third friday of each month"
   ]
  },
  {
   "cell_type": "code",
   "execution_count": 52,
   "metadata": {},
   "outputs": [
    {
     "data": {
      "text/plain": [
       "[Timestamp('2022-01-21 00:00:00', freq='WOM-3FRI'),\n",
       " Timestamp('2022-02-18 00:00:00', freq='WOM-3FRI'),\n",
       " Timestamp('2022-03-18 00:00:00', freq='WOM-3FRI'),\n",
       " Timestamp('2022-04-15 00:00:00', freq='WOM-3FRI'),\n",
       " Timestamp('2022-05-20 00:00:00', freq='WOM-3FRI'),\n",
       " Timestamp('2022-06-17 00:00:00', freq='WOM-3FRI'),\n",
       " Timestamp('2022-07-15 00:00:00', freq='WOM-3FRI'),\n",
       " Timestamp('2022-08-19 00:00:00', freq='WOM-3FRI')]"
      ]
     },
     "execution_count": 52,
     "metadata": {},
     "output_type": "execute_result"
    }
   ],
   "source": [
    "monthly_dates = pd.date_range(\"2022-01-01\", \"2022-09-01\", freq=\"WOM-3FRI\")\n",
    "list(monthly_dates)"
   ]
  },
  {
   "cell_type": "markdown",
   "metadata": {},
   "source": [
    "### Shifting data"
   ]
  },
  {
   "cell_type": "markdown",
   "metadata": {},
   "source": [
    "Shifting consists in moving foraward or backward a time series (or a dataframe), by leaving the index unmodified."
   ]
  },
  {
   "cell_type": "code",
   "execution_count": 53,
   "metadata": {},
   "outputs": [
    {
     "data": {
      "text/plain": [
       "2000-01-31    1\n",
       "2000-02-29    2\n",
       "2000-03-31    4\n",
       "2000-04-30    3\n",
       "Freq: M, dtype: int64"
      ]
     },
     "execution_count": 53,
     "metadata": {},
     "output_type": "execute_result"
    }
   ],
   "source": [
    "ts = pd.Series([1,2,4,3],\n",
    "               index=pd.date_range(\"2000-01-01\", periods=4, freq=\"M\"))\n",
    "ts"
   ]
  },
  {
   "cell_type": "code",
   "execution_count": 54,
   "metadata": {},
   "outputs": [
    {
     "data": {
      "text/plain": [
       "2000-01-31    NaN\n",
       "2000-02-29    NaN\n",
       "2000-03-31    1.0\n",
       "2000-04-30    2.0\n",
       "Freq: M, dtype: float64"
      ]
     },
     "execution_count": 54,
     "metadata": {},
     "output_type": "execute_result"
    }
   ],
   "source": [
    "ts.shift(2)"
   ]
  },
  {
   "cell_type": "markdown",
   "metadata": {},
   "source": [
    "Evidently, shifting entails introducing *missing* data, either at the end or at the start."
   ]
  },
  {
   "cell_type": "code",
   "execution_count": 55,
   "metadata": {},
   "outputs": [
    {
     "data": {
      "text/plain": [
       "2000-01-31    4.0\n",
       "2000-02-29    3.0\n",
       "2000-03-31    NaN\n",
       "2000-04-30    NaN\n",
       "Freq: M, dtype: float64"
      ]
     },
     "execution_count": 55,
     "metadata": {},
     "output_type": "execute_result"
    }
   ],
   "source": [
    "ts.shift(-2)"
   ]
  },
  {
   "cell_type": "code",
   "execution_count": 56,
   "metadata": {},
   "outputs": [
    {
     "data": {
      "text/plain": [
       "2000-01-31    1\n",
       "2000-02-29    2\n",
       "2000-03-31    4\n",
       "2000-04-30    3\n",
       "Freq: M, dtype: int64"
      ]
     },
     "execution_count": 56,
     "metadata": {},
     "output_type": "execute_result"
    }
   ],
   "source": [
    "ts"
   ]
  },
  {
   "cell_type": "markdown",
   "metadata": {},
   "source": [
    "Using `shift`, we can compute percent changes in a time series."
   ]
  },
  {
   "cell_type": "code",
   "execution_count": 57,
   "metadata": {},
   "outputs": [
    {
     "data": {
      "text/plain": [
       "2000-01-31     NaN\n",
       "2000-02-29    1.00\n",
       "2000-03-31    1.00\n",
       "2000-04-30   -0.25\n",
       "Freq: M, dtype: float64"
      ]
     },
     "execution_count": 57,
     "metadata": {},
     "output_type": "execute_result"
    }
   ],
   "source": [
    "ts/ts.shift(1)-1"
   ]
  },
  {
   "cell_type": "markdown",
   "metadata": {},
   "source": [
    "If the frequency is known, it can be passed to shift in order to advance or decrement the index instead of the data."
   ]
  },
  {
   "cell_type": "code",
   "execution_count": 58,
   "metadata": {},
   "outputs": [
    {
     "data": {
      "text/plain": [
       "2000-01-31    1\n",
       "2000-02-29    2\n",
       "2000-03-31    4\n",
       "2000-04-30    3\n",
       "Freq: M, dtype: int64"
      ]
     },
     "execution_count": 58,
     "metadata": {},
     "output_type": "execute_result"
    }
   ],
   "source": [
    "ts"
   ]
  },
  {
   "cell_type": "code",
   "execution_count": 59,
   "metadata": {},
   "outputs": [
    {
     "data": {
      "text/plain": [
       "2000-03-31    1\n",
       "2000-04-30    2\n",
       "2000-05-31    4\n",
       "2000-06-30    3\n",
       "Freq: M, dtype: int64"
      ]
     },
     "execution_count": 59,
     "metadata": {},
     "output_type": "execute_result"
    }
   ],
   "source": [
    "ts.shift(2, freq=\"M\")"
   ]
  },
  {
   "cell_type": "markdown",
   "metadata": {},
   "source": [
    "## Time zone handling"
   ]
  },
  {
   "cell_type": "markdown",
   "metadata": {},
   "source": [
    "Time zone information comes from a third-party library, namely `pytz`, whose functionality however are wrapped into pandas.\n",
    "We will not cover the topic extensively, but just present few basic functionalities."
   ]
  },
  {
   "cell_type": "code",
   "execution_count": 60,
   "metadata": {},
   "outputs": [
    {
     "data": {
      "text/plain": [
       "(439,\n",
       " ['Africa/Abidjan',\n",
       "  'Africa/Accra',\n",
       "  'Africa/Addis_Ababa',\n",
       "  'Africa/Algiers',\n",
       "  'Africa/Asmara'])"
      ]
     },
     "execution_count": 60,
     "metadata": {},
     "output_type": "execute_result"
    }
   ],
   "source": [
    "import pytz\n",
    "len(pytz.common_timezones),pytz.common_timezones[:5]"
   ]
  },
  {
   "cell_type": "code",
   "execution_count": 61,
   "metadata": {},
   "outputs": [
    {
     "data": {
      "text/plain": [
       "2000-01-31    1\n",
       "2000-02-29    2\n",
       "2000-03-31    4\n",
       "2000-04-30    3\n",
       "Freq: M, dtype: int64"
      ]
     },
     "execution_count": 61,
     "metadata": {},
     "output_type": "execute_result"
    }
   ],
   "source": [
    "ts"
   ]
  },
  {
   "cell_type": "code",
   "execution_count": 62,
   "metadata": {},
   "outputs": [
    {
     "data": {
      "text/plain": [
       "2000-01-31 00:00:00+00:00    1\n",
       "2000-02-29 00:00:00+00:00    2\n",
       "2000-03-31 00:00:00+00:00    4\n",
       "2000-04-30 00:00:00+00:00    3\n",
       "Freq: M, dtype: int64"
      ]
     },
     "execution_count": 62,
     "metadata": {},
     "output_type": "execute_result"
    }
   ],
   "source": [
    "ts_utc = ts.tz_localize('UTC')\n",
    "ts_utc"
   ]
  },
  {
   "cell_type": "code",
   "execution_count": 63,
   "metadata": {},
   "outputs": [
    {
     "data": {
      "text/plain": [
       "2000-01-30 19:00:00-05:00    1\n",
       "2000-02-28 19:00:00-05:00    2\n",
       "2000-03-30 19:00:00-05:00    4\n",
       "2000-04-29 20:00:00-04:00    3\n",
       "Freq: M, dtype: int64"
      ]
     },
     "execution_count": 63,
     "metadata": {},
     "output_type": "execute_result"
    }
   ],
   "source": [
    "ts_utc.tz_convert('America/New_York')"
   ]
  },
  {
   "cell_type": "markdown",
   "metadata": {},
   "source": [
    "# Resampling and Frequency Conversion"
   ]
  },
  {
   "cell_type": "markdown",
   "metadata": {},
   "source": [
    "Resampling can be seen as a strategy for converting an irregular time series to a fixed frequency one, or for converting a time series from one frequency to another."
   ]
  },
  {
   "cell_type": "code",
   "execution_count": 64,
   "metadata": {},
   "outputs": [
    {
     "data": {
      "text/plain": [
       "2011-01-02   -0.066748\n",
       "2011-01-05    0.838639\n",
       "2011-01-07   -0.117388\n",
       "2011-01-08   -0.517795\n",
       "2011-01-10   -0.116696\n",
       "2011-01-12    2.389645\n",
       "dtype: float64"
      ]
     },
     "execution_count": 64,
     "metadata": {},
     "output_type": "execute_result"
    }
   ],
   "source": [
    "dates = [datetime(2011, 1, 2), datetime(2011, 1, 5),\n",
    "         datetime(2011, 1, 7), datetime(2011, 1, 8),\n",
    "         datetime(2011, 1, 10), datetime(2011, 1, 12)]\n",
    "ts = pd.Series(np.random.standard_normal(6), index=dates)\n",
    "ts"
   ]
  },
  {
   "cell_type": "code",
   "execution_count": 65,
   "metadata": {},
   "outputs": [
    {
     "data": {
      "text/plain": [
       "2011-01-02   -0.066748\n",
       "2011-01-03    0.000000\n",
       "2011-01-04    0.000000\n",
       "2011-01-05    0.838639\n",
       "2011-01-06    0.000000\n",
       "2011-01-07   -0.117388\n",
       "2011-01-08   -0.517795\n",
       "2011-01-09    0.000000\n",
       "2011-01-10   -0.116696\n",
       "2011-01-11    0.000000\n",
       "2011-01-12    2.389645\n",
       "Freq: D, dtype: float64"
      ]
     },
     "execution_count": 65,
     "metadata": {},
     "output_type": "execute_result"
    }
   ],
   "source": [
    "resampler = ts.resample(\"D\") # D stands for daily frequency\n",
    "resampler.sum()"
   ]
  },
  {
   "cell_type": "code",
   "execution_count": 66,
   "metadata": {},
   "outputs": [
    {
     "data": {
      "text/plain": [
       "2011-01-02   -0.066748\n",
       "2011-01-09    0.067819\n",
       "2011-01-16    1.136474\n",
       "Freq: W-SUN, dtype: float64"
      ]
     },
     "execution_count": 66,
     "metadata": {},
     "output_type": "execute_result"
    }
   ],
   "source": [
    "resampler = ts.resample(\"W\") # W stands for weekly frequency\n",
    "resampler.mean()"
   ]
  },
  {
   "cell_type": "code",
   "execution_count": 67,
   "metadata": {},
   "outputs": [
    {
     "data": {
      "text/plain": [
       "2011-01-02   -0.066748\n",
       "2011-01-09    0.203456\n",
       "2011-01-16    2.272949\n",
       "Freq: W-SUN, dtype: float64"
      ]
     },
     "execution_count": 67,
     "metadata": {},
     "output_type": "execute_result"
    }
   ],
   "source": [
    "resampler.sum()"
   ]
  },
  {
   "cell_type": "code",
   "execution_count": 68,
   "metadata": {},
   "outputs": [
    {
     "data": {
      "text/plain": [
       "2011-01-02    1\n",
       "2011-01-09    3\n",
       "2011-01-16    2\n",
       "Freq: W-SUN, dtype: int64"
      ]
     },
     "execution_count": 68,
     "metadata": {},
     "output_type": "execute_result"
    }
   ],
   "source": [
    "resampler.count()"
   ]
  },
  {
   "cell_type": "markdown",
   "metadata": {},
   "source": [
    "### Downsampling\n",
    "\n",
    "Downsampling is subsetting data such that the timestamps occur at a lower frequency than in the original time series (i.e., reducing frequency of your data)."
   ]
  },
  {
   "cell_type": "code",
   "execution_count": 69,
   "metadata": {},
   "outputs": [
    {
     "data": {
      "text/plain": [
       "2000-01-01 00:00:00     0\n",
       "2000-01-01 00:01:00     1\n",
       "2000-01-01 00:02:00     2\n",
       "2000-01-01 00:03:00     3\n",
       "2000-01-01 00:04:00     4\n",
       "2000-01-01 00:05:00     5\n",
       "2000-01-01 00:06:00     6\n",
       "2000-01-01 00:07:00     7\n",
       "2000-01-01 00:08:00     8\n",
       "2000-01-01 00:09:00     9\n",
       "2000-01-01 00:10:00    10\n",
       "2000-01-01 00:11:00    11\n",
       "Freq: T, dtype: int64"
      ]
     },
     "execution_count": 69,
     "metadata": {},
     "output_type": "execute_result"
    }
   ],
   "source": [
    "dates = pd.date_range(\"2000-01-01\", periods=12, freq=\"T\") # T stands for Minute frequency\n",
    "ts = pd.Series(np.arange(len(dates)), index=dates)\n",
    "ts"
   ]
  },
  {
   "cell_type": "code",
   "execution_count": 70,
   "metadata": {},
   "outputs": [
    {
     "data": {
      "text/plain": [
       "2000-01-01 00:00:00    10\n",
       "2000-01-01 00:05:00    35\n",
       "2000-01-01 00:10:00    21\n",
       "Freq: 5T, dtype: int64"
      ]
     },
     "execution_count": 70,
     "metadata": {},
     "output_type": "execute_result"
    }
   ],
   "source": [
    "ts.resample(\"5min\").sum()"
   ]
  },
  {
   "cell_type": "markdown",
   "metadata": {},
   "source": [
    "There are a couple of ambiguity that are automatically solved and can be customized:\n",
    "- which side of an interval is *closed*\n",
    "- how to label each newly generated bin"
   ]
  },
  {
   "cell_type": "code",
   "execution_count": 71,
   "metadata": {},
   "outputs": [
    {
     "data": {
      "text/plain": [
       "1999-12-31 23:55:00     0\n",
       "2000-01-01 00:00:00    15\n",
       "2000-01-01 00:05:00    40\n",
       "2000-01-01 00:10:00    11\n",
       "Freq: 5T, dtype: int64"
      ]
     },
     "execution_count": 71,
     "metadata": {},
     "output_type": "execute_result"
    }
   ],
   "source": [
    "ts.resample(\"5min\", closed=\"right\").sum()"
   ]
  },
  {
   "cell_type": "code",
   "execution_count": 72,
   "metadata": {},
   "outputs": [
    {
     "data": {
      "text/plain": [
       "2000-01-01 00:00:00     0\n",
       "2000-01-01 00:05:00    15\n",
       "2000-01-01 00:10:00    40\n",
       "2000-01-01 00:15:00    11\n",
       "Freq: 5T, dtype: int64"
      ]
     },
     "execution_count": 72,
     "metadata": {},
     "output_type": "execute_result"
    }
   ],
   "source": [
    "ts.resample(\"5min\", closed=\"right\", label=\"right\").sum()"
   ]
  },
  {
   "cell_type": "code",
   "execution_count": 73,
   "metadata": {},
   "outputs": [
    {
     "data": {
      "text/plain": [
       "2000-01-01 00:00:00     7\n",
       "2000-01-01 00:01:00     3\n",
       "2000-01-01 00:02:00     0\n",
       "2000-01-01 00:03:00    10\n",
       "2000-01-01 00:04:00     9\n",
       "2000-01-01 00:05:00     6\n",
       "2000-01-01 00:06:00     8\n",
       "2000-01-01 00:07:00     2\n",
       "2000-01-01 00:08:00    11\n",
       "2000-01-01 00:09:00     1\n",
       "2000-01-01 00:10:00     4\n",
       "2000-01-01 00:11:00     5\n",
       "Freq: T, dtype: int64"
      ]
     },
     "execution_count": 73,
     "metadata": {},
     "output_type": "execute_result"
    }
   ],
   "source": [
    "ts = pd.Series(np.random.permutation(np.arange(len(dates))), index=dates)\n",
    "ts"
   ]
  },
  {
   "cell_type": "code",
   "execution_count": 74,
   "metadata": {},
   "outputs": [
    {
     "data": {
      "text/html": [
       "<div>\n",
       "<style scoped>\n",
       "    .dataframe tbody tr th:only-of-type {\n",
       "        vertical-align: middle;\n",
       "    }\n",
       "\n",
       "    .dataframe tbody tr th {\n",
       "        vertical-align: top;\n",
       "    }\n",
       "\n",
       "    .dataframe thead th {\n",
       "        text-align: right;\n",
       "    }\n",
       "</style>\n",
       "<table border=\"1\" class=\"dataframe\">\n",
       "  <thead>\n",
       "    <tr style=\"text-align: right;\">\n",
       "      <th></th>\n",
       "      <th>open</th>\n",
       "      <th>high</th>\n",
       "      <th>low</th>\n",
       "      <th>close</th>\n",
       "    </tr>\n",
       "  </thead>\n",
       "  <tbody>\n",
       "    <tr>\n",
       "      <th>2000-01-01 00:00:00</th>\n",
       "      <td>7</td>\n",
       "      <td>10</td>\n",
       "      <td>0</td>\n",
       "      <td>9</td>\n",
       "    </tr>\n",
       "    <tr>\n",
       "      <th>2000-01-01 00:05:00</th>\n",
       "      <td>6</td>\n",
       "      <td>11</td>\n",
       "      <td>1</td>\n",
       "      <td>1</td>\n",
       "    </tr>\n",
       "    <tr>\n",
       "      <th>2000-01-01 00:10:00</th>\n",
       "      <td>4</td>\n",
       "      <td>5</td>\n",
       "      <td>4</td>\n",
       "      <td>5</td>\n",
       "    </tr>\n",
       "  </tbody>\n",
       "</table>\n",
       "</div>"
      ],
      "text/plain": [
       "                     open  high  low  close\n",
       "2000-01-01 00:00:00     7    10    0      9\n",
       "2000-01-01 00:05:00     6    11    1      1\n",
       "2000-01-01 00:10:00     4     5    4      5"
      ]
     },
     "execution_count": 74,
     "metadata": {},
     "output_type": "execute_result"
    }
   ],
   "source": [
    "ts.resample(\"5min\").ohlc() # first (open), maximum (high), minimum (low), last (close)"
   ]
  },
  {
   "cell_type": "markdown",
   "metadata": {},
   "source": [
    "### Upsampling and interpolation\n",
    "\n",
    "Upsampling is representing data as if it were collected more frequently than was actually the case.\n",
    "\n",
    "Notice that upsampling is not simply the inverse of downsampling. Downsampling makes inherent sense as something that can be done in the real world; it’s simple to decide to measure less often. In contrast, upsampling can be like trying to get something for free: not taking a measurement but still somehow thinking you can get high-resolution data from low-frequency measurements."
   ]
  },
  {
   "cell_type": "code",
   "execution_count": 75,
   "metadata": {},
   "outputs": [
    {
     "data": {
      "text/html": [
       "<div>\n",
       "<style scoped>\n",
       "    .dataframe tbody tr th:only-of-type {\n",
       "        vertical-align: middle;\n",
       "    }\n",
       "\n",
       "    .dataframe tbody tr th {\n",
       "        vertical-align: top;\n",
       "    }\n",
       "\n",
       "    .dataframe thead th {\n",
       "        text-align: right;\n",
       "    }\n",
       "</style>\n",
       "<table border=\"1\" class=\"dataframe\">\n",
       "  <thead>\n",
       "    <tr style=\"text-align: right;\">\n",
       "      <th></th>\n",
       "      <th>Colorado</th>\n",
       "      <th>Texas</th>\n",
       "      <th>New York</th>\n",
       "      <th>Ohio</th>\n",
       "    </tr>\n",
       "  </thead>\n",
       "  <tbody>\n",
       "    <tr>\n",
       "      <th>2000-01-05</th>\n",
       "      <td>-0.43681</td>\n",
       "      <td>1.020227</td>\n",
       "      <td>1.091443</td>\n",
       "      <td>0.949905</td>\n",
       "    </tr>\n",
       "    <tr>\n",
       "      <th>2000-01-12</th>\n",
       "      <td>-0.37349</td>\n",
       "      <td>-0.314584</td>\n",
       "      <td>-0.782624</td>\n",
       "      <td>0.984341</td>\n",
       "    </tr>\n",
       "  </tbody>\n",
       "</table>\n",
       "</div>"
      ],
      "text/plain": [
       "            Colorado     Texas  New York      Ohio\n",
       "2000-01-05  -0.43681  1.020227  1.091443  0.949905\n",
       "2000-01-12  -0.37349 -0.314584 -0.782624  0.984341"
      ]
     },
     "execution_count": 75,
     "metadata": {},
     "output_type": "execute_result"
    }
   ],
   "source": [
    "frame = pd.DataFrame(np.random.standard_normal((2, 4)),\n",
    "                     index=pd.date_range(\"2000-01-01\", periods=2,\n",
    "                                         freq=\"W-WED\"),\n",
    "                     columns=[\"Colorado\", \"Texas\", \"New York\", \"Ohio\"])\n",
    "frame"
   ]
  },
  {
   "cell_type": "markdown",
   "metadata": {},
   "source": [
    "`asfreq` is used to convert to the higher frequency without any elaboration / aggregation "
   ]
  },
  {
   "cell_type": "code",
   "execution_count": 76,
   "metadata": {},
   "outputs": [
    {
     "data": {
      "text/html": [
       "<div>\n",
       "<style scoped>\n",
       "    .dataframe tbody tr th:only-of-type {\n",
       "        vertical-align: middle;\n",
       "    }\n",
       "\n",
       "    .dataframe tbody tr th {\n",
       "        vertical-align: top;\n",
       "    }\n",
       "\n",
       "    .dataframe thead th {\n",
       "        text-align: right;\n",
       "    }\n",
       "</style>\n",
       "<table border=\"1\" class=\"dataframe\">\n",
       "  <thead>\n",
       "    <tr style=\"text-align: right;\">\n",
       "      <th></th>\n",
       "      <th>Colorado</th>\n",
       "      <th>Texas</th>\n",
       "      <th>New York</th>\n",
       "      <th>Ohio</th>\n",
       "    </tr>\n",
       "  </thead>\n",
       "  <tbody>\n",
       "    <tr>\n",
       "      <th>2000-01-05</th>\n",
       "      <td>-0.43681</td>\n",
       "      <td>1.020227</td>\n",
       "      <td>1.091443</td>\n",
       "      <td>0.949905</td>\n",
       "    </tr>\n",
       "    <tr>\n",
       "      <th>2000-01-06</th>\n",
       "      <td>NaN</td>\n",
       "      <td>NaN</td>\n",
       "      <td>NaN</td>\n",
       "      <td>NaN</td>\n",
       "    </tr>\n",
       "    <tr>\n",
       "      <th>2000-01-07</th>\n",
       "      <td>NaN</td>\n",
       "      <td>NaN</td>\n",
       "      <td>NaN</td>\n",
       "      <td>NaN</td>\n",
       "    </tr>\n",
       "    <tr>\n",
       "      <th>2000-01-08</th>\n",
       "      <td>NaN</td>\n",
       "      <td>NaN</td>\n",
       "      <td>NaN</td>\n",
       "      <td>NaN</td>\n",
       "    </tr>\n",
       "    <tr>\n",
       "      <th>2000-01-09</th>\n",
       "      <td>NaN</td>\n",
       "      <td>NaN</td>\n",
       "      <td>NaN</td>\n",
       "      <td>NaN</td>\n",
       "    </tr>\n",
       "    <tr>\n",
       "      <th>2000-01-10</th>\n",
       "      <td>NaN</td>\n",
       "      <td>NaN</td>\n",
       "      <td>NaN</td>\n",
       "      <td>NaN</td>\n",
       "    </tr>\n",
       "    <tr>\n",
       "      <th>2000-01-11</th>\n",
       "      <td>NaN</td>\n",
       "      <td>NaN</td>\n",
       "      <td>NaN</td>\n",
       "      <td>NaN</td>\n",
       "    </tr>\n",
       "    <tr>\n",
       "      <th>2000-01-12</th>\n",
       "      <td>-0.37349</td>\n",
       "      <td>-0.314584</td>\n",
       "      <td>-0.782624</td>\n",
       "      <td>0.984341</td>\n",
       "    </tr>\n",
       "  </tbody>\n",
       "</table>\n",
       "</div>"
      ],
      "text/plain": [
       "            Colorado     Texas  New York      Ohio\n",
       "2000-01-05  -0.43681  1.020227  1.091443  0.949905\n",
       "2000-01-06       NaN       NaN       NaN       NaN\n",
       "2000-01-07       NaN       NaN       NaN       NaN\n",
       "2000-01-08       NaN       NaN       NaN       NaN\n",
       "2000-01-09       NaN       NaN       NaN       NaN\n",
       "2000-01-10       NaN       NaN       NaN       NaN\n",
       "2000-01-11       NaN       NaN       NaN       NaN\n",
       "2000-01-12  -0.37349 -0.314584 -0.782624  0.984341"
      ]
     },
     "execution_count": 76,
     "metadata": {},
     "output_type": "execute_result"
    }
   ],
   "source": [
    "df_daily = frame.resample(\"D\").asfreq()\n",
    "df_daily"
   ]
  },
  {
   "cell_type": "markdown",
   "metadata": {},
   "source": [
    "### Handling Missing Data\n",
    "Missing data is even more common in time series analysis than it is in cross-sectional data analysis because of the nature of longitudinal samples: incomplete time series are quite common and so methods have been developed to deal with \"holes\" in what is recorded."
   ]
  },
  {
   "cell_type": "markdown",
   "metadata": {},
   "source": [
    "Some of the most common strategies for **imputing missing values** in timeseries are natively available in pandas:\n",
    "- forward filling\n",
    "- backward filling\n",
    "- interpolation\n",
    "- using moving window functions\n",
    "\n",
    "In \"static\", cross-sectional, contexts it is common to impute missing data by filling in with the mean, median or mode. While this can be done with time series data, it is not appropriate for most cases as it involves looking into the future, what is typically referred to as lookahead.\n",
    "\n",
    "The term **lookahead** is used in time series analysis to denote any knowledge of the future. You shouldn’t have such knowledge when designing, training, or evaluating a model. A lookahead is a way, through data, to find out something about the future earlier than you ought to know it.\n",
    "\n"
   ]
  },
  {
   "cell_type": "code",
   "execution_count": 77,
   "metadata": {},
   "outputs": [
    {
     "data": {
      "text/plain": [
       "<AxesSubplot:xlabel='t', ylabel='sin(t)'>"
      ]
     },
     "execution_count": 77,
     "metadata": {},
     "output_type": "execute_result"
    },
    {
     "data": {
      "image/png": "[encoded data removed]",
      "text/plain": [
       "<Figure size 640x480 with 1 Axes>"
      ]
     },
     "metadata": {},
     "output_type": "display_data"
    }
   ],
   "source": [
    "sin_fun = [np.sin(x/math.pi/5) for x in range(100)]\n",
    "drange = pd.date_range(\"2000-01-01\", freq='S', periods = 100)\n",
    "sin_frame = pd.Series(sin_fun,\n",
    "                     drange)\n",
    "sin_frame.plot(marker = '.',linestyle = '', xlabel= 't', ylabel = 'sin(t)')"
   ]
  },
  {
   "cell_type": "markdown",
   "metadata": {},
   "source": [
    "Replace some true value with \"Nan\" so as to simulate missing information"
   ]
  },
  {
   "cell_type": "code",
   "execution_count": 78,
   "metadata": {},
   "outputs": [
    {
     "data": {
      "text/plain": [
       "<AxesSubplot:xlabel='t', ylabel='sin(t)'>"
      ]
     },
     "execution_count": 78,
     "metadata": {},
     "output_type": "execute_result"
    },
    {
     "data": {
      "image/png": "[encoded data removed]",
      "text/plain": [
       "<Figure size 640x480 with 1 Axes>"
      ]
     },
     "metadata": {},
     "output_type": "display_data"
    }
   ],
   "source": [
    "original_frame = sin_frame.copy(deep = True)\n",
    "sin_frame[10:35] = np.nan\n",
    "sin_frame.plot(marker = '.',linestyle = '', xlabel= 't', ylabel = 'sin(t)')"
   ]
  },
  {
   "cell_type": "markdown",
   "metadata": {},
   "source": [
    "**Forward filling**: Last Observation Carried Forward (LOCF)"
   ]
  },
  {
   "cell_type": "code",
   "execution_count": 79,
   "metadata": {},
   "outputs": [
    {
     "data": {
      "text/plain": [
       "<AxesSubplot:xlabel='t', ylabel='sin(t)'>"
      ]
     },
     "execution_count": 79,
     "metadata": {},
     "output_type": "execute_result"
    },
    {
     "data": {
      "image/png": "[encoded data removed]",
      "text/plain": [
       "<Figure size 640x480 with 1 Axes>"
      ]
     },
     "metadata": {},
     "output_type": "display_data"
    }
   ],
   "source": [
    "sin_frame.ffill().plot(marker = '.',linestyle = '', xlabel= 't', ylabel = 'sin(t)')"
   ]
  },
  {
   "cell_type": "code",
   "execution_count": 80,
   "metadata": {},
   "outputs": [
    {
     "data": {
      "text/plain": [
       "<AxesSubplot:xlabel='t', ylabel='sin(t)'>"
      ]
     },
     "execution_count": 80,
     "metadata": {},
     "output_type": "execute_result"
    },
    {
     "data": {
      "image/png": "[encoded data removed]",
      "text/plain": [
       "<Figure size 640x480 with 1 Axes>"
      ]
     },
     "metadata": {},
     "output_type": "display_data"
    }
   ],
   "source": [
    "sin_frame.ffill(limit=10).plot(marker = '.',linestyle = '', xlabel= 't', ylabel = 'sin(t)')"
   ]
  },
  {
   "cell_type": "markdown",
   "metadata": {},
   "source": [
    "**Backward filling**: Next Observation Carried Backward (NOCB)\n",
    "\n",
    "Just as you can bring values from the past forward to fill in missing data, you can also choose to propagate values backward. However, this is a case of a **lookahead**, so you should only do this when you are not looking to predict the future from the data and when, from domain knowledge, it makes more sense to fill in data backward rather than forward in time."
   ]
  },
  {
   "cell_type": "code",
   "execution_count": 81,
   "metadata": {},
   "outputs": [
    {
     "data": {
      "text/plain": [
       "<AxesSubplot:xlabel='t', ylabel='sin(t)'>"
      ]
     },
     "execution_count": 81,
     "metadata": {},
     "output_type": "execute_result"
    },
    {
     "data": {
      "image/png": "[encoded data removed]",
      "text/plain": [
       "<Figure size 640x480 with 1 Axes>"
      ]
     },
     "metadata": {},
     "output_type": "display_data"
    }
   ],
   "source": [
    "sin_frame.bfill().plot(marker = '.',linestyle = '', xlabel= 't', ylabel = 'sin(t)')"
   ]
  },
  {
   "cell_type": "markdown",
   "metadata": {},
   "source": [
    "**Interpolation**\n",
    "\n",
    "Interpolation techniques estimate the missing values by assuming a *geometric* relationship within a range of data points. Interpolation technique estimates an intermediate observation using past and future known data points. The usual caveats apply: allow your interpolation to have access to future data only if you accept that this creates a lookahead and you are sure this is not a problem for your task.\n",
    "\n",
    "Among the available interpolation methods, we find:\n",
    "- linear, spline, nearest, zero, slinear, quadratic, cubic, spline, barycentric, polynomial ..."
   ]
  },
  {
   "cell_type": "code",
   "execution_count": 82,
   "metadata": {},
   "outputs": [
    {
     "data": {
      "text/plain": [
       "2000-01-01 00:00:00    0.000000\n",
       "2000-01-01 00:00:01    0.063619\n",
       "2000-01-01 00:00:02    0.126980\n",
       "2000-01-01 00:00:03    0.189827\n",
       "2000-01-01 00:00:04    0.251905\n",
       "2000-01-01 00:00:05    0.312962\n",
       "2000-01-01 00:00:06    0.372751\n",
       "2000-01-01 00:00:07    0.431030\n",
       "2000-01-01 00:00:08    0.487563\n",
       "2000-01-01 00:00:09    0.542120\n",
       "2000-01-01 00:00:10         NaN\n",
       "2000-01-01 00:00:11         NaN\n",
       "2000-01-01 00:00:12         NaN\n",
       "2000-01-01 00:00:13         NaN\n",
       "2000-01-01 00:00:14         NaN\n",
       "2000-01-01 00:00:15         NaN\n",
       "2000-01-01 00:00:16         NaN\n",
       "2000-01-01 00:00:17         NaN\n",
       "2000-01-01 00:00:18         NaN\n",
       "2000-01-01 00:00:19         NaN\n",
       "2000-01-01 00:00:20         NaN\n",
       "2000-01-01 00:00:21         NaN\n",
       "2000-01-01 00:00:22         NaN\n",
       "2000-01-01 00:00:23         NaN\n",
       "2000-01-01 00:00:24         NaN\n",
       "2000-01-01 00:00:25         NaN\n",
       "2000-01-01 00:00:26         NaN\n",
       "2000-01-01 00:00:27         NaN\n",
       "2000-01-01 00:00:28         NaN\n",
       "2000-01-01 00:00:29         NaN\n",
       "2000-01-01 00:00:30         NaN\n",
       "2000-01-01 00:00:31         NaN\n",
       "2000-01-01 00:00:32         NaN\n",
       "2000-01-01 00:00:33         NaN\n",
       "2000-01-01 00:00:34         NaN\n",
       "2000-01-01 00:00:35    0.791600\n",
       "2000-01-01 00:00:36    0.751123\n",
       "2000-01-01 00:00:37    0.707603\n",
       "2000-01-01 00:00:38    0.661215\n",
       "2000-01-01 00:00:39    0.612149\n",
       "Freq: S, dtype: float64"
      ]
     },
     "execution_count": 82,
     "metadata": {},
     "output_type": "execute_result"
    }
   ],
   "source": [
    "sin_frame.head(40)"
   ]
  },
  {
   "cell_type": "code",
   "execution_count": 83,
   "metadata": {},
   "outputs": [
    {
     "data": {
      "text/plain": [
       "<AxesSubplot:xlabel='t', ylabel='sin(t)'>"
      ]
     },
     "execution_count": 83,
     "metadata": {},
     "output_type": "execute_result"
    },
    {
     "data": {
      "image/png": "[encoded data removed]",
      "text/plain": [
       "<Figure size 640x480 with 1 Axes>"
      ]
     },
     "metadata": {},
     "output_type": "display_data"
    }
   ],
   "source": [
    "sin_frame.interpolate('linear').plot(marker = '.',linestyle = '', xlabel= 't', ylabel = 'sin(t)')"
   ]
  },
  {
   "cell_type": "code",
   "execution_count": 84,
   "metadata": {},
   "outputs": [
    {
     "data": {
      "text/plain": [
       "<AxesSubplot:xlabel='t', ylabel='sin(t)'>"
      ]
     },
     "execution_count": 84,
     "metadata": {},
     "output_type": "execute_result"
    },
    {
     "data": {
      "image/png": "[encoded data removed]",
      "text/plain": [
       "<Figure size 640x480 with 1 Axes>"
      ]
     },
     "metadata": {},
     "output_type": "display_data"
    }
   ],
   "source": [
    "f,axes = plt.subplots()\n",
    "sin_frame.interpolate('quadratic').plot(marker = '.',linestyle = '',axes = axes)\n",
    "original_frame.plot(marker = '.',linestyle = '',color = 'r',axes = axes, xlabel= 't', ylabel = 'sin(t)')\n",
    "\n"
   ]
  },
  {
   "cell_type": "code",
   "execution_count": 85,
   "metadata": {
    "scrolled": false
   },
   "outputs": [
    {
     "data": {
      "text/plain": [
       "<AxesSubplot:xlabel='t', ylabel='sin(t)'>"
      ]
     },
     "execution_count": 85,
     "metadata": {},
     "output_type": "execute_result"
    },
    {
     "data": {
      "image/png": "[encoded data removed]",
      "text/plain": [
       "<Figure size 640x480 with 1 Axes>"
      ]
     },
     "metadata": {},
     "output_type": "display_data"
    }
   ],
   "source": [
    "f,axes = plt.subplots()\n",
    "sin_frame.interpolate('polynomial',order = 7).plot(marker = '.',linestyle = '',axes = axes)\n",
    "original_frame.plot(marker = '.',linestyle = '',color = 'r',axes = axes, xlabel= 't', ylabel = 'sin(t)')\n"
   ]
  },
  {
   "cell_type": "markdown",
   "metadata": {},
   "source": [
    "# Moving Window Functions"
   ]
  },
  {
   "cell_type": "markdown",
   "metadata": {},
   "source": [
    "An important class of array transformation used for time series operations are statistics and other functions evaluated over a sliding window or with exponentially decaying weights. This can be useful for smoothing noisy data or for filling missing values. Note that there are many situations where missing data imputation based on moving average is a better fit for the task than a forward fill. For example if the data is noisy you should use a moving average rather than a forward fill.\n",
    "\n"
   ]
  },
  {
   "cell_type": "markdown",
   "metadata": {},
   "source": [
    "Load the *stock_px* dataset. It containes the trends of stock prices for several companies."
   ]
  },
  {
   "cell_type": "code",
   "execution_count": 86,
   "metadata": {},
   "outputs": [
    {
     "data": {
      "text/html": [
       "<div>\n",
       "<style scoped>\n",
       "    .dataframe tbody tr th:only-of-type {\n",
       "        vertical-align: middle;\n",
       "    }\n",
       "\n",
       "    .dataframe tbody tr th {\n",
       "        vertical-align: top;\n",
       "    }\n",
       "\n",
       "    .dataframe thead th {\n",
       "        text-align: right;\n",
       "    }\n",
       "</style>\n",
       "<table border=\"1\" class=\"dataframe\">\n",
       "  <thead>\n",
       "    <tr style=\"text-align: right;\">\n",
       "      <th></th>\n",
       "      <th>AAPL</th>\n",
       "      <th>MSFT</th>\n",
       "      <th>XOM</th>\n",
       "      <th>SPX</th>\n",
       "    </tr>\n",
       "  </thead>\n",
       "  <tbody>\n",
       "    <tr>\n",
       "      <th>2003-01-02</th>\n",
       "      <td>7.40</td>\n",
       "      <td>21.11</td>\n",
       "      <td>29.22</td>\n",
       "      <td>909.03</td>\n",
       "    </tr>\n",
       "    <tr>\n",
       "      <th>2003-01-03</th>\n",
       "      <td>7.45</td>\n",
       "      <td>21.14</td>\n",
       "      <td>29.24</td>\n",
       "      <td>908.59</td>\n",
       "    </tr>\n",
       "    <tr>\n",
       "      <th>2003-01-06</th>\n",
       "      <td>7.45</td>\n",
       "      <td>21.52</td>\n",
       "      <td>29.96</td>\n",
       "      <td>929.01</td>\n",
       "    </tr>\n",
       "    <tr>\n",
       "      <th>2003-01-07</th>\n",
       "      <td>7.43</td>\n",
       "      <td>21.93</td>\n",
       "      <td>28.95</td>\n",
       "      <td>922.93</td>\n",
       "    </tr>\n",
       "    <tr>\n",
       "      <th>2003-01-08</th>\n",
       "      <td>7.28</td>\n",
       "      <td>21.31</td>\n",
       "      <td>28.83</td>\n",
       "      <td>909.93</td>\n",
       "    </tr>\n",
       "    <tr>\n",
       "      <th>...</th>\n",
       "      <td>...</td>\n",
       "      <td>...</td>\n",
       "      <td>...</td>\n",
       "      <td>...</td>\n",
       "    </tr>\n",
       "    <tr>\n",
       "      <th>2011-10-10</th>\n",
       "      <td>388.81</td>\n",
       "      <td>26.94</td>\n",
       "      <td>76.28</td>\n",
       "      <td>1194.89</td>\n",
       "    </tr>\n",
       "    <tr>\n",
       "      <th>2011-10-11</th>\n",
       "      <td>400.29</td>\n",
       "      <td>27.00</td>\n",
       "      <td>76.27</td>\n",
       "      <td>1195.54</td>\n",
       "    </tr>\n",
       "    <tr>\n",
       "      <th>2011-10-12</th>\n",
       "      <td>402.19</td>\n",
       "      <td>26.96</td>\n",
       "      <td>77.16</td>\n",
       "      <td>1207.25</td>\n",
       "    </tr>\n",
       "    <tr>\n",
       "      <th>2011-10-13</th>\n",
       "      <td>408.43</td>\n",
       "      <td>27.18</td>\n",
       "      <td>76.37</td>\n",
       "      <td>1203.66</td>\n",
       "    </tr>\n",
       "    <tr>\n",
       "      <th>2011-10-14</th>\n",
       "      <td>422.00</td>\n",
       "      <td>27.27</td>\n",
       "      <td>78.11</td>\n",
       "      <td>1224.58</td>\n",
       "    </tr>\n",
       "  </tbody>\n",
       "</table>\n",
       "<p>2214 rows × 4 columns</p>\n",
       "</div>"
      ],
      "text/plain": [
       "              AAPL   MSFT    XOM      SPX\n",
       "2003-01-02    7.40  21.11  29.22   909.03\n",
       "2003-01-03    7.45  21.14  29.24   908.59\n",
       "2003-01-06    7.45  21.52  29.96   929.01\n",
       "2003-01-07    7.43  21.93  28.95   922.93\n",
       "2003-01-08    7.28  21.31  28.83   909.93\n",
       "...            ...    ...    ...      ...\n",
       "2011-10-10  388.81  26.94  76.28  1194.89\n",
       "2011-10-11  400.29  27.00  76.27  1195.54\n",
       "2011-10-12  402.19  26.96  77.16  1207.25\n",
       "2011-10-13  408.43  27.18  76.37  1203.66\n",
       "2011-10-14  422.00  27.27  78.11  1224.58\n",
       "\n",
       "[2214 rows x 4 columns]"
      ]
     },
     "execution_count": 86,
     "metadata": {},
     "output_type": "execute_result"
    }
   ],
   "source": [
    "close_px_all = pd.read_csv(\"dataset/stock_px.csv\",\n",
    "                           parse_dates=True, index_col=0)\n",
    "close_px_all"
   ]
  },
  {
   "cell_type": "markdown",
   "metadata": {},
   "source": [
    "Select only the stock related to AAPL (Apple Inc.), MSFT (Microsoft Corporation) and XOM (Exxon Mobil Corporation)."
   ]
  },
  {
   "cell_type": "code",
   "execution_count": 87,
   "metadata": {
    "scrolled": false
   },
   "outputs": [
    {
     "data": {
      "text/html": [
       "<div>\n",
       "<style scoped>\n",
       "    .dataframe tbody tr th:only-of-type {\n",
       "        vertical-align: middle;\n",
       "    }\n",
       "\n",
       "    .dataframe tbody tr th {\n",
       "        vertical-align: top;\n",
       "    }\n",
       "\n",
       "    .dataframe thead th {\n",
       "        text-align: right;\n",
       "    }\n",
       "</style>\n",
       "<table border=\"1\" class=\"dataframe\">\n",
       "  <thead>\n",
       "    <tr style=\"text-align: right;\">\n",
       "      <th></th>\n",
       "      <th>AAPL</th>\n",
       "      <th>MSFT</th>\n",
       "      <th>XOM</th>\n",
       "    </tr>\n",
       "  </thead>\n",
       "  <tbody>\n",
       "    <tr>\n",
       "      <th>2003-01-02</th>\n",
       "      <td>7.40</td>\n",
       "      <td>21.11</td>\n",
       "      <td>29.22</td>\n",
       "    </tr>\n",
       "    <tr>\n",
       "      <th>2003-01-03</th>\n",
       "      <td>7.45</td>\n",
       "      <td>21.14</td>\n",
       "      <td>29.24</td>\n",
       "    </tr>\n",
       "    <tr>\n",
       "      <th>2003-01-06</th>\n",
       "      <td>7.45</td>\n",
       "      <td>21.52</td>\n",
       "      <td>29.96</td>\n",
       "    </tr>\n",
       "    <tr>\n",
       "      <th>2003-01-07</th>\n",
       "      <td>7.43</td>\n",
       "      <td>21.93</td>\n",
       "      <td>28.95</td>\n",
       "    </tr>\n",
       "    <tr>\n",
       "      <th>2003-01-08</th>\n",
       "      <td>7.28</td>\n",
       "      <td>21.31</td>\n",
       "      <td>28.83</td>\n",
       "    </tr>\n",
       "    <tr>\n",
       "      <th>...</th>\n",
       "      <td>...</td>\n",
       "      <td>...</td>\n",
       "      <td>...</td>\n",
       "    </tr>\n",
       "    <tr>\n",
       "      <th>2011-10-10</th>\n",
       "      <td>388.81</td>\n",
       "      <td>26.94</td>\n",
       "      <td>76.28</td>\n",
       "    </tr>\n",
       "    <tr>\n",
       "      <th>2011-10-11</th>\n",
       "      <td>400.29</td>\n",
       "      <td>27.00</td>\n",
       "      <td>76.27</td>\n",
       "    </tr>\n",
       "    <tr>\n",
       "      <th>2011-10-12</th>\n",
       "      <td>402.19</td>\n",
       "      <td>26.96</td>\n",
       "      <td>77.16</td>\n",
       "    </tr>\n",
       "    <tr>\n",
       "      <th>2011-10-13</th>\n",
       "      <td>408.43</td>\n",
       "      <td>27.18</td>\n",
       "      <td>76.37</td>\n",
       "    </tr>\n",
       "    <tr>\n",
       "      <th>2011-10-14</th>\n",
       "      <td>422.00</td>\n",
       "      <td>27.27</td>\n",
       "      <td>78.11</td>\n",
       "    </tr>\n",
       "  </tbody>\n",
       "</table>\n",
       "<p>2214 rows × 3 columns</p>\n",
       "</div>"
      ],
      "text/plain": [
       "              AAPL   MSFT    XOM\n",
       "2003-01-02    7.40  21.11  29.22\n",
       "2003-01-03    7.45  21.14  29.24\n",
       "2003-01-06    7.45  21.52  29.96\n",
       "2003-01-07    7.43  21.93  28.95\n",
       "2003-01-08    7.28  21.31  28.83\n",
       "...            ...    ...    ...\n",
       "2011-10-10  388.81  26.94  76.28\n",
       "2011-10-11  400.29  27.00  76.27\n",
       "2011-10-12  402.19  26.96  77.16\n",
       "2011-10-13  408.43  27.18  76.37\n",
       "2011-10-14  422.00  27.27  78.11\n",
       "\n",
       "[2214 rows x 3 columns]"
      ]
     },
     "execution_count": 87,
     "metadata": {},
     "output_type": "execute_result"
    }
   ],
   "source": [
    "close_px = close_px_all[[\"AAPL\", \"MSFT\", \"XOM\"]]\n",
    "close_px"
   ]
  },
  {
   "cell_type": "code",
   "execution_count": 88,
   "metadata": {},
   "outputs": [
    {
     "data": {
      "text/plain": [
       "2214"
      ]
     },
     "execution_count": 88,
     "metadata": {},
     "output_type": "execute_result"
    }
   ],
   "source": [
    "len(close_px)"
   ]
  },
  {
   "cell_type": "code",
   "execution_count": 89,
   "metadata": {},
   "outputs": [
    {
     "data": {
      "text/plain": [
       "<AxesSubplot:xlabel='time', ylabel='AAPL stock'>"
      ]
     },
     "execution_count": 89,
     "metadata": {},
     "output_type": "execute_result"
    },
    {
     "data": {
      "image/png": "[encoded data removed]",
      "text/plain": [
       "<Figure size 640x480 with 1 Axes>"
      ]
     },
     "metadata": {},
     "output_type": "display_data"
    }
   ],
   "source": [
    "close_px.AAPL.plot(xlabel= 'time',ylabel = 'AAPL stock')"
   ]
  },
  {
   "cell_type": "markdown",
   "metadata": {},
   "source": [
    "Resample the time series data to business day frequency. This introduce some missing values"
   ]
  },
  {
   "cell_type": "code",
   "execution_count": 90,
   "metadata": {},
   "outputs": [
    {
     "data": {
      "text/plain": [
       "2292"
      ]
     },
     "execution_count": 90,
     "metadata": {},
     "output_type": "execute_result"
    }
   ],
   "source": [
    "close_px = close_px.resample(\"B\").asfreq()\n",
    "len(close_px)"
   ]
  },
  {
   "cell_type": "code",
   "execution_count": 91,
   "metadata": {},
   "outputs": [
    {
     "data": {
      "text/plain": [
       "<AxesSubplot:xlabel='time', ylabel='AAPL stock'>"
      ]
     },
     "execution_count": 91,
     "metadata": {},
     "output_type": "execute_result"
    },
    {
     "data": {
      "image/png": "[encoded data removed]",
      "text/plain": [
       "<Figure size 640x480 with 1 Axes>"
      ]
     },
     "metadata": {},
     "output_type": "display_data"
    }
   ],
   "source": [
    "close_px.AAPL.plot(xlabel= 'time',ylabel = 'AAPL stock')"
   ]
  },
  {
   "cell_type": "code",
   "execution_count": 92,
   "metadata": {},
   "outputs": [],
   "source": [
    "close_px = close_px.ffill()"
   ]
  },
  {
   "cell_type": "code",
   "execution_count": 93,
   "metadata": {},
   "outputs": [
    {
     "data": {
      "text/plain": [
       "<AxesSubplot:xlabel='time', ylabel='AAPL stock'>"
      ]
     },
     "execution_count": 93,
     "metadata": {},
     "output_type": "execute_result"
    },
    {
     "data": {
      "image/png": "[encoded data removed]",
      "text/plain": [
       "<Figure size 640x480 with 1 Axes>"
      ]
     },
     "metadata": {},
     "output_type": "display_data"
    }
   ],
   "source": [
    "close_px.AAPL.plot(xlabel= 'time',ylabel = 'AAPL stock')"
   ]
  },
  {
   "cell_type": "markdown",
   "metadata": {},
   "source": [
    "**Rectangular or unweighted sliding-average smooth**"
   ]
  },
  {
   "cell_type": "markdown",
   "metadata": {},
   "source": [
    "The rolling operator is simlar to resample or groupby, but can be called on a Series or a Dataframe along with a window (expressed as number of periods)."
   ]
  },
  {
   "cell_type": "markdown",
   "metadata": {},
   "source": [
    "By default, set the window labels as the right edge of the window index.\n",
    "If parameter center is set to \"True\", set the window labels as the center of the window index.\n"
   ]
  },
  {
   "cell_type": "code",
   "execution_count": 94,
   "metadata": {
    "scrolled": false
   },
   "outputs": [
    {
     "data": {
      "image/png": "[encoded data removed]",
      "text/plain": [
       "<Figure size 640x480 with 1 Axes>"
      ]
     },
     "metadata": {},
     "output_type": "display_data"
    }
   ],
   "source": [
    "close_px[\"AAPL\"].plot()\n",
    "close_px[\"AAPL\"].rolling(250).mean().plot(xlabel= 'time',ylabel = 'AAPL stock')\n",
    "plt.title(\"Apple price with 250-day moving average\")\n",
    "plt.show()"
   ]
  },
  {
   "cell_type": "markdown",
   "metadata": {},
   "source": [
    "With a too wide window, noise is reduced but the information carried by the signal is strongly reduced as well."
   ]
  },
  {
   "cell_type": "code",
   "execution_count": 95,
   "metadata": {},
   "outputs": [
    {
     "data": {
      "image/png": "[encoded data removed]",
      "text/plain": [
       "<Figure size 640x480 with 1 Axes>"
      ]
     },
     "metadata": {},
     "output_type": "display_data"
    }
   ],
   "source": [
    "close_px[\"AAPL\"].plot()\n",
    "close_px[\"AAPL\"].rolling('30D').mean().plot(xlabel= 'time',ylabel = 'AAPL stock')\n",
    "plt.title(\"Apple price with 30-day moving average\")\n",
    "plt.show()"
   ]
  },
  {
   "cell_type": "markdown",
   "metadata": {},
   "source": [
    "**Savitsky-Golay Smoothing Filter**\n"
   ]
  },
  {
   "cell_type": "code",
   "execution_count": 96,
   "metadata": {},
   "outputs": [],
   "source": [
    "from scipy.signal import savgol_filter\n",
    "close_px['AAPL_sg'] = savgol_filter(close_px[\"AAPL\"], window_length = 100, polyorder = 4)"
   ]
  },
  {
   "cell_type": "code",
   "execution_count": 97,
   "metadata": {},
   "outputs": [
    {
     "data": {
      "image/png": "[encoded data removed]",
      "text/plain": [
       "<Figure size 640x480 with 1 Axes>"
      ]
     },
     "metadata": {},
     "output_type": "display_data"
    }
   ],
   "source": [
    "close_px[\"AAPL\"].plot(label = 'original')\n",
    "close_px[\"AAPL\"].rolling(100,center = True).mean().plot(color = 'r',\n",
    "                                                        label = 'simple moving average',\n",
    "                                                        xlabel= 'time',\n",
    "                                                        ylabel = 'AAPL stock')\n",
    "close_px[\"AAPL_sg\"].plot(label = 'savitzky golay',color = 'k')\n",
    "\n",
    "plt.legend()\n",
    "plt.title(\"Apple price with 250-day moving average\")\n",
    "plt.show()\n"
   ]
  },
  {
   "cell_type": "markdown",
   "metadata": {},
   "source": [
    "Notice that, even if the window length is the same, Savitsky-Golay entails a better preservation of the peaks."
   ]
  },
  {
   "cell_type": "markdown",
   "metadata": {},
   "source": [
    "# <font color='blue'><ins>TASK</ins></font>\n",
    "- [This repository](https://github.com/pcm-dpc/COVID-19) hosts the updated information about the evolution of the pandemic in Italy (as provided by the \"Dipartimento della Protezione Civile\"). One way to programmatically get access to the data is through urllib (see the snippet below)\n",
    "    - Process and explore national level data.\n",
    "    - Explore the repository and fetch regional level data. Then, process and explore regional level data."
   ]
  },
  {
   "cell_type": "code",
   "execution_count": 98,
   "metadata": {
    "scrolled": false
   },
   "outputs": [],
   "source": [
    "import urllib\n",
    "reponame = \"https://raw.githubusercontent.com/pcm-dpc/COVID-19/master/dati-andamento-nazionale/\"\n",
    "filename = \"dpc-covid19-ita-andamento-nazionale.csv\"\n",
    "CSV_URL = reponame+filename\n",
    "with urllib.request.urlopen(CSV_URL) as f:\n",
    "    df = pd.read_csv(f,index_col = 0)"
   ]
  },
  {
   "cell_type": "code",
   "execution_count": 99,
   "metadata": {},
   "outputs": [],
   "source": [
    "ENGLISH_TRANSLATION = False\n",
    "ita_eng_columns = {\n",
    "    'stato':'state',\n",
    "    'ricoverati_con_sintomi':'hospitalized_with_symptoms', \n",
    "    'terapia_intensiva': 'intensive_care',\n",
    "    'totale_ospedalizzati': 'total_hospitalized',\n",
    "    'isolamento_domiciliare': 'home_isolation',\n",
    "    'totale_positivi': 'total_positive',\n",
    "    'variazione_totale_positivi':'total_positive_variation',\n",
    "    'nuovi_positivi': 'new_positive',\n",
    "    'dimessi_guariti': 'healed',\n",
    "    'deceduti': 'deaths',\n",
    "    'casi_da_sospetto_diagnostico': 'positive_by_symtoms',\n",
    "    'casi_da_screening': 'positive_by_screening',\n",
    "    'totale_casi': 'total_cases',\n",
    "    'tamponi': 'pcr',\n",
    "    'casi_testati': 'tested_cases',\n",
    "    'note':'notes',\n",
    "    'ingressi_terapia_intensiva': 'intensive_care_entrances', \n",
    "    'note_test': 'notes_tests', \n",
    "    'note_casi': 'notes_cases',\n",
    "    'totale_positivi_test_molecolare': 'total_positive_molecular_test',\n",
    "    'totale_positivi_test_antigenico_rapido': 'total_positive_rapid_antigen_test', \n",
    "    'tamponi_test_molecolare': 'molecular_test',\n",
    "    'tamponi_test_antigenico_rapido': 'rapid_antigen_test'}\n",
    "if ENGLISH_TRANSLATION:\n",
    "    df.columns = [ita_eng_columns[x] for x in df.columns]"
   ]
  },
  {
   "cell_type": "code",
   "execution_count": 100,
   "metadata": {},
   "outputs": [
    {
     "data": {
      "text/html": [
       "<div>\n",
       "<style scoped>\n",
       "    .dataframe tbody tr th:only-of-type {\n",
       "        vertical-align: middle;\n",
       "    }\n",
       "\n",
       "    .dataframe tbody tr th {\n",
       "        vertical-align: top;\n",
       "    }\n",
       "\n",
       "    .dataframe thead th {\n",
       "        text-align: right;\n",
       "    }\n",
       "</style>\n",
       "<table border=\"1\" class=\"dataframe\">\n",
       "  <thead>\n",
       "    <tr style=\"text-align: right;\">\n",
       "      <th>data</th>\n",
       "      <th>2020-02-24T18:00:00</th>\n",
       "      <th>2020-02-25T18:00:00</th>\n",
       "      <th>2020-02-26T18:00:00</th>\n",
       "      <th>2020-02-27T18:00:00</th>\n",
       "      <th>2020-02-28T18:00:00</th>\n",
       "      <th>2020-02-29T18:00:00</th>\n",
       "      <th>2020-03-01T18:00:00</th>\n",
       "      <th>2020-03-02T18:00:00</th>\n",
       "      <th>2020-03-03T18:00:00</th>\n",
       "      <th>2020-03-04T18:00:00</th>\n",
       "      <th>...</th>\n",
       "      <th>2022-11-22T17:00:00</th>\n",
       "      <th>2022-11-23T17:00:00</th>\n",
       "      <th>2022-11-24T17:00:00</th>\n",
       "      <th>2022-11-25T17:00:00</th>\n",
       "      <th>2022-11-26T17:00:00</th>\n",
       "      <th>2022-11-27T17:00:00</th>\n",
       "      <th>2022-11-28T17:00:00</th>\n",
       "      <th>2022-11-29T17:00:00</th>\n",
       "      <th>2022-11-30T17:00:00</th>\n",
       "      <th>2022-12-01T17:00:00</th>\n",
       "    </tr>\n",
       "  </thead>\n",
       "  <tbody>\n",
       "    <tr>\n",
       "      <th>stato</th>\n",
       "      <td>ITA</td>\n",
       "      <td>ITA</td>\n",
       "      <td>ITA</td>\n",
       "      <td>ITA</td>\n",
       "      <td>ITA</td>\n",
       "      <td>ITA</td>\n",
       "      <td>ITA</td>\n",
       "      <td>ITA</td>\n",
       "      <td>ITA</td>\n",
       "      <td>ITA</td>\n",
       "      <td>...</td>\n",
       "      <td>ITA</td>\n",
       "      <td>ITA</td>\n",
       "      <td>ITA</td>\n",
       "      <td>ITA</td>\n",
       "      <td>ITA</td>\n",
       "      <td>ITA</td>\n",
       "      <td>ITA</td>\n",
       "      <td>ITA</td>\n",
       "      <td>ITA</td>\n",
       "      <td>ITA</td>\n",
       "    </tr>\n",
       "    <tr>\n",
       "      <th>ricoverati_con_sintomi</th>\n",
       "      <td>101</td>\n",
       "      <td>114</td>\n",
       "      <td>128</td>\n",
       "      <td>248</td>\n",
       "      <td>345</td>\n",
       "      <td>401</td>\n",
       "      <td>639</td>\n",
       "      <td>742</td>\n",
       "      <td>1034</td>\n",
       "      <td>1346</td>\n",
       "      <td>...</td>\n",
       "      <td>7600</td>\n",
       "      <td>7615</td>\n",
       "      <td>7613</td>\n",
       "      <td>7776</td>\n",
       "      <td>7793</td>\n",
       "      <td>7865</td>\n",
       "      <td>8040</td>\n",
       "      <td>8179</td>\n",
       "      <td>8361</td>\n",
       "      <td>8458</td>\n",
       "    </tr>\n",
       "    <tr>\n",
       "      <th>terapia_intensiva</th>\n",
       "      <td>26</td>\n",
       "      <td>35</td>\n",
       "      <td>36</td>\n",
       "      <td>56</td>\n",
       "      <td>64</td>\n",
       "      <td>105</td>\n",
       "      <td>140</td>\n",
       "      <td>166</td>\n",
       "      <td>229</td>\n",
       "      <td>295</td>\n",
       "      <td>...</td>\n",
       "      <td>248</td>\n",
       "      <td>241</td>\n",
       "      <td>250</td>\n",
       "      <td>256</td>\n",
       "      <td>252</td>\n",
       "      <td>274</td>\n",
       "      <td>283</td>\n",
       "      <td>289</td>\n",
       "      <td>303</td>\n",
       "      <td>320</td>\n",
       "    </tr>\n",
       "    <tr>\n",
       "      <th>totale_ospedalizzati</th>\n",
       "      <td>127</td>\n",
       "      <td>150</td>\n",
       "      <td>164</td>\n",
       "      <td>304</td>\n",
       "      <td>409</td>\n",
       "      <td>506</td>\n",
       "      <td>779</td>\n",
       "      <td>908</td>\n",
       "      <td>1263</td>\n",
       "      <td>1641</td>\n",
       "      <td>...</td>\n",
       "      <td>7848</td>\n",
       "      <td>7856</td>\n",
       "      <td>7863</td>\n",
       "      <td>8032</td>\n",
       "      <td>8045</td>\n",
       "      <td>8139</td>\n",
       "      <td>8323</td>\n",
       "      <td>8468</td>\n",
       "      <td>8664</td>\n",
       "      <td>8778</td>\n",
       "    </tr>\n",
       "    <tr>\n",
       "      <th>isolamento_domiciliare</th>\n",
       "      <td>94</td>\n",
       "      <td>162</td>\n",
       "      <td>221</td>\n",
       "      <td>284</td>\n",
       "      <td>412</td>\n",
       "      <td>543</td>\n",
       "      <td>798</td>\n",
       "      <td>927</td>\n",
       "      <td>1000</td>\n",
       "      <td>1065</td>\n",
       "      <td>...</td>\n",
       "      <td>473813</td>\n",
       "      <td>477785</td>\n",
       "      <td>484594</td>\n",
       "      <td>487020</td>\n",
       "      <td>490202</td>\n",
       "      <td>489914</td>\n",
       "      <td>481655</td>\n",
       "      <td>492208</td>\n",
       "      <td>494163</td>\n",
       "      <td>498391</td>\n",
       "    </tr>\n",
       "    <tr>\n",
       "      <th>totale_positivi</th>\n",
       "      <td>221</td>\n",
       "      <td>311</td>\n",
       "      <td>385</td>\n",
       "      <td>588</td>\n",
       "      <td>821</td>\n",
       "      <td>1049</td>\n",
       "      <td>1577</td>\n",
       "      <td>1835</td>\n",
       "      <td>2263</td>\n",
       "      <td>2706</td>\n",
       "      <td>...</td>\n",
       "      <td>481661</td>\n",
       "      <td>485641</td>\n",
       "      <td>492457</td>\n",
       "      <td>495052</td>\n",
       "      <td>498247</td>\n",
       "      <td>498053</td>\n",
       "      <td>489978</td>\n",
       "      <td>500676</td>\n",
       "      <td>502827</td>\n",
       "      <td>507169</td>\n",
       "    </tr>\n",
       "    <tr>\n",
       "      <th>variazione_totale_positivi</th>\n",
       "      <td>0</td>\n",
       "      <td>90</td>\n",
       "      <td>74</td>\n",
       "      <td>203</td>\n",
       "      <td>233</td>\n",
       "      <td>228</td>\n",
       "      <td>528</td>\n",
       "      <td>258</td>\n",
       "      <td>428</td>\n",
       "      <td>443</td>\n",
       "      <td>...</td>\n",
       "      <td>12051</td>\n",
       "      <td>3980</td>\n",
       "      <td>6816</td>\n",
       "      <td>2595</td>\n",
       "      <td>3195</td>\n",
       "      <td>-194</td>\n",
       "      <td>-8075</td>\n",
       "      <td>10698</td>\n",
       "      <td>2151</td>\n",
       "      <td>4342</td>\n",
       "    </tr>\n",
       "    <tr>\n",
       "      <th>nuovi_positivi</th>\n",
       "      <td>221</td>\n",
       "      <td>93</td>\n",
       "      <td>78</td>\n",
       "      <td>250</td>\n",
       "      <td>238</td>\n",
       "      <td>240</td>\n",
       "      <td>566</td>\n",
       "      <td>342</td>\n",
       "      <td>466</td>\n",
       "      <td>587</td>\n",
       "      <td>...</td>\n",
       "      <td>50285</td>\n",
       "      <td>35641</td>\n",
       "      <td>36909</td>\n",
       "      <td>34601</td>\n",
       "      <td>32412</td>\n",
       "      <td>23956</td>\n",
       "      <td>12266</td>\n",
       "      <td>50626</td>\n",
       "      <td>36981</td>\n",
       "      <td>36598</td>\n",
       "    </tr>\n",
       "    <tr>\n",
       "      <th>dimessi_guariti</th>\n",
       "      <td>1</td>\n",
       "      <td>1</td>\n",
       "      <td>3</td>\n",
       "      <td>45</td>\n",
       "      <td>46</td>\n",
       "      <td>50</td>\n",
       "      <td>83</td>\n",
       "      <td>149</td>\n",
       "      <td>160</td>\n",
       "      <td>276</td>\n",
       "      <td>...</td>\n",
       "      <td>23525553</td>\n",
       "      <td>23557103</td>\n",
       "      <td>23587105</td>\n",
       "      <td>23619022</td>\n",
       "      <td>23648146</td>\n",
       "      <td>23672245</td>\n",
       "      <td>23692505</td>\n",
       "      <td>23732286</td>\n",
       "      <td>23767026</td>\n",
       "      <td>23799178</td>\n",
       "    </tr>\n",
       "    <tr>\n",
       "      <th>deceduti</th>\n",
       "      <td>7</td>\n",
       "      <td>10</td>\n",
       "      <td>12</td>\n",
       "      <td>17</td>\n",
       "      <td>21</td>\n",
       "      <td>29</td>\n",
       "      <td>34</td>\n",
       "      <td>52</td>\n",
       "      <td>79</td>\n",
       "      <td>107</td>\n",
       "      <td>...</td>\n",
       "      <td>180899</td>\n",
       "      <td>181009</td>\n",
       "      <td>181098</td>\n",
       "      <td>181182</td>\n",
       "      <td>181271</td>\n",
       "      <td>181322</td>\n",
       "      <td>181403</td>\n",
       "      <td>181544</td>\n",
       "      <td>181630</td>\n",
       "      <td>181733</td>\n",
       "    </tr>\n",
       "    <tr>\n",
       "      <th>casi_da_sospetto_diagnostico</th>\n",
       "      <td>NaN</td>\n",
       "      <td>NaN</td>\n",
       "      <td>NaN</td>\n",
       "      <td>NaN</td>\n",
       "      <td>NaN</td>\n",
       "      <td>NaN</td>\n",
       "      <td>NaN</td>\n",
       "      <td>NaN</td>\n",
       "      <td>NaN</td>\n",
       "      <td>NaN</td>\n",
       "      <td>...</td>\n",
       "      <td>NaN</td>\n",
       "      <td>NaN</td>\n",
       "      <td>NaN</td>\n",
       "      <td>NaN</td>\n",
       "      <td>NaN</td>\n",
       "      <td>NaN</td>\n",
       "      <td>NaN</td>\n",
       "      <td>NaN</td>\n",
       "      <td>NaN</td>\n",
       "      <td>NaN</td>\n",
       "    </tr>\n",
       "    <tr>\n",
       "      <th>casi_da_screening</th>\n",
       "      <td>NaN</td>\n",
       "      <td>NaN</td>\n",
       "      <td>NaN</td>\n",
       "      <td>NaN</td>\n",
       "      <td>NaN</td>\n",
       "      <td>NaN</td>\n",
       "      <td>NaN</td>\n",
       "      <td>NaN</td>\n",
       "      <td>NaN</td>\n",
       "      <td>NaN</td>\n",
       "      <td>...</td>\n",
       "      <td>NaN</td>\n",
       "      <td>NaN</td>\n",
       "      <td>NaN</td>\n",
       "      <td>NaN</td>\n",
       "      <td>NaN</td>\n",
       "      <td>NaN</td>\n",
       "      <td>NaN</td>\n",
       "      <td>NaN</td>\n",
       "      <td>NaN</td>\n",
       "      <td>NaN</td>\n",
       "    </tr>\n",
       "    <tr>\n",
       "      <th>totale_casi</th>\n",
       "      <td>229</td>\n",
       "      <td>322</td>\n",
       "      <td>400</td>\n",
       "      <td>650</td>\n",
       "      <td>888</td>\n",
       "      <td>1128</td>\n",
       "      <td>1694</td>\n",
       "      <td>2036</td>\n",
       "      <td>2502</td>\n",
       "      <td>3089</td>\n",
       "      <td>...</td>\n",
       "      <td>24188113</td>\n",
       "      <td>24223753</td>\n",
       "      <td>24260660</td>\n",
       "      <td>24295256</td>\n",
       "      <td>24327664</td>\n",
       "      <td>24351620</td>\n",
       "      <td>24363886</td>\n",
       "      <td>24414506</td>\n",
       "      <td>24451483</td>\n",
       "      <td>24488080</td>\n",
       "    </tr>\n",
       "    <tr>\n",
       "      <th>tamponi</th>\n",
       "      <td>4324</td>\n",
       "      <td>8623</td>\n",
       "      <td>9587</td>\n",
       "      <td>12014</td>\n",
       "      <td>15695</td>\n",
       "      <td>18661</td>\n",
       "      <td>21127</td>\n",
       "      <td>23345</td>\n",
       "      <td>25856</td>\n",
       "      <td>29837</td>\n",
       "      <td>...</td>\n",
       "      <td>256635935</td>\n",
       "      <td>256846546</td>\n",
       "      <td>257057363</td>\n",
       "      <td>257255840</td>\n",
       "      <td>257448184</td>\n",
       "      <td>257593104</td>\n",
       "      <td>257670989</td>\n",
       "      <td>257958950</td>\n",
       "      <td>258171545</td>\n",
       "      <td>258382332</td>\n",
       "    </tr>\n",
       "    <tr>\n",
       "      <th>casi_testati</th>\n",
       "      <td>NaN</td>\n",
       "      <td>NaN</td>\n",
       "      <td>NaN</td>\n",
       "      <td>NaN</td>\n",
       "      <td>NaN</td>\n",
       "      <td>NaN</td>\n",
       "      <td>NaN</td>\n",
       "      <td>NaN</td>\n",
       "      <td>NaN</td>\n",
       "      <td>NaN</td>\n",
       "      <td>...</td>\n",
       "      <td>65796463.0</td>\n",
       "      <td>65832355.0</td>\n",
       "      <td>65867829.0</td>\n",
       "      <td>65901901.0</td>\n",
       "      <td>65932024.0</td>\n",
       "      <td>65956542.0</td>\n",
       "      <td>65971834.0</td>\n",
       "      <td>66016484.0</td>\n",
       "      <td>66052975.0</td>\n",
       "      <td>66089134.0</td>\n",
       "    </tr>\n",
       "    <tr>\n",
       "      <th>note</th>\n",
       "      <td>NaN</td>\n",
       "      <td>NaN</td>\n",
       "      <td>NaN</td>\n",
       "      <td>NaN</td>\n",
       "      <td>NaN</td>\n",
       "      <td>NaN</td>\n",
       "      <td>NaN</td>\n",
       "      <td>NaN</td>\n",
       "      <td>NaN</td>\n",
       "      <td>NaN</td>\n",
       "      <td>...</td>\n",
       "      <td>NaN</td>\n",
       "      <td>NaN</td>\n",
       "      <td>NaN</td>\n",
       "      <td>NaN</td>\n",
       "      <td>NaN</td>\n",
       "      <td>NaN</td>\n",
       "      <td>NaN</td>\n",
       "      <td>NaN</td>\n",
       "      <td>NaN</td>\n",
       "      <td>NaN</td>\n",
       "    </tr>\n",
       "    <tr>\n",
       "      <th>ingressi_terapia_intensiva</th>\n",
       "      <td>NaN</td>\n",
       "      <td>NaN</td>\n",
       "      <td>NaN</td>\n",
       "      <td>NaN</td>\n",
       "      <td>NaN</td>\n",
       "      <td>NaN</td>\n",
       "      <td>NaN</td>\n",
       "      <td>NaN</td>\n",
       "      <td>NaN</td>\n",
       "      <td>NaN</td>\n",
       "      <td>...</td>\n",
       "      <td>40.0</td>\n",
       "      <td>37.0</td>\n",
       "      <td>32.0</td>\n",
       "      <td>32.0</td>\n",
       "      <td>37.0</td>\n",
       "      <td>39.0</td>\n",
       "      <td>29.0</td>\n",
       "      <td>41.0</td>\n",
       "      <td>50.0</td>\n",
       "      <td>51.0</td>\n",
       "    </tr>\n",
       "    <tr>\n",
       "      <th>note_test</th>\n",
       "      <td>NaN</td>\n",
       "      <td>NaN</td>\n",
       "      <td>NaN</td>\n",
       "      <td>NaN</td>\n",
       "      <td>NaN</td>\n",
       "      <td>NaN</td>\n",
       "      <td>NaN</td>\n",
       "      <td>NaN</td>\n",
       "      <td>NaN</td>\n",
       "      <td>NaN</td>\n",
       "      <td>...</td>\n",
       "      <td>NaN</td>\n",
       "      <td>NaN</td>\n",
       "      <td>NaN</td>\n",
       "      <td>NaN</td>\n",
       "      <td>NaN</td>\n",
       "      <td>NaN</td>\n",
       "      <td>NaN</td>\n",
       "      <td>NaN</td>\n",
       "      <td>NaN</td>\n",
       "      <td>NaN</td>\n",
       "    </tr>\n",
       "    <tr>\n",
       "      <th>note_casi</th>\n",
       "      <td>NaN</td>\n",
       "      <td>NaN</td>\n",
       "      <td>NaN</td>\n",
       "      <td>NaN</td>\n",
       "      <td>NaN</td>\n",
       "      <td>NaN</td>\n",
       "      <td>NaN</td>\n",
       "      <td>NaN</td>\n",
       "      <td>NaN</td>\n",
       "      <td>NaN</td>\n",
       "      <td>...</td>\n",
       "      <td>NaN</td>\n",
       "      <td>NaN</td>\n",
       "      <td>NaN</td>\n",
       "      <td>NaN</td>\n",
       "      <td>NaN</td>\n",
       "      <td>NaN</td>\n",
       "      <td>NaN</td>\n",
       "      <td>NaN</td>\n",
       "      <td>NaN</td>\n",
       "      <td>NaN</td>\n",
       "    </tr>\n",
       "    <tr>\n",
       "      <th>totale_positivi_test_molecolare</th>\n",
       "      <td>NaN</td>\n",
       "      <td>NaN</td>\n",
       "      <td>NaN</td>\n",
       "      <td>NaN</td>\n",
       "      <td>NaN</td>\n",
       "      <td>NaN</td>\n",
       "      <td>NaN</td>\n",
       "      <td>NaN</td>\n",
       "      <td>NaN</td>\n",
       "      <td>NaN</td>\n",
       "      <td>...</td>\n",
       "      <td>9533101.0</td>\n",
       "      <td>9537064.0</td>\n",
       "      <td>9542675.0</td>\n",
       "      <td>9547269.0</td>\n",
       "      <td>9551410.0</td>\n",
       "      <td>9554305.0</td>\n",
       "      <td>9555593.0</td>\n",
       "      <td>9563512.0</td>\n",
       "      <td>9567925.0</td>\n",
       "      <td>9573057.0</td>\n",
       "    </tr>\n",
       "    <tr>\n",
       "      <th>totale_positivi_test_antigenico_rapido</th>\n",
       "      <td>NaN</td>\n",
       "      <td>NaN</td>\n",
       "      <td>NaN</td>\n",
       "      <td>NaN</td>\n",
       "      <td>NaN</td>\n",
       "      <td>NaN</td>\n",
       "      <td>NaN</td>\n",
       "      <td>NaN</td>\n",
       "      <td>NaN</td>\n",
       "      <td>NaN</td>\n",
       "      <td>...</td>\n",
       "      <td>14655012.0</td>\n",
       "      <td>14686689.0</td>\n",
       "      <td>14717985.0</td>\n",
       "      <td>14747987.0</td>\n",
       "      <td>14776254.0</td>\n",
       "      <td>14797315.0</td>\n",
       "      <td>14808293.0</td>\n",
       "      <td>14850994.0</td>\n",
       "      <td>14883558.0</td>\n",
       "      <td>14915023.0</td>\n",
       "    </tr>\n",
       "    <tr>\n",
       "      <th>tamponi_test_molecolare</th>\n",
       "      <td>NaN</td>\n",
       "      <td>NaN</td>\n",
       "      <td>NaN</td>\n",
       "      <td>NaN</td>\n",
       "      <td>NaN</td>\n",
       "      <td>NaN</td>\n",
       "      <td>NaN</td>\n",
       "      <td>NaN</td>\n",
       "      <td>NaN</td>\n",
       "      <td>NaN</td>\n",
       "      <td>...</td>\n",
       "      <td>98625027.0</td>\n",
       "      <td>98665022.0</td>\n",
       "      <td>98700942.0</td>\n",
       "      <td>98731940.0</td>\n",
       "      <td>98761479.0</td>\n",
       "      <td>98786040.0</td>\n",
       "      <td>98800734.0</td>\n",
       "      <td>98840305.0</td>\n",
       "      <td>98879379.0</td>\n",
       "      <td>98917043.0</td>\n",
       "    </tr>\n",
       "    <tr>\n",
       "      <th>tamponi_test_antigenico_rapido</th>\n",
       "      <td>NaN</td>\n",
       "      <td>NaN</td>\n",
       "      <td>NaN</td>\n",
       "      <td>NaN</td>\n",
       "      <td>NaN</td>\n",
       "      <td>NaN</td>\n",
       "      <td>NaN</td>\n",
       "      <td>NaN</td>\n",
       "      <td>NaN</td>\n",
       "      <td>NaN</td>\n",
       "      <td>...</td>\n",
       "      <td>158010908.0</td>\n",
       "      <td>158181524.0</td>\n",
       "      <td>158356421.0</td>\n",
       "      <td>158523900.0</td>\n",
       "      <td>158686705.0</td>\n",
       "      <td>158807064.0</td>\n",
       "      <td>158870255.0</td>\n",
       "      <td>159118645.0</td>\n",
       "      <td>159292166.0</td>\n",
       "      <td>159465289.0</td>\n",
       "    </tr>\n",
       "  </tbody>\n",
       "</table>\n",
       "<p>23 rows × 1012 columns</p>\n",
       "</div>"
      ],
      "text/plain": [
       "data                                   2020-02-24T18:00:00  \\\n",
       "stato                                                  ITA   \n",
       "ricoverati_con_sintomi                                 101   \n",
       "terapia_intensiva                                       26   \n",
       "totale_ospedalizzati                                   127   \n",
       "isolamento_domiciliare                                  94   \n",
       "totale_positivi                                        221   \n",
       "variazione_totale_positivi                               0   \n",
       "nuovi_positivi                                         221   \n",
       "dimessi_guariti                                          1   \n",
       "deceduti                                                 7   \n",
       "casi_da_sospetto_diagnostico                           NaN   \n",
       "casi_da_screening                                      NaN   \n",
       "totale_casi                                            229   \n",
       "tamponi                                               4324   \n",
       "casi_testati                                           NaN   \n",
       "note                                                   NaN   \n",
       "ingressi_terapia_intensiva                             NaN   \n",
       "note_test                                              NaN   \n",
       "note_casi                                              NaN   \n",
       "totale_positivi_test_molecolare                        NaN   \n",
       "totale_positivi_test_antigenico_rapido                 NaN   \n",
       "tamponi_test_molecolare                                NaN   \n",
       "tamponi_test_antigenico_rapido                         NaN   \n",
       "\n",
       "data                                   2020-02-25T18:00:00  \\\n",
       "stato                                                  ITA   \n",
       "ricoverati_con_sintomi                                 114   \n",
       "terapia_intensiva                                       35   \n",
       "totale_ospedalizzati                                   150   \n",
       "isolamento_domiciliare                                 162   \n",
       "totale_positivi                                        311   \n",
       "variazione_totale_positivi                              90   \n",
       "nuovi_positivi                                          93   \n",
       "dimessi_guariti                                          1   \n",
       "deceduti                                                10   \n",
       "casi_da_sospetto_diagnostico                           NaN   \n",
       "casi_da_screening                                      NaN   \n",
       "totale_casi                                            322   \n",
       "tamponi                                               8623   \n",
       "casi_testati                                           NaN   \n",
       "note                                                   NaN   \n",
       "ingressi_terapia_intensiva                             NaN   \n",
       "note_test                                              NaN   \n",
       "note_casi                                              NaN   \n",
       "totale_positivi_test_molecolare                        NaN   \n",
       "totale_positivi_test_antigenico_rapido                 NaN   \n",
       "tamponi_test_molecolare                                NaN   \n",
       "tamponi_test_antigenico_rapido                         NaN   \n",
       "\n",
       "data                                   2020-02-26T18:00:00  \\\n",
       "stato                                                  ITA   \n",
       "ricoverati_con_sintomi                                 128   \n",
       "terapia_intensiva                                       36   \n",
       "totale_ospedalizzati                                   164   \n",
       "isolamento_domiciliare                                 221   \n",
       "totale_positivi                                        385   \n",
       "variazione_totale_positivi                              74   \n",
       "nuovi_positivi                                          78   \n",
       "dimessi_guariti                                          3   \n",
       "deceduti                                                12   \n",
       "casi_da_sospetto_diagnostico                           NaN   \n",
       "casi_da_screening                                      NaN   \n",
       "totale_casi                                            400   \n",
       "tamponi                                               9587   \n",
       "casi_testati                                           NaN   \n",
       "note                                                   NaN   \n",
       "ingressi_terapia_intensiva                             NaN   \n",
       "note_test                                              NaN   \n",
       "note_casi                                              NaN   \n",
       "totale_positivi_test_molecolare                        NaN   \n",
       "totale_positivi_test_antigenico_rapido                 NaN   \n",
       "tamponi_test_molecolare                                NaN   \n",
       "tamponi_test_antigenico_rapido                         NaN   \n",
       "\n",
       "data                                   2020-02-27T18:00:00  \\\n",
       "stato                                                  ITA   \n",
       "ricoverati_con_sintomi                                 248   \n",
       "terapia_intensiva                                       56   \n",
       "totale_ospedalizzati                                   304   \n",
       "isolamento_domiciliare                                 284   \n",
       "totale_positivi                                        588   \n",
       "variazione_totale_positivi                             203   \n",
       "nuovi_positivi                                         250   \n",
       "dimessi_guariti                                         45   \n",
       "deceduti                                                17   \n",
       "casi_da_sospetto_diagnostico                           NaN   \n",
       "casi_da_screening                                      NaN   \n",
       "totale_casi                                            650   \n",
       "tamponi                                              12014   \n",
       "casi_testati                                           NaN   \n",
       "note                                                   NaN   \n",
       "ingressi_terapia_intensiva                             NaN   \n",
       "note_test                                              NaN   \n",
       "note_casi                                              NaN   \n",
       "totale_positivi_test_molecolare                        NaN   \n",
       "totale_positivi_test_antigenico_rapido                 NaN   \n",
       "tamponi_test_molecolare                                NaN   \n",
       "tamponi_test_antigenico_rapido                         NaN   \n",
       "\n",
       "data                                   2020-02-28T18:00:00  \\\n",
       "stato                                                  ITA   \n",
       "ricoverati_con_sintomi                                 345   \n",
       "terapia_intensiva                                       64   \n",
       "totale_ospedalizzati                                   409   \n",
       "isolamento_domiciliare                                 412   \n",
       "totale_positivi                                        821   \n",
       "variazione_totale_positivi                             233   \n",
       "nuovi_positivi                                         238   \n",
       "dimessi_guariti                                         46   \n",
       "deceduti                                                21   \n",
       "casi_da_sospetto_diagnostico                           NaN   \n",
       "casi_da_screening                                      NaN   \n",
       "totale_casi                                            888   \n",
       "tamponi                                              15695   \n",
       "casi_testati                                           NaN   \n",
       "note                                                   NaN   \n",
       "ingressi_terapia_intensiva                             NaN   \n",
       "note_test                                              NaN   \n",
       "note_casi                                              NaN   \n",
       "totale_positivi_test_molecolare                        NaN   \n",
       "totale_positivi_test_antigenico_rapido                 NaN   \n",
       "tamponi_test_molecolare                                NaN   \n",
       "tamponi_test_antigenico_rapido                         NaN   \n",
       "\n",
       "data                                   2020-02-29T18:00:00  \\\n",
       "stato                                                  ITA   \n",
       "ricoverati_con_sintomi                                 401   \n",
       "terapia_intensiva                                      105   \n",
       "totale_ospedalizzati                                   506   \n",
       "isolamento_domiciliare                                 543   \n",
       "totale_positivi                                       1049   \n",
       "variazione_totale_positivi                             228   \n",
       "nuovi_positivi                                         240   \n",
       "dimessi_guariti                                         50   \n",
       "deceduti                                                29   \n",
       "casi_da_sospetto_diagnostico                           NaN   \n",
       "casi_da_screening                                      NaN   \n",
       "totale_casi                                           1128   \n",
       "tamponi                                              18661   \n",
       "casi_testati                                           NaN   \n",
       "note                                                   NaN   \n",
       "ingressi_terapia_intensiva                             NaN   \n",
       "note_test                                              NaN   \n",
       "note_casi                                              NaN   \n",
       "totale_positivi_test_molecolare                        NaN   \n",
       "totale_positivi_test_antigenico_rapido                 NaN   \n",
       "tamponi_test_molecolare                                NaN   \n",
       "tamponi_test_antigenico_rapido                         NaN   \n",
       "\n",
       "data                                   2020-03-01T18:00:00  \\\n",
       "stato                                                  ITA   \n",
       "ricoverati_con_sintomi                                 639   \n",
       "terapia_intensiva                                      140   \n",
       "totale_ospedalizzati                                   779   \n",
       "isolamento_domiciliare                                 798   \n",
       "totale_positivi                                       1577   \n",
       "variazione_totale_positivi                             528   \n",
       "nuovi_positivi                                         566   \n",
       "dimessi_guariti                                         83   \n",
       "deceduti                                                34   \n",
       "casi_da_sospetto_diagnostico                           NaN   \n",
       "casi_da_screening                                      NaN   \n",
       "totale_casi                                           1694   \n",
       "tamponi                                              21127   \n",
       "casi_testati                                           NaN   \n",
       "note                                                   NaN   \n",
       "ingressi_terapia_intensiva                             NaN   \n",
       "note_test                                              NaN   \n",
       "note_casi                                              NaN   \n",
       "totale_positivi_test_molecolare                        NaN   \n",
       "totale_positivi_test_antigenico_rapido                 NaN   \n",
       "tamponi_test_molecolare                                NaN   \n",
       "tamponi_test_antigenico_rapido                         NaN   \n",
       "\n",
       "data                                   2020-03-02T18:00:00  \\\n",
       "stato                                                  ITA   \n",
       "ricoverati_con_sintomi                                 742   \n",
       "terapia_intensiva                                      166   \n",
       "totale_ospedalizzati                                   908   \n",
       "isolamento_domiciliare                                 927   \n",
       "totale_positivi                                       1835   \n",
       "variazione_totale_positivi                             258   \n",
       "nuovi_positivi                                         342   \n",
       "dimessi_guariti                                        149   \n",
       "deceduti                                                52   \n",
       "casi_da_sospetto_diagnostico                           NaN   \n",
       "casi_da_screening                                      NaN   \n",
       "totale_casi                                           2036   \n",
       "tamponi                                              23345   \n",
       "casi_testati                                           NaN   \n",
       "note                                                   NaN   \n",
       "ingressi_terapia_intensiva                             NaN   \n",
       "note_test                                              NaN   \n",
       "note_casi                                              NaN   \n",
       "totale_positivi_test_molecolare                        NaN   \n",
       "totale_positivi_test_antigenico_rapido                 NaN   \n",
       "tamponi_test_molecolare                                NaN   \n",
       "tamponi_test_antigenico_rapido                         NaN   \n",
       "\n",
       "data                                   2020-03-03T18:00:00  \\\n",
       "stato                                                  ITA   \n",
       "ricoverati_con_sintomi                                1034   \n",
       "terapia_intensiva                                      229   \n",
       "totale_ospedalizzati                                  1263   \n",
       "isolamento_domiciliare                                1000   \n",
       "totale_positivi                                       2263   \n",
       "variazione_totale_positivi                             428   \n",
       "nuovi_positivi                                         466   \n",
       "dimessi_guariti                                        160   \n",
       "deceduti                                                79   \n",
       "casi_da_sospetto_diagnostico                           NaN   \n",
       "casi_da_screening                                      NaN   \n",
       "totale_casi                                           2502   \n",
       "tamponi                                              25856   \n",
       "casi_testati                                           NaN   \n",
       "note                                                   NaN   \n",
       "ingressi_terapia_intensiva                             NaN   \n",
       "note_test                                              NaN   \n",
       "note_casi                                              NaN   \n",
       "totale_positivi_test_molecolare                        NaN   \n",
       "totale_positivi_test_antigenico_rapido                 NaN   \n",
       "tamponi_test_molecolare                                NaN   \n",
       "tamponi_test_antigenico_rapido                         NaN   \n",
       "\n",
       "data                                   2020-03-04T18:00:00  ...  \\\n",
       "stato                                                  ITA  ...   \n",
       "ricoverati_con_sintomi                                1346  ...   \n",
       "terapia_intensiva                                      295  ...   \n",
       "totale_ospedalizzati                                  1641  ...   \n",
       "isolamento_domiciliare                                1065  ...   \n",
       "totale_positivi                                       2706  ...   \n",
       "variazione_totale_positivi                             443  ...   \n",
       "nuovi_positivi                                         587  ...   \n",
       "dimessi_guariti                                        276  ...   \n",
       "deceduti                                               107  ...   \n",
       "casi_da_sospetto_diagnostico                           NaN  ...   \n",
       "casi_da_screening                                      NaN  ...   \n",
       "totale_casi                                           3089  ...   \n",
       "tamponi                                              29837  ...   \n",
       "casi_testati                                           NaN  ...   \n",
       "note                                                   NaN  ...   \n",
       "ingressi_terapia_intensiva                             NaN  ...   \n",
       "note_test                                              NaN  ...   \n",
       "note_casi                                              NaN  ...   \n",
       "totale_positivi_test_molecolare                        NaN  ...   \n",
       "totale_positivi_test_antigenico_rapido                 NaN  ...   \n",
       "tamponi_test_molecolare                                NaN  ...   \n",
       "tamponi_test_antigenico_rapido                         NaN  ...   \n",
       "\n",
       "data                                   2022-11-22T17:00:00  \\\n",
       "stato                                                  ITA   \n",
       "ricoverati_con_sintomi                                7600   \n",
       "terapia_intensiva                                      248   \n",
       "totale_ospedalizzati                                  7848   \n",
       "isolamento_domiciliare                              473813   \n",
       "totale_positivi                                     481661   \n",
       "variazione_totale_positivi                           12051   \n",
       "nuovi_positivi                                       50285   \n",
       "dimessi_guariti                                   23525553   \n",
       "deceduti                                            180899   \n",
       "casi_da_sospetto_diagnostico                           NaN   \n",
       "casi_da_screening                                      NaN   \n",
       "totale_casi                                       24188113   \n",
       "tamponi                                          256635935   \n",
       "casi_testati                                    65796463.0   \n",
       "note                                                   NaN   \n",
       "ingressi_terapia_intensiva                            40.0   \n",
       "note_test                                              NaN   \n",
       "note_casi                                              NaN   \n",
       "totale_positivi_test_molecolare                  9533101.0   \n",
       "totale_positivi_test_antigenico_rapido          14655012.0   \n",
       "tamponi_test_molecolare                         98625027.0   \n",
       "tamponi_test_antigenico_rapido                 158010908.0   \n",
       "\n",
       "data                                   2022-11-23T17:00:00  \\\n",
       "stato                                                  ITA   \n",
       "ricoverati_con_sintomi                                7615   \n",
       "terapia_intensiva                                      241   \n",
       "totale_ospedalizzati                                  7856   \n",
       "isolamento_domiciliare                              477785   \n",
       "totale_positivi                                     485641   \n",
       "variazione_totale_positivi                            3980   \n",
       "nuovi_positivi                                       35641   \n",
       "dimessi_guariti                                   23557103   \n",
       "deceduti                                            181009   \n",
       "casi_da_sospetto_diagnostico                           NaN   \n",
       "casi_da_screening                                      NaN   \n",
       "totale_casi                                       24223753   \n",
       "tamponi                                          256846546   \n",
       "casi_testati                                    65832355.0   \n",
       "note                                                   NaN   \n",
       "ingressi_terapia_intensiva                            37.0   \n",
       "note_test                                              NaN   \n",
       "note_casi                                              NaN   \n",
       "totale_positivi_test_molecolare                  9537064.0   \n",
       "totale_positivi_test_antigenico_rapido          14686689.0   \n",
       "tamponi_test_molecolare                         98665022.0   \n",
       "tamponi_test_antigenico_rapido                 158181524.0   \n",
       "\n",
       "data                                   2022-11-24T17:00:00  \\\n",
       "stato                                                  ITA   \n",
       "ricoverati_con_sintomi                                7613   \n",
       "terapia_intensiva                                      250   \n",
       "totale_ospedalizzati                                  7863   \n",
       "isolamento_domiciliare                              484594   \n",
       "totale_positivi                                     492457   \n",
       "variazione_totale_positivi                            6816   \n",
       "nuovi_positivi                                       36909   \n",
       "dimessi_guariti                                   23587105   \n",
       "deceduti                                            181098   \n",
       "casi_da_sospetto_diagnostico                           NaN   \n",
       "casi_da_screening                                      NaN   \n",
       "totale_casi                                       24260660   \n",
       "tamponi                                          257057363   \n",
       "casi_testati                                    65867829.0   \n",
       "note                                                   NaN   \n",
       "ingressi_terapia_intensiva                            32.0   \n",
       "note_test                                              NaN   \n",
       "note_casi                                              NaN   \n",
       "totale_positivi_test_molecolare                  9542675.0   \n",
       "totale_positivi_test_antigenico_rapido          14717985.0   \n",
       "tamponi_test_molecolare                         98700942.0   \n",
       "tamponi_test_antigenico_rapido                 158356421.0   \n",
       "\n",
       "data                                   2022-11-25T17:00:00  \\\n",
       "stato                                                  ITA   \n",
       "ricoverati_con_sintomi                                7776   \n",
       "terapia_intensiva                                      256   \n",
       "totale_ospedalizzati                                  8032   \n",
       "isolamento_domiciliare                              487020   \n",
       "totale_positivi                                     495052   \n",
       "variazione_totale_positivi                            2595   \n",
       "nuovi_positivi                                       34601   \n",
       "dimessi_guariti                                   23619022   \n",
       "deceduti                                            181182   \n",
       "casi_da_sospetto_diagnostico                           NaN   \n",
       "casi_da_screening                                      NaN   \n",
       "totale_casi                                       24295256   \n",
       "tamponi                                          257255840   \n",
       "casi_testati                                    65901901.0   \n",
       "note                                                   NaN   \n",
       "ingressi_terapia_intensiva                            32.0   \n",
       "note_test                                              NaN   \n",
       "note_casi                                              NaN   \n",
       "totale_positivi_test_molecolare                  9547269.0   \n",
       "totale_positivi_test_antigenico_rapido          14747987.0   \n",
       "tamponi_test_molecolare                         98731940.0   \n",
       "tamponi_test_antigenico_rapido                 158523900.0   \n",
       "\n",
       "data                                   2022-11-26T17:00:00  \\\n",
       "stato                                                  ITA   \n",
       "ricoverati_con_sintomi                                7793   \n",
       "terapia_intensiva                                      252   \n",
       "totale_ospedalizzati                                  8045   \n",
       "isolamento_domiciliare                              490202   \n",
       "totale_positivi                                     498247   \n",
       "variazione_totale_positivi                            3195   \n",
       "nuovi_positivi                                       32412   \n",
       "dimessi_guariti                                   23648146   \n",
       "deceduti                                            181271   \n",
       "casi_da_sospetto_diagnostico                           NaN   \n",
       "casi_da_screening                                      NaN   \n",
       "totale_casi                                       24327664   \n",
       "tamponi                                          257448184   \n",
       "casi_testati                                    65932024.0   \n",
       "note                                                   NaN   \n",
       "ingressi_terapia_intensiva                            37.0   \n",
       "note_test                                              NaN   \n",
       "note_casi                                              NaN   \n",
       "totale_positivi_test_molecolare                  9551410.0   \n",
       "totale_positivi_test_antigenico_rapido          14776254.0   \n",
       "tamponi_test_molecolare                         98761479.0   \n",
       "tamponi_test_antigenico_rapido                 158686705.0   \n",
       "\n",
       "data                                   2022-11-27T17:00:00  \\\n",
       "stato                                                  ITA   \n",
       "ricoverati_con_sintomi                                7865   \n",
       "terapia_intensiva                                      274   \n",
       "totale_ospedalizzati                                  8139   \n",
       "isolamento_domiciliare                              489914   \n",
       "totale_positivi                                     498053   \n",
       "variazione_totale_positivi                            -194   \n",
       "nuovi_positivi                                       23956   \n",
       "dimessi_guariti                                   23672245   \n",
       "deceduti                                            181322   \n",
       "casi_da_sospetto_diagnostico                           NaN   \n",
       "casi_da_screening                                      NaN   \n",
       "totale_casi                                       24351620   \n",
       "tamponi                                          257593104   \n",
       "casi_testati                                    65956542.0   \n",
       "note                                                   NaN   \n",
       "ingressi_terapia_intensiva                            39.0   \n",
       "note_test                                              NaN   \n",
       "note_casi                                              NaN   \n",
       "totale_positivi_test_molecolare                  9554305.0   \n",
       "totale_positivi_test_antigenico_rapido          14797315.0   \n",
       "tamponi_test_molecolare                         98786040.0   \n",
       "tamponi_test_antigenico_rapido                 158807064.0   \n",
       "\n",
       "data                                   2022-11-28T17:00:00  \\\n",
       "stato                                                  ITA   \n",
       "ricoverati_con_sintomi                                8040   \n",
       "terapia_intensiva                                      283   \n",
       "totale_ospedalizzati                                  8323   \n",
       "isolamento_domiciliare                              481655   \n",
       "totale_positivi                                     489978   \n",
       "variazione_totale_positivi                           -8075   \n",
       "nuovi_positivi                                       12266   \n",
       "dimessi_guariti                                   23692505   \n",
       "deceduti                                            181403   \n",
       "casi_da_sospetto_diagnostico                           NaN   \n",
       "casi_da_screening                                      NaN   \n",
       "totale_casi                                       24363886   \n",
       "tamponi                                          257670989   \n",
       "casi_testati                                    65971834.0   \n",
       "note                                                   NaN   \n",
       "ingressi_terapia_intensiva                            29.0   \n",
       "note_test                                              NaN   \n",
       "note_casi                                              NaN   \n",
       "totale_positivi_test_molecolare                  9555593.0   \n",
       "totale_positivi_test_antigenico_rapido          14808293.0   \n",
       "tamponi_test_molecolare                         98800734.0   \n",
       "tamponi_test_antigenico_rapido                 158870255.0   \n",
       "\n",
       "data                                   2022-11-29T17:00:00  \\\n",
       "stato                                                  ITA   \n",
       "ricoverati_con_sintomi                                8179   \n",
       "terapia_intensiva                                      289   \n",
       "totale_ospedalizzati                                  8468   \n",
       "isolamento_domiciliare                              492208   \n",
       "totale_positivi                                     500676   \n",
       "variazione_totale_positivi                           10698   \n",
       "nuovi_positivi                                       50626   \n",
       "dimessi_guariti                                   23732286   \n",
       "deceduti                                            181544   \n",
       "casi_da_sospetto_diagnostico                           NaN   \n",
       "casi_da_screening                                      NaN   \n",
       "totale_casi                                       24414506   \n",
       "tamponi                                          257958950   \n",
       "casi_testati                                    66016484.0   \n",
       "note                                                   NaN   \n",
       "ingressi_terapia_intensiva                            41.0   \n",
       "note_test                                              NaN   \n",
       "note_casi                                              NaN   \n",
       "totale_positivi_test_molecolare                  9563512.0   \n",
       "totale_positivi_test_antigenico_rapido          14850994.0   \n",
       "tamponi_test_molecolare                         98840305.0   \n",
       "tamponi_test_antigenico_rapido                 159118645.0   \n",
       "\n",
       "data                                   2022-11-30T17:00:00 2022-12-01T17:00:00  \n",
       "stato                                                  ITA                 ITA  \n",
       "ricoverati_con_sintomi                                8361                8458  \n",
       "terapia_intensiva                                      303                 320  \n",
       "totale_ospedalizzati                                  8664                8778  \n",
       "isolamento_domiciliare                              494163              498391  \n",
       "totale_positivi                                     502827              507169  \n",
       "variazione_totale_positivi                            2151                4342  \n",
       "nuovi_positivi                                       36981               36598  \n",
       "dimessi_guariti                                   23767026            23799178  \n",
       "deceduti                                            181630              181733  \n",
       "casi_da_sospetto_diagnostico                           NaN                 NaN  \n",
       "casi_da_screening                                      NaN                 NaN  \n",
       "totale_casi                                       24451483            24488080  \n",
       "tamponi                                          258171545           258382332  \n",
       "casi_testati                                    66052975.0          66089134.0  \n",
       "note                                                   NaN                 NaN  \n",
       "ingressi_terapia_intensiva                            50.0                51.0  \n",
       "note_test                                              NaN                 NaN  \n",
       "note_casi                                              NaN                 NaN  \n",
       "totale_positivi_test_molecolare                  9567925.0           9573057.0  \n",
       "totale_positivi_test_antigenico_rapido          14883558.0          14915023.0  \n",
       "tamponi_test_molecolare                         98879379.0          98917043.0  \n",
       "tamponi_test_antigenico_rapido                 159292166.0         159465289.0  \n",
       "\n",
       "[23 rows x 1012 columns]"
      ]
     },
     "execution_count": 100,
     "metadata": {},
     "output_type": "execute_result"
    }
   ],
   "source": [
    "df.T"
   ]
  }
 ],
 "metadata": {
  "kernelspec": {
   "display_name": "Python 3 (ipykernel)",
   "language": "python",
   "name": "python3"
  },
  "language_info": {
   "codemirror_mode": {
    "name": "ipython",
    "version": 3
   },
   "file_extension": ".py",
   "mimetype": "text/x-python",
   "name": "python",
   "nbconvert_exporter": "python",
   "pygments_lexer": "ipython3",
   "version": "3.10.8"
  }
 },
 "nbformat": 4,
 "nbformat_minor": 4
}
