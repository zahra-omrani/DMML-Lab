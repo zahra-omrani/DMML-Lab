{
 "cells": [
  {
   "cell_type": "markdown",
   "id": "f036d66b",
   "metadata": {},
   "source": [
    "# Table of Contents "
   ]
  },
  {
   "cell_type": "markdown",
   "id": "9877ac6d",
   "metadata": {},
   "source": [
    "Major Tasks in data preprocessing:\n",
    "- Data cleaning\n",
    "    - <font color=blue>Handling missing values (on HYPOTHYROID dataset)</font> ✅\n",
    "    - Smooth noisy data\n",
    "    - Identify or remove outliers\n",
    "    - Resolve inconsistencies\n",
    "    - Encoding categorical features \n",
    "\n",
    "- Data integration\n",
    "\n",
    "- Data reduction\n",
    "    - Dimensionality reduction\n",
    "    - Numerosity reduction\n",
    "        - Parametric methods\n",
    "        - <font color=blue>Non parametric methods (on IRIS dataset)</font> ✅\n",
    "            - <font color=blue>Sampling</font> ✅\n",
    "                - <font color=blue>Simple random sampling with replacement</font> ✅\n",
    "                - <font color=blue>Simple random sampling without replacement</font> ✅\n",
    "        \n",
    "- Data transformation and data discretization\n",
    "    - Normalization\n",
    "    - Concept Hierarchy Generation\n",
    "    - <font color=blue>Discretization with pandas (on IRIS dataset)</font> ✅\n",
    "        - <font color=blue>Equal width binning</font> ✅\n",
    "        - <font color=blue>Equal frequency binning</font> ✅"
   ]
  },
  {
   "cell_type": "code",
   "execution_count": 1,
   "id": "4f55dbcc",
   "metadata": {},
   "outputs": [],
   "source": [
    "import os\n",
    "import pandas as pd\n",
    "import seaborn as sns\n",
    "import matplotlib.pylab as plt"
   ]
  },
  {
   "cell_type": "markdown",
   "id": "0807177f",
   "metadata": {},
   "source": [
    "# Data cleaning: handling missing value\n",
    "Main strategies:\n",
    "- **ignoring the tuple**\n",
    "    - ⚠️ risk of shrinking the dataset too much. Problematic, for the downstream ML algorithm\n",
    "- **filling missing value manually**\n",
    "    - ⚠️ typically infeasible/tedious\n",
    "- **imputing missing value (filling automatically)**\n",
    "    - ⚠️ arbitrary"
   ]
  },
  {
   "cell_type": "markdown",
   "id": "a1cb5bbd",
   "metadata": {},
   "source": [
    "### The hypothyroid dataset\n",
    "\n",
    "Thyroid disease records supplied by the Garavan Institute and J. Ross Quinlan, New South Wales Institute, Syndney, Australia.\n",
    "\n",
    "Missing values are reported with symbol \"?\", in the original dataset\n",
    "\n",
    "|column|values|\n",
    "|---|---|\n",
    "| age|continuous (int)|\n",
    "| sex|M, F|\n",
    "| on thyroxine|f, t|\n",
    "| query on thyroxine|f, t|\n",
    "| on antithyroid medication|f, t|\n",
    "| sick|f, t|\n",
    "| pregnant|f, t|\n",
    "| thyroid surgery|f, t|\n",
    "| I131 treatment|f, t|\n",
    "| query hypothyroid|f, t|\n",
    "| query hyperthyroid|f, t|\n",
    "| lithium|f, t|\n",
    "| goitre|f, t|\n",
    "| tumor|\t\tf, t|\n",
    "| hypopituitary|\t\t\tf, t|\n",
    "| psych|\t\t\t\tf, t|\n",
    "| TSH measured|\t\t\tf, t|\n",
    "| TSH|\t\tcontinuous|\n",
    "| T3 measured|\t\t\tf, t|\n",
    "| T3|\t\t\t\tcontinuous|\n",
    "| TT4 measured|\t\t\tf, t|\n",
    "| TT4|\tcontinuous|\n",
    "| T4U measured|\t\t\tf, t|\n",
    "| T4U|\tcontinuous|\n",
    "| FTI measured|\t\t\tf, t|\n",
    "| FTI|\tcontinuous|\n",
    "| TBG measured|\t\t\tf, t|\n",
    "| TBG|\t\t\t\tcontinuous|\n",
    "| referral source|\t\tWEST, STMW, SVHC, SVI, SVHD, other|\n",
    "| Class| hypothyroid, primary hypothyroid, compensated hypothyroid, secondary hypothyroid, negative|"
   ]
  },
  {
   "cell_type": "markdown",
   "id": "b6e27e08",
   "metadata": {},
   "source": [
    "Load the hypothyroid dataset    "
   ]
  },
  {
   "cell_type": "code",
   "execution_count": 2,
   "id": "dab51a79",
   "metadata": {},
   "outputs": [
    {
     "data": {
      "text/html": [
       "<div>\n",
       "<style scoped>\n",
       "    .dataframe tbody tr th:only-of-type {\n",
       "        vertical-align: middle;\n",
       "    }\n",
       "\n",
       "    .dataframe tbody tr th {\n",
       "        vertical-align: top;\n",
       "    }\n",
       "\n",
       "    .dataframe thead th {\n",
       "        text-align: right;\n",
       "    }\n",
       "</style>\n",
       "<table border=\"1\" class=\"dataframe\">\n",
       "  <thead>\n",
       "    <tr style=\"text-align: right;\">\n",
       "      <th></th>\n",
       "      <th>age</th>\n",
       "      <th>sex</th>\n",
       "      <th>on thyroxine</th>\n",
       "      <th>query on thyroxine</th>\n",
       "      <th>on antithyroid medication</th>\n",
       "      <th>sick</th>\n",
       "      <th>pregnant</th>\n",
       "      <th>thyroid surgery</th>\n",
       "      <th>I131 treatment</th>\n",
       "      <th>query hypothyroid</th>\n",
       "      <th>...</th>\n",
       "      <th>TT4 measured</th>\n",
       "      <th>TT4</th>\n",
       "      <th>T4U measured</th>\n",
       "      <th>T4U</th>\n",
       "      <th>FTI measured</th>\n",
       "      <th>FTI</th>\n",
       "      <th>TBG measured</th>\n",
       "      <th>TBG</th>\n",
       "      <th>referral source</th>\n",
       "      <th>Class</th>\n",
       "    </tr>\n",
       "  </thead>\n",
       "  <tbody>\n",
       "    <tr>\n",
       "      <th>0</th>\n",
       "      <td>41.0</td>\n",
       "      <td>F</td>\n",
       "      <td>f</td>\n",
       "      <td>f</td>\n",
       "      <td>f</td>\n",
       "      <td>f</td>\n",
       "      <td>f</td>\n",
       "      <td>f</td>\n",
       "      <td>f</td>\n",
       "      <td>f</td>\n",
       "      <td>...</td>\n",
       "      <td>t</td>\n",
       "      <td>125.0</td>\n",
       "      <td>t</td>\n",
       "      <td>1.14</td>\n",
       "      <td>t</td>\n",
       "      <td>109.0</td>\n",
       "      <td>f</td>\n",
       "      <td>NaN</td>\n",
       "      <td>SVHC</td>\n",
       "      <td>negative</td>\n",
       "    </tr>\n",
       "    <tr>\n",
       "      <th>1</th>\n",
       "      <td>23.0</td>\n",
       "      <td>F</td>\n",
       "      <td>f</td>\n",
       "      <td>f</td>\n",
       "      <td>f</td>\n",
       "      <td>f</td>\n",
       "      <td>f</td>\n",
       "      <td>f</td>\n",
       "      <td>f</td>\n",
       "      <td>f</td>\n",
       "      <td>...</td>\n",
       "      <td>t</td>\n",
       "      <td>102.0</td>\n",
       "      <td>f</td>\n",
       "      <td>NaN</td>\n",
       "      <td>f</td>\n",
       "      <td>NaN</td>\n",
       "      <td>f</td>\n",
       "      <td>NaN</td>\n",
       "      <td>other</td>\n",
       "      <td>negative</td>\n",
       "    </tr>\n",
       "    <tr>\n",
       "      <th>2</th>\n",
       "      <td>46.0</td>\n",
       "      <td>M</td>\n",
       "      <td>f</td>\n",
       "      <td>f</td>\n",
       "      <td>f</td>\n",
       "      <td>f</td>\n",
       "      <td>f</td>\n",
       "      <td>f</td>\n",
       "      <td>f</td>\n",
       "      <td>f</td>\n",
       "      <td>...</td>\n",
       "      <td>t</td>\n",
       "      <td>109.0</td>\n",
       "      <td>t</td>\n",
       "      <td>0.91</td>\n",
       "      <td>t</td>\n",
       "      <td>120.0</td>\n",
       "      <td>f</td>\n",
       "      <td>NaN</td>\n",
       "      <td>other</td>\n",
       "      <td>negative</td>\n",
       "    </tr>\n",
       "    <tr>\n",
       "      <th>3</th>\n",
       "      <td>70.0</td>\n",
       "      <td>F</td>\n",
       "      <td>t</td>\n",
       "      <td>f</td>\n",
       "      <td>f</td>\n",
       "      <td>f</td>\n",
       "      <td>f</td>\n",
       "      <td>f</td>\n",
       "      <td>f</td>\n",
       "      <td>f</td>\n",
       "      <td>...</td>\n",
       "      <td>t</td>\n",
       "      <td>175.0</td>\n",
       "      <td>f</td>\n",
       "      <td>NaN</td>\n",
       "      <td>f</td>\n",
       "      <td>NaN</td>\n",
       "      <td>f</td>\n",
       "      <td>NaN</td>\n",
       "      <td>other</td>\n",
       "      <td>negative</td>\n",
       "    </tr>\n",
       "    <tr>\n",
       "      <th>4</th>\n",
       "      <td>70.0</td>\n",
       "      <td>F</td>\n",
       "      <td>f</td>\n",
       "      <td>f</td>\n",
       "      <td>f</td>\n",
       "      <td>f</td>\n",
       "      <td>f</td>\n",
       "      <td>f</td>\n",
       "      <td>f</td>\n",
       "      <td>f</td>\n",
       "      <td>...</td>\n",
       "      <td>t</td>\n",
       "      <td>61.0</td>\n",
       "      <td>t</td>\n",
       "      <td>0.87</td>\n",
       "      <td>t</td>\n",
       "      <td>70.0</td>\n",
       "      <td>f</td>\n",
       "      <td>NaN</td>\n",
       "      <td>SVI</td>\n",
       "      <td>negative</td>\n",
       "    </tr>\n",
       "    <tr>\n",
       "      <th>...</th>\n",
       "      <td>...</td>\n",
       "      <td>...</td>\n",
       "      <td>...</td>\n",
       "      <td>...</td>\n",
       "      <td>...</td>\n",
       "      <td>...</td>\n",
       "      <td>...</td>\n",
       "      <td>...</td>\n",
       "      <td>...</td>\n",
       "      <td>...</td>\n",
       "      <td>...</td>\n",
       "      <td>...</td>\n",
       "      <td>...</td>\n",
       "      <td>...</td>\n",
       "      <td>...</td>\n",
       "      <td>...</td>\n",
       "      <td>...</td>\n",
       "      <td>...</td>\n",
       "      <td>...</td>\n",
       "      <td>...</td>\n",
       "      <td>...</td>\n",
       "    </tr>\n",
       "    <tr>\n",
       "      <th>3767</th>\n",
       "      <td>30.0</td>\n",
       "      <td>F</td>\n",
       "      <td>f</td>\n",
       "      <td>f</td>\n",
       "      <td>f</td>\n",
       "      <td>f</td>\n",
       "      <td>f</td>\n",
       "      <td>f</td>\n",
       "      <td>f</td>\n",
       "      <td>f</td>\n",
       "      <td>...</td>\n",
       "      <td>f</td>\n",
       "      <td>NaN</td>\n",
       "      <td>f</td>\n",
       "      <td>NaN</td>\n",
       "      <td>f</td>\n",
       "      <td>NaN</td>\n",
       "      <td>f</td>\n",
       "      <td>NaN</td>\n",
       "      <td>other</td>\n",
       "      <td>negative</td>\n",
       "    </tr>\n",
       "    <tr>\n",
       "      <th>3768</th>\n",
       "      <td>68.0</td>\n",
       "      <td>F</td>\n",
       "      <td>f</td>\n",
       "      <td>f</td>\n",
       "      <td>f</td>\n",
       "      <td>f</td>\n",
       "      <td>f</td>\n",
       "      <td>f</td>\n",
       "      <td>f</td>\n",
       "      <td>f</td>\n",
       "      <td>...</td>\n",
       "      <td>t</td>\n",
       "      <td>124.0</td>\n",
       "      <td>t</td>\n",
       "      <td>1.08</td>\n",
       "      <td>t</td>\n",
       "      <td>114.0</td>\n",
       "      <td>f</td>\n",
       "      <td>NaN</td>\n",
       "      <td>SVI</td>\n",
       "      <td>negative</td>\n",
       "    </tr>\n",
       "    <tr>\n",
       "      <th>3769</th>\n",
       "      <td>74.0</td>\n",
       "      <td>F</td>\n",
       "      <td>f</td>\n",
       "      <td>f</td>\n",
       "      <td>f</td>\n",
       "      <td>f</td>\n",
       "      <td>f</td>\n",
       "      <td>f</td>\n",
       "      <td>f</td>\n",
       "      <td>f</td>\n",
       "      <td>...</td>\n",
       "      <td>t</td>\n",
       "      <td>112.0</td>\n",
       "      <td>t</td>\n",
       "      <td>1.07</td>\n",
       "      <td>t</td>\n",
       "      <td>105.0</td>\n",
       "      <td>f</td>\n",
       "      <td>NaN</td>\n",
       "      <td>other</td>\n",
       "      <td>negative</td>\n",
       "    </tr>\n",
       "    <tr>\n",
       "      <th>3770</th>\n",
       "      <td>72.0</td>\n",
       "      <td>M</td>\n",
       "      <td>f</td>\n",
       "      <td>f</td>\n",
       "      <td>f</td>\n",
       "      <td>f</td>\n",
       "      <td>f</td>\n",
       "      <td>f</td>\n",
       "      <td>f</td>\n",
       "      <td>f</td>\n",
       "      <td>...</td>\n",
       "      <td>t</td>\n",
       "      <td>82.0</td>\n",
       "      <td>t</td>\n",
       "      <td>0.94</td>\n",
       "      <td>t</td>\n",
       "      <td>87.0</td>\n",
       "      <td>f</td>\n",
       "      <td>NaN</td>\n",
       "      <td>SVI</td>\n",
       "      <td>negative</td>\n",
       "    </tr>\n",
       "    <tr>\n",
       "      <th>3771</th>\n",
       "      <td>64.0</td>\n",
       "      <td>F</td>\n",
       "      <td>f</td>\n",
       "      <td>f</td>\n",
       "      <td>f</td>\n",
       "      <td>f</td>\n",
       "      <td>f</td>\n",
       "      <td>f</td>\n",
       "      <td>f</td>\n",
       "      <td>f</td>\n",
       "      <td>...</td>\n",
       "      <td>t</td>\n",
       "      <td>99.0</td>\n",
       "      <td>t</td>\n",
       "      <td>1.07</td>\n",
       "      <td>t</td>\n",
       "      <td>92.0</td>\n",
       "      <td>f</td>\n",
       "      <td>NaN</td>\n",
       "      <td>other</td>\n",
       "      <td>negative</td>\n",
       "    </tr>\n",
       "  </tbody>\n",
       "</table>\n",
       "<p>3772 rows × 30 columns</p>\n",
       "</div>"
      ],
      "text/plain": [
       "       age sex on thyroxine query on thyroxine on antithyroid medication sick  \\\n",
       "0     41.0   F            f                  f                         f    f   \n",
       "1     23.0   F            f                  f                         f    f   \n",
       "2     46.0   M            f                  f                         f    f   \n",
       "3     70.0   F            t                  f                         f    f   \n",
       "4     70.0   F            f                  f                         f    f   \n",
       "...    ...  ..          ...                ...                       ...  ...   \n",
       "3767  30.0   F            f                  f                         f    f   \n",
       "3768  68.0   F            f                  f                         f    f   \n",
       "3769  74.0   F            f                  f                         f    f   \n",
       "3770  72.0   M            f                  f                         f    f   \n",
       "3771  64.0   F            f                  f                         f    f   \n",
       "\n",
       "     pregnant thyroid surgery I131 treatment query hypothyroid  ...  \\\n",
       "0           f               f              f                 f  ...   \n",
       "1           f               f              f                 f  ...   \n",
       "2           f               f              f                 f  ...   \n",
       "3           f               f              f                 f  ...   \n",
       "4           f               f              f                 f  ...   \n",
       "...       ...             ...            ...               ...  ...   \n",
       "3767        f               f              f                 f  ...   \n",
       "3768        f               f              f                 f  ...   \n",
       "3769        f               f              f                 f  ...   \n",
       "3770        f               f              f                 f  ...   \n",
       "3771        f               f              f                 f  ...   \n",
       "\n",
       "     TT4 measured    TT4 T4U measured   T4U FTI measured    FTI TBG measured  \\\n",
       "0               t  125.0            t  1.14            t  109.0            f   \n",
       "1               t  102.0            f   NaN            f    NaN            f   \n",
       "2               t  109.0            t  0.91            t  120.0            f   \n",
       "3               t  175.0            f   NaN            f    NaN            f   \n",
       "4               t   61.0            t  0.87            t   70.0            f   \n",
       "...           ...    ...          ...   ...          ...    ...          ...   \n",
       "3767            f    NaN            f   NaN            f    NaN            f   \n",
       "3768            t  124.0            t  1.08            t  114.0            f   \n",
       "3769            t  112.0            t  1.07            t  105.0            f   \n",
       "3770            t   82.0            t  0.94            t   87.0            f   \n",
       "3771            t   99.0            t  1.07            t   92.0            f   \n",
       "\n",
       "      TBG referral source     Class  \n",
       "0     NaN            SVHC  negative  \n",
       "1     NaN           other  negative  \n",
       "2     NaN           other  negative  \n",
       "3     NaN           other  negative  \n",
       "4     NaN             SVI  negative  \n",
       "...   ...             ...       ...  \n",
       "3767  NaN           other  negative  \n",
       "3768  NaN             SVI  negative  \n",
       "3769  NaN           other  negative  \n",
       "3770  NaN             SVI  negative  \n",
       "3771  NaN           other  negative  \n",
       "\n",
       "[3772 rows x 30 columns]"
      ]
     },
     "execution_count": 2,
     "metadata": {},
     "output_type": "execute_result"
    }
   ],
   "source": [
    "df = pd.read_csv('dataset/hypothyroid.csv', na_values=\"?\")\n",
    "df"
   ]
  },
  {
   "cell_type": "code",
   "execution_count": null,
   "id": "f56bae50",
   "metadata": {},
   "outputs": [],
   "source": [
    "df.head().T"
   ]
  },
  {
   "cell_type": "code",
   "execution_count": 3,
   "id": "39f8b659",
   "metadata": {},
   "outputs": [
    {
     "data": {
      "text/html": [
       "<div>\n",
       "<style scoped>\n",
       "    .dataframe tbody tr th:only-of-type {\n",
       "        vertical-align: middle;\n",
       "    }\n",
       "\n",
       "    .dataframe tbody tr th {\n",
       "        vertical-align: top;\n",
       "    }\n",
       "\n",
       "    .dataframe thead th {\n",
       "        text-align: right;\n",
       "    }\n",
       "</style>\n",
       "<table border=\"1\" class=\"dataframe\">\n",
       "  <thead>\n",
       "    <tr style=\"text-align: right;\">\n",
       "      <th></th>\n",
       "      <th>count</th>\n",
       "      <th>mean</th>\n",
       "      <th>std</th>\n",
       "      <th>min</th>\n",
       "      <th>25%</th>\n",
       "      <th>50%</th>\n",
       "      <th>75%</th>\n",
       "      <th>max</th>\n",
       "    </tr>\n",
       "  </thead>\n",
       "  <tbody>\n",
       "    <tr>\n",
       "      <th>age</th>\n",
       "      <td>3771.0</td>\n",
       "      <td>51.735879</td>\n",
       "      <td>20.084958</td>\n",
       "      <td>1.000</td>\n",
       "      <td>36.00</td>\n",
       "      <td>54.00</td>\n",
       "      <td>67.00</td>\n",
       "      <td>455.00</td>\n",
       "    </tr>\n",
       "    <tr>\n",
       "      <th>TSH</th>\n",
       "      <td>3403.0</td>\n",
       "      <td>5.086766</td>\n",
       "      <td>24.521470</td>\n",
       "      <td>0.005</td>\n",
       "      <td>0.50</td>\n",
       "      <td>1.40</td>\n",
       "      <td>2.70</td>\n",
       "      <td>530.00</td>\n",
       "    </tr>\n",
       "    <tr>\n",
       "      <th>T3</th>\n",
       "      <td>3003.0</td>\n",
       "      <td>2.013500</td>\n",
       "      <td>0.827434</td>\n",
       "      <td>0.050</td>\n",
       "      <td>1.60</td>\n",
       "      <td>2.00</td>\n",
       "      <td>2.40</td>\n",
       "      <td>10.60</td>\n",
       "    </tr>\n",
       "    <tr>\n",
       "      <th>TT4</th>\n",
       "      <td>3541.0</td>\n",
       "      <td>108.319345</td>\n",
       "      <td>35.604248</td>\n",
       "      <td>2.000</td>\n",
       "      <td>88.00</td>\n",
       "      <td>103.00</td>\n",
       "      <td>124.00</td>\n",
       "      <td>430.00</td>\n",
       "    </tr>\n",
       "    <tr>\n",
       "      <th>T4U</th>\n",
       "      <td>3385.0</td>\n",
       "      <td>0.995000</td>\n",
       "      <td>0.195457</td>\n",
       "      <td>0.250</td>\n",
       "      <td>0.88</td>\n",
       "      <td>0.98</td>\n",
       "      <td>1.08</td>\n",
       "      <td>2.32</td>\n",
       "    </tr>\n",
       "    <tr>\n",
       "      <th>FTI</th>\n",
       "      <td>3387.0</td>\n",
       "      <td>110.469649</td>\n",
       "      <td>33.089698</td>\n",
       "      <td>2.000</td>\n",
       "      <td>93.00</td>\n",
       "      <td>107.00</td>\n",
       "      <td>124.00</td>\n",
       "      <td>395.00</td>\n",
       "    </tr>\n",
       "    <tr>\n",
       "      <th>TBG</th>\n",
       "      <td>0.0</td>\n",
       "      <td>NaN</td>\n",
       "      <td>NaN</td>\n",
       "      <td>NaN</td>\n",
       "      <td>NaN</td>\n",
       "      <td>NaN</td>\n",
       "      <td>NaN</td>\n",
       "      <td>NaN</td>\n",
       "    </tr>\n",
       "  </tbody>\n",
       "</table>\n",
       "</div>"
      ],
      "text/plain": [
       "      count        mean        std    min    25%     50%     75%     max\n",
       "age  3771.0   51.735879  20.084958  1.000  36.00   54.00   67.00  455.00\n",
       "TSH  3403.0    5.086766  24.521470  0.005   0.50    1.40    2.70  530.00\n",
       "T3   3003.0    2.013500   0.827434  0.050   1.60    2.00    2.40   10.60\n",
       "TT4  3541.0  108.319345  35.604248  2.000  88.00  103.00  124.00  430.00\n",
       "T4U  3385.0    0.995000   0.195457  0.250   0.88    0.98    1.08    2.32\n",
       "FTI  3387.0  110.469649  33.089698  2.000  93.00  107.00  124.00  395.00\n",
       "TBG     0.0         NaN        NaN    NaN    NaN     NaN     NaN     NaN"
      ]
     },
     "execution_count": 3,
     "metadata": {},
     "output_type": "execute_result"
    }
   ],
   "source": [
    "df.describe().T"
   ]
  },
  {
   "cell_type": "code",
   "execution_count": null,
   "id": "73613579",
   "metadata": {},
   "outputs": [],
   "source": [
    "df.describe(include = 'object').T"
   ]
  },
  {
   "cell_type": "code",
   "execution_count": null,
   "id": "096ee7a4",
   "metadata": {},
   "outputs": [],
   "source": [
    "df.isna().sum(axis=0)"
   ]
  },
  {
   "cell_type": "markdown",
   "id": "2b1060e2",
   "metadata": {},
   "source": [
    "Attribute removal:\n",
    "- \"*TBG*\" column has only missing values - we can drop it\n",
    "- \"*TBG measured*\" has only one unique value - we can drop it\t"
   ]
  },
  {
   "cell_type": "code",
   "execution_count": 4,
   "id": "3e4d86b3",
   "metadata": {},
   "outputs": [
    {
     "data": {
      "text/html": [
       "<div>\n",
       "<style scoped>\n",
       "    .dataframe tbody tr th:only-of-type {\n",
       "        vertical-align: middle;\n",
       "    }\n",
       "\n",
       "    .dataframe tbody tr th {\n",
       "        vertical-align: top;\n",
       "    }\n",
       "\n",
       "    .dataframe thead th {\n",
       "        text-align: right;\n",
       "    }\n",
       "</style>\n",
       "<table border=\"1\" class=\"dataframe\">\n",
       "  <thead>\n",
       "    <tr style=\"text-align: right;\">\n",
       "      <th></th>\n",
       "      <th>age</th>\n",
       "      <th>sex</th>\n",
       "      <th>on thyroxine</th>\n",
       "      <th>query on thyroxine</th>\n",
       "      <th>on antithyroid medication</th>\n",
       "      <th>sick</th>\n",
       "      <th>pregnant</th>\n",
       "      <th>thyroid surgery</th>\n",
       "      <th>I131 treatment</th>\n",
       "      <th>query hypothyroid</th>\n",
       "      <th>...</th>\n",
       "      <th>T3 measured</th>\n",
       "      <th>T3</th>\n",
       "      <th>TT4 measured</th>\n",
       "      <th>TT4</th>\n",
       "      <th>T4U measured</th>\n",
       "      <th>T4U</th>\n",
       "      <th>FTI measured</th>\n",
       "      <th>FTI</th>\n",
       "      <th>referral source</th>\n",
       "      <th>Class</th>\n",
       "    </tr>\n",
       "  </thead>\n",
       "  <tbody>\n",
       "    <tr>\n",
       "      <th>0</th>\n",
       "      <td>41.0</td>\n",
       "      <td>F</td>\n",
       "      <td>f</td>\n",
       "      <td>f</td>\n",
       "      <td>f</td>\n",
       "      <td>f</td>\n",
       "      <td>f</td>\n",
       "      <td>f</td>\n",
       "      <td>f</td>\n",
       "      <td>f</td>\n",
       "      <td>...</td>\n",
       "      <td>t</td>\n",
       "      <td>2.5</td>\n",
       "      <td>t</td>\n",
       "      <td>125.0</td>\n",
       "      <td>t</td>\n",
       "      <td>1.14</td>\n",
       "      <td>t</td>\n",
       "      <td>109.0</td>\n",
       "      <td>SVHC</td>\n",
       "      <td>negative</td>\n",
       "    </tr>\n",
       "    <tr>\n",
       "      <th>1</th>\n",
       "      <td>23.0</td>\n",
       "      <td>F</td>\n",
       "      <td>f</td>\n",
       "      <td>f</td>\n",
       "      <td>f</td>\n",
       "      <td>f</td>\n",
       "      <td>f</td>\n",
       "      <td>f</td>\n",
       "      <td>f</td>\n",
       "      <td>f</td>\n",
       "      <td>...</td>\n",
       "      <td>t</td>\n",
       "      <td>2.0</td>\n",
       "      <td>t</td>\n",
       "      <td>102.0</td>\n",
       "      <td>f</td>\n",
       "      <td>NaN</td>\n",
       "      <td>f</td>\n",
       "      <td>NaN</td>\n",
       "      <td>other</td>\n",
       "      <td>negative</td>\n",
       "    </tr>\n",
       "    <tr>\n",
       "      <th>2</th>\n",
       "      <td>46.0</td>\n",
       "      <td>M</td>\n",
       "      <td>f</td>\n",
       "      <td>f</td>\n",
       "      <td>f</td>\n",
       "      <td>f</td>\n",
       "      <td>f</td>\n",
       "      <td>f</td>\n",
       "      <td>f</td>\n",
       "      <td>f</td>\n",
       "      <td>...</td>\n",
       "      <td>f</td>\n",
       "      <td>NaN</td>\n",
       "      <td>t</td>\n",
       "      <td>109.0</td>\n",
       "      <td>t</td>\n",
       "      <td>0.91</td>\n",
       "      <td>t</td>\n",
       "      <td>120.0</td>\n",
       "      <td>other</td>\n",
       "      <td>negative</td>\n",
       "    </tr>\n",
       "    <tr>\n",
       "      <th>3</th>\n",
       "      <td>70.0</td>\n",
       "      <td>F</td>\n",
       "      <td>t</td>\n",
       "      <td>f</td>\n",
       "      <td>f</td>\n",
       "      <td>f</td>\n",
       "      <td>f</td>\n",
       "      <td>f</td>\n",
       "      <td>f</td>\n",
       "      <td>f</td>\n",
       "      <td>...</td>\n",
       "      <td>t</td>\n",
       "      <td>1.9</td>\n",
       "      <td>t</td>\n",
       "      <td>175.0</td>\n",
       "      <td>f</td>\n",
       "      <td>NaN</td>\n",
       "      <td>f</td>\n",
       "      <td>NaN</td>\n",
       "      <td>other</td>\n",
       "      <td>negative</td>\n",
       "    </tr>\n",
       "    <tr>\n",
       "      <th>4</th>\n",
       "      <td>70.0</td>\n",
       "      <td>F</td>\n",
       "      <td>f</td>\n",
       "      <td>f</td>\n",
       "      <td>f</td>\n",
       "      <td>f</td>\n",
       "      <td>f</td>\n",
       "      <td>f</td>\n",
       "      <td>f</td>\n",
       "      <td>f</td>\n",
       "      <td>...</td>\n",
       "      <td>t</td>\n",
       "      <td>1.2</td>\n",
       "      <td>t</td>\n",
       "      <td>61.0</td>\n",
       "      <td>t</td>\n",
       "      <td>0.87</td>\n",
       "      <td>t</td>\n",
       "      <td>70.0</td>\n",
       "      <td>SVI</td>\n",
       "      <td>negative</td>\n",
       "    </tr>\n",
       "    <tr>\n",
       "      <th>...</th>\n",
       "      <td>...</td>\n",
       "      <td>...</td>\n",
       "      <td>...</td>\n",
       "      <td>...</td>\n",
       "      <td>...</td>\n",
       "      <td>...</td>\n",
       "      <td>...</td>\n",
       "      <td>...</td>\n",
       "      <td>...</td>\n",
       "      <td>...</td>\n",
       "      <td>...</td>\n",
       "      <td>...</td>\n",
       "      <td>...</td>\n",
       "      <td>...</td>\n",
       "      <td>...</td>\n",
       "      <td>...</td>\n",
       "      <td>...</td>\n",
       "      <td>...</td>\n",
       "      <td>...</td>\n",
       "      <td>...</td>\n",
       "      <td>...</td>\n",
       "    </tr>\n",
       "    <tr>\n",
       "      <th>3767</th>\n",
       "      <td>30.0</td>\n",
       "      <td>F</td>\n",
       "      <td>f</td>\n",
       "      <td>f</td>\n",
       "      <td>f</td>\n",
       "      <td>f</td>\n",
       "      <td>f</td>\n",
       "      <td>f</td>\n",
       "      <td>f</td>\n",
       "      <td>f</td>\n",
       "      <td>...</td>\n",
       "      <td>f</td>\n",
       "      <td>NaN</td>\n",
       "      <td>f</td>\n",
       "      <td>NaN</td>\n",
       "      <td>f</td>\n",
       "      <td>NaN</td>\n",
       "      <td>f</td>\n",
       "      <td>NaN</td>\n",
       "      <td>other</td>\n",
       "      <td>negative</td>\n",
       "    </tr>\n",
       "    <tr>\n",
       "      <th>3768</th>\n",
       "      <td>68.0</td>\n",
       "      <td>F</td>\n",
       "      <td>f</td>\n",
       "      <td>f</td>\n",
       "      <td>f</td>\n",
       "      <td>f</td>\n",
       "      <td>f</td>\n",
       "      <td>f</td>\n",
       "      <td>f</td>\n",
       "      <td>f</td>\n",
       "      <td>...</td>\n",
       "      <td>t</td>\n",
       "      <td>2.1</td>\n",
       "      <td>t</td>\n",
       "      <td>124.0</td>\n",
       "      <td>t</td>\n",
       "      <td>1.08</td>\n",
       "      <td>t</td>\n",
       "      <td>114.0</td>\n",
       "      <td>SVI</td>\n",
       "      <td>negative</td>\n",
       "    </tr>\n",
       "    <tr>\n",
       "      <th>3769</th>\n",
       "      <td>74.0</td>\n",
       "      <td>F</td>\n",
       "      <td>f</td>\n",
       "      <td>f</td>\n",
       "      <td>f</td>\n",
       "      <td>f</td>\n",
       "      <td>f</td>\n",
       "      <td>f</td>\n",
       "      <td>f</td>\n",
       "      <td>f</td>\n",
       "      <td>...</td>\n",
       "      <td>t</td>\n",
       "      <td>1.8</td>\n",
       "      <td>t</td>\n",
       "      <td>112.0</td>\n",
       "      <td>t</td>\n",
       "      <td>1.07</td>\n",
       "      <td>t</td>\n",
       "      <td>105.0</td>\n",
       "      <td>other</td>\n",
       "      <td>negative</td>\n",
       "    </tr>\n",
       "    <tr>\n",
       "      <th>3770</th>\n",
       "      <td>72.0</td>\n",
       "      <td>M</td>\n",
       "      <td>f</td>\n",
       "      <td>f</td>\n",
       "      <td>f</td>\n",
       "      <td>f</td>\n",
       "      <td>f</td>\n",
       "      <td>f</td>\n",
       "      <td>f</td>\n",
       "      <td>f</td>\n",
       "      <td>...</td>\n",
       "      <td>t</td>\n",
       "      <td>2.0</td>\n",
       "      <td>t</td>\n",
       "      <td>82.0</td>\n",
       "      <td>t</td>\n",
       "      <td>0.94</td>\n",
       "      <td>t</td>\n",
       "      <td>87.0</td>\n",
       "      <td>SVI</td>\n",
       "      <td>negative</td>\n",
       "    </tr>\n",
       "    <tr>\n",
       "      <th>3771</th>\n",
       "      <td>64.0</td>\n",
       "      <td>F</td>\n",
       "      <td>f</td>\n",
       "      <td>f</td>\n",
       "      <td>f</td>\n",
       "      <td>f</td>\n",
       "      <td>f</td>\n",
       "      <td>f</td>\n",
       "      <td>f</td>\n",
       "      <td>f</td>\n",
       "      <td>...</td>\n",
       "      <td>t</td>\n",
       "      <td>2.2</td>\n",
       "      <td>t</td>\n",
       "      <td>99.0</td>\n",
       "      <td>t</td>\n",
       "      <td>1.07</td>\n",
       "      <td>t</td>\n",
       "      <td>92.0</td>\n",
       "      <td>other</td>\n",
       "      <td>negative</td>\n",
       "    </tr>\n",
       "  </tbody>\n",
       "</table>\n",
       "<p>3772 rows × 28 columns</p>\n",
       "</div>"
      ],
      "text/plain": [
       "       age sex on thyroxine query on thyroxine on antithyroid medication sick  \\\n",
       "0     41.0   F            f                  f                         f    f   \n",
       "1     23.0   F            f                  f                         f    f   \n",
       "2     46.0   M            f                  f                         f    f   \n",
       "3     70.0   F            t                  f                         f    f   \n",
       "4     70.0   F            f                  f                         f    f   \n",
       "...    ...  ..          ...                ...                       ...  ...   \n",
       "3767  30.0   F            f                  f                         f    f   \n",
       "3768  68.0   F            f                  f                         f    f   \n",
       "3769  74.0   F            f                  f                         f    f   \n",
       "3770  72.0   M            f                  f                         f    f   \n",
       "3771  64.0   F            f                  f                         f    f   \n",
       "\n",
       "     pregnant thyroid surgery I131 treatment query hypothyroid  ...  \\\n",
       "0           f               f              f                 f  ...   \n",
       "1           f               f              f                 f  ...   \n",
       "2           f               f              f                 f  ...   \n",
       "3           f               f              f                 f  ...   \n",
       "4           f               f              f                 f  ...   \n",
       "...       ...             ...            ...               ...  ...   \n",
       "3767        f               f              f                 f  ...   \n",
       "3768        f               f              f                 f  ...   \n",
       "3769        f               f              f                 f  ...   \n",
       "3770        f               f              f                 f  ...   \n",
       "3771        f               f              f                 f  ...   \n",
       "\n",
       "     T3 measured   T3 TT4 measured    TT4 T4U measured   T4U FTI measured  \\\n",
       "0              t  2.5            t  125.0            t  1.14            t   \n",
       "1              t  2.0            t  102.0            f   NaN            f   \n",
       "2              f  NaN            t  109.0            t  0.91            t   \n",
       "3              t  1.9            t  175.0            f   NaN            f   \n",
       "4              t  1.2            t   61.0            t  0.87            t   \n",
       "...          ...  ...          ...    ...          ...   ...          ...   \n",
       "3767           f  NaN            f    NaN            f   NaN            f   \n",
       "3768           t  2.1            t  124.0            t  1.08            t   \n",
       "3769           t  1.8            t  112.0            t  1.07            t   \n",
       "3770           t  2.0            t   82.0            t  0.94            t   \n",
       "3771           t  2.2            t   99.0            t  1.07            t   \n",
       "\n",
       "        FTI referral source     Class  \n",
       "0     109.0            SVHC  negative  \n",
       "1       NaN           other  negative  \n",
       "2     120.0           other  negative  \n",
       "3       NaN           other  negative  \n",
       "4      70.0             SVI  negative  \n",
       "...     ...             ...       ...  \n",
       "3767    NaN           other  negative  \n",
       "3768  114.0             SVI  negative  \n",
       "3769  105.0           other  negative  \n",
       "3770   87.0             SVI  negative  \n",
       "3771   92.0           other  negative  \n",
       "\n",
       "[3772 rows x 28 columns]"
      ]
     },
     "execution_count": 4,
     "metadata": {},
     "output_type": "execute_result"
    }
   ],
   "source": [
    "df = df.drop(['TBG','TBG measured'],axis = 1)\n",
    "df"
   ]
  },
  {
   "cell_type": "markdown",
   "id": "b6af367b",
   "metadata": {},
   "source": [
    "<u>Handling missing values: **ignoring the tuple**</u>\n"
   ]
  },
  {
   "cell_type": "code",
   "execution_count": 7,
   "id": "270abaa7",
   "metadata": {},
   "outputs": [
    {
     "name": "stdout",
     "output_type": "stream",
     "text": [
      "age                          0\n",
      "sex                          0\n",
      "on thyroxine                 0\n",
      "query on thyroxine           0\n",
      "on antithyroid medication    0\n",
      "sick                         0\n",
      "pregnant                     0\n",
      "thyroid surgery              0\n",
      "I131 treatment               0\n",
      "query hypothyroid            0\n",
      "query hyperthyroid           0\n",
      "lithium                      0\n",
      "goitre                       0\n",
      "tumor                        0\n",
      "hypopituitary                0\n",
      "psych                        0\n",
      "TSH measured                 0\n",
      "TSH                          0\n",
      "T3 measured                  0\n",
      "T3                           0\n",
      "TT4 measured                 0\n",
      "TT4                          0\n",
      "T4U measured                 0\n",
      "T4U                          0\n",
      "FTI measured                 0\n",
      "FTI                          0\n",
      "referral source              0\n",
      "Class                        0\n",
      "dtype: int64\n"
     ]
    },
    {
     "data": {
      "text/html": [
       "<div>\n",
       "<style scoped>\n",
       "    .dataframe tbody tr th:only-of-type {\n",
       "        vertical-align: middle;\n",
       "    }\n",
       "\n",
       "    .dataframe tbody tr th {\n",
       "        vertical-align: top;\n",
       "    }\n",
       "\n",
       "    .dataframe thead th {\n",
       "        text-align: right;\n",
       "    }\n",
       "</style>\n",
       "<table border=\"1\" class=\"dataframe\">\n",
       "  <thead>\n",
       "    <tr style=\"text-align: right;\">\n",
       "      <th></th>\n",
       "      <th>age</th>\n",
       "      <th>sex</th>\n",
       "      <th>on thyroxine</th>\n",
       "      <th>query on thyroxine</th>\n",
       "      <th>on antithyroid medication</th>\n",
       "      <th>sick</th>\n",
       "      <th>pregnant</th>\n",
       "      <th>thyroid surgery</th>\n",
       "      <th>I131 treatment</th>\n",
       "      <th>query hypothyroid</th>\n",
       "      <th>...</th>\n",
       "      <th>T3 measured</th>\n",
       "      <th>T3</th>\n",
       "      <th>TT4 measured</th>\n",
       "      <th>TT4</th>\n",
       "      <th>T4U measured</th>\n",
       "      <th>T4U</th>\n",
       "      <th>FTI measured</th>\n",
       "      <th>FTI</th>\n",
       "      <th>referral source</th>\n",
       "      <th>Class</th>\n",
       "    </tr>\n",
       "  </thead>\n",
       "  <tbody>\n",
       "    <tr>\n",
       "      <th>0</th>\n",
       "      <td>41.0</td>\n",
       "      <td>F</td>\n",
       "      <td>f</td>\n",
       "      <td>f</td>\n",
       "      <td>f</td>\n",
       "      <td>f</td>\n",
       "      <td>f</td>\n",
       "      <td>f</td>\n",
       "      <td>f</td>\n",
       "      <td>f</td>\n",
       "      <td>...</td>\n",
       "      <td>t</td>\n",
       "      <td>2.5</td>\n",
       "      <td>t</td>\n",
       "      <td>125.0</td>\n",
       "      <td>t</td>\n",
       "      <td>1.14</td>\n",
       "      <td>t</td>\n",
       "      <td>109.0</td>\n",
       "      <td>SVHC</td>\n",
       "      <td>negative</td>\n",
       "    </tr>\n",
       "    <tr>\n",
       "      <th>4</th>\n",
       "      <td>70.0</td>\n",
       "      <td>F</td>\n",
       "      <td>f</td>\n",
       "      <td>f</td>\n",
       "      <td>f</td>\n",
       "      <td>f</td>\n",
       "      <td>f</td>\n",
       "      <td>f</td>\n",
       "      <td>f</td>\n",
       "      <td>f</td>\n",
       "      <td>...</td>\n",
       "      <td>t</td>\n",
       "      <td>1.2</td>\n",
       "      <td>t</td>\n",
       "      <td>61.0</td>\n",
       "      <td>t</td>\n",
       "      <td>0.87</td>\n",
       "      <td>t</td>\n",
       "      <td>70.0</td>\n",
       "      <td>SVI</td>\n",
       "      <td>negative</td>\n",
       "    </tr>\n",
       "    <tr>\n",
       "      <th>7</th>\n",
       "      <td>80.0</td>\n",
       "      <td>F</td>\n",
       "      <td>f</td>\n",
       "      <td>f</td>\n",
       "      <td>f</td>\n",
       "      <td>f</td>\n",
       "      <td>f</td>\n",
       "      <td>f</td>\n",
       "      <td>f</td>\n",
       "      <td>f</td>\n",
       "      <td>...</td>\n",
       "      <td>t</td>\n",
       "      <td>0.6</td>\n",
       "      <td>t</td>\n",
       "      <td>80.0</td>\n",
       "      <td>t</td>\n",
       "      <td>0.70</td>\n",
       "      <td>t</td>\n",
       "      <td>115.0</td>\n",
       "      <td>SVI</td>\n",
       "      <td>negative</td>\n",
       "    </tr>\n",
       "    <tr>\n",
       "      <th>8</th>\n",
       "      <td>66.0</td>\n",
       "      <td>F</td>\n",
       "      <td>f</td>\n",
       "      <td>f</td>\n",
       "      <td>f</td>\n",
       "      <td>f</td>\n",
       "      <td>f</td>\n",
       "      <td>f</td>\n",
       "      <td>f</td>\n",
       "      <td>f</td>\n",
       "      <td>...</td>\n",
       "      <td>t</td>\n",
       "      <td>2.2</td>\n",
       "      <td>t</td>\n",
       "      <td>123.0</td>\n",
       "      <td>t</td>\n",
       "      <td>0.93</td>\n",
       "      <td>t</td>\n",
       "      <td>132.0</td>\n",
       "      <td>SVI</td>\n",
       "      <td>negative</td>\n",
       "    </tr>\n",
       "    <tr>\n",
       "      <th>9</th>\n",
       "      <td>68.0</td>\n",
       "      <td>M</td>\n",
       "      <td>f</td>\n",
       "      <td>f</td>\n",
       "      <td>f</td>\n",
       "      <td>f</td>\n",
       "      <td>f</td>\n",
       "      <td>f</td>\n",
       "      <td>f</td>\n",
       "      <td>f</td>\n",
       "      <td>...</td>\n",
       "      <td>t</td>\n",
       "      <td>1.6</td>\n",
       "      <td>t</td>\n",
       "      <td>83.0</td>\n",
       "      <td>t</td>\n",
       "      <td>0.89</td>\n",
       "      <td>t</td>\n",
       "      <td>93.0</td>\n",
       "      <td>SVI</td>\n",
       "      <td>negative</td>\n",
       "    </tr>\n",
       "    <tr>\n",
       "      <th>...</th>\n",
       "      <td>...</td>\n",
       "      <td>...</td>\n",
       "      <td>...</td>\n",
       "      <td>...</td>\n",
       "      <td>...</td>\n",
       "      <td>...</td>\n",
       "      <td>...</td>\n",
       "      <td>...</td>\n",
       "      <td>...</td>\n",
       "      <td>...</td>\n",
       "      <td>...</td>\n",
       "      <td>...</td>\n",
       "      <td>...</td>\n",
       "      <td>...</td>\n",
       "      <td>...</td>\n",
       "      <td>...</td>\n",
       "      <td>...</td>\n",
       "      <td>...</td>\n",
       "      <td>...</td>\n",
       "      <td>...</td>\n",
       "      <td>...</td>\n",
       "    </tr>\n",
       "    <tr>\n",
       "      <th>3766</th>\n",
       "      <td>19.0</td>\n",
       "      <td>F</td>\n",
       "      <td>f</td>\n",
       "      <td>f</td>\n",
       "      <td>f</td>\n",
       "      <td>f</td>\n",
       "      <td>f</td>\n",
       "      <td>f</td>\n",
       "      <td>f</td>\n",
       "      <td>f</td>\n",
       "      <td>...</td>\n",
       "      <td>t</td>\n",
       "      <td>2.7</td>\n",
       "      <td>t</td>\n",
       "      <td>108.0</td>\n",
       "      <td>t</td>\n",
       "      <td>1.11</td>\n",
       "      <td>t</td>\n",
       "      <td>97.0</td>\n",
       "      <td>other</td>\n",
       "      <td>compensated_hypothyroid</td>\n",
       "    </tr>\n",
       "    <tr>\n",
       "      <th>3768</th>\n",
       "      <td>68.0</td>\n",
       "      <td>F</td>\n",
       "      <td>f</td>\n",
       "      <td>f</td>\n",
       "      <td>f</td>\n",
       "      <td>f</td>\n",
       "      <td>f</td>\n",
       "      <td>f</td>\n",
       "      <td>f</td>\n",
       "      <td>f</td>\n",
       "      <td>...</td>\n",
       "      <td>t</td>\n",
       "      <td>2.1</td>\n",
       "      <td>t</td>\n",
       "      <td>124.0</td>\n",
       "      <td>t</td>\n",
       "      <td>1.08</td>\n",
       "      <td>t</td>\n",
       "      <td>114.0</td>\n",
       "      <td>SVI</td>\n",
       "      <td>negative</td>\n",
       "    </tr>\n",
       "    <tr>\n",
       "      <th>3769</th>\n",
       "      <td>74.0</td>\n",
       "      <td>F</td>\n",
       "      <td>f</td>\n",
       "      <td>f</td>\n",
       "      <td>f</td>\n",
       "      <td>f</td>\n",
       "      <td>f</td>\n",
       "      <td>f</td>\n",
       "      <td>f</td>\n",
       "      <td>f</td>\n",
       "      <td>...</td>\n",
       "      <td>t</td>\n",
       "      <td>1.8</td>\n",
       "      <td>t</td>\n",
       "      <td>112.0</td>\n",
       "      <td>t</td>\n",
       "      <td>1.07</td>\n",
       "      <td>t</td>\n",
       "      <td>105.0</td>\n",
       "      <td>other</td>\n",
       "      <td>negative</td>\n",
       "    </tr>\n",
       "    <tr>\n",
       "      <th>3770</th>\n",
       "      <td>72.0</td>\n",
       "      <td>M</td>\n",
       "      <td>f</td>\n",
       "      <td>f</td>\n",
       "      <td>f</td>\n",
       "      <td>f</td>\n",
       "      <td>f</td>\n",
       "      <td>f</td>\n",
       "      <td>f</td>\n",
       "      <td>f</td>\n",
       "      <td>...</td>\n",
       "      <td>t</td>\n",
       "      <td>2.0</td>\n",
       "      <td>t</td>\n",
       "      <td>82.0</td>\n",
       "      <td>t</td>\n",
       "      <td>0.94</td>\n",
       "      <td>t</td>\n",
       "      <td>87.0</td>\n",
       "      <td>SVI</td>\n",
       "      <td>negative</td>\n",
       "    </tr>\n",
       "    <tr>\n",
       "      <th>3771</th>\n",
       "      <td>64.0</td>\n",
       "      <td>F</td>\n",
       "      <td>f</td>\n",
       "      <td>f</td>\n",
       "      <td>f</td>\n",
       "      <td>f</td>\n",
       "      <td>f</td>\n",
       "      <td>f</td>\n",
       "      <td>f</td>\n",
       "      <td>f</td>\n",
       "      <td>...</td>\n",
       "      <td>t</td>\n",
       "      <td>2.2</td>\n",
       "      <td>t</td>\n",
       "      <td>99.0</td>\n",
       "      <td>t</td>\n",
       "      <td>1.07</td>\n",
       "      <td>t</td>\n",
       "      <td>92.0</td>\n",
       "      <td>other</td>\n",
       "      <td>negative</td>\n",
       "    </tr>\n",
       "  </tbody>\n",
       "</table>\n",
       "<p>2643 rows × 28 columns</p>\n",
       "</div>"
      ],
      "text/plain": [
       "       age sex on thyroxine query on thyroxine on antithyroid medication sick  \\\n",
       "0     41.0   F            f                  f                         f    f   \n",
       "4     70.0   F            f                  f                         f    f   \n",
       "7     80.0   F            f                  f                         f    f   \n",
       "8     66.0   F            f                  f                         f    f   \n",
       "9     68.0   M            f                  f                         f    f   \n",
       "...    ...  ..          ...                ...                       ...  ...   \n",
       "3766  19.0   F            f                  f                         f    f   \n",
       "3768  68.0   F            f                  f                         f    f   \n",
       "3769  74.0   F            f                  f                         f    f   \n",
       "3770  72.0   M            f                  f                         f    f   \n",
       "3771  64.0   F            f                  f                         f    f   \n",
       "\n",
       "     pregnant thyroid surgery I131 treatment query hypothyroid  ...  \\\n",
       "0           f               f              f                 f  ...   \n",
       "4           f               f              f                 f  ...   \n",
       "7           f               f              f                 f  ...   \n",
       "8           f               f              f                 f  ...   \n",
       "9           f               f              f                 f  ...   \n",
       "...       ...             ...            ...               ...  ...   \n",
       "3766        f               f              f                 f  ...   \n",
       "3768        f               f              f                 f  ...   \n",
       "3769        f               f              f                 f  ...   \n",
       "3770        f               f              f                 f  ...   \n",
       "3771        f               f              f                 f  ...   \n",
       "\n",
       "     T3 measured   T3 TT4 measured    TT4 T4U measured   T4U FTI measured  \\\n",
       "0              t  2.5            t  125.0            t  1.14            t   \n",
       "4              t  1.2            t   61.0            t  0.87            t   \n",
       "7              t  0.6            t   80.0            t  0.70            t   \n",
       "8              t  2.2            t  123.0            t  0.93            t   \n",
       "9              t  1.6            t   83.0            t  0.89            t   \n",
       "...          ...  ...          ...    ...          ...   ...          ...   \n",
       "3766           t  2.7            t  108.0            t  1.11            t   \n",
       "3768           t  2.1            t  124.0            t  1.08            t   \n",
       "3769           t  1.8            t  112.0            t  1.07            t   \n",
       "3770           t  2.0            t   82.0            t  0.94            t   \n",
       "3771           t  2.2            t   99.0            t  1.07            t   \n",
       "\n",
       "        FTI referral source                    Class  \n",
       "0     109.0            SVHC                 negative  \n",
       "4      70.0             SVI                 negative  \n",
       "7     115.0             SVI                 negative  \n",
       "8     132.0             SVI                 negative  \n",
       "9      93.0             SVI                 negative  \n",
       "...     ...             ...                      ...  \n",
       "3766   97.0           other  compensated_hypothyroid  \n",
       "3768  114.0             SVI                 negative  \n",
       "3769  105.0           other                 negative  \n",
       "3770   87.0             SVI                 negative  \n",
       "3771   92.0           other                 negative  \n",
       "\n",
       "[2643 rows x 28 columns]"
      ]
     },
     "execution_count": 7,
     "metadata": {},
     "output_type": "execute_result"
    }
   ],
   "source": [
    "df_notna = df.dropna(how='any')\n",
    "print(df_notna.isna().sum())\n",
    "df_notna"
   ]
  },
  {
   "cell_type": "markdown",
   "id": "c98d3b31",
   "metadata": {},
   "source": [
    "Notice that with this strategy we lost around 30% of the tuples"
   ]
  },
  {
   "cell_type": "code",
   "execution_count": 8,
   "id": "fa5c1fed",
   "metadata": {},
   "outputs": [
    {
     "data": {
      "text/plain": [
       "0.7006892895015907"
      ]
     },
     "execution_count": 8,
     "metadata": {},
     "output_type": "execute_result"
    }
   ],
   "source": [
    "len(df_notna)/len(df)"
   ]
  },
  {
   "cell_type": "markdown",
   "id": "bab587e2",
   "metadata": {},
   "source": [
    "Variation of classes distribution."
   ]
  },
  {
   "cell_type": "code",
   "execution_count": 9,
   "id": "cc7ce4d4",
   "metadata": {},
   "outputs": [
    {
     "data": {
      "image/png": "[encoded data removed]",
      "text/plain": [
       "<Figure size 1000x500 with 2 Axes>"
      ]
     },
     "metadata": {},
     "output_type": "display_data"
    }
   ],
   "source": [
    "fig,axes = plt.subplots(1,2,figsize=(10,5),sharey = True)\n",
    "sns.countplot(x='Class',data = df, ax = axes[0], order = df_notna['Class'].value_counts().index)\n",
    "axes[0].tick_params(axis = 'x',labelrotation=90)\n",
    "axes[0].set_title('Before removal of tuples with NaN values')\n",
    "sns.countplot(x='Class',data = df_notna, ax = axes[1], order = df_notna['Class'].value_counts().index)\n",
    "axes[1].tick_params(axis = 'x',labelrotation=90)\n",
    "axes[1].set_title('After removal of tuples with NaN values')\n",
    "\n",
    "plt.show()"
   ]
  },
  {
   "cell_type": "markdown",
   "id": "f6ea7093",
   "metadata": {},
   "source": [
    "Variation of attribute statistics, grouped by class."
   ]
  },
  {
   "cell_type": "code",
   "execution_count": 10,
   "id": "ef6f7b33",
   "metadata": {},
   "outputs": [
    {
     "data": {
      "image/png": "[encoded data removed]",
      "text/plain": [
       "<Figure size 1000x500 with 2 Axes>"
      ]
     },
     "metadata": {},
     "output_type": "display_data"
    }
   ],
   "source": [
    "fig,axes = plt.subplots(1,2,figsize=(10,5),sharey = True)\n",
    "sns.barplot(y = 'age',x='Class',data = df, ax = axes[0], order = df_notna['Class'].value_counts().index)\n",
    "axes[0].tick_params(axis = 'x',labelrotation=90)\n",
    "axes[0].grid()\n",
    "axes[0].set_title('Before removal of tuples with NaN values')\n",
    "sns.barplot(y = 'age',x='Class',data = df_notna, ax = axes[1], order = df_notna['Class'].value_counts().index)\n",
    "axes[1].tick_params(axis = 'x',labelrotation=90)\n",
    "axes[1].set_title('After removal of tuples with NaN values')\n",
    "axes[1].grid()\n",
    "plt.show()"
   ]
  },
  {
   "cell_type": "markdown",
   "id": "60d6ac3d",
   "metadata": {},
   "source": [
    "<u>Handling missing values: **imputing missing value (filling automatically)**</u>"
   ]
  },
  {
   "cell_type": "markdown",
   "id": "52d89039",
   "metadata": {},
   "source": [
    "Create a novel ad-hoc category"
   ]
  },
  {
   "cell_type": "code",
   "execution_count": 11,
   "id": "a92f732f",
   "metadata": {
    "scrolled": true
   },
   "outputs": [
    {
     "data": {
      "text/plain": [
       "sex\n",
       "F     2480\n",
       "M     1142\n",
       "NS     150\n",
       "Name: count, dtype: int64"
      ]
     },
     "execution_count": 11,
     "metadata": {},
     "output_type": "execute_result"
    }
   ],
   "source": [
    "df.sex.fillna('NS').value_counts()"
   ]
  },
  {
   "cell_type": "code",
   "execution_count": 12,
   "id": "7e3e2b78",
   "metadata": {},
   "outputs": [
    {
     "data": {
      "text/plain": [
       "sex\n",
       "F    2480\n",
       "M    1142\n",
       "Name: count, dtype: int64"
      ]
     },
     "execution_count": 12,
     "metadata": {},
     "output_type": "execute_result"
    }
   ],
   "source": [
    "df.sex.value_counts()"
   ]
  },
  {
   "cell_type": "markdown",
   "id": "5b918503",
   "metadata": {},
   "source": [
    "Categorical attribute: assign the most frequent value"
   ]
  },
  {
   "cell_type": "code",
   "execution_count": 13,
   "id": "4fbe19cf",
   "metadata": {},
   "outputs": [
    {
     "data": {
      "text/plain": [
       "'F'"
      ]
     },
     "execution_count": 13,
     "metadata": {},
     "output_type": "execute_result"
    }
   ],
   "source": [
    "df.sex.mode()[0]"
   ]
  },
  {
   "cell_type": "code",
   "execution_count": 14,
   "id": "7ba21446",
   "metadata": {},
   "outputs": [
    {
     "data": {
      "text/plain": [
       "sex\n",
       "F    2630\n",
       "M    1142\n",
       "Name: count, dtype: int64"
      ]
     },
     "execution_count": 14,
     "metadata": {},
     "output_type": "execute_result"
    }
   ],
   "source": [
    "df.sex.fillna(df.sex.mode()[0]).value_counts()"
   ]
  },
  {
   "cell_type": "code",
   "execution_count": 15,
   "id": "bb693a64",
   "metadata": {},
   "outputs": [
    {
     "data": {
      "text/plain": [
       "sex\n",
       "F    2480\n",
       "M    1142\n",
       "Name: count, dtype: int64"
      ]
     },
     "execution_count": 15,
     "metadata": {},
     "output_type": "execute_result"
    }
   ],
   "source": [
    "df.sex.value_counts()"
   ]
  },
  {
   "cell_type": "markdown",
   "id": "e6b740d4",
   "metadata": {},
   "source": [
    "Numerical attribute: assign the mean value"
   ]
  },
  {
   "cell_type": "code",
   "execution_count": 16,
   "id": "815001eb",
   "metadata": {
    "scrolled": true
   },
   "outputs": [
    {
     "data": {
      "text/html": [
       "<div>\n",
       "<style scoped>\n",
       "    .dataframe tbody tr th:only-of-type {\n",
       "        vertical-align: middle;\n",
       "    }\n",
       "\n",
       "    .dataframe tbody tr th {\n",
       "        vertical-align: top;\n",
       "    }\n",
       "\n",
       "    .dataframe thead th {\n",
       "        text-align: right;\n",
       "    }\n",
       "</style>\n",
       "<table border=\"1\" class=\"dataframe\">\n",
       "  <thead>\n",
       "    <tr style=\"text-align: right;\">\n",
       "      <th></th>\n",
       "      <th>age</th>\n",
       "      <th>sex</th>\n",
       "      <th>on thyroxine</th>\n",
       "      <th>query on thyroxine</th>\n",
       "      <th>on antithyroid medication</th>\n",
       "      <th>sick</th>\n",
       "      <th>pregnant</th>\n",
       "      <th>thyroid surgery</th>\n",
       "      <th>I131 treatment</th>\n",
       "      <th>query hypothyroid</th>\n",
       "      <th>...</th>\n",
       "      <th>T3 measured</th>\n",
       "      <th>T3</th>\n",
       "      <th>TT4 measured</th>\n",
       "      <th>TT4</th>\n",
       "      <th>T4U measured</th>\n",
       "      <th>T4U</th>\n",
       "      <th>FTI measured</th>\n",
       "      <th>FTI</th>\n",
       "      <th>referral source</th>\n",
       "      <th>Class</th>\n",
       "    </tr>\n",
       "  </thead>\n",
       "  <tbody>\n",
       "    <tr>\n",
       "      <th>1985</th>\n",
       "      <td>NaN</td>\n",
       "      <td>F</td>\n",
       "      <td>t</td>\n",
       "      <td>f</td>\n",
       "      <td>f</td>\n",
       "      <td>f</td>\n",
       "      <td>f</td>\n",
       "      <td>f</td>\n",
       "      <td>t</td>\n",
       "      <td>f</td>\n",
       "      <td>...</td>\n",
       "      <td>t</td>\n",
       "      <td>1.5</td>\n",
       "      <td>t</td>\n",
       "      <td>120.0</td>\n",
       "      <td>t</td>\n",
       "      <td>0.82</td>\n",
       "      <td>t</td>\n",
       "      <td>146.0</td>\n",
       "      <td>other</td>\n",
       "      <td>negative</td>\n",
       "    </tr>\n",
       "  </tbody>\n",
       "</table>\n",
       "<p>1 rows × 28 columns</p>\n",
       "</div>"
      ],
      "text/plain": [
       "      age sex on thyroxine query on thyroxine on antithyroid medication sick  \\\n",
       "1985  NaN   F            t                  f                         f    f   \n",
       "\n",
       "     pregnant thyroid surgery I131 treatment query hypothyroid  ...  \\\n",
       "1985        f               f              t                 f  ...   \n",
       "\n",
       "     T3 measured   T3 TT4 measured    TT4 T4U measured   T4U FTI measured  \\\n",
       "1985           t  1.5            t  120.0            t  0.82            t   \n",
       "\n",
       "        FTI referral source     Class  \n",
       "1985  146.0           other  negative  \n",
       "\n",
       "[1 rows x 28 columns]"
      ]
     },
     "execution_count": 16,
     "metadata": {},
     "output_type": "execute_result"
    }
   ],
   "source": [
    "df[df.age.isna()]"
   ]
  },
  {
   "cell_type": "code",
   "execution_count": 19,
   "id": "7dc3fb53",
   "metadata": {},
   "outputs": [
    {
     "name": "stdout",
     "output_type": "stream",
     "text": [
      "51.73587907716786\n"
     ]
    },
    {
     "data": {
      "text/plain": [
       "51.73587907716786"
      ]
     },
     "execution_count": 19,
     "metadata": {},
     "output_type": "execute_result"
    }
   ],
   "source": [
    "print(df.age.mean())\n",
    "df['age'].fillna(df.age.mean())[1985]"
   ]
  },
  {
   "cell_type": "markdown",
   "id": "ee0edd2d",
   "metadata": {},
   "source": [
    "More imputing strategies available in `scikit-learn` (only for numeric attributes). We will extensively cover `scikit-learn` in the next lectures. In the following, a simple example is reported."
   ]
  },
  {
   "cell_type": "code",
   "execution_count": 21,
   "id": "4c1e74c0",
   "metadata": {},
   "outputs": [],
   "source": [
    "import numpy as np\n",
    "from sklearn.impute import KNNImputer, SimpleImputer"
   ]
  },
  {
   "cell_type": "code",
   "execution_count": 22,
   "id": "5319e225",
   "metadata": {},
   "outputs": [
    {
     "name": "stdout",
     "output_type": "stream",
     "text": [
      "[[ 1.  2. nan]\n",
      " [ 3.  4.  3.]\n",
      " [nan  6.  5.]\n",
      " [ 8.  8.  7.]]\n"
     ]
    }
   ],
   "source": [
    "X = np.asarray([[1, 2, np.nan], [3, 4, 3], [np.nan, 6, 5], [8, 8, 7]])\n",
    "print(X)"
   ]
  },
  {
   "cell_type": "markdown",
   "id": "cb12f719",
   "metadata": {},
   "source": [
    "**Simple imputer**: univariate imputer for completing missing values with simple strategies.\n",
    "\n",
    "Replace missing values using a descriptive statistic (e.g. mean, median, or most frequent) along each column, or using a constant value."
   ]
  },
  {
   "cell_type": "code",
   "execution_count": 23,
   "id": "8d188251",
   "metadata": {
    "scrolled": true
   },
   "outputs": [
    {
     "data": {
      "text/plain": [
       "array([[1., 2., 5.],\n",
       "       [3., 4., 3.],\n",
       "       [4., 6., 5.],\n",
       "       [8., 8., 7.]])"
      ]
     },
     "execution_count": 23,
     "metadata": {},
     "output_type": "execute_result"
    }
   ],
   "source": [
    "imputer = SimpleImputer() # by default, it uses the \"mean\"\n",
    "imputer.fit_transform(X)"
   ]
  },
  {
   "cell_type": "markdown",
   "id": "41b3c48f",
   "metadata": {},
   "source": [
    "**KNN-imputer**: Imputation for completing missing values using k-Nearest Neighbors.\n",
    "\n",
    "Each sample’s missing values are imputed using the mean value from *n_neighbors* nearest neighbors found in the training set. Two samples are close if the features that neither is missing are close."
   ]
  },
  {
   "cell_type": "code",
   "execution_count": 24,
   "id": "085c780b",
   "metadata": {},
   "outputs": [
    {
     "data": {
      "text/plain": [
       "array([[1. , 2. , 4. ],\n",
       "       [3. , 4. , 3. ],\n",
       "       [5.5, 6. , 5. ],\n",
       "       [8. , 8. , 7. ]])"
      ]
     },
     "execution_count": 24,
     "metadata": {},
     "output_type": "execute_result"
    }
   ],
   "source": [
    "imputer = KNNImputer(n_neighbors=2)\n",
    "imputer.fit_transform(X)"
   ]
  },
  {
   "cell_type": "markdown",
   "id": "d0ba20ac",
   "metadata": {},
   "source": [
    "**Iterative imputer**: Multivariate imputer that estimates each feature as a function of all the others.\n",
    "\n",
    "\n",
    "*This estimator is still experimental for now: the predictions and the API might change without any deprecation cycle.*"
   ]
  },
  {
   "cell_type": "markdown",
   "id": "32f3782a",
   "metadata": {},
   "source": [
    "## Numerosity Reduction: Sampling"
   ]
  },
  {
   "cell_type": "markdown",
   "id": "7311aad0",
   "metadata": {},
   "source": [
    "Key aspect: choose representative subset of data.\n",
    "\n",
    "Sampling strategies:\n",
    "- simple random sampling (⚠️ may have poor performance in the presence of skew)\n",
    "    - without replacement\n",
    "    - with replacement\n",
    "- stratified sampling (will see in future notebooks)\n",
    "        "
   ]
  },
  {
   "cell_type": "code",
   "execution_count": null,
   "id": "c528b79a",
   "metadata": {
    "scrolled": true
   },
   "outputs": [],
   "source": [
    "df = pd.read_csv(os.path.join('dataset','iris.csv'))\n",
    "df"
   ]
  },
  {
   "cell_type": "markdown",
   "id": "1a50d480",
   "metadata": {},
   "source": [
    "There's already some duplicates in the original dataset (i.e., flowers with same measures)."
   ]
  },
  {
   "cell_type": "code",
   "execution_count": null,
   "id": "9a4da37b",
   "metadata": {},
   "outputs": [],
   "source": [
    "df[df.duplicated(keep=False)] #keep = 'False' marks all duplicates with True, differently from 'first' or 'last'"
   ]
  },
  {
   "cell_type": "markdown",
   "id": "0c7ecf7b",
   "metadata": {},
   "source": [
    "Simple random sampling without replacement"
   ]
  },
  {
   "cell_type": "code",
   "execution_count": null,
   "id": "72441125",
   "metadata": {
    "scrolled": false
   },
   "outputs": [],
   "source": [
    "df_srswor = df.sample(frac=2/3)\n",
    "df_srswor"
   ]
  },
  {
   "cell_type": "markdown",
   "id": "07ce7058",
   "metadata": {},
   "source": [
    "Check duplicates after sampling without replacement:"
   ]
  },
  {
   "cell_type": "code",
   "execution_count": null,
   "id": "e438f018",
   "metadata": {},
   "outputs": [],
   "source": [
    "df_srswor[df_srswor.duplicated(keep=False)]"
   ]
  },
  {
   "cell_type": "code",
   "execution_count": null,
   "id": "32f3867d",
   "metadata": {
    "scrolled": true
   },
   "outputs": [],
   "source": [
    "df_srswr = df.sample(frac=2/3, replace = True)\n",
    "df_srswr"
   ]
  },
  {
   "cell_type": "markdown",
   "id": "1ed09963",
   "metadata": {},
   "source": [
    "Check duplicates after sampling with replacement:"
   ]
  },
  {
   "cell_type": "code",
   "execution_count": null,
   "id": "d75ec18d",
   "metadata": {
    "scrolled": true
   },
   "outputs": [],
   "source": [
    "df_srswr[df_srswr.duplicated(keep=False)]"
   ]
  },
  {
   "cell_type": "code",
   "execution_count": null,
   "id": "75e53513",
   "metadata": {
    "scrolled": false
   },
   "outputs": [],
   "source": [
    "df_srswr[df_srswr.duplicated(keep=False)].sort_index()"
   ]
  },
  {
   "cell_type": "code",
   "execution_count": null,
   "id": "2a6ecfbd",
   "metadata": {},
   "outputs": [],
   "source": [
    "fig,axes = plt.subplots(1,3,figsize=(15,5),sharey = True)\n",
    "sns.countplot(x='class',data = df, ax = axes[0])\n",
    "axes[0].set_title('Original ds')\n",
    "sns.countplot(x='class',data = df_srswr, ax = axes[1])\n",
    "axes[1].set_title('SRS with replacement')\n",
    "sns.countplot(x='class',data = df_srswor, ax = axes[2])\n",
    "axes[2].set_title('SRS without replacement')\n",
    "plt.show()"
   ]
  },
  {
   "cell_type": "markdown",
   "id": "afa94da0",
   "metadata": {},
   "source": [
    "Set `random_state` to get reproducible results: "
   ]
  },
  {
   "cell_type": "code",
   "execution_count": null,
   "id": "f2617966",
   "metadata": {},
   "outputs": [],
   "source": [
    "df_srswr_1 = df.sample(frac=2/3, replace = True, random_state = 42)\n",
    "df_srswr_2 = df.sample(frac=2/3, replace = True, random_state = 42)\n",
    "df_srswr_3 = df.sample(frac=2/3, replace = True, random_state = 21)\n",
    "fig,axes = plt.subplots(1,3,figsize=(15,5),sharey = True)\n",
    "sns.countplot(x='class',data = df_srswr_1, ax = axes[0])\n",
    "axes[0].set_title('df_srswr_1 - seed = 42')\n",
    "sns.countplot(x='class',data = df_srswr_2, ax = axes[1])\n",
    "axes[1].set_title('df_srswr_2 - seed = 42')\n",
    "sns.countplot(x='class',data = df_srswr_3, ax = axes[2])\n",
    "axes[2].set_title('df_srswr_3 - seed = 21')\n",
    "plt.show()"
   ]
  },
  {
   "cell_type": "markdown",
   "id": "2af6f24b",
   "metadata": {},
   "source": [
    "The seed is used for initializing the pseudorandom data generator:\n",
    "- the two processes with *seed=42* lead to exactly the same result\n",
    "- the process with *seed=21* leads to a different result"
   ]
  },
  {
   "cell_type": "markdown",
   "id": "b13c74cb",
   "metadata": {},
   "source": [
    "# Data Discretization\n"
   ]
  },
  {
   "cell_type": "markdown",
   "id": "c5e73da2",
   "metadata": {},
   "source": [
    "The IRIS dataset is already loaded!"
   ]
  },
  {
   "cell_type": "code",
   "execution_count": null,
   "id": "46e9eede",
   "metadata": {},
   "outputs": [],
   "source": [
    "df"
   ]
  },
  {
   "cell_type": "markdown",
   "id": "df5ce3dc",
   "metadata": {},
   "source": [
    "## Discretization with pandas\n",
    "\n",
    "Sometimes we may need to transform a continuous variable to a categorical one. For example, we may want to convert ages to groups of age ranges.\n",
    "\n",
    "`Pandas` provides two functions for binning values of a continuous variable into discrete intervals. Let *x* be the input array to be binned.\n",
    "- `pd.cut(x, bins, ...)`: generic function for binning\n",
    "    - bins:\n",
    "        - *int*: number of bins (support for **equal-width** binning)\n",
    "        - *sequence of scalars*: bins edges (support for **non-uniform** width binning) \n",
    "- `pd.qcut(x, q, ...)`: quantile-based discretization function.\n",
    "    - q:\n",
    "        - *int*: number of quantiles (support for **equal-frequency** binning)\n",
    "        - *list of float*: array of quantiles (support for **custom-frequency** binning) "
   ]
  },
  {
   "cell_type": "markdown",
   "id": "7d4bd30d",
   "metadata": {},
   "source": [
    "### Equal-width discretization"
   ]
  },
  {
   "cell_type": "code",
   "execution_count": null,
   "id": "680bb91a",
   "metadata": {},
   "outputs": [],
   "source": [
    "df['sepallength_cat'],bins=pd.cut(df.sepallength,5,retbins = True)\n",
    "df"
   ]
  },
  {
   "cell_type": "markdown",
   "id": "2349ca0f",
   "metadata": {},
   "source": [
    "Plot the novel categorical variable:"
   ]
  },
  {
   "cell_type": "code",
   "execution_count": null,
   "id": "8c251cd4",
   "metadata": {},
   "outputs": [],
   "source": [
    "sns.countplot(x='sepallength_cat',data = df,palette = 'pastel')"
   ]
  },
  {
   "cell_type": "markdown",
   "id": "4bd9c3c2",
   "metadata": {},
   "source": [
    "Plot the novel categorical variable, by class:"
   ]
  },
  {
   "cell_type": "code",
   "execution_count": null,
   "id": "0a8821f1",
   "metadata": {},
   "outputs": [],
   "source": [
    "sns.countplot(x='sepallength_cat',hue = 'class',data = df,palette = 'pastel')"
   ]
  },
  {
   "cell_type": "markdown",
   "id": "c810ebe0",
   "metadata": {},
   "source": [
    "How do the bins look like?"
   ]
  },
  {
   "cell_type": "code",
   "execution_count": null,
   "id": "2b7d4ede",
   "metadata": {},
   "outputs": [],
   "source": [
    "print(bins)"
   ]
  },
  {
   "cell_type": "code",
   "execution_count": null,
   "id": "7fdd267f",
   "metadata": {},
   "outputs": [],
   "source": [
    "sns.histplot(x='sepallength',data = df)\n",
    "for edge in bins:\n",
    "    plt.axvline(edge,color = 'k',linestyle = '--',linewidth = 3)"
   ]
  },
  {
   "cell_type": "markdown",
   "id": "360053a7",
   "metadata": {},
   "source": [
    "### Equal-frequency discretization"
   ]
  },
  {
   "cell_type": "code",
   "execution_count": null,
   "id": "af15ed63",
   "metadata": {},
   "outputs": [],
   "source": [
    "nbins = 4 # suppose that we want to end up with 4 categories\n",
    "df['petallength_cat'], bins=pd.cut(df.petallength, nbins, retbins = True)\n",
    "df['petallength_qcat'], qbins=pd.qcut(df.petallength, nbins, retbins = True)\n",
    "df"
   ]
  },
  {
   "cell_type": "code",
   "execution_count": null,
   "id": "1024178e",
   "metadata": {},
   "outputs": [],
   "source": [
    "df.info()"
   ]
  },
  {
   "cell_type": "code",
   "execution_count": null,
   "id": "2ce7ba7c",
   "metadata": {},
   "outputs": [],
   "source": [
    "df.describe()"
   ]
  },
  {
   "cell_type": "code",
   "execution_count": null,
   "id": "1618b3db",
   "metadata": {},
   "outputs": [],
   "source": [
    "df.describe(include = 'category')"
   ]
  },
  {
   "cell_type": "code",
   "execution_count": null,
   "id": "2be74918",
   "metadata": {},
   "outputs": [],
   "source": [
    "fig, axes = plt.subplots(2,2,figsize = (10,8),sharey = True)\n",
    "# axes[0][0]: top-left\n",
    "sns.countplot(x='petallength_cat',data = df,palette = 'pastel',ax = axes[0][0])\n",
    "axes[0][0].tick_params(labelrotation=0)\n",
    "axes[0][0].set_title('equal width binning')\n",
    "\n",
    "# axes[0][1]: top-right\n",
    "sns.countplot(x='petallength_qcat',data = df,palette = 'pastel',ax = axes[0][1])\n",
    "axes[0][1].tick_params(labelrotation=0)\n",
    "axes[0][1].set_title('equal freq binning')\n",
    "\n",
    "# axes[1][0]: bottom-left\n",
    "sns.histplot(x='petallength',data = df,ax = axes[1][0])\n",
    "for edge in bins:\n",
    "    axes[1][0].axvline(edge,color = 'k',linestyle = '--',linewidth = 3)\n",
    "# axes[1][1]: bottom-left\n",
    "sns.histplot(x='petallength',data = df,ax = axes[1][1])\n",
    "for edge in qbins:\n",
    "    axes[1][1].axvline(edge,color = 'k',linestyle = '--',linewidth = 3)\n",
    "\n",
    "# Improve subplot size/spacing\n",
    "fig.tight_layout() "
   ]
  },
  {
   "cell_type": "markdown",
   "id": "c0741aa2",
   "metadata": {},
   "source": [
    "**binarization** can be simply obtained using `cut()` and `qcut()` by setting nbins = 2"
   ]
  },
  {
   "cell_type": "code",
   "execution_count": null,
   "id": "8fca8a7b",
   "metadata": {},
   "outputs": [],
   "source": [
    "df['sepalwidth_bin'],bins=pd.cut(df.sepalwidth,2,retbins = True)\n",
    "df.sepalwidth_bin.value_counts()"
   ]
  },
  {
   "cell_type": "code",
   "execution_count": null,
   "id": "95783bf7",
   "metadata": {},
   "outputs": [],
   "source": [
    "df['sepalwidth_qbin'],bins=pd.qcut(df.sepalwidth,2,retbins = True)\n",
    "df.sepalwidth_qbin.value_counts()"
   ]
  },
  {
   "cell_type": "markdown",
   "id": "eb7d0234",
   "metadata": {},
   "source": [
    "Alternatively, we can use a simple threshold function."
   ]
  },
  {
   "cell_type": "code",
   "execution_count": null,
   "id": "1a20b19e",
   "metadata": {},
   "outputs": [],
   "source": [
    "df['sepalwidth_bin_custom'] =  (df[\"sepalwidth\"] <= 3.0).astype(int)\n",
    "df.sepalwidth_bin_custom.value_counts()"
   ]
  },
  {
   "cell_type": "code",
   "execution_count": null,
   "id": "ed466b26",
   "metadata": {},
   "outputs": [],
   "source": [
    "df['sepalwidth_bin_custom'] =  (df[\"sepalwidth\"] <= 2.9).astype(int)\n",
    "df.sepalwidth_bin_custom.value_counts()"
   ]
  },
  {
   "cell_type": "markdown",
   "id": "fb3ccfaf",
   "metadata": {},
   "source": [
    "`qcut()` does its best to get equifrequent bins, but of course it depends on the data and the numerical precision."
   ]
  },
  {
   "cell_type": "markdown",
   "id": "6964dda8",
   "metadata": {},
   "source": [
    "### From categorical to numerical\n",
    "Note that ordinal / interval scaled variable should be treated as such for downstream elaboration (e.g., similarity/distance evaluation)."
   ]
  },
  {
   "cell_type": "code",
   "execution_count": null,
   "id": "adeccd8a",
   "metadata": {},
   "outputs": [],
   "source": [
    "df"
   ]
  },
  {
   "cell_type": "markdown",
   "id": "27e27f81",
   "metadata": {},
   "source": [
    "It can often be the case; consider, for example, the breast_cancer dataset:\n",
    "\n",
    "| column | values |\n",
    "| --- | --- |\n",
    "| Class | no-recurrence-events, recurrence-events |\n",
    "| age | 10-19, 20-29, 30-39, 40-49, 50-59, 60-69, 70-79, 80-89, 90-99|\n",
    "| menopause | lt40, ge40, premeno|\n",
    "| tumor-size | 0-4, 5-9, 10-14, 15-19, 20-24, 25-29, 30-34, 35-39, 40-44, 45-49, 50-54, 55-59|\n",
    "| inv-nodes | 0-2, 3-5, 6-8, 9-11, 12-14, 15-17, 18-20, 21-23, 24-26, 27-29, 30-32, 33-35, 36-39|\n",
    "| node-caps | yes, no|\n",
    "| deg-malig | 1, 2, 3|\n",
    "| breast | left, right|\n",
    "| breast-quad | left-up, left-low, right-up, right-low, central|\n",
    "| irradiat | yes, no|\n",
    " \n",
    "\n",
    "\n"
   ]
  },
  {
   "cell_type": "markdown",
   "id": "08d83fb2",
   "metadata": {},
   "source": [
    "Suppose that a iris_cat dataset is represented as follows."
   ]
  },
  {
   "cell_type": "code",
   "execution_count": null,
   "id": "6fb4c4dd",
   "metadata": {},
   "outputs": [],
   "source": [
    "categorical_variables = ['sepallength_cat','petallength_cat']"
   ]
  },
  {
   "cell_type": "code",
   "execution_count": null,
   "id": "0c95bfdf",
   "metadata": {},
   "outputs": [],
   "source": [
    "iris_cat_df = df[categorical_variables].copy() # a new object will be created with a copy of the calling object’s data and indices.\n",
    "iris_cat_df"
   ]
  },
  {
   "cell_type": "code",
   "execution_count": null,
   "id": "f0c88529",
   "metadata": {},
   "outputs": [],
   "source": [
    "iris_cat_df['sepallength_mean'] = iris_cat_df.sepallength_cat.apply(lambda x: x.mid)\n",
    "iris_cat_df['petallength_mean'] = iris_cat_df.petallength_cat.apply(lambda x: x.mid)\n"
   ]
  },
  {
   "cell_type": "code",
   "execution_count": null,
   "id": "881d16a6",
   "metadata": {},
   "outputs": [],
   "source": [
    "iris_cat_df"
   ]
  },
  {
   "cell_type": "code",
   "execution_count": null,
   "id": "2390a43a",
   "metadata": {},
   "outputs": [],
   "source": [
    "iris_num = iris_cat_df.iloc[:,-2:]\n",
    "iris_num"
   ]
  },
  {
   "cell_type": "markdown",
   "id": "52e09e8d",
   "metadata": {},
   "source": [
    "The *mid* attribute is convenient when we have pandas CategoricalDtype.\n",
    "\n",
    "In general, we can define custom mappings: e.g., how could we handle the age variable of breast_cancer, in which intervals are represented as strings?\n",
    "\n",
    "```python\n",
    "dict_categories: {\"10-19\":15, \"20-29\":25, \"30-39\":35, \"40-49\":45, \"50-59\":55, \"60-69\":65, \"70-79\":75, \"80-89\":85, \"90-99\":95}\n",
    "```"
   ]
  },
  {
   "cell_type": "markdown",
   "id": "5557bbac",
   "metadata": {},
   "source": [
    "# <font color='blue'><ins>TASK</ins></font>\n",
    "- Download the rough **Hepatitis** dataset from the [UCI Machine Learning Repository](https://archive.ics.uci.edu/ml/datasets/hepatitis)\n",
    "- Load the dataset (*hepatitis.data*) in Python (using the correct names for the variables as described in the *hepatitis.name* file)\n",
    "- Handle missing values\n",
    "- Save the final dataset in the .csv format"
   ]
  }
 ],
 "metadata": {
  "kernelspec": {
   "display_name": "Python 3 (ipykernel)",
   "language": "python",
   "name": "python3"
  },
  "language_info": {
   "codemirror_mode": {
    "name": "ipython",
    "version": 3
   },
   "file_extension": ".py",
   "mimetype": "text/x-python",
   "name": "python",
   "nbconvert_exporter": "python",
   "pygments_lexer": "ipython3",
   "version": "3.11.6"
  }
 },
 "nbformat": 4,
 "nbformat_minor": 5
}
